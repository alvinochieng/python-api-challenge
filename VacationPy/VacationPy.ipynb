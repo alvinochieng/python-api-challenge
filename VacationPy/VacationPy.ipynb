{
 "cells": [
  {
   "cell_type": "markdown",
   "metadata": {},
   "source": [
    "# VacationPy\n",
    "----\n",
    "\n",
    "#### Note\n",
    "* Instructions have been included for each segment. You do not have to follow them exactly, but they are included to help you think through the steps."
   ]
  },
  {
   "cell_type": "code",
   "execution_count": 1,
   "metadata": {},
   "outputs": [],
   "source": [
    "# Dependencies and Setup\n",
    "import matplotlib.pyplot as plt\n",
    "import pandas as pd\n",
    "import numpy as np\n",
    "import requests\n",
    "import gmaps\n",
    "import os\n",
    "\n",
    "# Import API key\n",
    "from api_keys import g_key\n",
    "\n",
    "gmaps.configure(api_key=g_key)\n"
   ]
  },
  {
   "cell_type": "markdown",
   "metadata": {},
   "source": [
    "### Store Part I results into DataFrame\n",
    "* Load the csv exported in Part I to a DataFrame"
   ]
  },
  {
   "cell_type": "code",
   "execution_count": 2,
   "metadata": {},
   "outputs": [
    {
     "data": {
      "text/html": [
       "<div>\n",
       "<style scoped>\n",
       "    .dataframe tbody tr th:only-of-type {\n",
       "        vertical-align: middle;\n",
       "    }\n",
       "\n",
       "    .dataframe tbody tr th {\n",
       "        vertical-align: top;\n",
       "    }\n",
       "\n",
       "    .dataframe thead th {\n",
       "        text-align: right;\n",
       "    }\n",
       "</style>\n",
       "<table border=\"1\" class=\"dataframe\">\n",
       "  <thead>\n",
       "    <tr style=\"text-align: right;\">\n",
       "      <th></th>\n",
       "      <th>Unnamed: 0</th>\n",
       "      <th>City</th>\n",
       "      <th>Cloudiness</th>\n",
       "      <th>Country</th>\n",
       "      <th>Date</th>\n",
       "      <th>Humidity</th>\n",
       "      <th>Lat</th>\n",
       "      <th>Lng</th>\n",
       "      <th>Max Temp</th>\n",
       "      <th>Wind Speed</th>\n",
       "    </tr>\n",
       "  </thead>\n",
       "  <tbody>\n",
       "    <tr>\n",
       "      <td>0</td>\n",
       "      <td>0</td>\n",
       "      <td>dakar</td>\n",
       "      <td>0</td>\n",
       "      <td>SN</td>\n",
       "      <td>1580508714</td>\n",
       "      <td>31</td>\n",
       "      <td>14.69</td>\n",
       "      <td>-17.44</td>\n",
       "      <td>78.80</td>\n",
       "      <td>14.99</td>\n",
       "    </tr>\n",
       "    <tr>\n",
       "      <td>1</td>\n",
       "      <td>1</td>\n",
       "      <td>hithadhoo</td>\n",
       "      <td>59</td>\n",
       "      <td>MV</td>\n",
       "      <td>1580508841</td>\n",
       "      <td>72</td>\n",
       "      <td>-0.60</td>\n",
       "      <td>73.08</td>\n",
       "      <td>81.63</td>\n",
       "      <td>10.92</td>\n",
       "    </tr>\n",
       "    <tr>\n",
       "      <td>2</td>\n",
       "      <td>2</td>\n",
       "      <td>port alfred</td>\n",
       "      <td>95</td>\n",
       "      <td>ZA</td>\n",
       "      <td>1580508841</td>\n",
       "      <td>90</td>\n",
       "      <td>-33.59</td>\n",
       "      <td>26.89</td>\n",
       "      <td>72.00</td>\n",
       "      <td>7.00</td>\n",
       "    </tr>\n",
       "    <tr>\n",
       "      <td>3</td>\n",
       "      <td>3</td>\n",
       "      <td>tamuin</td>\n",
       "      <td>92</td>\n",
       "      <td>MX</td>\n",
       "      <td>1580508841</td>\n",
       "      <td>67</td>\n",
       "      <td>21.98</td>\n",
       "      <td>-98.75</td>\n",
       "      <td>70.93</td>\n",
       "      <td>3.40</td>\n",
       "    </tr>\n",
       "    <tr>\n",
       "      <td>4</td>\n",
       "      <td>5</td>\n",
       "      <td>carnarvon</td>\n",
       "      <td>0</td>\n",
       "      <td>AU</td>\n",
       "      <td>1580508841</td>\n",
       "      <td>72</td>\n",
       "      <td>-24.87</td>\n",
       "      <td>113.63</td>\n",
       "      <td>66.20</td>\n",
       "      <td>13.87</td>\n",
       "    </tr>\n",
       "  </tbody>\n",
       "</table>\n",
       "</div>"
      ],
      "text/plain": [
       "   Unnamed: 0         City  Cloudiness Country        Date  Humidity    Lat  \\\n",
       "0           0        dakar           0      SN  1580508714        31  14.69   \n",
       "1           1    hithadhoo          59      MV  1580508841        72  -0.60   \n",
       "2           2  port alfred          95      ZA  1580508841        90 -33.59   \n",
       "3           3       tamuin          92      MX  1580508841        67  21.98   \n",
       "4           5    carnarvon           0      AU  1580508841        72 -24.87   \n",
       "\n",
       "      Lng  Max Temp  Wind Speed  \n",
       "0  -17.44     78.80       14.99  \n",
       "1   73.08     81.63       10.92  \n",
       "2   26.89     72.00        7.00  \n",
       "3  -98.75     70.93        3.40  \n",
       "4  113.63     66.20       13.87  "
      ]
     },
     "execution_count": 2,
     "metadata": {},
     "output_type": "execute_result"
    }
   ],
   "source": [
    "vacation_df = pd.read_csv(\"../WeatherPy/output_data/weather_data.csv\")\n",
    "vacation_df.head()"
   ]
  },
  {
   "cell_type": "markdown",
   "metadata": {},
   "source": [
    "### Humidity Heatmap\n",
    "* Configure gmaps.\n",
    "* Use the Lat and Lng as locations and Humidity as the weight.\n",
    "* Add Heatmap layer to map."
   ]
  },
  {
   "cell_type": "code",
   "execution_count": 3,
   "metadata": {},
   "outputs": [],
   "source": [
    "locations = vacation_df[['Lat', 'Lng']]\n",
    "weight = vacation_df['Humidity'].astype(float)"
   ]
  },
  {
   "cell_type": "code",
   "execution_count": 4,
   "metadata": {},
   "outputs": [
    {
     "data": {
      "application/vnd.jupyter.widget-view+json": {
       "model_id": "68ee7790403343a6b8333d0088960920",
       "version_major": 2,
       "version_minor": 0
      },
      "text/plain": [
       "Figure(layout=FigureLayout(height='420px'))"
      ]
     },
     "metadata": {},
     "output_type": "display_data"
    }
   ],
   "source": [
    "fig = gmaps.figure()\n",
    "\n",
    "heat_layer = gmaps.heatmap_layer(locations, weights=weight, \n",
    "                                 dissipating=False, max_intensity=10,\n",
    "                                 point_radius=1)\n",
    "\n",
    "fig.add_layer(heat_layer)\n",
    "fig"
   ]
  },
  {
   "cell_type": "markdown",
   "metadata": {},
   "source": [
    "### Create new DataFrame fitting weather criteria\n",
    "* Narrow down the cities to fit weather conditions.\n",
    "* Drop any rows will null values."
   ]
  },
  {
   "cell_type": "code",
   "execution_count": 5,
   "metadata": {},
   "outputs": [
    {
     "data": {
      "text/html": [
       "<div>\n",
       "<style scoped>\n",
       "    .dataframe tbody tr th:only-of-type {\n",
       "        vertical-align: middle;\n",
       "    }\n",
       "\n",
       "    .dataframe tbody tr th {\n",
       "        vertical-align: top;\n",
       "    }\n",
       "\n",
       "    .dataframe thead th {\n",
       "        text-align: right;\n",
       "    }\n",
       "</style>\n",
       "<table border=\"1\" class=\"dataframe\">\n",
       "  <thead>\n",
       "    <tr style=\"text-align: right;\">\n",
       "      <th></th>\n",
       "      <th>Unnamed: 0</th>\n",
       "      <th>City</th>\n",
       "      <th>Cloudiness</th>\n",
       "      <th>Country</th>\n",
       "      <th>Date</th>\n",
       "      <th>Humidity</th>\n",
       "      <th>Lat</th>\n",
       "      <th>Lng</th>\n",
       "      <th>Max Temp</th>\n",
       "      <th>Wind Speed</th>\n",
       "    </tr>\n",
       "  </thead>\n",
       "  <tbody>\n",
       "    <tr>\n",
       "      <td>60</td>\n",
       "      <td>65</td>\n",
       "      <td>gao</td>\n",
       "      <td>0</td>\n",
       "      <td>ML</td>\n",
       "      <td>1580508931</td>\n",
       "      <td>12</td>\n",
       "      <td>16.64</td>\n",
       "      <td>1.64</td>\n",
       "      <td>74.43</td>\n",
       "      <td>9.42</td>\n",
       "    </tr>\n",
       "    <tr>\n",
       "      <td>220</td>\n",
       "      <td>246</td>\n",
       "      <td>sao filipe</td>\n",
       "      <td>0</td>\n",
       "      <td>CV</td>\n",
       "      <td>1580509304</td>\n",
       "      <td>45</td>\n",
       "      <td>14.90</td>\n",
       "      <td>-24.50</td>\n",
       "      <td>78.91</td>\n",
       "      <td>9.31</td>\n",
       "    </tr>\n",
       "    <tr>\n",
       "      <td>296</td>\n",
       "      <td>333</td>\n",
       "      <td>edd</td>\n",
       "      <td>0</td>\n",
       "      <td>ER</td>\n",
       "      <td>1580509440</td>\n",
       "      <td>58</td>\n",
       "      <td>13.93</td>\n",
       "      <td>41.69</td>\n",
       "      <td>79.09</td>\n",
       "      <td>4.36</td>\n",
       "    </tr>\n",
       "    <tr>\n",
       "      <td>303</td>\n",
       "      <td>342</td>\n",
       "      <td>tessalit</td>\n",
       "      <td>0</td>\n",
       "      <td>ML</td>\n",
       "      <td>1580509501</td>\n",
       "      <td>14</td>\n",
       "      <td>20.20</td>\n",
       "      <td>1.01</td>\n",
       "      <td>70.63</td>\n",
       "      <td>7.87</td>\n",
       "    </tr>\n",
       "    <tr>\n",
       "      <td>473</td>\n",
       "      <td>530</td>\n",
       "      <td>araouane</td>\n",
       "      <td>0</td>\n",
       "      <td>ML</td>\n",
       "      <td>1580509729</td>\n",
       "      <td>13</td>\n",
       "      <td>18.90</td>\n",
       "      <td>-3.53</td>\n",
       "      <td>72.43</td>\n",
       "      <td>9.84</td>\n",
       "    </tr>\n",
       "  </tbody>\n",
       "</table>\n",
       "</div>"
      ],
      "text/plain": [
       "     Unnamed: 0        City  Cloudiness Country        Date  Humidity    Lat  \\\n",
       "60           65         gao           0      ML  1580508931        12  16.64   \n",
       "220         246  sao filipe           0      CV  1580509304        45  14.90   \n",
       "296         333         edd           0      ER  1580509440        58  13.93   \n",
       "303         342    tessalit           0      ML  1580509501        14  20.20   \n",
       "473         530    araouane           0      ML  1580509729        13  18.90   \n",
       "\n",
       "       Lng  Max Temp  Wind Speed  \n",
       "60    1.64     74.43        9.42  \n",
       "220 -24.50     78.91        9.31  \n",
       "296  41.69     79.09        4.36  \n",
       "303   1.01     70.63        7.87  \n",
       "473  -3.53     72.43        9.84  "
      ]
     },
     "execution_count": 5,
     "metadata": {},
     "output_type": "execute_result"
    }
   ],
   "source": [
    "ideal_temp = vacation_df.loc[(vacation_df['Max Temp'] <80) & (vacation_df['Max Temp'] >70)]\n",
    "ideal_wind = ideal_temp.loc[ideal_temp['Wind Speed'] <10]\n",
    "ideal_cloud = ideal_wind.loc[ideal_wind['Cloudiness']==0] \n",
    "ideal_cloud"
   ]
  },
  {
   "cell_type": "markdown",
   "metadata": {},
   "source": [
    "### Hotel Map\n",
    "* Store into variable named `hotel_df`.\n",
    "* Add a \"Hotel Name\" column to the DataFrame.\n",
    "* Set parameters to search for hotels with 5000 meters.\n",
    "* Hit the Google Places API for each city's coordinates.\n",
    "* Store the first Hotel result into the DataFrame.\n",
    "* Plot markers on top of the heatmap."
   ]
  },
  {
   "cell_type": "code",
   "execution_count": 6,
   "metadata": {},
   "outputs": [
    {
     "data": {
      "text/html": [
       "<div>\n",
       "<style scoped>\n",
       "    .dataframe tbody tr th:only-of-type {\n",
       "        vertical-align: middle;\n",
       "    }\n",
       "\n",
       "    .dataframe tbody tr th {\n",
       "        vertical-align: top;\n",
       "    }\n",
       "\n",
       "    .dataframe thead th {\n",
       "        text-align: right;\n",
       "    }\n",
       "</style>\n",
       "<table border=\"1\" class=\"dataframe\">\n",
       "  <thead>\n",
       "    <tr style=\"text-align: right;\">\n",
       "      <th></th>\n",
       "      <th>City</th>\n",
       "      <th>Cloudiness</th>\n",
       "      <th>Country</th>\n",
       "      <th>Date</th>\n",
       "      <th>Humidity</th>\n",
       "      <th>Lat</th>\n",
       "      <th>Lng</th>\n",
       "      <th>Max Temp</th>\n",
       "      <th>Wind Speed</th>\n",
       "      <th>Hotel Name</th>\n",
       "    </tr>\n",
       "  </thead>\n",
       "  <tbody>\n",
       "    <tr>\n",
       "      <td>60</td>\n",
       "      <td>gao</td>\n",
       "      <td>0</td>\n",
       "      <td>ML</td>\n",
       "      <td>1580508931</td>\n",
       "      <td>12</td>\n",
       "      <td>16.64</td>\n",
       "      <td>1.64</td>\n",
       "      <td>74.43</td>\n",
       "      <td>9.42</td>\n",
       "      <td></td>\n",
       "    </tr>\n",
       "    <tr>\n",
       "      <td>220</td>\n",
       "      <td>sao filipe</td>\n",
       "      <td>0</td>\n",
       "      <td>CV</td>\n",
       "      <td>1580509304</td>\n",
       "      <td>45</td>\n",
       "      <td>14.90</td>\n",
       "      <td>-24.50</td>\n",
       "      <td>78.91</td>\n",
       "      <td>9.31</td>\n",
       "      <td></td>\n",
       "    </tr>\n",
       "    <tr>\n",
       "      <td>296</td>\n",
       "      <td>edd</td>\n",
       "      <td>0</td>\n",
       "      <td>ER</td>\n",
       "      <td>1580509440</td>\n",
       "      <td>58</td>\n",
       "      <td>13.93</td>\n",
       "      <td>41.69</td>\n",
       "      <td>79.09</td>\n",
       "      <td>4.36</td>\n",
       "      <td></td>\n",
       "    </tr>\n",
       "    <tr>\n",
       "      <td>303</td>\n",
       "      <td>tessalit</td>\n",
       "      <td>0</td>\n",
       "      <td>ML</td>\n",
       "      <td>1580509501</td>\n",
       "      <td>14</td>\n",
       "      <td>20.20</td>\n",
       "      <td>1.01</td>\n",
       "      <td>70.63</td>\n",
       "      <td>7.87</td>\n",
       "      <td></td>\n",
       "    </tr>\n",
       "    <tr>\n",
       "      <td>473</td>\n",
       "      <td>araouane</td>\n",
       "      <td>0</td>\n",
       "      <td>ML</td>\n",
       "      <td>1580509729</td>\n",
       "      <td>13</td>\n",
       "      <td>18.90</td>\n",
       "      <td>-3.53</td>\n",
       "      <td>72.43</td>\n",
       "      <td>9.84</td>\n",
       "      <td></td>\n",
       "    </tr>\n",
       "  </tbody>\n",
       "</table>\n",
       "</div>"
      ],
      "text/plain": [
       "           City  Cloudiness Country        Date  Humidity    Lat    Lng  \\\n",
       "60          gao           0      ML  1580508931        12  16.64   1.64   \n",
       "220  sao filipe           0      CV  1580509304        45  14.90 -24.50   \n",
       "296         edd           0      ER  1580509440        58  13.93  41.69   \n",
       "303    tessalit           0      ML  1580509501        14  20.20   1.01   \n",
       "473    araouane           0      ML  1580509729        13  18.90  -3.53   \n",
       "\n",
       "     Max Temp  Wind Speed Hotel Name  \n",
       "60      74.43        9.42             \n",
       "220     78.91        9.31             \n",
       "296     79.09        4.36             \n",
       "303     70.63        7.87             \n",
       "473     72.43        9.84             "
      ]
     },
     "execution_count": 6,
     "metadata": {},
     "output_type": "execute_result"
    }
   ],
   "source": [
    "hotel_df = pd.DataFrame(ideal_cloud, columns=['City', 'Cloudiness', 'Country', 'Date',\n",
    "                                             'Humidity', 'Lat', 'Lng', 'Max Temp',\n",
    "                                             'Wind Speed'])\n",
    "hotel_df['Hotel Name']=''\n",
    "hotel_df"
   ]
  },
  {
   "cell_type": "code",
   "execution_count": 7,
   "metadata": {},
   "outputs": [
    {
     "name": "stdout",
     "output_type": "stream",
     "text": [
      "Missing result... skipping.\n",
      "Missing result... skipping.\n",
      "Missing result... skipping.\n",
      "Missing result... skipping.\n"
     ]
    }
   ],
   "source": [
    "params = {\"radius\": 5000,\n",
    "          \"types\": \"restaurant\",\n",
    "          \"key\": g_key\n",
    "         }\n",
    "\n",
    "for index, row in hotel_df.iterrows():\n",
    "    lat = row['Lat']\n",
    "    lon = row['Lng']\n",
    "    \n",
    "    params['location'] = f\"{lat},{lon}\"\n",
    "    \n",
    "    url = \"https://maps.googleapis.com/maps/api/place/nearbysearch/json\"\n",
    "    \n",
    "    names = requests.get(url, params=params).json()\n",
    "    \n",
    "    try:\n",
    "        hotel_df.loc[index, \"Hotel Name\"] = names[\"results\"][0][\"name\"]\n",
    "        \n",
    "    except (KeyError, IndexError):\n",
    "        print(\"Missing result... skipping.\")"
   ]
  },
  {
   "cell_type": "code",
   "execution_count": 14,
   "metadata": {},
   "outputs": [
    {
     "data": {
      "text/html": [
       "<div>\n",
       "<style scoped>\n",
       "    .dataframe tbody tr th:only-of-type {\n",
       "        vertical-align: middle;\n",
       "    }\n",
       "\n",
       "    .dataframe tbody tr th {\n",
       "        vertical-align: top;\n",
       "    }\n",
       "\n",
       "    .dataframe thead th {\n",
       "        text-align: right;\n",
       "    }\n",
       "</style>\n",
       "<table border=\"1\" class=\"dataframe\">\n",
       "  <thead>\n",
       "    <tr style=\"text-align: right;\">\n",
       "      <th></th>\n",
       "      <th>City</th>\n",
       "      <th>Cloudiness</th>\n",
       "      <th>Country</th>\n",
       "      <th>Date</th>\n",
       "      <th>Humidity</th>\n",
       "      <th>Lat</th>\n",
       "      <th>Lng</th>\n",
       "      <th>Max Temp</th>\n",
       "      <th>Wind Speed</th>\n",
       "      <th>Hotel Name</th>\n",
       "    </tr>\n",
       "  </thead>\n",
       "  <tbody>\n",
       "    <tr>\n",
       "      <td>220</td>\n",
       "      <td>sao filipe</td>\n",
       "      <td>0</td>\n",
       "      <td>CV</td>\n",
       "      <td>1580509304</td>\n",
       "      <td>45</td>\n",
       "      <td>14.9</td>\n",
       "      <td>-24.5</td>\n",
       "      <td>78.91</td>\n",
       "      <td>9.31</td>\n",
       "      <td>Tortuga</td>\n",
       "    </tr>\n",
       "  </tbody>\n",
       "</table>\n",
       "</div>"
      ],
      "text/plain": [
       "           City  Cloudiness Country        Date  Humidity   Lat   Lng  \\\n",
       "220  sao filipe           0      CV  1580509304        45  14.9 -24.5   \n",
       "\n",
       "     Max Temp  Wind Speed Hotel Name  \n",
       "220     78.91        9.31    Tortuga  "
      ]
     },
     "execution_count": 14,
     "metadata": {},
     "output_type": "execute_result"
    }
   ],
   "source": [
    "#dropping areas where the hotel name column is missing\n",
    "\n",
    "clean_hotel_df = hotel_df[hotel_df['Hotel Name'] != '']\n",
    "clean_hotel_df"
   ]
  },
  {
   "cell_type": "code",
   "execution_count": 9,
   "metadata": {},
   "outputs": [],
   "source": [
    "clean_hotel_df.to_csv('output_data/Hotels.csv', index=False)"
   ]
  },
  {
   "cell_type": "code",
   "execution_count": 12,
   "metadata": {},
   "outputs": [],
   "source": [
    "# NOTE: Do not change any of the code in this cell\n",
    "\n",
    "# Using the template add the hotel marks to the heatmap\n",
    "info_box_template = \"\"\"\n",
    "<dl>\n",
    "<dt>Name</dt><dd>{Hotel Name}</dd>\n",
    "<dt>City</dt><dd>{City}</dd>\n",
    "<dt>Country</dt><dd>{Country}</dd>\n",
    "</dl>\n",
    "\"\"\"\n",
    "# Store the DataFrame Row\n",
    "# NOTE: be sure to update with your DataFrame name\n",
    "hotel_info = [info_box_template.format(**row) for index, row in clean_hotel_df.iterrows()]\n",
    "locations = clean_hotel_df[[\"Lat\", \"Lng\"]]"
   ]
  },
  {
   "cell_type": "code",
   "execution_count": 13,
   "metadata": {},
   "outputs": [
    {
     "data": {
      "application/vnd.jupyter.widget-view+json": {
       "model_id": "8c969826657646278ad161d9074ee345",
       "version_major": 2,
       "version_minor": 0
      },
      "text/plain": [
       "Figure(layout=FigureLayout(height='420px'))"
      ]
     },
     "metadata": {},
     "output_type": "display_data"
    }
   ],
   "source": [
    "# Add marker layer ontop of heat map\n",
    "#creating marker locations\n",
    "fig = gmaps.figure()\n",
    "markers = gmaps.marker_layer(locations, info_box_content=hotel_info)\n",
    "fig.add_layer(markers)\n",
    "fig\n",
    "\n",
    "# Display Map"
   ]
  },
  {
   "cell_type": "code",
   "execution_count": null,
   "metadata": {},
   "outputs": [],
   "source": []
  },
  {
   "cell_type": "code",
   "execution_count": null,
   "metadata": {},
   "outputs": [],
   "source": []
  }
 ],
 "metadata": {
  "kernelspec": {
   "display_name": "Python 3",
   "language": "python",
   "name": "python3"
  },
  "language_info": {
   "codemirror_mode": {
    "name": "ipython",
    "version": 3
   },
   "file_extension": ".py",
   "mimetype": "text/x-python",
   "name": "python",
   "nbconvert_exporter": "python",
   "pygments_lexer": "ipython3",
   "version": "3.7.4"
  },
  "latex_envs": {
   "LaTeX_envs_menu_present": true,
   "autoclose": false,
   "autocomplete": true,
   "bibliofile": "biblio.bib",
   "cite_by": "apalike",
   "current_citInitial": 1,
   "eqLabelWithNumbers": true,
   "eqNumInitial": 1,
   "hotkeys": {
    "equation": "Ctrl-E",
    "itemize": "Ctrl-I"
   },
   "labels_anchors": false,
   "latex_user_defs": false,
   "report_style_numbering": false,
   "user_envs_cfg": false
  }
 },
 "nbformat": 4,
 "nbformat_minor": 2
}

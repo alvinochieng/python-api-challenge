{
 "cells": [
  {
   "cell_type": "markdown",
   "metadata": {},
   "source": [
    "# WeatherPy\n",
    "----\n",
    "\n",
    "#### Note\n",
    "* Instructions have been included for each segment. You do not have to follow them exactly, but they are included to help you think through the steps."
   ]
  },
  {
   "cell_type": "code",
   "execution_count": 1,
   "metadata": {
    "scrolled": true
   },
   "outputs": [],
   "source": [
    "# Dependencies and Setup\n",
    "import matplotlib.pyplot as plt\n",
    "import pandas as pd\n",
    "import numpy as np\n",
    "import requests\n",
    "import time\n",
    "from scipy.stats import linregress\n",
    "\n",
    "# Import API key\n",
    "from api_keys import weather_api_key\n",
    "\n",
    "# Incorporated citipy to determine city based on latitude and longitude\n",
    "from citipy import citipy\n",
    "\n",
    "# Output File (CSV)\n",
    "output_data_file = \"output_data/cities.csv\"\n",
    "\n",
    "# Range of latitudes and longitudes\n",
    "lat_range = (-90, 90)\n",
    "lng_range = (-180, 180)"
   ]
  },
  {
   "cell_type": "markdown",
   "metadata": {},
   "source": [
    "## Generate Cities List"
   ]
  },
  {
   "cell_type": "code",
   "execution_count": 2,
   "metadata": {},
   "outputs": [
    {
     "data": {
      "text/plain": [
       "624"
      ]
     },
     "execution_count": 2,
     "metadata": {},
     "output_type": "execute_result"
    }
   ],
   "source": [
    "# List for holding lat_lngs and cities\n",
    "lat_lngs = []\n",
    "cities = []\n",
    "countries = []\n",
    "\n",
    "# Create a set of random lat and lng combinations\n",
    "lats = np.random.uniform(low=-90.000, high=90.000, size=1500)\n",
    "lngs = np.random.uniform(low=-180.000, high=180.000, size=1500)\n",
    "lat_lngs = zip(lats, lngs)\n",
    "\n",
    "# Identify nearest city for each lat, lng combination\n",
    "for lat_lng in lat_lngs:\n",
    "    city = citipy.nearest_city(lat_lng[0], lat_lng[1]).city_name\n",
    "    country = citipy.nearest_city(lat_lng[0], lat_lng[1]).country_code\n",
    "    # If the city is unique, then add it to a our cities list\n",
    "    if city not in cities:\n",
    "        cities.append(city)\n",
    "        countries.append(country.upper())\n",
    "\n",
    "# Print the city count to confirm sufficient count\n",
    "len(cities)"
   ]
  },
  {
   "cell_type": "code",
   "execution_count": 3,
   "metadata": {},
   "outputs": [
    {
     "data": {
      "text/html": [
       "<div>\n",
       "<style scoped>\n",
       "    .dataframe tbody tr th:only-of-type {\n",
       "        vertical-align: middle;\n",
       "    }\n",
       "\n",
       "    .dataframe tbody tr th {\n",
       "        vertical-align: top;\n",
       "    }\n",
       "\n",
       "    .dataframe thead th {\n",
       "        text-align: right;\n",
       "    }\n",
       "</style>\n",
       "<table border=\"1\" class=\"dataframe\">\n",
       "  <thead>\n",
       "    <tr style=\"text-align: right;\">\n",
       "      <th></th>\n",
       "      <th>City</th>\n",
       "      <th>Cloudiness</th>\n",
       "      <th>Country</th>\n",
       "      <th>Date</th>\n",
       "      <th>Humidity</th>\n",
       "      <th>Lat</th>\n",
       "      <th>Lng</th>\n",
       "      <th>Max Temp</th>\n",
       "      <th>Wind Speed</th>\n",
       "    </tr>\n",
       "  </thead>\n",
       "  <tbody>\n",
       "    <tr>\n",
       "      <td>0</td>\n",
       "      <td>albany</td>\n",
       "      <td></td>\n",
       "      <td>AU</td>\n",
       "      <td></td>\n",
       "      <td></td>\n",
       "      <td></td>\n",
       "      <td></td>\n",
       "      <td></td>\n",
       "      <td></td>\n",
       "    </tr>\n",
       "    <tr>\n",
       "      <td>1</td>\n",
       "      <td>broome</td>\n",
       "      <td></td>\n",
       "      <td>AU</td>\n",
       "      <td></td>\n",
       "      <td></td>\n",
       "      <td></td>\n",
       "      <td></td>\n",
       "      <td></td>\n",
       "      <td></td>\n",
       "    </tr>\n",
       "    <tr>\n",
       "      <td>2</td>\n",
       "      <td>rikitea</td>\n",
       "      <td></td>\n",
       "      <td>PF</td>\n",
       "      <td></td>\n",
       "      <td></td>\n",
       "      <td></td>\n",
       "      <td></td>\n",
       "      <td></td>\n",
       "      <td></td>\n",
       "    </tr>\n",
       "    <tr>\n",
       "      <td>3</td>\n",
       "      <td>butaritari</td>\n",
       "      <td></td>\n",
       "      <td>KI</td>\n",
       "      <td></td>\n",
       "      <td></td>\n",
       "      <td></td>\n",
       "      <td></td>\n",
       "      <td></td>\n",
       "      <td></td>\n",
       "    </tr>\n",
       "    <tr>\n",
       "      <td>4</td>\n",
       "      <td>atuona</td>\n",
       "      <td></td>\n",
       "      <td>PF</td>\n",
       "      <td></td>\n",
       "      <td></td>\n",
       "      <td></td>\n",
       "      <td></td>\n",
       "      <td></td>\n",
       "      <td></td>\n",
       "    </tr>\n",
       "    <tr>\n",
       "      <td>5</td>\n",
       "      <td>carnarvon</td>\n",
       "      <td></td>\n",
       "      <td>AU</td>\n",
       "      <td></td>\n",
       "      <td></td>\n",
       "      <td></td>\n",
       "      <td></td>\n",
       "      <td></td>\n",
       "      <td></td>\n",
       "    </tr>\n",
       "    <tr>\n",
       "      <td>6</td>\n",
       "      <td>saint george</td>\n",
       "      <td></td>\n",
       "      <td>BM</td>\n",
       "      <td></td>\n",
       "      <td></td>\n",
       "      <td></td>\n",
       "      <td></td>\n",
       "      <td></td>\n",
       "      <td></td>\n",
       "    </tr>\n",
       "    <tr>\n",
       "      <td>7</td>\n",
       "      <td>cherskiy</td>\n",
       "      <td></td>\n",
       "      <td>RU</td>\n",
       "      <td></td>\n",
       "      <td></td>\n",
       "      <td></td>\n",
       "      <td></td>\n",
       "      <td></td>\n",
       "      <td></td>\n",
       "    </tr>\n",
       "    <tr>\n",
       "      <td>8</td>\n",
       "      <td>maria chiquita</td>\n",
       "      <td></td>\n",
       "      <td>PA</td>\n",
       "      <td></td>\n",
       "      <td></td>\n",
       "      <td></td>\n",
       "      <td></td>\n",
       "      <td></td>\n",
       "      <td></td>\n",
       "    </tr>\n",
       "    <tr>\n",
       "      <td>9</td>\n",
       "      <td>hilo</td>\n",
       "      <td></td>\n",
       "      <td>US</td>\n",
       "      <td></td>\n",
       "      <td></td>\n",
       "      <td></td>\n",
       "      <td></td>\n",
       "      <td></td>\n",
       "      <td></td>\n",
       "    </tr>\n",
       "  </tbody>\n",
       "</table>\n",
       "</div>"
      ],
      "text/plain": [
       "             City Cloudiness Country Date Humidity Lat Lng Max Temp Wind Speed\n",
       "0          albany                 AU                                          \n",
       "1          broome                 AU                                          \n",
       "2         rikitea                 PF                                          \n",
       "3      butaritari                 KI                                          \n",
       "4          atuona                 PF                                          \n",
       "5       carnarvon                 AU                                          \n",
       "6    saint george                 BM                                          \n",
       "7        cherskiy                 RU                                          \n",
       "8  maria chiquita                 PA                                          \n",
       "9            hilo                 US                                          "
      ]
     },
     "execution_count": 3,
     "metadata": {},
     "output_type": "execute_result"
    }
   ],
   "source": [
    "weather_df = pd.DataFrame({\"City\":cities, \"Cloudiness\":'', \"Country\":countries, \"Date\":'', \"Humidity\":'',\n",
    "                           \"Lat\":'', \"Lng\":'', \"Max Temp\":'', \"Wind Speed\":''})\n",
    "weather_df.head(10)"
   ]
  },
  {
   "cell_type": "code",
   "execution_count": 4,
   "metadata": {},
   "outputs": [],
   "source": [
    "url = 'http://api.openweathermap.org/data/2.5/weather?units=imperial&q='\n",
    "count = 1\n",
    "count_set = 1"
   ]
  },
  {
   "cell_type": "markdown",
   "metadata": {},
   "source": [
    "### Perform API Calls\n",
    "* Perform a weather check on each city using a series of successive API calls.\n",
    "* Include a print log of each city as it'sbeing processed (with the city number and city name).\n"
   ]
  },
  {
   "cell_type": "code",
   "execution_count": 5,
   "metadata": {},
   "outputs": [
    {
     "name": "stdout",
     "output_type": "stream",
     "text": [
      "Begining Data Retrieval \n",
      "-----------------------\n",
      "Processing Record 1 of Set 1 | Albany\n",
      "Processing Record 2 of Set 1 | Broome\n",
      "Processing Record 3 of Set 1 | Rikitea\n",
      "Processing Record 4 of Set 1 | Butaritari\n",
      "Processing Record 5 of Set 1 | Atuona\n",
      "Processing Record 6 of Set 1 | Carnarvon\n",
      "Processing Record 7 of Set 1 | Saint George\n",
      "Processing Record 8 of Set 1 | Cherskiy\n",
      "Processing Record 9 of Set 1 | Maria Chiquita\n",
      "Processing Record 10 of Set 1 | Hilo\n",
      "Processing Record 11 of Set 1 | Sorkjosen\n",
      "Processing Record 12 of Set 1 | Port Elizabeth\n",
      "Processing Record 13 of Set 1 | Port Alfred\n",
      "Processing Record 14 of Set 1 | Ushuaia\n",
      "City not found. Skipping....\n",
      "Processing Record 15 of Set 1 | Dingle\n",
      "Processing Record 16 of Set 1 | Mar del Plata\n",
      "Processing Record 17 of Set 1 | Qaanaaq\n",
      "Processing Record 18 of Set 1 | Kaitangata\n",
      "Processing Record 19 of Set 1 | Jamestown\n",
      "Processing Record 20 of Set 1 | Busselton\n",
      "Processing Record 21 of Set 1 | Salalah\n",
      "Processing Record 22 of Set 1 | Umm Lajj\n",
      "Processing Record 23 of Set 1 | Fairbanks\n",
      "Processing Record 24 of Set 1 | Poum\n",
      "Processing Record 25 of Set 1 | Fortuna\n",
      "Processing Record 26 of Set 1 | Punta Arenas\n",
      "Processing Record 27 of Set 1 | Tasiilaq\n",
      "Processing Record 28 of Set 1 | Hobart\n",
      "Processing Record 29 of Set 1 | Khatanga\n",
      "Processing Record 30 of Set 1 | Kapaa\n",
      "Processing Record 31 of Set 1 | Hermanus\n",
      "Processing Record 32 of Set 1 | Kudahuvadhoo\n",
      "Processing Record 33 of Set 1 | Dunedin\n",
      "City not found. Skipping....\n",
      "Processing Record 34 of Set 1 | Barrow\n",
      "City not found. Skipping....\n",
      "Processing Record 35 of Set 1 | Port Blair\n",
      "Processing Record 36 of Set 1 | Shimoda\n",
      "Processing Record 37 of Set 1 | Lagoa\n",
      "Processing Record 38 of Set 1 | Ahipara\n",
      "City not found. Skipping....\n",
      "Processing Record 39 of Set 1 | Vaini\n",
      "Processing Record 40 of Set 1 | Alihe\n",
      "Processing Record 41 of Set 1 | Santa Cruz\n",
      "Processing Record 42 of Set 1 | Gayny\n",
      "Processing Record 43 of Set 1 | Turaif\n",
      "City not found. Skipping....\n",
      "Processing Record 44 of Set 1 | Flinders\n",
      "City not found. Skipping....\n",
      "Processing Record 45 of Set 1 | Bilibino\n",
      "Processing Record 46 of Set 1 | New Norfolk\n",
      "Processing Record 47 of Set 1 | Halifax\n",
      "Processing Record 48 of Set 1 | Hithadhoo\n",
      "Processing Record 49 of Set 1 | Bethel\n",
      "Processing Record 50 of Set 1 | Puno\n",
      "Processing Record 1 of Set 2 | Puerto Ayora\n",
      "Processing Record 2 of Set 2 | Yellowknife\n",
      "Processing Record 3 of Set 2 | Clyde River\n",
      "Processing Record 4 of Set 2 | Moyale\n",
      "Processing Record 5 of Set 2 | Lebu\n",
      "City not found. Skipping....\n",
      "Processing Record 6 of Set 2 | Vinh\n",
      "Processing Record 7 of Set 2 | Nikolskoye\n",
      "Processing Record 8 of Set 2 | Manacapuru\n",
      "Processing Record 9 of Set 2 | Ponta do Sol\n",
      "Processing Record 10 of Set 2 | Saskylakh\n",
      "Processing Record 11 of Set 2 | Saint-Georges\n",
      "Processing Record 12 of Set 2 | Taltal\n",
      "Processing Record 13 of Set 2 | Labytnangi\n",
      "Processing Record 14 of Set 2 | Sayyan\n",
      "Processing Record 15 of Set 2 | Cape Town\n",
      "Processing Record 16 of Set 2 | Cidreira\n",
      "Processing Record 17 of Set 2 | Farnes\n",
      "Processing Record 18 of Set 2 | Dikson\n",
      "Processing Record 19 of Set 2 | Avarua\n",
      "Processing Record 20 of Set 2 | Esperance\n",
      "Processing Record 21 of Set 2 | Trapani\n",
      "Processing Record 22 of Set 2 | Guerrero Negro\n",
      "Processing Record 23 of Set 2 | Kloulklubed\n",
      "Processing Record 24 of Set 2 | Kalmunai\n",
      "Processing Record 25 of Set 2 | Hervey Bay\n",
      "Processing Record 26 of Set 2 | Cayenne\n",
      "Processing Record 27 of Set 2 | Souillac\n",
      "Processing Record 28 of Set 2 | Yumen\n",
      "Processing Record 29 of Set 2 | Kununurra\n",
      "Processing Record 30 of Set 2 | Petropavlovsk-Kamchatsky\n",
      "Processing Record 31 of Set 2 | Eucaliptus\n",
      "Processing Record 32 of Set 2 | Nemours\n",
      "Processing Record 33 of Set 2 | Gebre Guracha\n",
      "Processing Record 34 of Set 2 | Kayes\n",
      "Processing Record 35 of Set 2 | Sao Joao da Barra\n",
      "City not found. Skipping....\n",
      "Processing Record 36 of Set 2 | Lanzhou\n",
      "Processing Record 37 of Set 2 | Kodiak\n",
      "Processing Record 38 of Set 2 | Arraial do Cabo\n",
      "Processing Record 39 of Set 2 | Izumo\n",
      "Processing Record 40 of Set 2 | Severo-Kuril'sk\n",
      "Processing Record 41 of Set 2 | East London\n",
      "Processing Record 42 of Set 2 | Bluff\n",
      "Processing Record 43 of Set 2 | Ancud\n",
      "Processing Record 44 of Set 2 | Sorland\n",
      "Processing Record 45 of Set 2 | Northam\n",
      "Processing Record 46 of Set 2 | Darnah\n",
      "Processing Record 47 of Set 2 | El Alto\n",
      "City not found. Skipping....\n",
      "Processing Record 48 of Set 2 | Lebork\n",
      "Processing Record 49 of Set 2 | Pallasovka\n",
      "Processing Record 50 of Set 2 | Florianopolis\n",
      "Processing Record 1 of Set 3 | Nahavand\n",
      "Processing Record 2 of Set 3 | La Palma\n",
      "Processing Record 3 of Set 3 | Shimanovsk\n",
      "Processing Record 4 of Set 3 | Mahebourg\n",
      "Processing Record 5 of Set 3 | Tiksi\n",
      "Processing Record 6 of Set 3 | Kumul\n",
      "City not found. Skipping....\n",
      "Processing Record 7 of Set 3 | Georgetown\n",
      "Processing Record 8 of Set 3 | Adrar\n",
      "Processing Record 9 of Set 3 | Nakasongola\n",
      "Processing Record 10 of Set 3 | Thompson\n",
      "Processing Record 11 of Set 3 | Bathsheba\n",
      "Processing Record 12 of Set 3 | Grand Gaube\n",
      "Processing Record 13 of Set 3 | Muisne\n",
      "City not found. Skipping....\n",
      "Processing Record 14 of Set 3 | Dunda\n",
      "Processing Record 15 of Set 3 | Pierre\n",
      "Processing Record 16 of Set 3 | Geraldton\n",
      "Processing Record 17 of Set 3 | Hofn\n",
      "Processing Record 18 of Set 3 | Saint-Denis\n",
      "Processing Record 19 of Set 3 | Kikwit\n",
      "Processing Record 20 of Set 3 | Okhotsk\n",
      "City not found. Skipping....\n",
      "Processing Record 21 of Set 3 | Aloleng\n",
      "City not found. Skipping....\n",
      "Processing Record 22 of Set 3 | Nemuro\n",
      "Processing Record 23 of Set 3 | Tres Arroyos\n",
      "City not found. Skipping....\n",
      "City not found. Skipping....\n",
      "Processing Record 24 of Set 3 | Bengkulu\n",
      "Processing Record 25 of Set 3 | San Cristobal\n",
      "Processing Record 26 of Set 3 | Bredasdorp\n",
      "Processing Record 27 of Set 3 | Kamina\n",
      "Processing Record 28 of Set 3 | Grindavik\n",
      "Processing Record 29 of Set 3 | San Quintin\n",
      "Processing Record 30 of Set 3 | Turukhansk\n",
      "Processing Record 31 of Set 3 | Christchurch\n",
      "Processing Record 32 of Set 3 | Provideniya\n",
      "Processing Record 33 of Set 3 | Bairiki Village\n",
      "City not found. Skipping....\n",
      "Processing Record 34 of Set 3 | Syava\n",
      "Processing Record 35 of Set 3 | Ferme-Neuve\n",
      "Processing Record 36 of Set 3 | San Vicente\n",
      "Processing Record 37 of Set 3 | Cap Malheureux\n",
      "Processing Record 38 of Set 3 | Dolinsk\n",
      "Processing Record 39 of Set 3 | Merowe\n",
      "Processing Record 40 of Set 3 | Bubaque\n",
      "Processing Record 41 of Set 3 | Benguela\n",
      "Processing Record 42 of Set 3 | Boa Vista\n",
      "Processing Record 43 of Set 3 | Yulara\n",
      "Processing Record 44 of Set 3 | Agadir\n",
      "Processing Record 45 of Set 3 | Corner Brook\n",
      "Processing Record 46 of Set 3 | Vilhena\n",
      "Processing Record 47 of Set 3 | Pevek\n",
      "Processing Record 48 of Set 3 | Eureka\n",
      "Processing Record 49 of Set 3 | Sanming\n",
      "City not found. Skipping....\n",
      "Processing Record 50 of Set 3 | Isangel\n",
      "Processing Record 1 of Set 4 | Hualmay\n",
      "Processing Record 2 of Set 4 | Samarai\n",
      "Processing Record 3 of Set 4 | Kotelnich\n",
      "Processing Record 4 of Set 4 | Marsh Harbour\n",
      "Processing Record 5 of Set 4 | Port-Gentil\n",
      "Processing Record 6 of Set 4 | Vostok\n",
      "Processing Record 7 of Set 4 | Durban\n",
      "City not found. Skipping....\n",
      "Processing Record 8 of Set 4 | Abadan\n",
      "Processing Record 9 of Set 4 | Seymchan\n",
      "City not found. Skipping....\n",
      "Processing Record 10 of Set 4 | Tiarei\n",
      "Processing Record 11 of Set 4 | Nhulunbuy\n",
      "Processing Record 12 of Set 4 | Faanui\n",
      "City not found. Skipping....\n",
      "Processing Record 13 of Set 4 | Byron Bay\n",
      "Processing Record 14 of Set 4 | Naco\n",
      "Processing Record 15 of Set 4 | Puerto Escondido\n",
      "Processing Record 16 of Set 4 | Kantabanji\n",
      "Processing Record 17 of Set 4 | Quatre Cocos\n",
      "Processing Record 18 of Set 4 | Ekuvukeni\n",
      "Processing Record 19 of Set 4 | Kolda\n",
      "Processing Record 20 of Set 4 | Sungaipenuh\n",
      "Processing Record 21 of Set 4 | Moranbah\n",
      "Processing Record 22 of Set 4 | Villa Vicente Guerrero\n",
      "City not found. Skipping....\n",
      "Processing Record 23 of Set 4 | Mogadishu\n",
      "City not found. Skipping....\n",
      "Processing Record 24 of Set 4 | Sao Jose da Coroa Grande\n",
      "Processing Record 25 of Set 4 | Basco\n",
      "Processing Record 26 of Set 4 | Ruwi\n",
      "Processing Record 27 of Set 4 | Guilin\n",
      "Processing Record 28 of Set 4 | Kavieng\n",
      "Processing Record 29 of Set 4 | Wojkowice\n",
      "Processing Record 30 of Set 4 | Moses Lake\n",
      "Processing Record 31 of Set 4 | Cabo San Lucas\n",
      "Processing Record 32 of Set 4 | Saint-Philippe\n"
     ]
    },
    {
     "name": "stdout",
     "output_type": "stream",
     "text": [
      "Processing Record 33 of Set 4 | Deep River\n",
      "Processing Record 34 of Set 4 | Vao\n",
      "Processing Record 35 of Set 4 | Balurghat\n",
      "Processing Record 36 of Set 4 | Chapais\n",
      "Processing Record 37 of Set 4 | Juneau\n",
      "Processing Record 38 of Set 4 | Port Lincoln\n",
      "Processing Record 39 of Set 4 | Chokurdakh\n",
      "Processing Record 40 of Set 4 | Castro Alves\n",
      "Processing Record 41 of Set 4 | Rosarito\n",
      "Processing Record 42 of Set 4 | Jardim\n",
      "Processing Record 43 of Set 4 | Andahuaylas\n",
      "Processing Record 44 of Set 4 | Petropavl\n",
      "Processing Record 45 of Set 4 | Praia\n",
      "Processing Record 46 of Set 4 | Komsomolskiy\n",
      "Processing Record 47 of Set 4 | Jiuquan\n",
      "Processing Record 48 of Set 4 | Laje\n",
      "Processing Record 49 of Set 4 | Amga\n",
      "Processing Record 50 of Set 4 | Norman Wells\n",
      "City not found. Skipping....\n",
      "Processing Record 1 of Set 5 | Huarmey\n",
      "Processing Record 2 of Set 5 | Uvat\n",
      "City not found. Skipping....\n",
      "Processing Record 3 of Set 5 | Presidente Medici\n",
      "Processing Record 4 of Set 5 | Kot Samaba\n",
      "Processing Record 5 of Set 5 | Alofi\n",
      "Processing Record 6 of Set 5 | Svebolle\n",
      "Processing Record 7 of Set 5 | Haines Junction\n",
      "Processing Record 8 of Set 5 | Lorengau\n",
      "Processing Record 9 of Set 5 | Matara\n",
      "Processing Record 10 of Set 5 | Mingyue\n",
      "Processing Record 11 of Set 5 | Ketchikan\n",
      "Processing Record 12 of Set 5 | Korla\n",
      "Processing Record 13 of Set 5 | Maraba\n",
      "Processing Record 14 of Set 5 | Ghanzi\n",
      "Processing Record 15 of Set 5 | Yertsevo\n",
      "Processing Record 16 of Set 5 | Jalu\n",
      "Processing Record 17 of Set 5 | Semnan\n",
      "Processing Record 18 of Set 5 | Nanortalik\n",
      "Processing Record 19 of Set 5 | Ribeira Grande\n",
      "Processing Record 20 of Set 5 | Kahului\n",
      "Processing Record 21 of Set 5 | Artyom\n",
      "Processing Record 22 of Set 5 | Taksimo\n",
      "City not found. Skipping....\n",
      "Processing Record 23 of Set 5 | Uitenhage\n",
      "City not found. Skipping....\n",
      "Processing Record 24 of Set 5 | Owando\n",
      "Processing Record 25 of Set 5 | Porto Nacional\n",
      "Processing Record 26 of Set 5 | Nhamunda\n",
      "Processing Record 27 of Set 5 | Fredensborg\n",
      "Processing Record 28 of Set 5 | Bowen\n",
      "Processing Record 29 of Set 5 | Yong'an\n",
      "Processing Record 30 of Set 5 | Tanout\n",
      "Processing Record 31 of Set 5 | Ilulissat\n",
      "Processing Record 32 of Set 5 | Kasongo-Lunda\n",
      "Processing Record 33 of Set 5 | Vallenar\n",
      "Processing Record 34 of Set 5 | Tuktoyaktuk\n",
      "City not found. Skipping....\n",
      "Processing Record 35 of Set 5 | Prainha\n",
      "Processing Record 36 of Set 5 | Ixtapa\n",
      "Processing Record 37 of Set 5 | Saldanha\n",
      "Processing Record 38 of Set 5 | Bafoulabe\n",
      "Processing Record 39 of Set 5 | Mangai\n",
      "City not found. Skipping....\n",
      "Processing Record 40 of Set 5 | Bodden Town\n",
      "Processing Record 41 of Set 5 | Garden City\n",
      "Processing Record 42 of Set 5 | Mossamedes\n",
      "City not found. Skipping....\n",
      "Processing Record 43 of Set 5 | Morondava\n",
      "Processing Record 44 of Set 5 | Sitka\n",
      "Processing Record 45 of Set 5 | Kruisfontein\n",
      "Processing Record 46 of Set 5 | Igatpuri\n",
      "Processing Record 47 of Set 5 | Mega\n",
      "Processing Record 48 of Set 5 | Karratha\n",
      "Processing Record 49 of Set 5 | Buta\n",
      "Processing Record 50 of Set 5 | Severnyy\n",
      "Processing Record 1 of Set 6 | Inirida\n",
      "Processing Record 2 of Set 6 | Villa Florida\n",
      "Processing Record 3 of Set 6 | Rio Grande\n",
      "Processing Record 4 of Set 6 | Monteiro\n",
      "Processing Record 5 of Set 6 | Bijar\n",
      "Processing Record 6 of Set 6 | Kieta\n",
      "Processing Record 7 of Set 6 | Novochernorechenskiy\n",
      "Processing Record 8 of Set 6 | Zhezkazgan\n",
      "Processing Record 9 of Set 6 | Kushima\n",
      "Processing Record 10 of Set 6 | Tateyama\n",
      "Processing Record 11 of Set 6 | Ostrovnoy\n",
      "Processing Record 12 of Set 6 | Cabatuan\n",
      "Processing Record 13 of Set 6 | Aksu\n",
      "Processing Record 14 of Set 6 | Olinda\n",
      "Processing Record 15 of Set 6 | Bay Saint Louis\n",
      "Processing Record 16 of Set 6 | Boguchany\n",
      "Processing Record 17 of Set 6 | Portland\n",
      "Processing Record 18 of Set 6 | Longyearbyen\n",
      "Processing Record 19 of Set 6 | Khovd\n",
      "Processing Record 20 of Set 6 | Moussoro\n",
      "Processing Record 21 of Set 6 | Torbay\n",
      "Processing Record 22 of Set 6 | Suhbaatar\n",
      "Processing Record 23 of Set 6 | Pangkalanbuun\n",
      "Processing Record 24 of Set 6 | Curillo\n",
      "City not found. Skipping....\n",
      "Processing Record 25 of Set 6 | Iqaluit\n",
      "Processing Record 26 of Set 6 | Markova\n",
      "City not found. Skipping....\n",
      "Processing Record 27 of Set 6 | Komatipoort\n",
      "City not found. Skipping....\n",
      "Processing Record 28 of Set 6 | Buraidah\n",
      "Processing Record 29 of Set 6 | Ahar\n",
      "Processing Record 30 of Set 6 | Grants\n",
      "Processing Record 31 of Set 6 | Santa Rosa\n",
      "Processing Record 32 of Set 6 | Bambous Virieux\n",
      "Processing Record 33 of Set 6 | Show Low\n",
      "Processing Record 34 of Set 6 | Edson\n",
      "Processing Record 35 of Set 6 | Oktyabrskiy\n",
      "Processing Record 36 of Set 6 | Konotop\n",
      "Processing Record 37 of Set 6 | Ust-Kuyga\n",
      "Processing Record 38 of Set 6 | Pakdasht\n",
      "Processing Record 39 of Set 6 | Hue\n",
      "Processing Record 40 of Set 6 | Nouadhibou\n",
      "Processing Record 41 of Set 6 | Fort Nelson\n",
      "Processing Record 42 of Set 6 | Warri\n",
      "Processing Record 43 of Set 6 | Tezu\n",
      "Processing Record 44 of Set 6 | Lujan\n",
      "Processing Record 45 of Set 6 | Ust-Maya\n",
      "Processing Record 46 of Set 6 | Listvyanskiy\n",
      "Processing Record 47 of Set 6 | Rengasdengklok\n",
      "Processing Record 48 of Set 6 | Ambon\n",
      "Processing Record 49 of Set 6 | Lincoln\n",
      "Processing Record 50 of Set 6 | Yanam\n",
      "Processing Record 1 of Set 7 | Igrim\n",
      "City not found. Skipping....\n",
      "Processing Record 2 of Set 7 | Narsaq\n",
      "Processing Record 3 of Set 7 | Vardo\n",
      "Processing Record 4 of Set 7 | Artvin\n",
      "Processing Record 5 of Set 7 | Moctezuma\n",
      "Processing Record 6 of Set 7 | Necochea\n",
      "Processing Record 7 of Set 7 | Chui\n",
      "Processing Record 8 of Set 7 | Saint-Augustin\n",
      "Processing Record 9 of Set 7 | Mwinilunga\n",
      "City not found. Skipping....\n",
      "Processing Record 10 of Set 7 | Canico\n",
      "Processing Record 11 of Set 7 | Hambantota\n",
      "Processing Record 12 of Set 7 | Bosaso\n",
      "Processing Record 13 of Set 7 | Altay\n",
      "Processing Record 14 of Set 7 | Yerbogachen\n",
      "Processing Record 15 of Set 7 | Khanbari\n",
      "Processing Record 16 of Set 7 | Moron\n",
      "Processing Record 17 of Set 7 | Luderitz\n",
      "Processing Record 18 of Set 7 | Susanville\n",
      "Processing Record 19 of Set 7 | Vila Franca do Campo\n",
      "Processing Record 20 of Set 7 | Celestun\n",
      "Processing Record 21 of Set 7 | Puri\n",
      "Processing Record 22 of Set 7 | Maumere\n",
      "Processing Record 23 of Set 7 | Ploemeur\n",
      "Processing Record 24 of Set 7 | Aklavik\n",
      "Processing Record 25 of Set 7 | Saint-Francois\n",
      "Processing Record 26 of Set 7 | Bud\n",
      "Processing Record 27 of Set 7 | Maningrida\n",
      "Processing Record 28 of Set 7 | Kushmurun\n",
      "Processing Record 29 of Set 7 | Beloha\n",
      "Processing Record 30 of Set 7 | Lavrentiya\n",
      "Processing Record 31 of Set 7 | Nianzishan\n",
      "Processing Record 32 of Set 7 | Riyadh\n",
      "Processing Record 33 of Set 7 | Karligan\n",
      "Processing Record 34 of Set 7 | Sangar\n",
      "Processing Record 35 of Set 7 | Aykhal\n",
      "Processing Record 36 of Set 7 | Barrhead\n",
      "City not found. Skipping....\n",
      "Processing Record 37 of Set 7 | Dickinson\n",
      "Processing Record 38 of Set 7 | Sao Filipe\n",
      "Processing Record 39 of Set 7 | Margate\n",
      "Processing Record 40 of Set 7 | Salamanca\n",
      "Processing Record 41 of Set 7 | Lamu\n",
      "Processing Record 42 of Set 7 | Lucapa\n",
      "Processing Record 43 of Set 7 | Coquimbo\n",
      "City not found. Skipping....\n",
      "Processing Record 44 of Set 7 | Xichang\n",
      "Processing Record 45 of Set 7 | Gardner\n",
      "Processing Record 46 of Set 7 | Petropavlovka\n",
      "Processing Record 47 of Set 7 | Along\n",
      "Processing Record 48 of Set 7 | Hellvik\n",
      "City not found. Skipping....\n",
      "Processing Record 49 of Set 7 | Barra\n",
      "Processing Record 50 of Set 7 | Huamachuco\n",
      "City not found. Skipping....\n",
      "Processing Record 1 of Set 8 | Mareeba\n",
      "Processing Record 2 of Set 8 | Oktyabrskoye\n",
      "Processing Record 3 of Set 8 | Manzanillo\n",
      "Processing Record 4 of Set 8 | Novyy Urgal\n",
      "Processing Record 5 of Set 8 | Chingirlau\n",
      "Processing Record 6 of Set 8 | Kenai\n",
      "Processing Record 7 of Set 8 | Krasnyy Kurgan\n",
      "Processing Record 8 of Set 8 | Klaksvik\n",
      "Processing Record 9 of Set 8 | Nabire\n",
      "Processing Record 10 of Set 8 | Arcos\n",
      "City not found. Skipping....\n",
      "Processing Record 11 of Set 8 | Calabozo\n",
      "Processing Record 12 of Set 8 | Zharkent\n",
      "Processing Record 13 of Set 8 | Tautira\n",
      "Processing Record 14 of Set 8 | Buala\n",
      "City not found. Skipping....\n",
      "City not found. Skipping....\n",
      "Processing Record 15 of Set 8 | Cap-aux-Meules\n",
      "Processing Record 16 of Set 8 | Labuhan\n",
      "City not found. Skipping....\n",
      "Processing Record 17 of Set 8 | Castro\n",
      "Processing Record 18 of Set 8 | Kainantu\n"
     ]
    },
    {
     "name": "stdout",
     "output_type": "stream",
     "text": [
      "Processing Record 19 of Set 8 | Sabha\n",
      "Processing Record 20 of Set 8 | Porto Walter\n",
      "Processing Record 21 of Set 8 | Kupino\n",
      "Processing Record 22 of Set 8 | Yuzhnyy\n",
      "City not found. Skipping....\n",
      "Processing Record 23 of Set 8 | Maceio\n",
      "Processing Record 24 of Set 8 | Nouakchott\n",
      "Processing Record 25 of Set 8 | Pochutla\n",
      "Processing Record 26 of Set 8 | Laurel\n",
      "Processing Record 27 of Set 8 | San Patricio\n",
      "Processing Record 28 of Set 8 | Okahandja\n",
      "Processing Record 29 of Set 8 | Leningradskiy\n",
      "Processing Record 30 of Set 8 | Arrondissement de Melun\n",
      "Processing Record 31 of Set 8 | Touros\n",
      "Processing Record 32 of Set 8 | Mehamn\n",
      "Processing Record 33 of Set 8 | Meulaboh\n",
      "Processing Record 34 of Set 8 | Amapa\n",
      "Processing Record 35 of Set 8 | Saint-Joseph\n",
      "City not found. Skipping....\n",
      "City not found. Skipping....\n",
      "Processing Record 36 of Set 8 | Solnechnyy\n",
      "Processing Record 37 of Set 8 | Naantali\n",
      "Processing Record 38 of Set 8 | Caravelas\n",
      "Processing Record 39 of Set 8 | Ridgecrest\n",
      "Processing Record 40 of Set 8 | Orlik\n",
      "Processing Record 41 of Set 8 | Erenhot\n",
      "Processing Record 42 of Set 8 | Port Hardy\n",
      "Processing Record 43 of Set 8 | Isiro\n",
      "Processing Record 44 of Set 8 | Richards Bay\n",
      "Processing Record 45 of Set 8 | Russell\n",
      "Processing Record 46 of Set 8 | Ponta Delgada\n",
      "City not found. Skipping....\n",
      "Processing Record 47 of Set 8 | Atar\n",
      "City not found. Skipping....\n",
      "Processing Record 48 of Set 8 | Verkhoyansk\n",
      "Processing Record 49 of Set 8 | Vestmanna\n",
      "Processing Record 50 of Set 8 | Uren\n",
      "Processing Record 1 of Set 9 | Elliot\n",
      "City not found. Skipping....\n",
      "Processing Record 2 of Set 9 | Paamiut\n",
      "Processing Record 3 of Set 9 | Bereznik\n",
      "Processing Record 4 of Set 9 | San Gavino Monreale\n",
      "Processing Record 5 of Set 9 | Hasaki\n",
      "Processing Record 6 of Set 9 | Daphne\n",
      "Processing Record 7 of Set 9 | Novopskov\n",
      "Processing Record 8 of Set 9 | Catuday\n",
      "Processing Record 9 of Set 9 | Genhe\n",
      "Processing Record 10 of Set 9 | Sur\n",
      "Processing Record 11 of Set 9 | Kharp\n",
      "Processing Record 12 of Set 9 | Pangnirtung\n",
      "City not found. Skipping....\n",
      "Processing Record 13 of Set 9 | Zhigansk\n",
      "Processing Record 14 of Set 9 | Alice Springs\n",
      "Processing Record 15 of Set 9 | Kawalu\n",
      "Processing Record 16 of Set 9 | Yagodnoye\n",
      "Processing Record 17 of Set 9 | Trincomalee\n",
      "Processing Record 18 of Set 9 | Oruzgan\n",
      "Processing Record 19 of Set 9 | Laguna\n",
      "Processing Record 20 of Set 9 | Agirish\n",
      "Processing Record 21 of Set 9 | Ironton\n",
      "Processing Record 22 of Set 9 | Henties Bay\n",
      "City not found. Skipping....\n",
      "Processing Record 23 of Set 9 | Januaria\n",
      "City not found. Skipping....\n",
      "City not found. Skipping....\n",
      "Processing Record 24 of Set 9 | Alta Floresta\n",
      "Processing Record 25 of Set 9 | Siquijor\n",
      "Processing Record 26 of Set 9 | Luwuk\n",
      "Processing Record 27 of Set 9 | Sovetskaya\n",
      "Processing Record 28 of Set 9 | Waterloo\n",
      "Processing Record 29 of Set 9 | Carauari\n",
      "Processing Record 30 of Set 9 | Fort Saint James\n",
      "Processing Record 31 of Set 9 | Karakol\n",
      "Processing Record 32 of Set 9 | Iwanai\n",
      "Processing Record 33 of Set 9 | College\n",
      "Processing Record 34 of Set 9 | Kargasok\n",
      "Processing Record 35 of Set 9 | Vanavara\n",
      "Processing Record 36 of Set 9 | Arrondissement de Vierzon\n",
      "Processing Record 37 of Set 9 | Uray\n",
      "Processing Record 38 of Set 9 | Kharan\n",
      "Processing Record 39 of Set 9 | Pandrup\n",
      "Processing Record 40 of Set 9 | Pisco\n",
      "Processing Record 41 of Set 9 | Hamilton\n",
      "Processing Record 42 of Set 9 | High Level\n",
      "Processing Record 43 of Set 9 | Bonavista\n",
      "Processing Record 44 of Set 9 | Ankang\n",
      "Processing Record 45 of Set 9 | Gazojak\n",
      "Processing Record 46 of Set 9 | Okha\n",
      "Processing Record 47 of Set 9 | Papetoai\n",
      "Processing Record 48 of Set 9 | Sabang\n",
      "Processing Record 49 of Set 9 | Husavik\n",
      "City not found. Skipping....\n",
      "Processing Record 50 of Set 9 | Hessisch Lichtenau\n",
      "Processing Record 1 of Set 10 | Bitlis\n",
      "Processing Record 2 of Set 10 | Lompoc\n",
      "Processing Record 3 of Set 10 | Katsuura\n",
      "Processing Record 4 of Set 10 | Bagdarin\n",
      "Processing Record 5 of Set 10 | Waingapu\n",
      "Processing Record 6 of Set 10 | Dawei\n",
      "City not found. Skipping....\n",
      "Processing Record 7 of Set 10 | Zdvinsk\n",
      "Processing Record 8 of Set 10 | Galle\n",
      "Processing Record 9 of Set 10 | Arona\n",
      "Processing Record 10 of Set 10 | Svetlogorsk\n",
      "Processing Record 11 of Set 10 | Sampit\n",
      "City not found. Skipping....\n",
      "Processing Record 12 of Set 10 | Savonlinna\n",
      "Processing Record 13 of Set 10 | Lazarev\n",
      "Processing Record 14 of Set 10 | Victoria\n",
      "Processing Record 15 of Set 10 | Half Moon Bay\n",
      "Processing Record 16 of Set 10 | Severo-Yeniseyskiy\n",
      "Processing Record 17 of Set 10 | Jablah\n",
      "Processing Record 18 of Set 10 | Ipixuna\n",
      "Processing Record 19 of Set 10 | Ibra\n",
      "Processing Record 20 of Set 10 | Santa Cruz de la Palma\n",
      "City not found. Skipping....\n",
      "City not found. Skipping....\n",
      "Processing Record 21 of Set 10 | Nyimba\n",
      "Processing Record 22 of Set 10 | Balsas\n",
      "Processing Record 23 of Set 10 | Kvarkeno\n",
      "Processing Record 24 of Set 10 | Tazmalt\n",
      "Processing Record 25 of Set 10 | Luanda\n",
      "Processing Record 26 of Set 10 | San Ramon\n",
      "City not found. Skipping....\n",
      "Processing Record 27 of Set 10 | Ugoofaaru\n",
      "Processing Record 28 of Set 10 | Ust-Nera\n",
      "Processing Record 29 of Set 10 | Hay River\n",
      "Processing Record 30 of Set 10 | Tofield\n",
      "Processing Record 31 of Set 10 | Progreso\n",
      "Processing Record 32 of Set 10 | Paris\n",
      "City not found. Skipping....\n",
      "City not found. Skipping....\n",
      "Processing Record 33 of Set 10 | Pucallpa\n",
      "Processing Record 34 of Set 10 | Neosho\n",
      "Processing Record 35 of Set 10 | Dmytrivka\n",
      "Processing Record 36 of Set 10 | Simbahan\n",
      "Processing Record 37 of Set 10 | Itacoatiara\n",
      "City not found. Skipping....\n",
      "Processing Record 38 of Set 10 | Qeshm\n",
      "Processing Record 39 of Set 10 | Turbat\n",
      "City not found. Skipping....\n",
      "Processing Record 40 of Set 10 | Verkhnyaya Inta\n",
      "Processing Record 41 of Set 10 | Mormugao\n",
      "City not found. Skipping....\n",
      "Processing Record 42 of Set 10 | Sesvete\n",
      "Processing Record 43 of Set 10 | Garoua\n",
      "Processing Record 44 of Set 10 | Atikokan\n",
      "Processing Record 45 of Set 10 | Atambua\n",
      "Processing Record 46 of Set 10 | Arman\n",
      "Processing Record 47 of Set 10 | Saint Lawrence\n",
      "Processing Record 48 of Set 10 | Bantou\n",
      "Processing Record 49 of Set 10 | Upernavik\n",
      "Processing Record 50 of Set 10 | Sosnovo-Ozerskoye\n",
      "Processing Record 1 of Set 11 | Yar-Sale\n",
      "Processing Record 2 of Set 11 | Torrelavega\n",
      "Processing Record 3 of Set 11 | Port Hedland\n",
      "Processing Record 4 of Set 11 | Sambava\n",
      "Processing Record 5 of Set 11 | Baculin\n",
      "Processing Record 6 of Set 11 | Hobyo\n",
      "Processing Record 7 of Set 11 | Mbandaka\n",
      "Processing Record 8 of Set 11 | Boa Esperanca\n",
      "City not found. Skipping....\n",
      "Processing Record 9 of Set 11 | Paredon\n",
      "Processing Record 10 of Set 11 | Tabuk\n",
      "Processing Record 11 of Set 11 | Wagar\n",
      "Processing Record 12 of Set 11 | Klyuchi\n",
      "Processing Record 13 of Set 11 | Sibolga\n",
      "Processing Record 14 of Set 11 | Honiara\n",
      "Processing Record 15 of Set 11 | Tuatapere\n",
      "Processing Record 16 of Set 11 | Vrangel\n",
      "Processing Record 17 of Set 11 | Pozo Colorado\n",
      "Processing Record 18 of Set 11 | Fuerte Olimpo\n",
      "Processing Record 19 of Set 11 | Mumford\n",
      "Processing Record 20 of Set 11 | Zhob\n",
      "Processing Record 21 of Set 11 | Yangshe\n",
      "Processing Record 22 of Set 11 | Lafiagi\n",
      "Processing Record 23 of Set 11 | Great Yarmouth\n",
      "City not found. Skipping....\n",
      "Processing Record 24 of Set 11 | Badhni Kalan\n",
      "Processing Record 25 of Set 11 | Zhalantun\n",
      "Processing Record 26 of Set 11 | Dauphin\n",
      "Processing Record 27 of Set 11 | Vila Velha\n",
      "Processing Record 28 of Set 11 | Mount Gambier\n",
      "Processing Record 29 of Set 11 | Kiunga\n",
      "Processing Record 30 of Set 11 | Pacific Grove\n",
      "Processing Record 31 of Set 11 | Thatta\n",
      "Processing Record 32 of Set 11 | Nizwa\n",
      "Processing Record 33 of Set 11 | Partur\n",
      "City not found. Skipping....\n",
      "City not found. Skipping....\n",
      "Processing Record 34 of Set 11 | Visavadar\n",
      "City not found. Skipping....\n",
      "City not found. Skipping....\n",
      "Processing Record 35 of Set 11 | Tiznit\n",
      "Processing Record 36 of Set 11 | Soma\n",
      "Processing Record 37 of Set 11 | Vanimo\n",
      "Processing Record 38 of Set 11 | Gbarnga\n",
      "Processing Record 39 of Set 11 | Prince George\n",
      "Processing Record 40 of Set 11 | Walvis Bay\n",
      "Processing Record 41 of Set 11 | Departamento de Maldonado\n",
      "Processing Record 42 of Set 11 | Ust'-Ilimsk\n",
      "Processing Record 43 of Set 11 | Dubbo\n",
      "Processing Record 44 of Set 11 | Amazar\n",
      "Processing Record 45 of Set 11 | Constitucion\n"
     ]
    },
    {
     "name": "stdout",
     "output_type": "stream",
     "text": [
      "Processing Record 46 of Set 11 | Kindu\n",
      "Processing Record 47 of Set 11 | Kon Tum\n",
      "Processing Record 48 of Set 11 | Vestmannaeyjar\n",
      "Processing Record 49 of Set 11 | Ingham\n",
      "Processing Record 50 of Set 11 | Sedro-Woolley\n",
      "Processing Record 1 of Set 12 | Batabano\n",
      "Processing Record 2 of Set 12 | Westport\n",
      "City not found. Skipping....\n",
      "Processing Record 3 of Set 12 | Nyanguge\n",
      "Processing Record 4 of Set 12 | Inhambane\n",
      "------------------------\n",
      " Data Retrieval Complete \n",
      "--------------------------\n"
     ]
    }
   ],
   "source": [
    " print(\"Begining Data Retrieval \\n-----------------------\")\n",
    "    \n",
    "for index, row in weather_df.iterrows():\n",
    "    \n",
    "    query_url = url + row[\"City\"] + ',' + row[\"Country\"] + \"&appid=\" + weather_api_key \n",
    "    \n",
    "    response = requests.get(query_url)\n",
    "    response_json = response.json()\n",
    "    \n",
    "    try:\n",
    "        print(f'Processing Record {count} of Set {count_set} | {response_json[\"name\"]}')\n",
    "        \n",
    "        weather_df.loc[index, \"Cloudiness\"] = response_json[\"clouds\"][\"all\"]\n",
    "        weather_df.loc[index, \"Date\"] = response_json[\"dt\"]\n",
    "        weather_df.loc[index, \"Humidity\"] = response_json[\"main\"][\"humidity\"]\n",
    "        weather_df.loc[index, \"Lat\"] = response_json[\"coord\"][\"lat\"]\n",
    "        weather_df.loc[index, \"Lng\"] = response_json[\"coord\"][\"lon\"]\n",
    "        weather_df.loc[index, \"Max Temp\"] = response_json[\"main\"][\"temp_max\"]\n",
    "        weather_df.loc[index, \"Wind Speed\"] = response_json[\"wind\"][\"speed\"]\n",
    "        \n",
    "        count += 1\n",
    "              \n",
    "    except (KeyError,):\n",
    "          print(\"City not found. Skipping....\")\n",
    "              \n",
    "    if count == 51:\n",
    "        count = 1\n",
    "        count_set += 1\n",
    "        time.sleep(60)\n",
    "    \n",
    "print(\"------------------------\\n Data Retrieval Complete \\n--------------------------\")\n"
   ]
  },
  {
   "cell_type": "markdown",
   "metadata": {},
   "source": [
    "### Convert Raw Data to DataFrame\n",
    "* Export the city data into a .csv.\n",
    "* Display the DataFrame"
   ]
  },
  {
   "cell_type": "code",
   "execution_count": 6,
   "metadata": {},
   "outputs": [],
   "source": [
    "# output to csv\n",
    "weather_df[\"Max Temp\"] = weather_df[\"Max Temp\"].replace('',np.nan)\n",
    "weather_df.dropna(axis=0, how=\"any\", inplace=True)\n",
    "\n",
    "weather_df.to_csv(\"output_data/weather_data.csv\")"
   ]
  },
  {
   "cell_type": "code",
   "execution_count": 7,
   "metadata": {},
   "outputs": [
    {
     "data": {
      "text/plain": [
       "City          554\n",
       "Cloudiness    554\n",
       "Country       554\n",
       "Date          554\n",
       "Humidity      554\n",
       "Lat           554\n",
       "Lng           554\n",
       "Max Temp      554\n",
       "Wind Speed    554\n",
       "dtype: int64"
      ]
     },
     "execution_count": 7,
     "metadata": {},
     "output_type": "execute_result"
    }
   ],
   "source": [
    "weather_df.count()"
   ]
  },
  {
   "cell_type": "code",
   "execution_count": 8,
   "metadata": {},
   "outputs": [
    {
     "data": {
      "text/html": [
       "<div>\n",
       "<style scoped>\n",
       "    .dataframe tbody tr th:only-of-type {\n",
       "        vertical-align: middle;\n",
       "    }\n",
       "\n",
       "    .dataframe tbody tr th {\n",
       "        vertical-align: top;\n",
       "    }\n",
       "\n",
       "    .dataframe thead th {\n",
       "        text-align: right;\n",
       "    }\n",
       "</style>\n",
       "<table border=\"1\" class=\"dataframe\">\n",
       "  <thead>\n",
       "    <tr style=\"text-align: right;\">\n",
       "      <th></th>\n",
       "      <th>City</th>\n",
       "      <th>Cloudiness</th>\n",
       "      <th>Country</th>\n",
       "      <th>Date</th>\n",
       "      <th>Humidity</th>\n",
       "      <th>Lat</th>\n",
       "      <th>Lng</th>\n",
       "      <th>Max Temp</th>\n",
       "      <th>Wind Speed</th>\n",
       "    </tr>\n",
       "  </thead>\n",
       "  <tbody>\n",
       "    <tr>\n",
       "      <td>0</td>\n",
       "      <td>albany</td>\n",
       "      <td>75</td>\n",
       "      <td>AU</td>\n",
       "      <td>1580358347</td>\n",
       "      <td>93</td>\n",
       "      <td>-35.02</td>\n",
       "      <td>117.89</td>\n",
       "      <td>59.00</td>\n",
       "      <td>12.75</td>\n",
       "    </tr>\n",
       "    <tr>\n",
       "      <td>1</td>\n",
       "      <td>broome</td>\n",
       "      <td>40</td>\n",
       "      <td>AU</td>\n",
       "      <td>1580358457</td>\n",
       "      <td>63</td>\n",
       "      <td>-17.97</td>\n",
       "      <td>122.23</td>\n",
       "      <td>91.40</td>\n",
       "      <td>13.87</td>\n",
       "    </tr>\n",
       "    <tr>\n",
       "      <td>2</td>\n",
       "      <td>rikitea</td>\n",
       "      <td>100</td>\n",
       "      <td>PF</td>\n",
       "      <td>1580358606</td>\n",
       "      <td>78</td>\n",
       "      <td>-23.12</td>\n",
       "      <td>-134.97</td>\n",
       "      <td>78.46</td>\n",
       "      <td>14.7</td>\n",
       "    </tr>\n",
       "    <tr>\n",
       "      <td>3</td>\n",
       "      <td>butaritari</td>\n",
       "      <td>80</td>\n",
       "      <td>KI</td>\n",
       "      <td>1580358606</td>\n",
       "      <td>73</td>\n",
       "      <td>3.07</td>\n",
       "      <td>172.79</td>\n",
       "      <td>85.08</td>\n",
       "      <td>7.85</td>\n",
       "    </tr>\n",
       "    <tr>\n",
       "      <td>4</td>\n",
       "      <td>atuona</td>\n",
       "      <td>2</td>\n",
       "      <td>PF</td>\n",
       "      <td>1580358607</td>\n",
       "      <td>79</td>\n",
       "      <td>-9.8</td>\n",
       "      <td>-139.03</td>\n",
       "      <td>80.71</td>\n",
       "      <td>14.7</td>\n",
       "    </tr>\n",
       "  </tbody>\n",
       "</table>\n",
       "</div>"
      ],
      "text/plain": [
       "         City Cloudiness Country        Date Humidity    Lat     Lng  \\\n",
       "0      albany         75      AU  1580358347       93 -35.02  117.89   \n",
       "1      broome         40      AU  1580358457       63 -17.97  122.23   \n",
       "2     rikitea        100      PF  1580358606       78 -23.12 -134.97   \n",
       "3  butaritari         80      KI  1580358606       73   3.07  172.79   \n",
       "4      atuona          2      PF  1580358607       79   -9.8 -139.03   \n",
       "\n",
       "   Max Temp Wind Speed  \n",
       "0     59.00      12.75  \n",
       "1     91.40      13.87  \n",
       "2     78.46       14.7  \n",
       "3     85.08       7.85  \n",
       "4     80.71       14.7  "
      ]
     },
     "execution_count": 8,
     "metadata": {},
     "output_type": "execute_result"
    }
   ],
   "source": [
    "weather_df.head()"
   ]
  },
  {
   "cell_type": "markdown",
   "metadata": {},
   "source": [
    "### Plotting the Data\n",
    "* Use proper labeling of the plots using plot titles (including date of analysis) and axes labels.\n",
    "* Save the plotted figures as .pngs."
   ]
  },
  {
   "cell_type": "markdown",
   "metadata": {},
   "source": [
    "#### Latitude vs. Temperature Plot"
   ]
  },
  {
   "cell_type": "code",
   "execution_count": 9,
   "metadata": {
    "scrolled": true
   },
   "outputs": [
    {
     "data": {
      "image/png": "[encoded data removed]",
      "text/plain": [
       "<Figure size 432x288 with 1 Axes>"
      ]
     },
     "metadata": {
      "needs_background": "light"
     },
     "output_type": "display_data"
    }
   ],
   "source": [
    "x_values = weather_df['Lat']\n",
    "y_values = weather_df['Max Temp']\n",
    "plt.scatter(x_values, y_values, marker='o', facecolors='blue', edgecolors=\"red\")\n",
    "plt.title(\"City Latitude vs. Max Temperature\")\n",
    "plt.ylabel(\"Max Temperature (F)\")\n",
    "plt.xlabel(\"Latitude\")\n",
    "plt.grid(True)\n",
    "plt.savefig(\"output_data/lat vs temp plot.png\")\n",
    "plt.show()"
   ]
  },
  {
   "cell_type": "markdown",
   "metadata": {},
   "source": [
    "## Lat Vs Temp\n",
    "\n",
    "The plot above is trying to establish a relationship between a city's latitude and the temperature of the area."
   ]
  },
  {
   "cell_type": "markdown",
   "metadata": {},
   "source": [
    "#### Latitude vs. Humidity Plot"
   ]
  },
  {
   "cell_type": "code",
   "execution_count": 10,
   "metadata": {},
   "outputs": [
    {
     "data": {
      "image/png": "[encoded data removed]",
      "text/plain": [
       "<Figure size 432x288 with 1 Axes>"
      ]
     },
     "metadata": {
      "needs_background": "light"
     },
     "output_type": "display_data"
    }
   ],
   "source": [
    "plt.scatter(weather_df['Lat'], weather_df['Humidity'], marker='o',facecolors='blue', edgecolors=\"red\")\n",
    "plt.title(\"City Latitude vs. Humidity\")\n",
    "plt.ylabel(\"Humidity (%)\")\n",
    "plt.xlabel(\"Latitude\")\n",
    "plt.grid(True)\n",
    "plt.savefig(\"output_data/lat vs humidity plot.png\")\n",
    "plt.show()"
   ]
  },
  {
   "cell_type": "markdown",
   "metadata": {},
   "source": [
    "## Lat vs Humidity\n",
    "This plot tries to establish a relationship between latitude and humidity of a city."
   ]
  },
  {
   "cell_type": "markdown",
   "metadata": {},
   "source": [
    "#### Latitude vs. Cloudiness Plot"
   ]
  },
  {
   "cell_type": "code",
   "execution_count": 11,
   "metadata": {},
   "outputs": [
    {
     "data": {
      "image/png": "[encoded data removed]",
      "text/plain": [
       "<Figure size 432x288 with 1 Axes>"
      ]
     },
     "metadata": {
      "needs_background": "light"
     },
     "output_type": "display_data"
    }
   ],
   "source": [
    "plt.scatter(weather_df['Lat'], weather_df['Cloudiness'], marker='o',facecolors='blue', edgecolors=\"red\")\n",
    "\n",
    "plt.title(\"City Latitude vs. Cloudiness\")\n",
    "plt.ylabel(\"Cloudiness (%)\")\n",
    "plt.xlabel(\"Latitude\")\n",
    "plt.grid(True)\n",
    "plt.savefig(\"output_data/lat vs cloudiness plot.png\")\n",
    "plt.show()"
   ]
  },
  {
   "cell_type": "markdown",
   "metadata": {},
   "source": [
    "## Latitude vs cloudiness\n",
    "Trying to establish a relationship between Latitude and cloudiness of a city."
   ]
  },
  {
   "cell_type": "markdown",
   "metadata": {},
   "source": [
    "#### Latitude vs. Wind Speed Plot"
   ]
  },
  {
   "cell_type": "code",
   "execution_count": 12,
   "metadata": {},
   "outputs": [
    {
     "data": {
      "image/png": "[encoded data removed]",
      "text/plain": [
       "<Figure size 432x288 with 1 Axes>"
      ]
     },
     "metadata": {
      "needs_background": "light"
     },
     "output_type": "display_data"
    }
   ],
   "source": [
    "plt.scatter(weather_df['Lat'], weather_df['Wind Speed'], marker='o',facecolors='blue', edgecolors=\"red\")\n",
    "\n",
    "plt.title(\"City Latitude vs. Wind Speed\")\n",
    "plt.ylabel(\"Wind Speed (mph)\")\n",
    "plt.xlabel(\"Latitude\")\n",
    "plt.grid(True)\n",
    "plt.savefig(\"output_data/lat vs wind speed plot.png\")\n",
    "plt.show()"
   ]
  },
  {
   "cell_type": "markdown",
   "metadata": {},
   "source": [
    "## Lat vs Wind speed\n",
    "How is wind speed affected by latitude of a city?"
   ]
  },
  {
   "cell_type": "markdown",
   "metadata": {},
   "source": [
    "## Linear Regression"
   ]
  },
  {
   "cell_type": "code",
   "execution_count": 13,
   "metadata": {},
   "outputs": [
    {
     "data": {
      "text/html": [
       "<div>\n",
       "<style scoped>\n",
       "    .dataframe tbody tr th:only-of-type {\n",
       "        vertical-align: middle;\n",
       "    }\n",
       "\n",
       "    .dataframe tbody tr th {\n",
       "        vertical-align: top;\n",
       "    }\n",
       "\n",
       "    .dataframe thead th {\n",
       "        text-align: right;\n",
       "    }\n",
       "</style>\n",
       "<table border=\"1\" class=\"dataframe\">\n",
       "  <thead>\n",
       "    <tr style=\"text-align: right;\">\n",
       "      <th></th>\n",
       "      <th>City</th>\n",
       "      <th>Cloudiness</th>\n",
       "      <th>Country</th>\n",
       "      <th>Date</th>\n",
       "      <th>Humidity</th>\n",
       "      <th>Lat</th>\n",
       "      <th>Lng</th>\n",
       "      <th>Max Temp</th>\n",
       "      <th>Wind Speed</th>\n",
       "      <th>Hemisphere</th>\n",
       "    </tr>\n",
       "  </thead>\n",
       "  <tbody>\n",
       "    <tr>\n",
       "      <td>0</td>\n",
       "      <td>albany</td>\n",
       "      <td>75</td>\n",
       "      <td>AU</td>\n",
       "      <td>1580358347</td>\n",
       "      <td>93</td>\n",
       "      <td>-35.02</td>\n",
       "      <td>117.89</td>\n",
       "      <td>59.00</td>\n",
       "      <td>12.75</td>\n",
       "      <td>Southern Hemisphere</td>\n",
       "    </tr>\n",
       "    <tr>\n",
       "      <td>1</td>\n",
       "      <td>broome</td>\n",
       "      <td>40</td>\n",
       "      <td>AU</td>\n",
       "      <td>1580358457</td>\n",
       "      <td>63</td>\n",
       "      <td>-17.97</td>\n",
       "      <td>122.23</td>\n",
       "      <td>91.40</td>\n",
       "      <td>13.87</td>\n",
       "      <td>Southern Hemisphere</td>\n",
       "    </tr>\n",
       "    <tr>\n",
       "      <td>2</td>\n",
       "      <td>rikitea</td>\n",
       "      <td>100</td>\n",
       "      <td>PF</td>\n",
       "      <td>1580358606</td>\n",
       "      <td>78</td>\n",
       "      <td>-23.12</td>\n",
       "      <td>-134.97</td>\n",
       "      <td>78.46</td>\n",
       "      <td>14.7</td>\n",
       "      <td>Southern Hemisphere</td>\n",
       "    </tr>\n",
       "    <tr>\n",
       "      <td>3</td>\n",
       "      <td>butaritari</td>\n",
       "      <td>80</td>\n",
       "      <td>KI</td>\n",
       "      <td>1580358606</td>\n",
       "      <td>73</td>\n",
       "      <td>3.07</td>\n",
       "      <td>172.79</td>\n",
       "      <td>85.08</td>\n",
       "      <td>7.85</td>\n",
       "      <td>Nothern Hemisphere</td>\n",
       "    </tr>\n",
       "    <tr>\n",
       "      <td>4</td>\n",
       "      <td>atuona</td>\n",
       "      <td>2</td>\n",
       "      <td>PF</td>\n",
       "      <td>1580358607</td>\n",
       "      <td>79</td>\n",
       "      <td>-9.8</td>\n",
       "      <td>-139.03</td>\n",
       "      <td>80.71</td>\n",
       "      <td>14.7</td>\n",
       "      <td>Southern Hemisphere</td>\n",
       "    </tr>\n",
       "  </tbody>\n",
       "</table>\n",
       "</div>"
      ],
      "text/plain": [
       "         City Cloudiness Country        Date Humidity    Lat     Lng  \\\n",
       "0      albany         75      AU  1580358347       93 -35.02  117.89   \n",
       "1      broome         40      AU  1580358457       63 -17.97  122.23   \n",
       "2     rikitea        100      PF  1580358606       78 -23.12 -134.97   \n",
       "3  butaritari         80      KI  1580358606       73   3.07  172.79   \n",
       "4      atuona          2      PF  1580358607       79   -9.8 -139.03   \n",
       "\n",
       "   Max Temp Wind Speed           Hemisphere  \n",
       "0     59.00      12.75  Southern Hemisphere  \n",
       "1     91.40      13.87  Southern Hemisphere  \n",
       "2     78.46       14.7  Southern Hemisphere  \n",
       "3     85.08       7.85   Nothern Hemisphere  \n",
       "4     80.71       14.7  Southern Hemisphere  "
      ]
     },
     "execution_count": 13,
     "metadata": {},
     "output_type": "execute_result"
    }
   ],
   "source": [
    "# Create Northern and Southern Hemisphere DataFrames\n",
    "weather_df['Hemisphere'] = np.where(weather_df['Lat'] >= 0,'Nothern Hemisphere', 'Southern Hemisphere')\n",
    "weather_df.head()"
   ]
  },
  {
   "cell_type": "code",
   "execution_count": 14,
   "metadata": {},
   "outputs": [
    {
     "data": {
      "text/html": [
       "<div>\n",
       "<style scoped>\n",
       "    .dataframe tbody tr th:only-of-type {\n",
       "        vertical-align: middle;\n",
       "    }\n",
       "\n",
       "    .dataframe tbody tr th {\n",
       "        vertical-align: top;\n",
       "    }\n",
       "\n",
       "    .dataframe thead th {\n",
       "        text-align: right;\n",
       "    }\n",
       "</style>\n",
       "<table border=\"1\" class=\"dataframe\">\n",
       "  <thead>\n",
       "    <tr style=\"text-align: right;\">\n",
       "      <th></th>\n",
       "      <th>City</th>\n",
       "      <th>Cloudiness</th>\n",
       "      <th>Country</th>\n",
       "      <th>Date</th>\n",
       "      <th>Humidity</th>\n",
       "      <th>Lat</th>\n",
       "      <th>Lng</th>\n",
       "      <th>Max Temp</th>\n",
       "      <th>Wind Speed</th>\n",
       "      <th>Hemisphere</th>\n",
       "    </tr>\n",
       "  </thead>\n",
       "  <tbody>\n",
       "    <tr>\n",
       "      <td>3</td>\n",
       "      <td>butaritari</td>\n",
       "      <td>80</td>\n",
       "      <td>KI</td>\n",
       "      <td>1580358606</td>\n",
       "      <td>73</td>\n",
       "      <td>3.07</td>\n",
       "      <td>172.79</td>\n",
       "      <td>85.08</td>\n",
       "      <td>7.85</td>\n",
       "      <td>Nothern Hemisphere</td>\n",
       "    </tr>\n",
       "    <tr>\n",
       "      <td>6</td>\n",
       "      <td>saint george</td>\n",
       "      <td>40</td>\n",
       "      <td>BM</td>\n",
       "      <td>1580358340</td>\n",
       "      <td>72</td>\n",
       "      <td>32.38</td>\n",
       "      <td>-64.68</td>\n",
       "      <td>61.00</td>\n",
       "      <td>14.99</td>\n",
       "      <td>Nothern Hemisphere</td>\n",
       "    </tr>\n",
       "    <tr>\n",
       "      <td>7</td>\n",
       "      <td>cherskiy</td>\n",
       "      <td>99</td>\n",
       "      <td>RU</td>\n",
       "      <td>1580358607</td>\n",
       "      <td>97</td>\n",
       "      <td>68.75</td>\n",
       "      <td>161.3</td>\n",
       "      <td>-24.21</td>\n",
       "      <td>9.06</td>\n",
       "      <td>Nothern Hemisphere</td>\n",
       "    </tr>\n",
       "    <tr>\n",
       "      <td>8</td>\n",
       "      <td>maria chiquita</td>\n",
       "      <td>21</td>\n",
       "      <td>PA</td>\n",
       "      <td>1580358607</td>\n",
       "      <td>78</td>\n",
       "      <td>9.44</td>\n",
       "      <td>-79.76</td>\n",
       "      <td>80.60</td>\n",
       "      <td>6.93</td>\n",
       "      <td>Nothern Hemisphere</td>\n",
       "    </tr>\n",
       "    <tr>\n",
       "      <td>9</td>\n",
       "      <td>hilo</td>\n",
       "      <td>90</td>\n",
       "      <td>US</td>\n",
       "      <td>1580358607</td>\n",
       "      <td>69</td>\n",
       "      <td>19.73</td>\n",
       "      <td>-155.09</td>\n",
       "      <td>77.00</td>\n",
       "      <td>6.93</td>\n",
       "      <td>Nothern Hemisphere</td>\n",
       "    </tr>\n",
       "  </tbody>\n",
       "</table>\n",
       "</div>"
      ],
      "text/plain": [
       "             City Cloudiness Country        Date Humidity    Lat     Lng  \\\n",
       "3      butaritari         80      KI  1580358606       73   3.07  172.79   \n",
       "6    saint george         40      BM  1580358340       72  32.38  -64.68   \n",
       "7        cherskiy         99      RU  1580358607       97  68.75   161.3   \n",
       "8  maria chiquita         21      PA  1580358607       78   9.44  -79.76   \n",
       "9            hilo         90      US  1580358607       69  19.73 -155.09   \n",
       "\n",
       "   Max Temp Wind Speed          Hemisphere  \n",
       "3     85.08       7.85  Nothern Hemisphere  \n",
       "6     61.00      14.99  Nothern Hemisphere  \n",
       "7    -24.21       9.06  Nothern Hemisphere  \n",
       "8     80.60       6.93  Nothern Hemisphere  \n",
       "9     77.00       6.93  Nothern Hemisphere  "
      ]
     },
     "execution_count": 14,
     "metadata": {},
     "output_type": "execute_result"
    }
   ],
   "source": [
    "nothern_df = weather_df.loc[weather_df['Hemisphere'] == 'Nothern Hemisphere']\n",
    "nothern_df.head()"
   ]
  },
  {
   "cell_type": "code",
   "execution_count": 15,
   "metadata": {},
   "outputs": [
    {
     "data": {
      "text/html": [
       "<div>\n",
       "<style scoped>\n",
       "    .dataframe tbody tr th:only-of-type {\n",
       "        vertical-align: middle;\n",
       "    }\n",
       "\n",
       "    .dataframe tbody tr th {\n",
       "        vertical-align: top;\n",
       "    }\n",
       "\n",
       "    .dataframe thead th {\n",
       "        text-align: right;\n",
       "    }\n",
       "</style>\n",
       "<table border=\"1\" class=\"dataframe\">\n",
       "  <thead>\n",
       "    <tr style=\"text-align: right;\">\n",
       "      <th></th>\n",
       "      <th>City</th>\n",
       "      <th>Cloudiness</th>\n",
       "      <th>Country</th>\n",
       "      <th>Date</th>\n",
       "      <th>Humidity</th>\n",
       "      <th>Lat</th>\n",
       "      <th>Lng</th>\n",
       "      <th>Max Temp</th>\n",
       "      <th>Wind Speed</th>\n",
       "      <th>Hemisphere</th>\n",
       "    </tr>\n",
       "  </thead>\n",
       "  <tbody>\n",
       "    <tr>\n",
       "      <td>0</td>\n",
       "      <td>albany</td>\n",
       "      <td>75</td>\n",
       "      <td>AU</td>\n",
       "      <td>1580358347</td>\n",
       "      <td>93</td>\n",
       "      <td>-35.02</td>\n",
       "      <td>117.89</td>\n",
       "      <td>59.00</td>\n",
       "      <td>12.75</td>\n",
       "      <td>Southern Hemisphere</td>\n",
       "    </tr>\n",
       "    <tr>\n",
       "      <td>1</td>\n",
       "      <td>broome</td>\n",
       "      <td>40</td>\n",
       "      <td>AU</td>\n",
       "      <td>1580358457</td>\n",
       "      <td>63</td>\n",
       "      <td>-17.97</td>\n",
       "      <td>122.23</td>\n",
       "      <td>91.40</td>\n",
       "      <td>13.87</td>\n",
       "      <td>Southern Hemisphere</td>\n",
       "    </tr>\n",
       "    <tr>\n",
       "      <td>2</td>\n",
       "      <td>rikitea</td>\n",
       "      <td>100</td>\n",
       "      <td>PF</td>\n",
       "      <td>1580358606</td>\n",
       "      <td>78</td>\n",
       "      <td>-23.12</td>\n",
       "      <td>-134.97</td>\n",
       "      <td>78.46</td>\n",
       "      <td>14.7</td>\n",
       "      <td>Southern Hemisphere</td>\n",
       "    </tr>\n",
       "    <tr>\n",
       "      <td>4</td>\n",
       "      <td>atuona</td>\n",
       "      <td>2</td>\n",
       "      <td>PF</td>\n",
       "      <td>1580358607</td>\n",
       "      <td>79</td>\n",
       "      <td>-9.8</td>\n",
       "      <td>-139.03</td>\n",
       "      <td>80.71</td>\n",
       "      <td>14.7</td>\n",
       "      <td>Southern Hemisphere</td>\n",
       "    </tr>\n",
       "    <tr>\n",
       "      <td>5</td>\n",
       "      <td>carnarvon</td>\n",
       "      <td>90</td>\n",
       "      <td>AU</td>\n",
       "      <td>1580358607</td>\n",
       "      <td>69</td>\n",
       "      <td>-24.87</td>\n",
       "      <td>113.63</td>\n",
       "      <td>78.80</td>\n",
       "      <td>21.92</td>\n",
       "      <td>Southern Hemisphere</td>\n",
       "    </tr>\n",
       "  </tbody>\n",
       "</table>\n",
       "</div>"
      ],
      "text/plain": [
       "        City Cloudiness Country        Date Humidity    Lat     Lng  Max Temp  \\\n",
       "0     albany         75      AU  1580358347       93 -35.02  117.89     59.00   \n",
       "1     broome         40      AU  1580358457       63 -17.97  122.23     91.40   \n",
       "2    rikitea        100      PF  1580358606       78 -23.12 -134.97     78.46   \n",
       "4     atuona          2      PF  1580358607       79   -9.8 -139.03     80.71   \n",
       "5  carnarvon         90      AU  1580358607       69 -24.87  113.63     78.80   \n",
       "\n",
       "  Wind Speed           Hemisphere  \n",
       "0      12.75  Southern Hemisphere  \n",
       "1      13.87  Southern Hemisphere  \n",
       "2       14.7  Southern Hemisphere  \n",
       "4       14.7  Southern Hemisphere  \n",
       "5      21.92  Southern Hemisphere  "
      ]
     },
     "execution_count": 15,
     "metadata": {},
     "output_type": "execute_result"
    }
   ],
   "source": [
    "southern_df = weather_df.loc[weather_df['Hemisphere'] == 'Southern Hemisphere']\n",
    "southern_df.head()"
   ]
  },
  {
   "cell_type": "markdown",
   "metadata": {},
   "source": [
    "####  Northern Hemisphere - Max Temp vs. Latitude Linear Regression"
   ]
  },
  {
   "cell_type": "code",
   "execution_count": 16,
   "metadata": {
    "scrolled": true
   },
   "outputs": [
    {
     "name": "stdout",
     "output_type": "stream",
     "text": [
      "The r-squared is: -0.886124059322151\n"
     ]
    },
    {
     "data": {
      "image/png": "[encoded data removed]",
      "text/plain": [
       "<Figure size 432x288 with 1 Axes>"
      ]
     },
     "metadata": {
      "needs_background": "light"
     },
     "output_type": "display_data"
    }
   ],
   "source": [
    "x_values = nothern_df['Lat'].astype(int)\n",
    "y_values = nothern_df['Max Temp'].astype(int)\n",
    "(slope, intercept, rvalue, pvalue, stderr) = linregress(x_values, y_values)\n",
    "regress_values = x_values * slope + intercept\n",
    "line_eq = \"y = \" + str(round(slope,2)) + \"x + \" + str(round(intercept,2))\n",
    "plt.scatter(x_values,y_values)\n",
    "plt.plot(x_values,regress_values,\"r-\")\n",
    "plt.annotate(line_eq,(6,10),fontsize=15,color=\"red\")\n",
    "plt.xlabel('Latitude')\n",
    "plt.ylabel('Max Temp')\n",
    "print(f\"The r-squared is: {rvalue}\")\n",
    "plt.savefig('output_data/Linear Regression/Nothern Hem_Max Temp vs Lat.png')\n",
    "plt.show()"
   ]
  },
  {
   "cell_type": "markdown",
   "metadata": {},
   "source": [
    "## Nothern Hem Max Temp Vs Lat\n",
    "No relationship can be established between temperature and latitude of the cities in the nothern hemisphere."
   ]
  },
  {
   "cell_type": "markdown",
   "metadata": {},
   "source": [
    "####  Southern Hemisphere - Max Temp vs. Latitude Linear Regression"
   ]
  },
  {
   "cell_type": "code",
   "execution_count": 17,
   "metadata": {},
   "outputs": [
    {
     "name": "stdout",
     "output_type": "stream",
     "text": [
      "The r-squared is: 0.3306706909965599\n"
     ]
    },
    {
     "data": {
      "image/png": "[encoded data removed]",
      "text/plain": [
       "<Figure size 432x288 with 1 Axes>"
      ]
     },
     "metadata": {
      "needs_background": "light"
     },
     "output_type": "display_data"
    }
   ],
   "source": [
    "x_values = southern_df['Lat'].astype(int)\n",
    "y_values = southern_df['Max Temp'].astype(int)\n",
    "(slope, intercept, rvalue, pvalue, stderr) = linregress(x_values, y_values)\n",
    "regress_values = x_values * slope + intercept\n",
    "line_eq = \"y = \" + str(round(slope,2)) + \"x + \" + str(round(intercept,2))\n",
    "plt.scatter(x_values,y_values)\n",
    "plt.plot(x_values,regress_values,\"r-\")\n",
    "plt.annotate(line_eq,(-30,60),fontsize=15,color=\"red\")\n",
    "plt.xlabel('Latitude')\n",
    "plt.ylabel('Max Temp')\n",
    "print(f\"The r-squared is: {rvalue}\")\n",
    "plt.savefig('output_data/Linear Regression/Southern Hem_Max Temp vs Lat.png')\n",
    "plt.show()"
   ]
  },
  {
   "cell_type": "markdown",
   "metadata": {},
   "source": [
    "## Sothern Hem Temp vs Lat\n",
    "There is a very weak relationship established between the max temp and latitude in the southern hemisphere.\n",
    "However we cannot fully rely on this data."
   ]
  },
  {
   "cell_type": "markdown",
   "metadata": {},
   "source": [
    "####  Northern Hemisphere - Humidity (%) vs. Latitude Linear Regression"
   ]
  },
  {
   "cell_type": "code",
   "execution_count": 18,
   "metadata": {},
   "outputs": [
    {
     "name": "stdout",
     "output_type": "stream",
     "text": [
      "The r-squared is: 0.4089538252462631\n"
     ]
    },
    {
     "data": {
      "image/png": "[encoded data removed]",
      "text/plain": [
       "<Figure size 432x288 with 1 Axes>"
      ]
     },
     "metadata": {
      "needs_background": "light"
     },
     "output_type": "display_data"
    }
   ],
   "source": [
    "x_values = nothern_df['Lat'].astype(int)\n",
    "y_values = nothern_df['Humidity'].astype(int)\n",
    "(slope, intercept, rvalue, pvalue, stderr) = linregress(x_values, y_values)\n",
    "regress_values = x_values * slope + intercept\n",
    "line_eq = \"y = \" + str(round(slope,2)) + \"x + \" + str(round(intercept,2))\n",
    "plt.scatter(x_values,y_values)\n",
    "plt.plot(x_values,regress_values,\"r-\")\n",
    "plt.annotate(line_eq,(30,50),fontsize=15,color=\"red\")\n",
    "plt.xlabel('Latitude')\n",
    "plt.ylabel('Humidity')\n",
    "print(f\"The r-squared is: {rvalue}\")\n",
    "plt.savefig('output_data/Linear Regression/Nothern Hem_Humidity(%) vs Lat.png')\n",
    "plt.show()"
   ]
  },
  {
   "cell_type": "markdown",
   "metadata": {},
   "source": [
    "## Nothern Hemisphere Humidity vs Lat\n",
    "The relationship established between the nothern hemisphere's humidity vs latitude is too weak to be relied on."
   ]
  },
  {
   "cell_type": "markdown",
   "metadata": {},
   "source": [
    "####  Southern Hemisphere - Humidity (%) vs. Latitude Linear Regression"
   ]
  },
  {
   "cell_type": "code",
   "execution_count": 19,
   "metadata": {},
   "outputs": [
    {
     "name": "stdout",
     "output_type": "stream",
     "text": [
      "The r-squared is: 0.24407190855983663\n"
     ]
    },
    {
     "data": {
      "image/png": "[encoded data removed]",
      "text/plain": [
       "<Figure size 432x288 with 1 Axes>"
      ]
     },
     "metadata": {
      "needs_background": "light"
     },
     "output_type": "display_data"
    }
   ],
   "source": [
    "x_values = southern_df['Lat'].astype(int)\n",
    "y_values = southern_df['Humidity'].astype(int)\n",
    "(slope, intercept, rvalue, pvalue, stderr) = linregress(x_values, y_values)\n",
    "regress_values = x_values * slope + intercept\n",
    "line_eq = \"y = \" + str(round(slope,2)) + \"x + \" + str(round(intercept,2))\n",
    "plt.scatter(x_values,y_values)\n",
    "plt.plot(x_values,regress_values,\"r-\")\n",
    "plt.annotate(line_eq,(-35,90),fontsize=15,color=\"red\")\n",
    "plt.xlabel('Latitude')\n",
    "plt.ylabel('Humidity')\n",
    "print(f\"The r-squared is: {rvalue}\")\n",
    "plt.savefig('output_data/Linear Regression/Southern Hem_Humidity(%) vs Lat.png')\n",
    "plt.show()"
   ]
  },
  {
   "cell_type": "markdown",
   "metadata": {},
   "source": [
    "## Southern Hemisphere Humidity vs Lat\n",
    "No relationship can be established."
   ]
  },
  {
   "cell_type": "markdown",
   "metadata": {},
   "source": [
    "####  Northern Hemisphere - Cloudiness (%) vs. Latitude Linear Regression"
   ]
  },
  {
   "cell_type": "code",
   "execution_count": 20,
   "metadata": {},
   "outputs": [
    {
     "name": "stdout",
     "output_type": "stream",
     "text": [
      "The r-squared is: 0.17760751031130348\n"
     ]
    },
    {
     "data": {
      "image/png": "[encoded data removed]",
      "text/plain": [
       "<Figure size 432x288 with 1 Axes>"
      ]
     },
     "metadata": {
      "needs_background": "light"
     },
     "output_type": "display_data"
    }
   ],
   "source": [
    "x_values = nothern_df['Lat'].astype(int)\n",
    "y_values = nothern_df['Cloudiness'].astype(int)\n",
    "(slope, intercept, rvalue, pvalue, stderr) = linregress(x_values, y_values)\n",
    "regress_values = x_values * slope + intercept\n",
    "line_eq = \"y = \" + str(round(slope,2)) + \"x + \" + str(round(intercept,2))\n",
    "plt.scatter(x_values,y_values)\n",
    "plt.plot(x_values,regress_values,\"r-\")\n",
    "plt.annotate(line_eq,(40,62),fontsize=15,color=\"red\")\n",
    "plt.xlabel('Latitude')\n",
    "plt.ylabel('Cloudiness')\n",
    "print(f\"The r-squared is: {rvalue}\")\n",
    "plt.savefig('output_data/Linear Regression/Nothern Hem_Cloudiness(%) vs Lat.png')\n",
    "plt.show()"
   ]
  },
  {
   "cell_type": "markdown",
   "metadata": {},
   "source": [
    "## Nothern hemisphere cloudiness vs lat\n",
    "A weak relationship can be established between cloudiness in the nothern hemisphere and the latitude although this is not totally reliable."
   ]
  },
  {
   "cell_type": "markdown",
   "metadata": {},
   "source": [
    "####  Southern Hemisphere - Cloudiness (%) vs. Latitude Linear Regression"
   ]
  },
  {
   "cell_type": "code",
   "execution_count": 21,
   "metadata": {},
   "outputs": [
    {
     "name": "stdout",
     "output_type": "stream",
     "text": [
      "The r-squared is: 0.37202910138647954\n"
     ]
    },
    {
     "data": {
      "image/png": "[encoded data removed]",
      "text/plain": [
       "<Figure size 432x288 with 1 Axes>"
      ]
     },
     "metadata": {
      "needs_background": "light"
     },
     "output_type": "display_data"
    }
   ],
   "source": [
    "x_values = southern_df['Lat'].astype(int)\n",
    "y_values = southern_df['Cloudiness'].astype(int)\n",
    "(slope, intercept, rvalue, pvalue, stderr) = linregress(x_values, y_values)\n",
    "regress_values = x_values * slope + intercept\n",
    "line_eq = \"y = \" + str(round(slope,2)) + \"x + \" + str(round(intercept,2))\n",
    "plt.scatter(x_values,y_values)\n",
    "plt.plot(x_values,regress_values,\"r-\")\n",
    "plt.annotate(line_eq,(-30,39),fontsize=15,color=\"red\")\n",
    "plt.xlabel('Latitude')\n",
    "plt.ylabel('Cloudiness')\n",
    "print(f\"The r-squared is: {rvalue}\")\n",
    "plt.savefig('output_data/Linear Regression/Southern Hem_Cloudiness (%) vs Lat.png')\n",
    "plt.show()"
   ]
  },
  {
   "cell_type": "markdown",
   "metadata": {},
   "source": [
    "## Southern Hemisphere cloudiness vs lat\n",
    "no relationship established between the cloudiness and the latitude in the southern hemisphere."
   ]
  },
  {
   "cell_type": "markdown",
   "metadata": {},
   "source": [
    "####  Northern Hemisphere - Wind Speed (mph) vs. Latitude Linear Regression"
   ]
  },
  {
   "cell_type": "code",
   "execution_count": 22,
   "metadata": {},
   "outputs": [
    {
     "name": "stdout",
     "output_type": "stream",
     "text": [
      "The r-squared is: 0.061858173361927726\n"
     ]
    },
    {
     "data": {
      "image/png": "[encoded data removed]",
      "text/plain": [
       "<Figure size 432x288 with 1 Axes>"
      ]
     },
     "metadata": {
      "needs_background": "light"
     },
     "output_type": "display_data"
    }
   ],
   "source": [
    "x_values = nothern_df['Lat'].astype(int)\n",
    "y_values = nothern_df['Wind Speed'].astype(int)\n",
    "(slope, intercept, rvalue, pvalue, stderr) = linregress(x_values, y_values)\n",
    "regress_values = x_values * slope + intercept\n",
    "line_eq = \"y = \" + str(round(slope,2)) + \"x + \" + str(round(intercept,2))\n",
    "plt.scatter(x_values,y_values)\n",
    "plt.plot(x_values,regress_values,\"r-\")\n",
    "plt.annotate(line_eq,(20,6),fontsize=15,color=\"red\")\n",
    "plt.xlabel('Latitude')\n",
    "plt.ylabel('Wind Speed')\n",
    "print(f\"The r-squared is: {rvalue}\")\n",
    "plt.savefig('output_data/Linear Regression/Nothern Hem_Wind Speed (mph) vs Lat.png')\n",
    "plt.show()"
   ]
  },
  {
   "cell_type": "markdown",
   "metadata": {},
   "source": [
    "## Nothern Hemisphere wind speed vs latitude\n",
    "no relationship established between the wind speed and the latitude in the nothern hemisphere."
   ]
  },
  {
   "cell_type": "markdown",
   "metadata": {},
   "source": [
    "####  Southern Hemisphere - Wind Speed (mph) vs. Latitude Linear Regression"
   ]
  },
  {
   "cell_type": "code",
   "execution_count": 23,
   "metadata": {},
   "outputs": [
    {
     "name": "stdout",
     "output_type": "stream",
     "text": [
      "The r-squared is: -0.32734129405562207\n"
     ]
    },
    {
     "data": {
      "image/png": "[encoded data removed]",
      "text/plain": [
       "<Figure size 432x288 with 1 Axes>"
      ]
     },
     "metadata": {
      "needs_background": "light"
     },
     "output_type": "display_data"
    }
   ],
   "source": [
    "x_values = southern_df['Lat'].astype(int)\n",
    "y_values = southern_df['Wind Speed'].astype(int)\n",
    "(slope, intercept, rvalue, pvalue, stderr) = linregress(x_values, y_values)\n",
    "regress_values = x_values * slope + intercept\n",
    "line_eq = \"y = \" + str(round(slope,2)) + \"x + \" + str(round(intercept,2))\n",
    "plt.scatter(x_values,y_values)\n",
    "plt.plot(x_values,regress_values,\"r-\")\n",
    "plt.annotate(line_eq,(-30,7),fontsize=15,color=\"red\")\n",
    "plt.xlabel('Latitude')\n",
    "plt.ylabel('Wind Speed')\n",
    "print(f\"The r-squared is: {rvalue}\")\n",
    "plt.savefig('output_data/Linear Regression/Southern Hem_Wind Speed (mph) vs Lat.png')\n",
    "plt.show()"
   ]
  },
  {
   "cell_type": "markdown",
   "metadata": {},
   "source": [
    "## Southern hemisphere wind speed vs lat\n",
    "Absolutely no relationship established between the wind speed and the latitude in the southern hemisphere."
   ]
  },
  {
   "cell_type": "markdown",
   "metadata": {},
   "source": [
    "# Analysis\n",
    "\n",
    "No relationship can be established between latitude and the wind speed analyzed in this project. The relationships are too weak to give a clear indication of a trend.\n",
    "\n",
    "Looking at the humidity and latitude of the nothern hemisphere, we can see a relationship almost being formed but it is too weak.\n",
    "\n",
    "The humidity in the southern hemisphere shows it becoming more humid as you go up the latitude."
   ]
  }
 ],
 "metadata": {
  "anaconda-cloud": {},
  "kernel_info": {
   "name": "python3"
  },
  "kernelspec": {
   "display_name": "Python 3",
   "language": "python",
   "name": "python3"
  },
  "language_info": {
   "codemirror_mode": {
    "name": "ipython",
    "version": 3
   },
   "file_extension": ".py",
   "mimetype": "text/x-python",
   "name": "python",
   "nbconvert_exporter": "python",
   "pygments_lexer": "ipython3",
   "version": "3.7.4"
  },
  "latex_envs": {
   "LaTeX_envs_menu_present": true,
   "autoclose": false,
   "autocomplete": true,
   "bibliofile": "biblio.bib",
   "cite_by": "apalike",
   "current_citInitial": 1,
   "eqLabelWithNumbers": true,
   "eqNumInitial": 1,
   "hotkeys": {
    "equation": "Ctrl-E",
    "itemize": "Ctrl-I"
   },
   "labels_anchors": false,
   "latex_user_defs": false,
   "report_style_numbering": false,
   "user_envs_cfg": false
  },
  "nteract": {
   "version": "0.12.3"
  }
 },
 "nbformat": 4,
 "nbformat_minor": 2
}

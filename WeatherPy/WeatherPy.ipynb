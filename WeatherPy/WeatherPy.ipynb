{
 "cells": [
  {
   "cell_type": "markdown",
   "metadata": {},
   "source": [
    "# WeatherPy\n",
    "----\n",
    "\n",
    "#### Note\n",
    "* Instructions have been included for each segment. You do not have to follow them exactly, but they are included to help you think through the steps."
   ]
  },
  {
   "cell_type": "code",
   "execution_count": 1,
   "metadata": {},
   "outputs": [
    {
     "name": "stdout",
     "output_type": "stream",
     "text": [
      "Requirement already satisfied: citipy in c:\\users\\alvin\\anaconda3\\lib\\site-packages (0.0.5)\n",
      "Requirement already satisfied: kdtree>=0.12 in c:\\users\\alvin\\anaconda3\\lib\\site-packages (from citipy) (0.16)\n",
      "Note: you may need to restart the kernel to use updated packages.\n"
     ]
    }
   ],
   "source": [
    "pip install citipy"
   ]
  },
  {
   "cell_type": "code",
   "execution_count": 20,
   "metadata": {
    "scrolled": true
   },
   "outputs": [],
   "source": [
    "# Dependencies and Setup\n",
    "import matplotlib.pyplot as plt\n",
    "import pandas as pd\n",
    "import numpy as np\n",
    "import requests\n",
    "import time\n",
    "from scipy.stats import linregress\n",
    "\n",
    "# Import API key\n",
    "from api_keys import weather_api_key\n",
    "\n",
    "# Incorporated citipy to determine city based on latitude and longitude\n",
    "from citipy import citipy\n",
    "\n",
    "# Output File (CSV)\n",
    "output_data_file = \"output_data/cities.csv\"\n",
    "\n",
    "# Range of latitudes and longitudes\n",
    "lat_range = (-90, 90)\n",
    "lng_range = (-180, 180)"
   ]
  },
  {
   "cell_type": "markdown",
   "metadata": {},
   "source": [
    "## Generate Cities List"
   ]
  },
  {
   "cell_type": "code",
   "execution_count": 21,
   "metadata": {},
   "outputs": [
    {
     "data": {
      "text/plain": [
       "20"
      ]
     },
     "execution_count": 21,
     "metadata": {},
     "output_type": "execute_result"
    }
   ],
   "source": [
    "# List for holding lat_lngs and cities\n",
    "lat_lngs = []\n",
    "cities = []\n",
    "countries = []\n",
    "\n",
    "# Create a set of random lat and lng combinations\n",
    "lats = np.random.uniform(low=-90.000, high=90.000, size=20)\n",
    "lngs = np.random.uniform(low=-180.000, high=180.000, size=20)\n",
    "lat_lngs = zip(lats, lngs)\n",
    "\n",
    "# Identify nearest city for each lat, lng combination\n",
    "for lat_lng in lat_lngs:\n",
    "    city = citipy.nearest_city(lat_lng[0], lat_lng[1]).city_name\n",
    "    country = citipy.nearest_city(lat_lng[0], lat_lng[1]).country_code\n",
    "    # If the city is unique, then add it to a our cities list\n",
    "    if city not in cities:\n",
    "        cities.append(city)\n",
    "        countries.append(country.upper())\n",
    "\n",
    "# Print the city count to confirm sufficient count\n",
    "len(cities)"
   ]
  },
  {
   "cell_type": "code",
   "execution_count": 22,
   "metadata": {},
   "outputs": [
    {
     "data": {
      "text/plain": [
       "['taloqan',\n",
       " 'butaritari',\n",
       " 'barentsburg',\n",
       " 'teguldet',\n",
       " 'karasjok',\n",
       " 'ushuaia',\n",
       " 'umm lajj',\n",
       " 'cabedelo',\n",
       " 'mazagao',\n",
       " 'tasiilaq',\n",
       " 'chernyakhovsk',\n",
       " 'maragogi',\n",
       " 'hilo',\n",
       " 'vaini',\n",
       " 'barrow',\n",
       " 'mar del plata',\n",
       " 'sao jose da coroa grande',\n",
       " 'albany',\n",
       " 'kavieng',\n",
       " 'cidreira']"
      ]
     },
     "execution_count": 22,
     "metadata": {},
     "output_type": "execute_result"
    }
   ],
   "source": [
    "cities"
   ]
  },
  {
   "cell_type": "code",
   "execution_count": 23,
   "metadata": {},
   "outputs": [
    {
     "data": {
      "text/html": [
       "<div>\n",
       "<style scoped>\n",
       "    .dataframe tbody tr th:only-of-type {\n",
       "        vertical-align: middle;\n",
       "    }\n",
       "\n",
       "    .dataframe tbody tr th {\n",
       "        vertical-align: top;\n",
       "    }\n",
       "\n",
       "    .dataframe thead th {\n",
       "        text-align: right;\n",
       "    }\n",
       "</style>\n",
       "<table border=\"1\" class=\"dataframe\">\n",
       "  <thead>\n",
       "    <tr style=\"text-align: right;\">\n",
       "      <th></th>\n",
       "      <th>City</th>\n",
       "      <th>Cloudiness</th>\n",
       "      <th>Country</th>\n",
       "      <th>Date</th>\n",
       "      <th>Humidity</th>\n",
       "      <th>Lat</th>\n",
       "      <th>Lng</th>\n",
       "      <th>Max Temp</th>\n",
       "      <th>Wind Speed</th>\n",
       "    </tr>\n",
       "  </thead>\n",
       "  <tbody>\n",
       "    <tr>\n",
       "      <td>0</td>\n",
       "      <td>taloqan</td>\n",
       "      <td></td>\n",
       "      <td>AF</td>\n",
       "      <td></td>\n",
       "      <td></td>\n",
       "      <td></td>\n",
       "      <td></td>\n",
       "      <td></td>\n",
       "      <td></td>\n",
       "    </tr>\n",
       "    <tr>\n",
       "      <td>1</td>\n",
       "      <td>butaritari</td>\n",
       "      <td></td>\n",
       "      <td>KI</td>\n",
       "      <td></td>\n",
       "      <td></td>\n",
       "      <td></td>\n",
       "      <td></td>\n",
       "      <td></td>\n",
       "      <td></td>\n",
       "    </tr>\n",
       "    <tr>\n",
       "      <td>2</td>\n",
       "      <td>barentsburg</td>\n",
       "      <td></td>\n",
       "      <td>SJ</td>\n",
       "      <td></td>\n",
       "      <td></td>\n",
       "      <td></td>\n",
       "      <td></td>\n",
       "      <td></td>\n",
       "      <td></td>\n",
       "    </tr>\n",
       "    <tr>\n",
       "      <td>3</td>\n",
       "      <td>teguldet</td>\n",
       "      <td></td>\n",
       "      <td>RU</td>\n",
       "      <td></td>\n",
       "      <td></td>\n",
       "      <td></td>\n",
       "      <td></td>\n",
       "      <td></td>\n",
       "      <td></td>\n",
       "    </tr>\n",
       "    <tr>\n",
       "      <td>4</td>\n",
       "      <td>karasjok</td>\n",
       "      <td></td>\n",
       "      <td>NO</td>\n",
       "      <td></td>\n",
       "      <td></td>\n",
       "      <td></td>\n",
       "      <td></td>\n",
       "      <td></td>\n",
       "      <td></td>\n",
       "    </tr>\n",
       "    <tr>\n",
       "      <td>5</td>\n",
       "      <td>ushuaia</td>\n",
       "      <td></td>\n",
       "      <td>AR</td>\n",
       "      <td></td>\n",
       "      <td></td>\n",
       "      <td></td>\n",
       "      <td></td>\n",
       "      <td></td>\n",
       "      <td></td>\n",
       "    </tr>\n",
       "    <tr>\n",
       "      <td>6</td>\n",
       "      <td>umm lajj</td>\n",
       "      <td></td>\n",
       "      <td>SA</td>\n",
       "      <td></td>\n",
       "      <td></td>\n",
       "      <td></td>\n",
       "      <td></td>\n",
       "      <td></td>\n",
       "      <td></td>\n",
       "    </tr>\n",
       "    <tr>\n",
       "      <td>7</td>\n",
       "      <td>cabedelo</td>\n",
       "      <td></td>\n",
       "      <td>BR</td>\n",
       "      <td></td>\n",
       "      <td></td>\n",
       "      <td></td>\n",
       "      <td></td>\n",
       "      <td></td>\n",
       "      <td></td>\n",
       "    </tr>\n",
       "    <tr>\n",
       "      <td>8</td>\n",
       "      <td>mazagao</td>\n",
       "      <td></td>\n",
       "      <td>BR</td>\n",
       "      <td></td>\n",
       "      <td></td>\n",
       "      <td></td>\n",
       "      <td></td>\n",
       "      <td></td>\n",
       "      <td></td>\n",
       "    </tr>\n",
       "    <tr>\n",
       "      <td>9</td>\n",
       "      <td>tasiilaq</td>\n",
       "      <td></td>\n",
       "      <td>GL</td>\n",
       "      <td></td>\n",
       "      <td></td>\n",
       "      <td></td>\n",
       "      <td></td>\n",
       "      <td></td>\n",
       "      <td></td>\n",
       "    </tr>\n",
       "  </tbody>\n",
       "</table>\n",
       "</div>"
      ],
      "text/plain": [
       "          City Cloudiness Country Date Humidity Lat Lng Max Temp Wind Speed\n",
       "0      taloqan                 AF                                          \n",
       "1   butaritari                 KI                                          \n",
       "2  barentsburg                 SJ                                          \n",
       "3     teguldet                 RU                                          \n",
       "4     karasjok                 NO                                          \n",
       "5      ushuaia                 AR                                          \n",
       "6     umm lajj                 SA                                          \n",
       "7     cabedelo                 BR                                          \n",
       "8      mazagao                 BR                                          \n",
       "9     tasiilaq                 GL                                          "
      ]
     },
     "execution_count": 23,
     "metadata": {},
     "output_type": "execute_result"
    }
   ],
   "source": [
    "weather_df = pd.DataFrame({\"City\":cities, \"Cloudiness\":'', \"Country\":countries, \"Date\":'', \"Humidity\":'',\n",
    "                           \"Lat\":'', \"Lng\":'', \"Max Temp\":'', \"Wind Speed\":''})\n",
    "weather_df.head(10)"
   ]
  },
  {
   "cell_type": "code",
   "execution_count": 24,
   "metadata": {},
   "outputs": [],
   "source": [
    "url = 'http://api.openweathermap.org/data/2.5/weather?units=imperial&q='\n",
    "count = 1\n",
    "count_set = 1"
   ]
  },
  {
   "cell_type": "markdown",
   "metadata": {},
   "source": [
    "### Perform API Calls\n",
    "* Perform a weather check on each city using a series of successive API calls.\n",
    "* Include a print log of each city as it'sbeing processed (with the city number and city name).\n"
   ]
  },
  {
   "cell_type": "code",
   "execution_count": 25,
   "metadata": {},
   "outputs": [
    {
     "name": "stdout",
     "output_type": "stream",
     "text": [
      "Begining Data Retrieval \n",
      "-----------------------\n",
      "Processing Record 1 of Set 1 | Taloqan\n",
      "Processing Record 2 of Set 1 | Butaritari\n",
      "City not found. Skipping....\n",
      "Processing Record 3 of Set 1 | Teguldet\n",
      "Processing Record 4 of Set 1 | Karasjok\n",
      "Processing Record 5 of Set 1 | Ushuaia\n",
      "Processing Record 6 of Set 1 | Umm Lajj\n",
      "Processing Record 7 of Set 1 | Cabedelo\n",
      "Processing Record 8 of Set 1 | Mazagao\n",
      "Processing Record 9 of Set 1 | Tasiilaq\n",
      "Processing Record 10 of Set 1 | Chernyakhovsk\n",
      "Processing Record 11 of Set 1 | Maragogi\n",
      "Processing Record 12 of Set 1 | Hilo\n",
      "Processing Record 13 of Set 1 | Vaini\n",
      "Processing Record 14 of Set 1 | Barrow\n",
      "Processing Record 15 of Set 1 | Mar del Plata\n",
      "Processing Record 16 of Set 1 | Sao Jose da Coroa Grande\n",
      "Processing Record 17 of Set 1 | Albany\n",
      "Processing Record 18 of Set 1 | Kavieng\n",
      "Processing Record 19 of Set 1 | Cidreira\n",
      "------------------------\n",
      " Data Retrieval Complete \n",
      "--------------------------\n"
     ]
    }
   ],
   "source": [
    " print(\"Begining Data Retrieval \\n-----------------------\")\n",
    "    \n",
    "for index, row in weather_df.iterrows():\n",
    "    \n",
    "    query_url = url + row[\"City\"] + ',' + row[\"Country\"] + \"&appid=\" + weather_api_key \n",
    "    \n",
    "    response = requests.get(query_url)\n",
    "    response_json = response.json()\n",
    "    \n",
    "    try:\n",
    "        print(f'Processing Record {count} of Set {count_set} | {response_json[\"name\"]}')\n",
    "        \n",
    "        weather_df.loc[index, \"Cloudiness\"] = response_json[\"clouds\"][\"all\"]\n",
    "        weather_df.loc[index, \"Date\"] = response_json[\"dt\"]\n",
    "        weather_df.loc[index, \"Humidity\"] = response_json[\"main\"][\"humidity\"]\n",
    "        weather_df.loc[index, \"Lat\"] = response_json[\"coord\"][\"lat\"]\n",
    "        weather_df.loc[index, \"Lng\"] = response_json[\"coord\"][\"lon\"]\n",
    "        weather_df.loc[index, \"Max Temp\"] = response_json[\"main\"][\"temp_max\"]\n",
    "        weather_df.loc[index, \"Wind Speed\"] = response_json[\"wind\"][\"speed\"]\n",
    "              \n",
    "        count += 1 \n",
    "        \n",
    "    except (KeyError,):\n",
    "          print(\"City not found. Skipping....\")\n",
    "    \n",
    "print(\"------------------------\\n Data Retrieval Complete \\n--------------------------\")\n"
   ]
  },
  {
   "cell_type": "markdown",
   "metadata": {},
   "source": [
    "### Convert Raw Data to DataFrame\n",
    "* Export the city data into a .csv.\n",
    "* Display the DataFrame"
   ]
  },
  {
   "cell_type": "code",
   "execution_count": 26,
   "metadata": {},
   "outputs": [],
   "source": [
    "# output to csv\n",
    "weather_df[\"Max Temp\"] = weather_df[\"Max Temp\"].replace('',np.nan)\n",
    "weather_df.dropna(axis=0, how=\"any\", inplace=True)\n",
    "\n",
    "weather_df.to_csv(\"output_data/weather_data.csv\")"
   ]
  },
  {
   "cell_type": "code",
   "execution_count": 27,
   "metadata": {},
   "outputs": [
    {
     "data": {
      "text/plain": [
       "City          19\n",
       "Cloudiness    19\n",
       "Country       19\n",
       "Date          19\n",
       "Humidity      19\n",
       "Lat           19\n",
       "Lng           19\n",
       "Max Temp      19\n",
       "Wind Speed    19\n",
       "dtype: int64"
      ]
     },
     "execution_count": 27,
     "metadata": {},
     "output_type": "execute_result"
    }
   ],
   "source": [
    "weather_df.count()"
   ]
  },
  {
   "cell_type": "code",
   "execution_count": 28,
   "metadata": {},
   "outputs": [
    {
     "data": {
      "text/html": [
       "<div>\n",
       "<style scoped>\n",
       "    .dataframe tbody tr th:only-of-type {\n",
       "        vertical-align: middle;\n",
       "    }\n",
       "\n",
       "    .dataframe tbody tr th {\n",
       "        vertical-align: top;\n",
       "    }\n",
       "\n",
       "    .dataframe thead th {\n",
       "        text-align: right;\n",
       "    }\n",
       "</style>\n",
       "<table border=\"1\" class=\"dataframe\">\n",
       "  <thead>\n",
       "    <tr style=\"text-align: right;\">\n",
       "      <th></th>\n",
       "      <th>City</th>\n",
       "      <th>Cloudiness</th>\n",
       "      <th>Country</th>\n",
       "      <th>Date</th>\n",
       "      <th>Humidity</th>\n",
       "      <th>Lat</th>\n",
       "      <th>Lng</th>\n",
       "      <th>Max Temp</th>\n",
       "      <th>Wind Speed</th>\n",
       "    </tr>\n",
       "  </thead>\n",
       "  <tbody>\n",
       "    <tr>\n",
       "      <td>0</td>\n",
       "      <td>taloqan</td>\n",
       "      <td>100</td>\n",
       "      <td>AF</td>\n",
       "      <td>1580185041</td>\n",
       "      <td>91</td>\n",
       "      <td>36.74</td>\n",
       "      <td>69.53</td>\n",
       "      <td>25.30</td>\n",
       "      <td>2.35</td>\n",
       "    </tr>\n",
       "    <tr>\n",
       "      <td>1</td>\n",
       "      <td>butaritari</td>\n",
       "      <td>95</td>\n",
       "      <td>KI</td>\n",
       "      <td>1580185041</td>\n",
       "      <td>78</td>\n",
       "      <td>3.07</td>\n",
       "      <td>172.79</td>\n",
       "      <td>84.47</td>\n",
       "      <td>23.11</td>\n",
       "    </tr>\n",
       "    <tr>\n",
       "      <td>3</td>\n",
       "      <td>teguldet</td>\n",
       "      <td>100</td>\n",
       "      <td>RU</td>\n",
       "      <td>1580185041</td>\n",
       "      <td>87</td>\n",
       "      <td>57.31</td>\n",
       "      <td>88.17</td>\n",
       "      <td>26.20</td>\n",
       "      <td>11.77</td>\n",
       "    </tr>\n",
       "    <tr>\n",
       "      <td>4</td>\n",
       "      <td>karasjok</td>\n",
       "      <td>37</td>\n",
       "      <td>NO</td>\n",
       "      <td>1580185041</td>\n",
       "      <td>91</td>\n",
       "      <td>69.47</td>\n",
       "      <td>25.51</td>\n",
       "      <td>-5.80</td>\n",
       "      <td>35.57</td>\n",
       "    </tr>\n",
       "    <tr>\n",
       "      <td>5</td>\n",
       "      <td>ushuaia</td>\n",
       "      <td>75</td>\n",
       "      <td>AR</td>\n",
       "      <td>1580184794</td>\n",
       "      <td>93</td>\n",
       "      <td>-54.8</td>\n",
       "      <td>-68.3</td>\n",
       "      <td>46.40</td>\n",
       "      <td>6.93</td>\n",
       "    </tr>\n",
       "    <tr>\n",
       "      <td>6</td>\n",
       "      <td>umm lajj</td>\n",
       "      <td>0</td>\n",
       "      <td>SA</td>\n",
       "      <td>1580185042</td>\n",
       "      <td>18</td>\n",
       "      <td>25.02</td>\n",
       "      <td>37.27</td>\n",
       "      <td>55.54</td>\n",
       "      <td>1.59</td>\n",
       "    </tr>\n",
       "    <tr>\n",
       "      <td>7</td>\n",
       "      <td>cabedelo</td>\n",
       "      <td>95</td>\n",
       "      <td>BR</td>\n",
       "      <td>1580185012</td>\n",
       "      <td>83</td>\n",
       "      <td>-6.98</td>\n",
       "      <td>-34.83</td>\n",
       "      <td>80.60</td>\n",
       "      <td>4.7</td>\n",
       "    </tr>\n",
       "    <tr>\n",
       "      <td>8</td>\n",
       "      <td>mazagao</td>\n",
       "      <td>100</td>\n",
       "      <td>BR</td>\n",
       "      <td>1580185042</td>\n",
       "      <td>100</td>\n",
       "      <td>-0.12</td>\n",
       "      <td>-51.29</td>\n",
       "      <td>75.20</td>\n",
       "      <td>2.24</td>\n",
       "    </tr>\n",
       "    <tr>\n",
       "      <td>9</td>\n",
       "      <td>tasiilaq</td>\n",
       "      <td>100</td>\n",
       "      <td>GL</td>\n",
       "      <td>1580185042</td>\n",
       "      <td>68</td>\n",
       "      <td>65.61</td>\n",
       "      <td>-37.64</td>\n",
       "      <td>26.60</td>\n",
       "      <td>4.7</td>\n",
       "    </tr>\n",
       "    <tr>\n",
       "      <td>10</td>\n",
       "      <td>chernyakhovsk</td>\n",
       "      <td>83</td>\n",
       "      <td>RU</td>\n",
       "      <td>1580185042</td>\n",
       "      <td>93</td>\n",
       "      <td>54.63</td>\n",
       "      <td>21.82</td>\n",
       "      <td>33.48</td>\n",
       "      <td>8.84</td>\n",
       "    </tr>\n",
       "    <tr>\n",
       "      <td>11</td>\n",
       "      <td>maragogi</td>\n",
       "      <td>37</td>\n",
       "      <td>BR</td>\n",
       "      <td>1580185042</td>\n",
       "      <td>80</td>\n",
       "      <td>-9.01</td>\n",
       "      <td>-35.22</td>\n",
       "      <td>80.78</td>\n",
       "      <td>10.8</td>\n",
       "    </tr>\n",
       "    <tr>\n",
       "      <td>12</td>\n",
       "      <td>hilo</td>\n",
       "      <td>90</td>\n",
       "      <td>US</td>\n",
       "      <td>1580184847</td>\n",
       "      <td>65</td>\n",
       "      <td>19.73</td>\n",
       "      <td>-155.09</td>\n",
       "      <td>78.80</td>\n",
       "      <td>11.41</td>\n",
       "    </tr>\n",
       "    <tr>\n",
       "      <td>13</td>\n",
       "      <td>vaini</td>\n",
       "      <td>75</td>\n",
       "      <td>TO</td>\n",
       "      <td>1580185043</td>\n",
       "      <td>88</td>\n",
       "      <td>-21.2</td>\n",
       "      <td>-175.2</td>\n",
       "      <td>80.60</td>\n",
       "      <td>4.7</td>\n",
       "    </tr>\n",
       "    <tr>\n",
       "      <td>14</td>\n",
       "      <td>barrow</td>\n",
       "      <td>90</td>\n",
       "      <td>US</td>\n",
       "      <td>1580185043</td>\n",
       "      <td>74</td>\n",
       "      <td>71.29</td>\n",
       "      <td>-156.79</td>\n",
       "      <td>-23.80</td>\n",
       "      <td>5.82</td>\n",
       "    </tr>\n",
       "    <tr>\n",
       "      <td>15</td>\n",
       "      <td>mar del plata</td>\n",
       "      <td>0</td>\n",
       "      <td>AR</td>\n",
       "      <td>1580184857</td>\n",
       "      <td>76</td>\n",
       "      <td>-38</td>\n",
       "      <td>-57.56</td>\n",
       "      <td>60.01</td>\n",
       "      <td>4.7</td>\n",
       "    </tr>\n",
       "    <tr>\n",
       "      <td>16</td>\n",
       "      <td>sao jose da coroa grande</td>\n",
       "      <td>37</td>\n",
       "      <td>BR</td>\n",
       "      <td>1580185043</td>\n",
       "      <td>80</td>\n",
       "      <td>-8.9</td>\n",
       "      <td>-35.15</td>\n",
       "      <td>80.78</td>\n",
       "      <td>10.8</td>\n",
       "    </tr>\n",
       "    <tr>\n",
       "      <td>17</td>\n",
       "      <td>albany</td>\n",
       "      <td>20</td>\n",
       "      <td>AU</td>\n",
       "      <td>1580185043</td>\n",
       "      <td>61</td>\n",
       "      <td>-35.02</td>\n",
       "      <td>117.89</td>\n",
       "      <td>80.60</td>\n",
       "      <td>5.82</td>\n",
       "    </tr>\n",
       "    <tr>\n",
       "      <td>18</td>\n",
       "      <td>kavieng</td>\n",
       "      <td>6</td>\n",
       "      <td>PG</td>\n",
       "      <td>1580185043</td>\n",
       "      <td>73</td>\n",
       "      <td>-2.57</td>\n",
       "      <td>150.8</td>\n",
       "      <td>85.06</td>\n",
       "      <td>10.16</td>\n",
       "    </tr>\n",
       "    <tr>\n",
       "      <td>19</td>\n",
       "      <td>cidreira</td>\n",
       "      <td>77</td>\n",
       "      <td>BR</td>\n",
       "      <td>1580184939</td>\n",
       "      <td>77</td>\n",
       "      <td>-30.18</td>\n",
       "      <td>-50.21</td>\n",
       "      <td>74.30</td>\n",
       "      <td>12.68</td>\n",
       "    </tr>\n",
       "  </tbody>\n",
       "</table>\n",
       "</div>"
      ],
      "text/plain": [
       "                        City Cloudiness Country        Date Humidity    Lat  \\\n",
       "0                    taloqan        100      AF  1580185041       91  36.74   \n",
       "1                 butaritari         95      KI  1580185041       78   3.07   \n",
       "3                   teguldet        100      RU  1580185041       87  57.31   \n",
       "4                   karasjok         37      NO  1580185041       91  69.47   \n",
       "5                    ushuaia         75      AR  1580184794       93  -54.8   \n",
       "6                   umm lajj          0      SA  1580185042       18  25.02   \n",
       "7                   cabedelo         95      BR  1580185012       83  -6.98   \n",
       "8                    mazagao        100      BR  1580185042      100  -0.12   \n",
       "9                   tasiilaq        100      GL  1580185042       68  65.61   \n",
       "10             chernyakhovsk         83      RU  1580185042       93  54.63   \n",
       "11                  maragogi         37      BR  1580185042       80  -9.01   \n",
       "12                      hilo         90      US  1580184847       65  19.73   \n",
       "13                     vaini         75      TO  1580185043       88  -21.2   \n",
       "14                    barrow         90      US  1580185043       74  71.29   \n",
       "15             mar del plata          0      AR  1580184857       76    -38   \n",
       "16  sao jose da coroa grande         37      BR  1580185043       80   -8.9   \n",
       "17                    albany         20      AU  1580185043       61 -35.02   \n",
       "18                   kavieng          6      PG  1580185043       73  -2.57   \n",
       "19                  cidreira         77      BR  1580184939       77 -30.18   \n",
       "\n",
       "       Lng  Max Temp Wind Speed  \n",
       "0    69.53     25.30       2.35  \n",
       "1   172.79     84.47      23.11  \n",
       "3    88.17     26.20      11.77  \n",
       "4    25.51     -5.80      35.57  \n",
       "5    -68.3     46.40       6.93  \n",
       "6    37.27     55.54       1.59  \n",
       "7   -34.83     80.60        4.7  \n",
       "8   -51.29     75.20       2.24  \n",
       "9   -37.64     26.60        4.7  \n",
       "10   21.82     33.48       8.84  \n",
       "11  -35.22     80.78       10.8  \n",
       "12 -155.09     78.80      11.41  \n",
       "13  -175.2     80.60        4.7  \n",
       "14 -156.79    -23.80       5.82  \n",
       "15  -57.56     60.01        4.7  \n",
       "16  -35.15     80.78       10.8  \n",
       "17  117.89     80.60       5.82  \n",
       "18   150.8     85.06      10.16  \n",
       "19  -50.21     74.30      12.68  "
      ]
     },
     "execution_count": 28,
     "metadata": {},
     "output_type": "execute_result"
    }
   ],
   "source": [
    "weather_df"
   ]
  },
  {
   "cell_type": "markdown",
   "metadata": {},
   "source": [
    "### Plotting the Data\n",
    "* Use proper labeling of the plots using plot titles (including date of analysis) and axes labels.\n",
    "* Save the plotted figures as .pngs."
   ]
  },
  {
   "cell_type": "markdown",
   "metadata": {},
   "source": [
    "#### Latitude vs. Temperature Plot"
   ]
  },
  {
   "cell_type": "code",
   "execution_count": 29,
   "metadata": {
    "scrolled": true
   },
   "outputs": [
    {
     "data": {
      "image/png": "[encoded data removed]",
      "text/plain": [
       "<Figure size 432x288 with 1 Axes>"
      ]
     },
     "metadata": {
      "needs_background": "light"
     },
     "output_type": "display_data"
    }
   ],
   "source": [
    "x_values = weather_df['Lat']\n",
    "y_values = weather_df['Max Temp']\n",
    "plt.scatter(x_values, y_values, marker='o', facecolors='blue', edgecolors=\"red\")\n",
    "plt.title(\"City Latitude vs. Max Temperature\")\n",
    "plt.ylabel(\"Max Temperature (F)\")\n",
    "plt.xlabel(\"Latitude\")\n",
    "plt.grid(True)\n",
    "plt.savefig(\"output_data/lat vs temp plot.png\")\n",
    "plt.show()"
   ]
  },
  {
   "cell_type": "markdown",
   "metadata": {},
   "source": [
    "#### Latitude vs. Humidity Plot"
   ]
  },
  {
   "cell_type": "code",
   "execution_count": 30,
   "metadata": {},
   "outputs": [
    {
     "data": {
      "image/png": "[encoded data removed]",
      "text/plain": [
       "<Figure size 432x288 with 1 Axes>"
      ]
     },
     "metadata": {
      "needs_background": "light"
     },
     "output_type": "display_data"
    }
   ],
   "source": [
    "plt.scatter(weather_df['Lat'], weather_df['Humidity'], marker='o',facecolors='blue', edgecolors=\"red\")\n",
    "plt.title(\"City Latitude vs. Humidity\")\n",
    "plt.ylabel(\"Humidity (%)\")\n",
    "plt.xlabel(\"Latitude\")\n",
    "plt.grid(True)\n",
    "plt.savefig(\"output_data/lat vs humidity plot.png\")\n",
    "plt.show()"
   ]
  },
  {
   "cell_type": "markdown",
   "metadata": {},
   "source": [
    "#### Latitude vs. Cloudiness Plot"
   ]
  },
  {
   "cell_type": "code",
   "execution_count": 31,
   "metadata": {},
   "outputs": [
    {
     "data": {
      "image/png": "[encoded data removed]",
      "text/plain": [
       "<Figure size 432x288 with 1 Axes>"
      ]
     },
     "metadata": {
      "needs_background": "light"
     },
     "output_type": "display_data"
    }
   ],
   "source": [
    "plt.scatter(weather_df['Lat'], weather_df['Cloudiness'], marker='o',facecolors='blue', edgecolors=\"red\")\n",
    "\n",
    "plt.title(\"City Latitude vs. Cloudiness\")\n",
    "plt.ylabel(\"Cloudiness (%)\")\n",
    "plt.xlabel(\"Latitude\")\n",
    "plt.grid(True)\n",
    "plt.savefig(\"output_data/lat vs cloudiness plot.png\")\n",
    "plt.show()"
   ]
  },
  {
   "cell_type": "markdown",
   "metadata": {},
   "source": [
    "#### Latitude vs. Wind Speed Plot"
   ]
  },
  {
   "cell_type": "code",
   "execution_count": 32,
   "metadata": {},
   "outputs": [
    {
     "data": {
      "image/png": "[encoded data removed]",
      "text/plain": [
       "<Figure size 432x288 with 1 Axes>"
      ]
     },
     "metadata": {
      "needs_background": "light"
     },
     "output_type": "display_data"
    }
   ],
   "source": [
    "plt.scatter(weather_df['Lat'], weather_df['Wind Speed'], marker='o',facecolors='blue', edgecolors=\"red\")\n",
    "\n",
    "plt.title(\"City Latitude vs. Wind Speed\")\n",
    "plt.ylabel(\"Wind Speed (mph)\")\n",
    "plt.xlabel(\"Latitude\")\n",
    "plt.grid(True)\n",
    "plt.savefig(\"output_data/lat vs wind speed plot.png\")\n",
    "plt.show()"
   ]
  },
  {
   "cell_type": "markdown",
   "metadata": {},
   "source": [
    "## Linear Regression"
   ]
  },
  {
   "cell_type": "code",
   "execution_count": 33,
   "metadata": {},
   "outputs": [],
   "source": [
    "# OPTIONAL: Create a function to create Linear Regression plots"
   ]
  },
  {
   "cell_type": "code",
   "execution_count": 34,
   "metadata": {},
   "outputs": [
    {
     "data": {
      "text/html": [
       "<div>\n",
       "<style scoped>\n",
       "    .dataframe tbody tr th:only-of-type {\n",
       "        vertical-align: middle;\n",
       "    }\n",
       "\n",
       "    .dataframe tbody tr th {\n",
       "        vertical-align: top;\n",
       "    }\n",
       "\n",
       "    .dataframe thead th {\n",
       "        text-align: right;\n",
       "    }\n",
       "</style>\n",
       "<table border=\"1\" class=\"dataframe\">\n",
       "  <thead>\n",
       "    <tr style=\"text-align: right;\">\n",
       "      <th></th>\n",
       "      <th>City</th>\n",
       "      <th>Cloudiness</th>\n",
       "      <th>Country</th>\n",
       "      <th>Date</th>\n",
       "      <th>Humidity</th>\n",
       "      <th>Lat</th>\n",
       "      <th>Lng</th>\n",
       "      <th>Max Temp</th>\n",
       "      <th>Wind Speed</th>\n",
       "      <th>Hemisphere</th>\n",
       "    </tr>\n",
       "  </thead>\n",
       "  <tbody>\n",
       "    <tr>\n",
       "      <td>0</td>\n",
       "      <td>taloqan</td>\n",
       "      <td>100</td>\n",
       "      <td>AF</td>\n",
       "      <td>1580185041</td>\n",
       "      <td>91</td>\n",
       "      <td>36.74</td>\n",
       "      <td>69.53</td>\n",
       "      <td>25.30</td>\n",
       "      <td>2.35</td>\n",
       "      <td>Nothern Hemisphere</td>\n",
       "    </tr>\n",
       "    <tr>\n",
       "      <td>1</td>\n",
       "      <td>butaritari</td>\n",
       "      <td>95</td>\n",
       "      <td>KI</td>\n",
       "      <td>1580185041</td>\n",
       "      <td>78</td>\n",
       "      <td>3.07</td>\n",
       "      <td>172.79</td>\n",
       "      <td>84.47</td>\n",
       "      <td>23.11</td>\n",
       "      <td>Nothern Hemisphere</td>\n",
       "    </tr>\n",
       "    <tr>\n",
       "      <td>3</td>\n",
       "      <td>teguldet</td>\n",
       "      <td>100</td>\n",
       "      <td>RU</td>\n",
       "      <td>1580185041</td>\n",
       "      <td>87</td>\n",
       "      <td>57.31</td>\n",
       "      <td>88.17</td>\n",
       "      <td>26.20</td>\n",
       "      <td>11.77</td>\n",
       "      <td>Nothern Hemisphere</td>\n",
       "    </tr>\n",
       "    <tr>\n",
       "      <td>4</td>\n",
       "      <td>karasjok</td>\n",
       "      <td>37</td>\n",
       "      <td>NO</td>\n",
       "      <td>1580185041</td>\n",
       "      <td>91</td>\n",
       "      <td>69.47</td>\n",
       "      <td>25.51</td>\n",
       "      <td>-5.80</td>\n",
       "      <td>35.57</td>\n",
       "      <td>Nothern Hemisphere</td>\n",
       "    </tr>\n",
       "    <tr>\n",
       "      <td>5</td>\n",
       "      <td>ushuaia</td>\n",
       "      <td>75</td>\n",
       "      <td>AR</td>\n",
       "      <td>1580184794</td>\n",
       "      <td>93</td>\n",
       "      <td>-54.8</td>\n",
       "      <td>-68.3</td>\n",
       "      <td>46.40</td>\n",
       "      <td>6.93</td>\n",
       "      <td>Southern Hemisphere</td>\n",
       "    </tr>\n",
       "    <tr>\n",
       "      <td>6</td>\n",
       "      <td>umm lajj</td>\n",
       "      <td>0</td>\n",
       "      <td>SA</td>\n",
       "      <td>1580185042</td>\n",
       "      <td>18</td>\n",
       "      <td>25.02</td>\n",
       "      <td>37.27</td>\n",
       "      <td>55.54</td>\n",
       "      <td>1.59</td>\n",
       "      <td>Nothern Hemisphere</td>\n",
       "    </tr>\n",
       "    <tr>\n",
       "      <td>7</td>\n",
       "      <td>cabedelo</td>\n",
       "      <td>95</td>\n",
       "      <td>BR</td>\n",
       "      <td>1580185012</td>\n",
       "      <td>83</td>\n",
       "      <td>-6.98</td>\n",
       "      <td>-34.83</td>\n",
       "      <td>80.60</td>\n",
       "      <td>4.7</td>\n",
       "      <td>Southern Hemisphere</td>\n",
       "    </tr>\n",
       "    <tr>\n",
       "      <td>8</td>\n",
       "      <td>mazagao</td>\n",
       "      <td>100</td>\n",
       "      <td>BR</td>\n",
       "      <td>1580185042</td>\n",
       "      <td>100</td>\n",
       "      <td>-0.12</td>\n",
       "      <td>-51.29</td>\n",
       "      <td>75.20</td>\n",
       "      <td>2.24</td>\n",
       "      <td>Southern Hemisphere</td>\n",
       "    </tr>\n",
       "    <tr>\n",
       "      <td>9</td>\n",
       "      <td>tasiilaq</td>\n",
       "      <td>100</td>\n",
       "      <td>GL</td>\n",
       "      <td>1580185042</td>\n",
       "      <td>68</td>\n",
       "      <td>65.61</td>\n",
       "      <td>-37.64</td>\n",
       "      <td>26.60</td>\n",
       "      <td>4.7</td>\n",
       "      <td>Nothern Hemisphere</td>\n",
       "    </tr>\n",
       "    <tr>\n",
       "      <td>10</td>\n",
       "      <td>chernyakhovsk</td>\n",
       "      <td>83</td>\n",
       "      <td>RU</td>\n",
       "      <td>1580185042</td>\n",
       "      <td>93</td>\n",
       "      <td>54.63</td>\n",
       "      <td>21.82</td>\n",
       "      <td>33.48</td>\n",
       "      <td>8.84</td>\n",
       "      <td>Nothern Hemisphere</td>\n",
       "    </tr>\n",
       "    <tr>\n",
       "      <td>11</td>\n",
       "      <td>maragogi</td>\n",
       "      <td>37</td>\n",
       "      <td>BR</td>\n",
       "      <td>1580185042</td>\n",
       "      <td>80</td>\n",
       "      <td>-9.01</td>\n",
       "      <td>-35.22</td>\n",
       "      <td>80.78</td>\n",
       "      <td>10.8</td>\n",
       "      <td>Southern Hemisphere</td>\n",
       "    </tr>\n",
       "    <tr>\n",
       "      <td>12</td>\n",
       "      <td>hilo</td>\n",
       "      <td>90</td>\n",
       "      <td>US</td>\n",
       "      <td>1580184847</td>\n",
       "      <td>65</td>\n",
       "      <td>19.73</td>\n",
       "      <td>-155.09</td>\n",
       "      <td>78.80</td>\n",
       "      <td>11.41</td>\n",
       "      <td>Nothern Hemisphere</td>\n",
       "    </tr>\n",
       "    <tr>\n",
       "      <td>13</td>\n",
       "      <td>vaini</td>\n",
       "      <td>75</td>\n",
       "      <td>TO</td>\n",
       "      <td>1580185043</td>\n",
       "      <td>88</td>\n",
       "      <td>-21.2</td>\n",
       "      <td>-175.2</td>\n",
       "      <td>80.60</td>\n",
       "      <td>4.7</td>\n",
       "      <td>Southern Hemisphere</td>\n",
       "    </tr>\n",
       "    <tr>\n",
       "      <td>14</td>\n",
       "      <td>barrow</td>\n",
       "      <td>90</td>\n",
       "      <td>US</td>\n",
       "      <td>1580185043</td>\n",
       "      <td>74</td>\n",
       "      <td>71.29</td>\n",
       "      <td>-156.79</td>\n",
       "      <td>-23.80</td>\n",
       "      <td>5.82</td>\n",
       "      <td>Nothern Hemisphere</td>\n",
       "    </tr>\n",
       "    <tr>\n",
       "      <td>15</td>\n",
       "      <td>mar del plata</td>\n",
       "      <td>0</td>\n",
       "      <td>AR</td>\n",
       "      <td>1580184857</td>\n",
       "      <td>76</td>\n",
       "      <td>-38</td>\n",
       "      <td>-57.56</td>\n",
       "      <td>60.01</td>\n",
       "      <td>4.7</td>\n",
       "      <td>Southern Hemisphere</td>\n",
       "    </tr>\n",
       "    <tr>\n",
       "      <td>16</td>\n",
       "      <td>sao jose da coroa grande</td>\n",
       "      <td>37</td>\n",
       "      <td>BR</td>\n",
       "      <td>1580185043</td>\n",
       "      <td>80</td>\n",
       "      <td>-8.9</td>\n",
       "      <td>-35.15</td>\n",
       "      <td>80.78</td>\n",
       "      <td>10.8</td>\n",
       "      <td>Southern Hemisphere</td>\n",
       "    </tr>\n",
       "    <tr>\n",
       "      <td>17</td>\n",
       "      <td>albany</td>\n",
       "      <td>20</td>\n",
       "      <td>AU</td>\n",
       "      <td>1580185043</td>\n",
       "      <td>61</td>\n",
       "      <td>-35.02</td>\n",
       "      <td>117.89</td>\n",
       "      <td>80.60</td>\n",
       "      <td>5.82</td>\n",
       "      <td>Southern Hemisphere</td>\n",
       "    </tr>\n",
       "    <tr>\n",
       "      <td>18</td>\n",
       "      <td>kavieng</td>\n",
       "      <td>6</td>\n",
       "      <td>PG</td>\n",
       "      <td>1580185043</td>\n",
       "      <td>73</td>\n",
       "      <td>-2.57</td>\n",
       "      <td>150.8</td>\n",
       "      <td>85.06</td>\n",
       "      <td>10.16</td>\n",
       "      <td>Southern Hemisphere</td>\n",
       "    </tr>\n",
       "    <tr>\n",
       "      <td>19</td>\n",
       "      <td>cidreira</td>\n",
       "      <td>77</td>\n",
       "      <td>BR</td>\n",
       "      <td>1580184939</td>\n",
       "      <td>77</td>\n",
       "      <td>-30.18</td>\n",
       "      <td>-50.21</td>\n",
       "      <td>74.30</td>\n",
       "      <td>12.68</td>\n",
       "      <td>Southern Hemisphere</td>\n",
       "    </tr>\n",
       "  </tbody>\n",
       "</table>\n",
       "</div>"
      ],
      "text/plain": [
       "                        City Cloudiness Country        Date Humidity    Lat  \\\n",
       "0                    taloqan        100      AF  1580185041       91  36.74   \n",
       "1                 butaritari         95      KI  1580185041       78   3.07   \n",
       "3                   teguldet        100      RU  1580185041       87  57.31   \n",
       "4                   karasjok         37      NO  1580185041       91  69.47   \n",
       "5                    ushuaia         75      AR  1580184794       93  -54.8   \n",
       "6                   umm lajj          0      SA  1580185042       18  25.02   \n",
       "7                   cabedelo         95      BR  1580185012       83  -6.98   \n",
       "8                    mazagao        100      BR  1580185042      100  -0.12   \n",
       "9                   tasiilaq        100      GL  1580185042       68  65.61   \n",
       "10             chernyakhovsk         83      RU  1580185042       93  54.63   \n",
       "11                  maragogi         37      BR  1580185042       80  -9.01   \n",
       "12                      hilo         90      US  1580184847       65  19.73   \n",
       "13                     vaini         75      TO  1580185043       88  -21.2   \n",
       "14                    barrow         90      US  1580185043       74  71.29   \n",
       "15             mar del plata          0      AR  1580184857       76    -38   \n",
       "16  sao jose da coroa grande         37      BR  1580185043       80   -8.9   \n",
       "17                    albany         20      AU  1580185043       61 -35.02   \n",
       "18                   kavieng          6      PG  1580185043       73  -2.57   \n",
       "19                  cidreira         77      BR  1580184939       77 -30.18   \n",
       "\n",
       "       Lng  Max Temp Wind Speed           Hemisphere  \n",
       "0    69.53     25.30       2.35   Nothern Hemisphere  \n",
       "1   172.79     84.47      23.11   Nothern Hemisphere  \n",
       "3    88.17     26.20      11.77   Nothern Hemisphere  \n",
       "4    25.51     -5.80      35.57   Nothern Hemisphere  \n",
       "5    -68.3     46.40       6.93  Southern Hemisphere  \n",
       "6    37.27     55.54       1.59   Nothern Hemisphere  \n",
       "7   -34.83     80.60        4.7  Southern Hemisphere  \n",
       "8   -51.29     75.20       2.24  Southern Hemisphere  \n",
       "9   -37.64     26.60        4.7   Nothern Hemisphere  \n",
       "10   21.82     33.48       8.84   Nothern Hemisphere  \n",
       "11  -35.22     80.78       10.8  Southern Hemisphere  \n",
       "12 -155.09     78.80      11.41   Nothern Hemisphere  \n",
       "13  -175.2     80.60        4.7  Southern Hemisphere  \n",
       "14 -156.79    -23.80       5.82   Nothern Hemisphere  \n",
       "15  -57.56     60.01        4.7  Southern Hemisphere  \n",
       "16  -35.15     80.78       10.8  Southern Hemisphere  \n",
       "17  117.89     80.60       5.82  Southern Hemisphere  \n",
       "18   150.8     85.06      10.16  Southern Hemisphere  \n",
       "19  -50.21     74.30      12.68  Southern Hemisphere  "
      ]
     },
     "execution_count": 34,
     "metadata": {},
     "output_type": "execute_result"
    }
   ],
   "source": [
    "# Create Northern and Southern Hemisphere DataFrames\n",
    "weather_df['Hemisphere'] = np.where(weather_df['Lat'] >= 0,'Nothern Hemisphere', 'Southern Hemisphere')\n",
    "weather_df"
   ]
  },
  {
   "cell_type": "code",
   "execution_count": 35,
   "metadata": {},
   "outputs": [
    {
     "data": {
      "text/html": [
       "<div>\n",
       "<style scoped>\n",
       "    .dataframe tbody tr th:only-of-type {\n",
       "        vertical-align: middle;\n",
       "    }\n",
       "\n",
       "    .dataframe tbody tr th {\n",
       "        vertical-align: top;\n",
       "    }\n",
       "\n",
       "    .dataframe thead th {\n",
       "        text-align: right;\n",
       "    }\n",
       "</style>\n",
       "<table border=\"1\" class=\"dataframe\">\n",
       "  <thead>\n",
       "    <tr style=\"text-align: right;\">\n",
       "      <th></th>\n",
       "      <th>City</th>\n",
       "      <th>Cloudiness</th>\n",
       "      <th>Country</th>\n",
       "      <th>Date</th>\n",
       "      <th>Humidity</th>\n",
       "      <th>Lat</th>\n",
       "      <th>Lng</th>\n",
       "      <th>Max Temp</th>\n",
       "      <th>Wind Speed</th>\n",
       "      <th>Hemisphere</th>\n",
       "    </tr>\n",
       "  </thead>\n",
       "  <tbody>\n",
       "    <tr>\n",
       "      <td>0</td>\n",
       "      <td>taloqan</td>\n",
       "      <td>100</td>\n",
       "      <td>AF</td>\n",
       "      <td>1580185041</td>\n",
       "      <td>91</td>\n",
       "      <td>36.74</td>\n",
       "      <td>69.53</td>\n",
       "      <td>25.30</td>\n",
       "      <td>2.35</td>\n",
       "      <td>Nothern Hemisphere</td>\n",
       "    </tr>\n",
       "    <tr>\n",
       "      <td>1</td>\n",
       "      <td>butaritari</td>\n",
       "      <td>95</td>\n",
       "      <td>KI</td>\n",
       "      <td>1580185041</td>\n",
       "      <td>78</td>\n",
       "      <td>3.07</td>\n",
       "      <td>172.79</td>\n",
       "      <td>84.47</td>\n",
       "      <td>23.11</td>\n",
       "      <td>Nothern Hemisphere</td>\n",
       "    </tr>\n",
       "    <tr>\n",
       "      <td>3</td>\n",
       "      <td>teguldet</td>\n",
       "      <td>100</td>\n",
       "      <td>RU</td>\n",
       "      <td>1580185041</td>\n",
       "      <td>87</td>\n",
       "      <td>57.31</td>\n",
       "      <td>88.17</td>\n",
       "      <td>26.20</td>\n",
       "      <td>11.77</td>\n",
       "      <td>Nothern Hemisphere</td>\n",
       "    </tr>\n",
       "    <tr>\n",
       "      <td>4</td>\n",
       "      <td>karasjok</td>\n",
       "      <td>37</td>\n",
       "      <td>NO</td>\n",
       "      <td>1580185041</td>\n",
       "      <td>91</td>\n",
       "      <td>69.47</td>\n",
       "      <td>25.51</td>\n",
       "      <td>-5.80</td>\n",
       "      <td>35.57</td>\n",
       "      <td>Nothern Hemisphere</td>\n",
       "    </tr>\n",
       "    <tr>\n",
       "      <td>6</td>\n",
       "      <td>umm lajj</td>\n",
       "      <td>0</td>\n",
       "      <td>SA</td>\n",
       "      <td>1580185042</td>\n",
       "      <td>18</td>\n",
       "      <td>25.02</td>\n",
       "      <td>37.27</td>\n",
       "      <td>55.54</td>\n",
       "      <td>1.59</td>\n",
       "      <td>Nothern Hemisphere</td>\n",
       "    </tr>\n",
       "    <tr>\n",
       "      <td>9</td>\n",
       "      <td>tasiilaq</td>\n",
       "      <td>100</td>\n",
       "      <td>GL</td>\n",
       "      <td>1580185042</td>\n",
       "      <td>68</td>\n",
       "      <td>65.61</td>\n",
       "      <td>-37.64</td>\n",
       "      <td>26.60</td>\n",
       "      <td>4.7</td>\n",
       "      <td>Nothern Hemisphere</td>\n",
       "    </tr>\n",
       "    <tr>\n",
       "      <td>10</td>\n",
       "      <td>chernyakhovsk</td>\n",
       "      <td>83</td>\n",
       "      <td>RU</td>\n",
       "      <td>1580185042</td>\n",
       "      <td>93</td>\n",
       "      <td>54.63</td>\n",
       "      <td>21.82</td>\n",
       "      <td>33.48</td>\n",
       "      <td>8.84</td>\n",
       "      <td>Nothern Hemisphere</td>\n",
       "    </tr>\n",
       "    <tr>\n",
       "      <td>12</td>\n",
       "      <td>hilo</td>\n",
       "      <td>90</td>\n",
       "      <td>US</td>\n",
       "      <td>1580184847</td>\n",
       "      <td>65</td>\n",
       "      <td>19.73</td>\n",
       "      <td>-155.09</td>\n",
       "      <td>78.80</td>\n",
       "      <td>11.41</td>\n",
       "      <td>Nothern Hemisphere</td>\n",
       "    </tr>\n",
       "    <tr>\n",
       "      <td>14</td>\n",
       "      <td>barrow</td>\n",
       "      <td>90</td>\n",
       "      <td>US</td>\n",
       "      <td>1580185043</td>\n",
       "      <td>74</td>\n",
       "      <td>71.29</td>\n",
       "      <td>-156.79</td>\n",
       "      <td>-23.80</td>\n",
       "      <td>5.82</td>\n",
       "      <td>Nothern Hemisphere</td>\n",
       "    </tr>\n",
       "  </tbody>\n",
       "</table>\n",
       "</div>"
      ],
      "text/plain": [
       "             City Cloudiness Country        Date Humidity    Lat     Lng  \\\n",
       "0         taloqan        100      AF  1580185041       91  36.74   69.53   \n",
       "1      butaritari         95      KI  1580185041       78   3.07  172.79   \n",
       "3        teguldet        100      RU  1580185041       87  57.31   88.17   \n",
       "4        karasjok         37      NO  1580185041       91  69.47   25.51   \n",
       "6        umm lajj          0      SA  1580185042       18  25.02   37.27   \n",
       "9        tasiilaq        100      GL  1580185042       68  65.61  -37.64   \n",
       "10  chernyakhovsk         83      RU  1580185042       93  54.63   21.82   \n",
       "12           hilo         90      US  1580184847       65  19.73 -155.09   \n",
       "14         barrow         90      US  1580185043       74  71.29 -156.79   \n",
       "\n",
       "    Max Temp Wind Speed          Hemisphere  \n",
       "0      25.30       2.35  Nothern Hemisphere  \n",
       "1      84.47      23.11  Nothern Hemisphere  \n",
       "3      26.20      11.77  Nothern Hemisphere  \n",
       "4      -5.80      35.57  Nothern Hemisphere  \n",
       "6      55.54       1.59  Nothern Hemisphere  \n",
       "9      26.60        4.7  Nothern Hemisphere  \n",
       "10     33.48       8.84  Nothern Hemisphere  \n",
       "12     78.80      11.41  Nothern Hemisphere  \n",
       "14    -23.80       5.82  Nothern Hemisphere  "
      ]
     },
     "execution_count": 35,
     "metadata": {},
     "output_type": "execute_result"
    }
   ],
   "source": [
    "nothern_df = weather_df.loc[weather_df['Hemisphere'] == 'Nothern Hemisphere']\n",
    "nothern_df"
   ]
  },
  {
   "cell_type": "code",
   "execution_count": 36,
   "metadata": {},
   "outputs": [
    {
     "data": {
      "text/html": [
       "<div>\n",
       "<style scoped>\n",
       "    .dataframe tbody tr th:only-of-type {\n",
       "        vertical-align: middle;\n",
       "    }\n",
       "\n",
       "    .dataframe tbody tr th {\n",
       "        vertical-align: top;\n",
       "    }\n",
       "\n",
       "    .dataframe thead th {\n",
       "        text-align: right;\n",
       "    }\n",
       "</style>\n",
       "<table border=\"1\" class=\"dataframe\">\n",
       "  <thead>\n",
       "    <tr style=\"text-align: right;\">\n",
       "      <th></th>\n",
       "      <th>City</th>\n",
       "      <th>Cloudiness</th>\n",
       "      <th>Country</th>\n",
       "      <th>Date</th>\n",
       "      <th>Humidity</th>\n",
       "      <th>Lat</th>\n",
       "      <th>Lng</th>\n",
       "      <th>Max Temp</th>\n",
       "      <th>Wind Speed</th>\n",
       "      <th>Hemisphere</th>\n",
       "    </tr>\n",
       "  </thead>\n",
       "  <tbody>\n",
       "    <tr>\n",
       "      <td>5</td>\n",
       "      <td>ushuaia</td>\n",
       "      <td>75</td>\n",
       "      <td>AR</td>\n",
       "      <td>1580184794</td>\n",
       "      <td>93</td>\n",
       "      <td>-54.8</td>\n",
       "      <td>-68.3</td>\n",
       "      <td>46.40</td>\n",
       "      <td>6.93</td>\n",
       "      <td>Southern Hemisphere</td>\n",
       "    </tr>\n",
       "    <tr>\n",
       "      <td>7</td>\n",
       "      <td>cabedelo</td>\n",
       "      <td>95</td>\n",
       "      <td>BR</td>\n",
       "      <td>1580185012</td>\n",
       "      <td>83</td>\n",
       "      <td>-6.98</td>\n",
       "      <td>-34.83</td>\n",
       "      <td>80.60</td>\n",
       "      <td>4.7</td>\n",
       "      <td>Southern Hemisphere</td>\n",
       "    </tr>\n",
       "    <tr>\n",
       "      <td>8</td>\n",
       "      <td>mazagao</td>\n",
       "      <td>100</td>\n",
       "      <td>BR</td>\n",
       "      <td>1580185042</td>\n",
       "      <td>100</td>\n",
       "      <td>-0.12</td>\n",
       "      <td>-51.29</td>\n",
       "      <td>75.20</td>\n",
       "      <td>2.24</td>\n",
       "      <td>Southern Hemisphere</td>\n",
       "    </tr>\n",
       "    <tr>\n",
       "      <td>11</td>\n",
       "      <td>maragogi</td>\n",
       "      <td>37</td>\n",
       "      <td>BR</td>\n",
       "      <td>1580185042</td>\n",
       "      <td>80</td>\n",
       "      <td>-9.01</td>\n",
       "      <td>-35.22</td>\n",
       "      <td>80.78</td>\n",
       "      <td>10.8</td>\n",
       "      <td>Southern Hemisphere</td>\n",
       "    </tr>\n",
       "    <tr>\n",
       "      <td>13</td>\n",
       "      <td>vaini</td>\n",
       "      <td>75</td>\n",
       "      <td>TO</td>\n",
       "      <td>1580185043</td>\n",
       "      <td>88</td>\n",
       "      <td>-21.2</td>\n",
       "      <td>-175.2</td>\n",
       "      <td>80.60</td>\n",
       "      <td>4.7</td>\n",
       "      <td>Southern Hemisphere</td>\n",
       "    </tr>\n",
       "    <tr>\n",
       "      <td>15</td>\n",
       "      <td>mar del plata</td>\n",
       "      <td>0</td>\n",
       "      <td>AR</td>\n",
       "      <td>1580184857</td>\n",
       "      <td>76</td>\n",
       "      <td>-38</td>\n",
       "      <td>-57.56</td>\n",
       "      <td>60.01</td>\n",
       "      <td>4.7</td>\n",
       "      <td>Southern Hemisphere</td>\n",
       "    </tr>\n",
       "    <tr>\n",
       "      <td>16</td>\n",
       "      <td>sao jose da coroa grande</td>\n",
       "      <td>37</td>\n",
       "      <td>BR</td>\n",
       "      <td>1580185043</td>\n",
       "      <td>80</td>\n",
       "      <td>-8.9</td>\n",
       "      <td>-35.15</td>\n",
       "      <td>80.78</td>\n",
       "      <td>10.8</td>\n",
       "      <td>Southern Hemisphere</td>\n",
       "    </tr>\n",
       "    <tr>\n",
       "      <td>17</td>\n",
       "      <td>albany</td>\n",
       "      <td>20</td>\n",
       "      <td>AU</td>\n",
       "      <td>1580185043</td>\n",
       "      <td>61</td>\n",
       "      <td>-35.02</td>\n",
       "      <td>117.89</td>\n",
       "      <td>80.60</td>\n",
       "      <td>5.82</td>\n",
       "      <td>Southern Hemisphere</td>\n",
       "    </tr>\n",
       "    <tr>\n",
       "      <td>18</td>\n",
       "      <td>kavieng</td>\n",
       "      <td>6</td>\n",
       "      <td>PG</td>\n",
       "      <td>1580185043</td>\n",
       "      <td>73</td>\n",
       "      <td>-2.57</td>\n",
       "      <td>150.8</td>\n",
       "      <td>85.06</td>\n",
       "      <td>10.16</td>\n",
       "      <td>Southern Hemisphere</td>\n",
       "    </tr>\n",
       "    <tr>\n",
       "      <td>19</td>\n",
       "      <td>cidreira</td>\n",
       "      <td>77</td>\n",
       "      <td>BR</td>\n",
       "      <td>1580184939</td>\n",
       "      <td>77</td>\n",
       "      <td>-30.18</td>\n",
       "      <td>-50.21</td>\n",
       "      <td>74.30</td>\n",
       "      <td>12.68</td>\n",
       "      <td>Southern Hemisphere</td>\n",
       "    </tr>\n",
       "  </tbody>\n",
       "</table>\n",
       "</div>"
      ],
      "text/plain": [
       "                        City Cloudiness Country        Date Humidity    Lat  \\\n",
       "5                    ushuaia         75      AR  1580184794       93  -54.8   \n",
       "7                   cabedelo         95      BR  1580185012       83  -6.98   \n",
       "8                    mazagao        100      BR  1580185042      100  -0.12   \n",
       "11                  maragogi         37      BR  1580185042       80  -9.01   \n",
       "13                     vaini         75      TO  1580185043       88  -21.2   \n",
       "15             mar del plata          0      AR  1580184857       76    -38   \n",
       "16  sao jose da coroa grande         37      BR  1580185043       80   -8.9   \n",
       "17                    albany         20      AU  1580185043       61 -35.02   \n",
       "18                   kavieng          6      PG  1580185043       73  -2.57   \n",
       "19                  cidreira         77      BR  1580184939       77 -30.18   \n",
       "\n",
       "       Lng  Max Temp Wind Speed           Hemisphere  \n",
       "5    -68.3     46.40       6.93  Southern Hemisphere  \n",
       "7   -34.83     80.60        4.7  Southern Hemisphere  \n",
       "8   -51.29     75.20       2.24  Southern Hemisphere  \n",
       "11  -35.22     80.78       10.8  Southern Hemisphere  \n",
       "13  -175.2     80.60        4.7  Southern Hemisphere  \n",
       "15  -57.56     60.01        4.7  Southern Hemisphere  \n",
       "16  -35.15     80.78       10.8  Southern Hemisphere  \n",
       "17  117.89     80.60       5.82  Southern Hemisphere  \n",
       "18   150.8     85.06      10.16  Southern Hemisphere  \n",
       "19  -50.21     74.30      12.68  Southern Hemisphere  "
      ]
     },
     "execution_count": 36,
     "metadata": {},
     "output_type": "execute_result"
    }
   ],
   "source": [
    "southern_df = weather_df.loc[weather_df['Hemisphere'] == 'Southern Hemisphere']\n",
    "southern_df"
   ]
  },
  {
   "cell_type": "markdown",
   "metadata": {},
   "source": [
    "####  Northern Hemisphere - Max Temp vs. Latitude Linear Regression"
   ]
  },
  {
   "cell_type": "code",
   "execution_count": 105,
   "metadata": {
    "scrolled": true
   },
   "outputs": [
    {
     "name": "stdout",
     "output_type": "stream",
     "text": [
      "The r-squared is: -0.9124567643703538\n"
     ]
    },
    {
     "data": {
      "image/png": "[encoded data removed]",
      "text/plain": [
       "<Figure size 432x288 with 1 Axes>"
      ]
     },
     "metadata": {
      "needs_background": "light"
     },
     "output_type": "display_data"
    }
   ],
   "source": [
    "nothern_df['Lat'].astype(int)\n",
    "nothern_df['Max Temp'].astype(int)\n",
    "\n",
    "x_values = nothern_df['Lat']\n",
    "y_values = nothern_df['Max Temp']\n",
    "(slope, intercept, rvalue, pvalue, stderr) = linregress(x_values, y_values)\n",
    "regress_values = x_values * slope + intercept\n",
    "line_eq = \"y = \" + str(round(slope,2)) + \"x + \" + str(round(intercept,2))\n",
    "plt.scatter(x_values,y_values)\n",
    "plt.plot(x_values,regress_values,\"r-\")\n",
    "plt.annotate(line_eq,(6,10),fontsize=15,color=\"red\")\n",
    "plt.xlabel('Latitude')\n",
    "plt.ylabel('Max Temp')\n",
    "print(f\"The r-squared is: {rvalue}\")\n",
    "plt.savefig('output_data/Linear Regression/Nothern Hem_Max Temp vs Lat.png')\n",
    "plt.show()"
   ]
  },
  {
   "cell_type": "markdown",
   "metadata": {},
   "source": [
    "####  Southern Hemisphere - Max Temp vs. Latitude Linear Regression"
   ]
  },
  {
   "cell_type": "code",
   "execution_count": 104,
   "metadata": {},
   "outputs": [
    {
     "name": "stdout",
     "output_type": "stream",
     "text": [
      "The r-squared is: 0.7906496577288087\n"
     ]
    },
    {
     "data": {
      "image/png": "[encoded data removed]",
      "text/plain": [
       "<Figure size 432x288 with 1 Axes>"
      ]
     },
     "metadata": {
      "needs_background": "light"
     },
     "output_type": "display_data"
    }
   ],
   "source": [
    "southern_df['Lat'].astype(int)\n",
    "southern_df['Max Temp'].astype(int)\n",
    "\n",
    "x_values = southern_df['Lat']\n",
    "y_values = southern_df['Max Temp']\n",
    "(slope, intercept, rvalue, pvalue, stderr) = linregress(x_values, y_values)\n",
    "regress_values = x_values * slope + intercept\n",
    "line_eq = \"y = \" + str(round(slope,2)) + \"x + \" + str(round(intercept,2))\n",
    "plt.scatter(x_values,y_values)\n",
    "plt.plot(x_values,regress_values,\"r-\")\n",
    "plt.annotate(line_eq,(-30,60),fontsize=15,color=\"red\")\n",
    "plt.xlabel('Latitude')\n",
    "plt.ylabel('Max Temp')\n",
    "print(f\"The r-squared is: {rvalue}\")\n",
    "plt.savefig('output_data/Linear Regression/Southern Hem_Max Temp vs Lat.png')\n",
    "plt.show()"
   ]
  },
  {
   "cell_type": "markdown",
   "metadata": {},
   "source": [
    "####  Northern Hemisphere - Humidity (%) vs. Latitude Linear Regression"
   ]
  },
  {
   "cell_type": "code",
   "execution_count": 103,
   "metadata": {},
   "outputs": [
    {
     "name": "stdout",
     "output_type": "stream",
     "text": [
      "The r-squared is: 0.35962486394300075\n"
     ]
    },
    {
     "data": {
      "image/png": "[encoded data removed]",
      "text/plain": [
       "<Figure size 432x288 with 1 Axes>"
      ]
     },
     "metadata": {
      "needs_background": "light"
     },
     "output_type": "display_data"
    }
   ],
   "source": [
    "nothern_df['Lat'].astype(int)\n",
    "nothern_df['Humidity'].astype(int)\n",
    "\n",
    "x_values = nothern_df['Lat']\n",
    "y_values = nothern_df['Humidity']\n",
    "(slope, intercept, rvalue, pvalue, stderr) = linregress(x_values, y_values)\n",
    "regress_values = x_values * slope + intercept\n",
    "line_eq = \"y = \" + str(round(slope,2)) + \"x + \" + str(round(intercept,2))\n",
    "plt.scatter(x_values,y_values)\n",
    "plt.plot(x_values,regress_values,\"r-\")\n",
    "plt.annotate(line_eq,(30,50),fontsize=15,color=\"red\")\n",
    "plt.xlabel('Latitude')\n",
    "plt.ylabel('Humidity')\n",
    "print(f\"The r-squared is: {rvalue}\")\n",
    "plt.savefig('output_data/Linear Regression/Nothern Hem_Humidity(%) vs Lat.png')\n",
    "plt.show()"
   ]
  },
  {
   "cell_type": "markdown",
   "metadata": {},
   "source": [
    "####  Southern Hemisphere - Humidity (%) vs. Latitude Linear Regression"
   ]
  },
  {
   "cell_type": "code",
   "execution_count": 102,
   "metadata": {},
   "outputs": [
    {
     "name": "stdout",
     "output_type": "stream",
     "text": [
      "The r-squared is: 0.1436320424441816\n"
     ]
    },
    {
     "data": {
      "image/png": "[encoded data removed]",
      "text/plain": [
       "<Figure size 432x288 with 1 Axes>"
      ]
     },
     "metadata": {
      "needs_background": "light"
     },
     "output_type": "display_data"
    }
   ],
   "source": [
    "southern_df['Humidity'].astype(int)\n",
    "\n",
    "x_values = southern_df['Lat']\n",
    "y_values = southern_df['Humidity']\n",
    "(slope, intercept, rvalue, pvalue, stderr) = linregress(x_values, y_values)\n",
    "regress_values = x_values * slope + intercept\n",
    "line_eq = \"y = \" + str(round(slope,2)) + \"x + \" + str(round(intercept,2))\n",
    "plt.scatter(x_values,y_values)\n",
    "plt.plot(x_values,regress_values,\"r-\")\n",
    "plt.annotate(line_eq,(-35,90),fontsize=15,color=\"red\")\n",
    "plt.xlabel('Latitude')\n",
    "plt.ylabel('Humidity')\n",
    "print(f\"The r-squared is: {rvalue}\")\n",
    "plt.savefig('output_data/Linear Regression/Southern Hem_Humidity(%) vs Lat.png')\n",
    "plt.show()"
   ]
  },
  {
   "cell_type": "markdown",
   "metadata": {},
   "source": [
    "####  Northern Hemisphere - Cloudiness (%) vs. Latitude Linear Regression"
   ]
  },
  {
   "cell_type": "code",
   "execution_count": 98,
   "metadata": {},
   "outputs": [
    {
     "name": "stdout",
     "output_type": "stream",
     "text": [
      "The r-squared is: 0.05953229517621464\n"
     ]
    },
    {
     "data": {
      "image/png": "[encoded data removed]",
      "text/plain": [
       "<Figure size 432x288 with 1 Axes>"
      ]
     },
     "metadata": {
      "needs_background": "light"
     },
     "output_type": "display_data"
    }
   ],
   "source": [
    "nothern_df['Cloudiness'].astype(int)\n",
    "\n",
    "x_values = nothern_df['Lat']\n",
    "y_values = nothern_df['Cloudiness']\n",
    "(slope, intercept, rvalue, pvalue, stderr) = linregress(x_values, y_values)\n",
    "regress_values = x_values * slope + intercept\n",
    "line_eq = \"y = \" + str(round(slope,2)) + \"x + \" + str(round(intercept,2))\n",
    "plt.scatter(x_values,y_values)\n",
    "plt.plot(x_values,regress_values,\"r-\")\n",
    "plt.annotate(line_eq,(40,62),fontsize=15,color=\"red\")\n",
    "plt.xlabel('Latitude')\n",
    "plt.ylabel('Cloudiness')\n",
    "print(f\"The r-squared is: {rvalue}\")\n",
    "plt.savefig('output_data/Linear Regression/Nothern Hem_Cloudiness(%) vs Lat.png')\n",
    "plt.show()"
   ]
  },
  {
   "cell_type": "markdown",
   "metadata": {},
   "source": [
    "####  Southern Hemisphere - Cloudiness (%) vs. Latitude Linear Regression"
   ]
  },
  {
   "cell_type": "code",
   "execution_count": 99,
   "metadata": {},
   "outputs": [
    {
     "name": "stdout",
     "output_type": "stream",
     "text": [
      "The r-squared is: 0.12463570193710145\n"
     ]
    },
    {
     "data": {
      "image/png": "[encoded data removed]",
      "text/plain": [
       "<Figure size 432x288 with 1 Axes>"
      ]
     },
     "metadata": {
      "needs_background": "light"
     },
     "output_type": "display_data"
    }
   ],
   "source": [
    "x_values = southern_df['Lat']\n",
    "y_values = southern_df['Cloudiness'].astype(int)\n",
    "(slope, intercept, rvalue, pvalue, stderr) = linregress(x_values, y_values)\n",
    "regress_values = x_values * slope + intercept\n",
    "line_eq = \"y = \" + str(round(slope,2)) + \"x + \" + str(round(intercept,2))\n",
    "plt.scatter(x_values,y_values)\n",
    "plt.plot(x_values,regress_values,\"r-\")\n",
    "plt.annotate(line_eq,(-30,39),fontsize=15,color=\"red\")\n",
    "plt.xlabel('Latitude')\n",
    "plt.ylabel('Cloudiness')\n",
    "print(f\"The r-squared is: {rvalue}\")\n",
    "plt.savefig('output_data/Linear Regression/Southern Hem_Cloudiness (%) vs Lat.png')\n",
    "plt.show()"
   ]
  },
  {
   "cell_type": "markdown",
   "metadata": {},
   "source": [
    "####  Northern Hemisphere - Wind Speed (mph) vs. Latitude Linear Regression"
   ]
  },
  {
   "cell_type": "code",
   "execution_count": 100,
   "metadata": {},
   "outputs": [
    {
     "name": "stdout",
     "output_type": "stream",
     "text": [
      "The r-squared is: 0.01404204199320443\n"
     ]
    },
    {
     "data": {
      "image/png": "[encoded data removed]",
      "text/plain": [
       "<Figure size 432x288 with 1 Axes>"
      ]
     },
     "metadata": {
      "needs_background": "light"
     },
     "output_type": "display_data"
    }
   ],
   "source": [
    "x_values = nothern_df['Lat']\n",
    "y_values = nothern_df['Wind Speed'].astype(int)\n",
    "(slope, intercept, rvalue, pvalue, stderr) = linregress(x_values, y_values)\n",
    "regress_values = x_values * slope + intercept\n",
    "line_eq = \"y = \" + str(round(slope,2)) + \"x + \" + str(round(intercept,2))\n",
    "plt.scatter(x_values,y_values)\n",
    "plt.plot(x_values,regress_values,\"r-\")\n",
    "plt.annotate(line_eq,(20,15),fontsize=15,color=\"red\")\n",
    "plt.xlabel('Latitude')\n",
    "plt.ylabel('Wind Speed')\n",
    "print(f\"The r-squared is: {rvalue}\")\n",
    "plt.savefig('output_data/Linear Regression/Nothern Hem_Wind Speed (mph) vs Lat.png')\n",
    "plt.show()"
   ]
  },
  {
   "cell_type": "markdown",
   "metadata": {},
   "source": [
    "####  Southern Hemisphere - Wind Speed (mph) vs. Latitude Linear Regression"
   ]
  },
  {
   "cell_type": "code",
   "execution_count": 101,
   "metadata": {},
   "outputs": [
    {
     "name": "stdout",
     "output_type": "stream",
     "text": [
      "The r-squared is: 0.08988044142255551\n"
     ]
    },
    {
     "data": {
      "image/png": "[encoded data removed]",
      "text/plain": [
       "<Figure size 432x288 with 1 Axes>"
      ]
     },
     "metadata": {
      "needs_background": "light"
     },
     "output_type": "display_data"
    }
   ],
   "source": [
    "x_values = southern_df['Lat']\n",
    "y_values = southern_df['Wind Speed'].astype(int)\n",
    "(slope, intercept, rvalue, pvalue, stderr) = linregress(x_values, y_values)\n",
    "regress_values = x_values * slope + intercept\n",
    "line_eq = \"y = \" + str(round(slope,2)) + \"x + \" + str(round(intercept,2))\n",
    "plt.scatter(x_values,y_values)\n",
    "plt.plot(x_values,regress_values,\"r-\")\n",
    "plt.annotate(line_eq,(-30,7),fontsize=15,color=\"red\")\n",
    "plt.xlabel('Latitude')\n",
    "plt.ylabel('Wind Speed')\n",
    "print(f\"The r-squared is: {rvalue}\")\n",
    "plt.savefig('output_data/Linear Regression/Southern Hem_Wind Speed (mph) vs Lat.png')\n",
    "plt.show()"
   ]
  },
  {
   "cell_type": "code",
   "execution_count": null,
   "metadata": {},
   "outputs": [],
   "source": []
  }
 ],
 "metadata": {
  "anaconda-cloud": {},
  "kernel_info": {
   "name": "python3"
  },
  "kernelspec": {
   "display_name": "Python 3",
   "language": "python",
   "name": "python3"
  },
  "language_info": {
   "codemirror_mode": {
    "name": "ipython",
    "version": 3
   },
   "file_extension": ".py",
   "mimetype": "text/x-python",
   "name": "python",
   "nbconvert_exporter": "python",
   "pygments_lexer": "ipython3",
   "version": "3.7.4"
  },
  "latex_envs": {
   "LaTeX_envs_menu_present": true,
   "autoclose": false,
   "autocomplete": true,
   "bibliofile": "biblio.bib",
   "cite_by": "apalike",
   "current_citInitial": 1,
   "eqLabelWithNumbers": true,
   "eqNumInitial": 1,
   "hotkeys": {
    "equation": "Ctrl-E",
    "itemize": "Ctrl-I"
   },
   "labels_anchors": false,
   "latex_user_defs": false,
   "report_style_numbering": false,
   "user_envs_cfg": false
  },
  "nteract": {
   "version": "0.12.3"
  }
 },
 "nbformat": 4,
 "nbformat_minor": 2
}

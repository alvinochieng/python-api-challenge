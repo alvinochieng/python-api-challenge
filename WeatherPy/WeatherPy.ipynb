{
 "cells": [
  {
   "cell_type": "markdown",
   "metadata": {},
   "source": [
    "# WeatherPy\n",
    "----\n",
    "\n",
    "#### Note\n",
    "* Instructions have been included for each segment. You do not have to follow them exactly, but they are included to help you think through the steps."
   ]
  },
  {
   "cell_type": "code",
   "execution_count": 1,
   "metadata": {},
   "outputs": [
    {
     "name": "stdout",
     "output_type": "stream",
     "text": [
      "Requirement already satisfied: citipy in c:\\users\\alvin\\anaconda3\\lib\\site-packages (0.0.5)\n",
      "Requirement already satisfied: kdtree>=0.12 in c:\\users\\alvin\\anaconda3\\lib\\site-packages (from citipy) (0.16)\n",
      "Note: you may need to restart the kernel to use updated packages.\n"
     ]
    }
   ],
   "source": [
    "pip install citipy"
   ]
  },
  {
   "cell_type": "code",
   "execution_count": 2,
   "metadata": {
    "scrolled": true
   },
   "outputs": [],
   "source": [
    "# Dependencies and Setup\n",
    "import matplotlib.pyplot as plt\n",
    "import pandas as pd\n",
    "import numpy as np\n",
    "import requests\n",
    "import time\n",
    "from scipy.stats import linregress\n",
    "\n",
    "# Import API key\n",
    "from api_keys import weather_api_key\n",
    "\n",
    "# Incorporated citipy to determine city based on latitude and longitude\n",
    "from citipy import citipy\n",
    "\n",
    "# Output File (CSV)\n",
    "output_data_file = \"output_data/cities.csv\"\n",
    "\n",
    "# Range of latitudes and longitudes\n",
    "lat_range = (-90, 90)\n",
    "lng_range = (-180, 180)"
   ]
  },
  {
   "cell_type": "markdown",
   "metadata": {},
   "source": [
    "## Generate Cities List"
   ]
  },
  {
   "cell_type": "code",
   "execution_count": 3,
   "metadata": {},
   "outputs": [
    {
     "data": {
      "text/plain": [
       "607"
      ]
     },
     "execution_count": 3,
     "metadata": {},
     "output_type": "execute_result"
    }
   ],
   "source": [
    "# List for holding lat_lngs and cities\n",
    "lat_lngs = []\n",
    "cities = []\n",
    "countries = []\n",
    "\n",
    "# Create a set of random lat and lng combinations\n",
    "lats = np.random.uniform(low=-90.000, high=90.000, size=1500)\n",
    "lngs = np.random.uniform(low=-180.000, high=180.000, size=1500)\n",
    "lat_lngs = zip(lats, lngs)\n",
    "\n",
    "# Identify nearest city for each lat, lng combination\n",
    "for lat_lng in lat_lngs:\n",
    "    city = citipy.nearest_city(lat_lng[0], lat_lng[1]).city_name\n",
    "    country = citipy.nearest_city(lat_lng[0], lat_lng[1]).country_code\n",
    "    # If the city is unique, then add it to a our cities list\n",
    "    if city not in cities:\n",
    "        cities.append(city)\n",
    "        countries.append(country.upper())\n",
    "\n",
    "# Print the city count to confirm sufficient count\n",
    "len(cities)"
   ]
  },
  {
   "cell_type": "code",
   "execution_count": 4,
   "metadata": {},
   "outputs": [
    {
     "data": {
      "text/html": [
       "<div>\n",
       "<style scoped>\n",
       "    .dataframe tbody tr th:only-of-type {\n",
       "        vertical-align: middle;\n",
       "    }\n",
       "\n",
       "    .dataframe tbody tr th {\n",
       "        vertical-align: top;\n",
       "    }\n",
       "\n",
       "    .dataframe thead th {\n",
       "        text-align: right;\n",
       "    }\n",
       "</style>\n",
       "<table border=\"1\" class=\"dataframe\">\n",
       "  <thead>\n",
       "    <tr style=\"text-align: right;\">\n",
       "      <th></th>\n",
       "      <th>City</th>\n",
       "      <th>Cloudiness</th>\n",
       "      <th>Country</th>\n",
       "      <th>Date</th>\n",
       "      <th>Humidity</th>\n",
       "      <th>Lat</th>\n",
       "      <th>Lng</th>\n",
       "      <th>Max Temp</th>\n",
       "      <th>Wind Speed</th>\n",
       "    </tr>\n",
       "  </thead>\n",
       "  <tbody>\n",
       "    <tr>\n",
       "      <td>0</td>\n",
       "      <td>ribeira grande</td>\n",
       "      <td></td>\n",
       "      <td>PT</td>\n",
       "      <td></td>\n",
       "      <td></td>\n",
       "      <td></td>\n",
       "      <td></td>\n",
       "      <td></td>\n",
       "      <td></td>\n",
       "    </tr>\n",
       "    <tr>\n",
       "      <td>1</td>\n",
       "      <td>dikson</td>\n",
       "      <td></td>\n",
       "      <td>RU</td>\n",
       "      <td></td>\n",
       "      <td></td>\n",
       "      <td></td>\n",
       "      <td></td>\n",
       "      <td></td>\n",
       "      <td></td>\n",
       "    </tr>\n",
       "    <tr>\n",
       "      <td>2</td>\n",
       "      <td>bengkulu</td>\n",
       "      <td></td>\n",
       "      <td>ID</td>\n",
       "      <td></td>\n",
       "      <td></td>\n",
       "      <td></td>\n",
       "      <td></td>\n",
       "      <td></td>\n",
       "      <td></td>\n",
       "    </tr>\n",
       "    <tr>\n",
       "      <td>3</td>\n",
       "      <td>taolanaro</td>\n",
       "      <td></td>\n",
       "      <td>MG</td>\n",
       "      <td></td>\n",
       "      <td></td>\n",
       "      <td></td>\n",
       "      <td></td>\n",
       "      <td></td>\n",
       "      <td></td>\n",
       "    </tr>\n",
       "    <tr>\n",
       "      <td>4</td>\n",
       "      <td>port alfred</td>\n",
       "      <td></td>\n",
       "      <td>ZA</td>\n",
       "      <td></td>\n",
       "      <td></td>\n",
       "      <td></td>\n",
       "      <td></td>\n",
       "      <td></td>\n",
       "      <td></td>\n",
       "    </tr>\n",
       "    <tr>\n",
       "      <td>5</td>\n",
       "      <td>cortez</td>\n",
       "      <td></td>\n",
       "      <td>US</td>\n",
       "      <td></td>\n",
       "      <td></td>\n",
       "      <td></td>\n",
       "      <td></td>\n",
       "      <td></td>\n",
       "      <td></td>\n",
       "    </tr>\n",
       "    <tr>\n",
       "      <td>6</td>\n",
       "      <td>punta arenas</td>\n",
       "      <td></td>\n",
       "      <td>CL</td>\n",
       "      <td></td>\n",
       "      <td></td>\n",
       "      <td></td>\n",
       "      <td></td>\n",
       "      <td></td>\n",
       "      <td></td>\n",
       "    </tr>\n",
       "    <tr>\n",
       "      <td>7</td>\n",
       "      <td>busselton</td>\n",
       "      <td></td>\n",
       "      <td>AU</td>\n",
       "      <td></td>\n",
       "      <td></td>\n",
       "      <td></td>\n",
       "      <td></td>\n",
       "      <td></td>\n",
       "      <td></td>\n",
       "    </tr>\n",
       "    <tr>\n",
       "      <td>8</td>\n",
       "      <td>hermanus</td>\n",
       "      <td></td>\n",
       "      <td>ZA</td>\n",
       "      <td></td>\n",
       "      <td></td>\n",
       "      <td></td>\n",
       "      <td></td>\n",
       "      <td></td>\n",
       "      <td></td>\n",
       "    </tr>\n",
       "    <tr>\n",
       "      <td>9</td>\n",
       "      <td>bethel</td>\n",
       "      <td></td>\n",
       "      <td>US</td>\n",
       "      <td></td>\n",
       "      <td></td>\n",
       "      <td></td>\n",
       "      <td></td>\n",
       "      <td></td>\n",
       "      <td></td>\n",
       "    </tr>\n",
       "  </tbody>\n",
       "</table>\n",
       "</div>"
      ],
      "text/plain": [
       "             City Cloudiness Country Date Humidity Lat Lng Max Temp Wind Speed\n",
       "0  ribeira grande                 PT                                          \n",
       "1          dikson                 RU                                          \n",
       "2        bengkulu                 ID                                          \n",
       "3       taolanaro                 MG                                          \n",
       "4     port alfred                 ZA                                          \n",
       "5          cortez                 US                                          \n",
       "6    punta arenas                 CL                                          \n",
       "7       busselton                 AU                                          \n",
       "8        hermanus                 ZA                                          \n",
       "9          bethel                 US                                          "
      ]
     },
     "execution_count": 4,
     "metadata": {},
     "output_type": "execute_result"
    }
   ],
   "source": [
    "weather_df = pd.DataFrame({\"City\":cities, \"Cloudiness\":'', \"Country\":countries, \"Date\":'', \"Humidity\":'',\n",
    "                           \"Lat\":'', \"Lng\":'', \"Max Temp\":'', \"Wind Speed\":''})\n",
    "weather_df.head(10)"
   ]
  },
  {
   "cell_type": "code",
   "execution_count": 5,
   "metadata": {},
   "outputs": [],
   "source": [
    "url = 'http://api.openweathermap.org/data/2.5/weather?units=imperial&q='\n",
    "count = 1\n",
    "count_set = 1"
   ]
  },
  {
   "cell_type": "markdown",
   "metadata": {},
   "source": [
    "### Perform API Calls\n",
    "* Perform a weather check on each city using a series of successive API calls.\n",
    "* Include a print log of each city as it'sbeing processed (with the city number and city name).\n"
   ]
  },
  {
   "cell_type": "code",
   "execution_count": 6,
   "metadata": {},
   "outputs": [
    {
     "name": "stdout",
     "output_type": "stream",
     "text": [
      "Begining Data Retrieval \n",
      "-----------------------\n",
      "Processing Record 1 of Set 1 | Ribeira Grande\n",
      "Processing Record 2 of Set 1 | Dikson\n",
      "Processing Record 3 of Set 1 | Bengkulu\n",
      "City not found. Skipping....\n",
      "Processing Record 4 of Set 1 | Port Alfred\n",
      "Processing Record 5 of Set 1 | Cortez\n",
      "Processing Record 6 of Set 1 | Punta Arenas\n",
      "Processing Record 7 of Set 1 | Busselton\n",
      "Processing Record 8 of Set 1 | Hermanus\n",
      "Processing Record 9 of Set 1 | Bethel\n",
      "Processing Record 10 of Set 1 | Jamestown\n",
      "Processing Record 11 of Set 1 | Sabha\n",
      "Processing Record 12 of Set 1 | Rikitea\n",
      "Processing Record 13 of Set 1 | Trapani\n",
      "Processing Record 14 of Set 1 | Ushuaia\n",
      "Processing Record 15 of Set 1 | Homer\n",
      "Processing Record 16 of Set 1 | Kaitangata\n",
      "Processing Record 17 of Set 1 | Gimli\n",
      "Processing Record 18 of Set 1 | Saint-Pierre\n",
      "Processing Record 19 of Set 1 | Vila Velha\n",
      "Processing Record 21 of Set 1 | Port Elizabeth\n",
      "Processing Record 22 of Set 1 | Barrow\n",
      "Processing Record 23 of Set 1 | Saint George\n",
      "City not found. Skipping....\n",
      "Processing Record 24 of Set 1 | Albany\n",
      "Processing Record 25 of Set 1 | Kodiak\n",
      "Processing Record 26 of Set 1 | Pyshchug\n",
      "Processing Record 27 of Set 1 | Santa Isabel do Rio Negro\n",
      "Processing Record 28 of Set 1 | Urucara\n",
      "Processing Record 29 of Set 1 | Caravelas\n",
      "Processing Record 30 of Set 1 | Mahebourg\n",
      "Processing Record 31 of Set 1 | Arraial do Cabo\n",
      "Processing Record 32 of Set 1 | Lagoa\n",
      "Processing Record 33 of Set 1 | Simpang\n",
      "Processing Record 34 of Set 1 | Tuatapere\n",
      "Processing Record 35 of Set 1 | Moron\n",
      "Processing Record 36 of Set 1 | Cape Town\n",
      "Processing Record 37 of Set 1 | Ciudad Lazaro Cardenas\n",
      "Processing Record 38 of Set 1 | Mandiana\n",
      "City not found. Skipping....\n",
      "Processing Record 39 of Set 1 | Tuktoyaktuk\n",
      "Processing Record 40 of Set 1 | Yellowknife\n",
      "City not found. Skipping....\n",
      "Processing Record 41 of Set 1 | Thompson\n",
      "Processing Record 42 of Set 1 | Bredasdorp\n",
      "Processing Record 43 of Set 1 | Ancud\n",
      "Processing Record 44 of Set 1 | Whitianga\n",
      "Processing Record 45 of Set 1 | Mucurapo\n",
      "Processing Record 46 of Set 1 | Guerrero Negro\n",
      "Processing Record 47 of Set 1 | Kaeo\n",
      "Processing Record 48 of Set 1 | Isangel\n",
      "Processing Record 49 of Set 1 | Barra\n",
      "Processing Record 50 of Set 1 | Qaanaaq\n",
      "Processing Record 51 of Set 1 | Kamensk-Ural'skiy\n",
      "Processing Record 52 of Set 1 | Cam Ranh\n",
      "Processing Record 53 of Set 1 | Faanui\n",
      "Processing Record 54 of Set 1 | Broken Hill\n",
      "Processing Record 55 of Set 1 | Grand Gaube\n",
      "Processing Record 56 of Set 1 | Baruun-Urt\n",
      "City not found. Skipping....\n",
      "Processing Record 57 of Set 1 | Kendari\n",
      "Processing Record 58 of Set 1 | Touros\n",
      "Processing Record 59 of Set 1 | Hithadhoo\n",
      "Processing Record 60 of Set 1 | Quatre Cocos\n",
      "Processing Record 61 of Set 1 | New Norfolk\n",
      "Processing Record 62 of Set 1 | Narsaq\n",
      "Processing Record 63 of Set 1 | Vostok\n",
      "Processing Record 64 of Set 1 | Atuona\n",
      "Processing Record 65 of Set 1 | Koumac\n",
      "Processing Record 66 of Set 1 | Paraguacu Paulista\n",
      "Processing Record 67 of Set 1 | Hobart\n",
      "Processing Record 68 of Set 1 | Nevsehir\n",
      "Processing Record 69 of Set 1 | Lorengau\n",
      "Processing Record 70 of Set 1 | Mucuri\n",
      "Processing Record 71 of Set 1 | Evensk\n",
      "Processing Record 72 of Set 1 | Hilo\n",
      "Processing Record 73 of Set 1 | Beringovskiy\n",
      "Processing Record 74 of Set 1 | Son La\n",
      "Processing Record 75 of Set 1 | Bluff\n",
      "City not found. Skipping....\n",
      "Processing Record 76 of Set 1 | Bhanpura\n",
      "Processing Record 77 of Set 1 | Norman Wells\n",
      "Processing Record 78 of Set 1 | Maniitsoq\n",
      "Processing Record 79 of Set 1 | Palana\n",
      "Processing Record 80 of Set 1 | Westport\n",
      "Processing Record 81 of Set 1 | Luderitz\n",
      "Processing Record 82 of Set 1 | Atar\n",
      "Processing Record 83 of Set 1 | Mugur-Aksy\n",
      "Processing Record 84 of Set 1 | Butaritari\n",
      "Processing Record 85 of Set 1 | Hailin\n",
      "Processing Record 86 of Set 1 | Geraldton\n",
      "Processing Record 87 of Set 1 | Nanortalik\n",
      "Processing Record 88 of Set 1 | Kattivakkam\n",
      "Processing Record 89 of Set 1 | Kayattar\n",
      "Processing Record 90 of Set 1 | Nhulunbuy\n",
      "Processing Record 91 of Set 1 | Praia da Vitoria\n",
      "Processing Record 92 of Set 1 | Vaini\n",
      "Processing Record 93 of Set 1 | Cidreira\n",
      "Processing Record 94 of Set 1 | Nantucket\n",
      "City not found. Skipping....\n",
      "Processing Record 95 of Set 1 | Chimoio\n",
      "Processing Record 96 of Set 1 | Rundu\n",
      "Processing Record 97 of Set 1 | Alyangula\n",
      "Processing Record 98 of Set 1 | Nouadhibou\n",
      "Processing Record 99 of Set 1 | Vao\n",
      "Processing Record 100 of Set 1 | Sitka\n",
      "Processing Record 101 of Set 1 | Goundam\n",
      "Processing Record 102 of Set 1 | Nikolskoye\n",
      "Processing Record 103 of Set 1 | Belmonte\n",
      "City not found. Skipping....\n",
      "Processing Record 104 of Set 1 | Avarua\n",
      "Processing Record 105 of Set 1 | Matara\n",
      "Processing Record 106 of Set 1 | Castro\n",
      "City not found. Skipping....\n",
      "Processing Record 107 of Set 1 | Muroto\n",
      "Processing Record 108 of Set 1 | Enshi\n",
      "City not found. Skipping....\n",
      "Processing Record 109 of Set 1 | Yerofey Pavlovich\n",
      "Processing Record 110 of Set 1 | Vanimo\n",
      "Processing Record 111 of Set 1 | Ihosy\n",
      "Processing Record 112 of Set 1 | Bonnyville\n",
      "Processing Record 113 of Set 1 | Sorland\n",
      "Processing Record 114 of Set 1 | Waipawa\n",
      "City not found. Skipping....\n",
      "Processing Record 115 of Set 1 | Esperance\n",
      "Processing Record 116 of Set 1 | Naze\n",
      "Processing Record 117 of Set 1 | Moindou\n",
      "Processing Record 118 of Set 1 | Mar del Plata\n",
      "Processing Record 119 of Set 1 | Arkhipo-Osipovka\n",
      "Processing Record 120 of Set 1 | Santa Maria Magdalena Ocotitlan\n",
      "Processing Record 121 of Set 1 | Chui\n",
      "Processing Record 122 of Set 1 | Katsuura\n",
      "Processing Record 123 of Set 1 | Loreto\n",
      "Processing Record 124 of Set 1 | Balabac\n",
      "Processing Record 125 of Set 1 | Obama\n",
      "Processing Record 126 of Set 1 | Hammerfest\n",
      "City not found. Skipping....\n",
      "City not found. Skipping....\n",
      "Processing Record 127 of Set 1 | Aleksandrovka\n",
      "Processing Record 128 of Set 1 | Laredo\n",
      "Processing Record 129 of Set 1 | Kapaa\n",
      "Processing Record 130 of Set 1 | Lapta\n",
      "Processing Record 131 of Set 1 | Te Anau\n",
      "Processing Record 132 of Set 1 | Vung Tau\n",
      "Processing Record 133 of Set 1 | Ilulissat\n",
      "Processing Record 134 of Set 1 | Wundanyi\n",
      "Processing Record 135 of Set 1 | Ojinaga\n",
      "Processing Record 136 of Set 1 | Mattru\n",
      "Processing Record 137 of Set 1 | Puerto Ayora\n",
      "Processing Record 138 of Set 1 | Longyearbyen\n",
      "City not found. Skipping....\n",
      "Processing Record 139 of Set 1 | Georgetown\n",
      "Processing Record 140 of Set 1 | 'Ahuimanu\n",
      "Processing Record 141 of Set 1 | Tasiilaq\n",
      "City not found. Skipping....\n",
      "Processing Record 142 of Set 1 | Pozo Colorado\n",
      "Processing Record 143 of Set 1 | Margate\n",
      "Processing Record 144 of Set 1 | East London\n",
      "City not found. Skipping....\n",
      "Processing Record 145 of Set 1 | Emirdag\n",
      "Processing Record 146 of Set 1 | Kahului\n",
      "Processing Record 147 of Set 1 | Olga\n",
      "Processing Record 148 of Set 1 | Kutum\n",
      "Processing Record 149 of Set 1 | Polonnaruwa\n",
      "Processing Record 150 of Set 1 | Kannauj\n",
      "Processing Record 151 of Set 1 | Tautira\n",
      "Processing Record 152 of Set 1 | Moreno\n",
      "City not found. Skipping....\n",
      "Processing Record 153 of Set 1 | Alappuzha\n",
      "Processing Record 154 of Set 1 | Moche\n",
      "Processing Record 155 of Set 1 | Tura\n",
      "Processing Record 156 of Set 1 | Emerald\n",
      "Processing Record 157 of Set 1 | Manbij\n",
      "Processing Record 158 of Set 1 | Chake Chake\n",
      "Processing Record 159 of Set 1 | Adrar\n",
      "Processing Record 160 of Set 1 | Cabedelo\n",
      "City not found. Skipping....\n",
      "Processing Record 161 of Set 1 | Tezu\n",
      "City not found. Skipping....\n",
      "Processing Record 162 of Set 1 | Dingle\n",
      "Processing Record 163 of Set 1 | Hailar\n",
      "Processing Record 164 of Set 1 | Yumen\n",
      "Processing Record 165 of Set 1 | Vikhorevka\n",
      "Processing Record 166 of Set 1 | Severo-Kuril'sk\n",
      "Processing Record 167 of Set 1 | Lebu\n",
      "Processing Record 168 of Set 1 | Shenkursk\n",
      "Processing Record 169 of Set 1 | Gouyave\n",
      "Processing Record 170 of Set 1 | Vestmannaeyjar\n",
      "City not found. Skipping....\n",
      "City not found. Skipping....\n",
      "Processing Record 171 of Set 1 | Gornopravdinsk\n",
      "Processing Record 172 of Set 1 | Kieta\n",
      "Processing Record 173 of Set 1 | Galesong\n",
      "City not found. Skipping....\n",
      "Processing Record 174 of Set 1 | Moose Factory\n",
      "Processing Record 175 of Set 1 | Upernavik\n",
      "Processing Record 176 of Set 1 | Walvis Bay\n",
      "Processing Record 177 of Set 1 | Belaya Gora\n",
      "Processing Record 178 of Set 1 | Litovko\n",
      "Processing Record 179 of Set 1 | Lavrentiya\n",
      "Processing Record 180 of Set 1 | Christchurch\n",
      "Processing Record 181 of Set 1 | Tiksi\n",
      "Processing Record 182 of Set 1 | Klaksvik\n"
     ]
    },
    {
     "name": "stdout",
     "output_type": "stream",
     "text": [
      "Processing Record 183 of Set 1 | Komsomolskiy\n",
      "Processing Record 184 of Set 1 | Vallenar\n",
      "Processing Record 185 of Set 1 | Khatanga\n",
      "Processing Record 186 of Set 1 | Leningradskiy\n",
      "Processing Record 187 of Set 1 | Broome\n",
      "Processing Record 188 of Set 1 | Yerbogachen\n",
      "Processing Record 189 of Set 1 | Shenjiamen\n",
      "Processing Record 190 of Set 1 | Trairi\n",
      "Processing Record 191 of Set 1 | Borogontsy\n",
      "Processing Record 192 of Set 1 | Mandan\n",
      "Processing Record 193 of Set 1 | Lagunas\n",
      "Processing Record 194 of Set 1 | Boa Vista\n",
      "Processing Record 195 of Set 1 | Candolim\n",
      "City not found. Skipping....\n",
      "Processing Record 196 of Set 1 | Hobyo\n",
      "City not found. Skipping....\n",
      "Processing Record 197 of Set 1 | Heyang\n",
      "Processing Record 198 of Set 1 | Tual\n",
      "Processing Record 199 of Set 1 | Pisco\n",
      "Processing Record 200 of Set 1 | Berlevag\n",
      "Processing Record 201 of Set 1 | Carnarvon\n",
      "Processing Record 202 of Set 1 | Shymkent\n",
      "Processing Record 203 of Set 1 | Alice Springs\n",
      "Processing Record 204 of Set 1 | Bertoua\n",
      "City not found. Skipping....\n",
      "Processing Record 205 of Set 1 | Sangmelima\n",
      "Processing Record 206 of Set 1 | Daru\n",
      "Processing Record 207 of Set 1 | Ust-Kuyga\n",
      "City not found. Skipping....\n",
      "Processing Record 208 of Set 1 | Sestri Levante\n",
      "Processing Record 209 of Set 1 | Ushtobe\n",
      "Processing Record 210 of Set 1 | Yamaga\n",
      "Processing Record 211 of Set 1 | Mamou\n",
      "Processing Record 212 of Set 1 | Bollnaes\n",
      "City not found. Skipping....\n",
      "Processing Record 213 of Set 1 | Chokurdakh\n",
      "Processing Record 214 of Set 1 | Anamur\n",
      "Processing Record 215 of Set 1 | Ponta do Sol\n",
      "City not found. Skipping....\n",
      "Processing Record 216 of Set 1 | Kununurra\n",
      "Processing Record 217 of Set 1 | Moscow\n",
      "Processing Record 218 of Set 1 | Bonavista\n",
      "Processing Record 219 of Set 1 | Chilca\n",
      "Processing Record 220 of Set 1 | Zambezi\n",
      "Processing Record 221 of Set 1 | Morristown\n",
      "Processing Record 222 of Set 1 | Port-Gentil\n",
      "Processing Record 223 of Set 1 | El Triunfo\n",
      "Processing Record 224 of Set 1 | Chapais\n",
      "City not found. Skipping....\n",
      "Processing Record 225 of Set 1 | Batemans Bay\n",
      "Processing Record 226 of Set 1 | Abbeville\n",
      "Processing Record 227 of Set 1 | Viedma\n",
      "Processing Record 228 of Set 1 | Jalu\n",
      "Processing Record 229 of Set 1 | Hasaki\n",
      "City not found. Skipping....\n",
      "Processing Record 230 of Set 1 | Najran\n",
      "Processing Record 231 of Set 1 | Bolshaya Dzhalga\n",
      "Processing Record 232 of Set 1 | Herre\n",
      "Processing Record 233 of Set 1 | Egvekinot\n",
      "City not found. Skipping....\n",
      "Processing Record 234 of Set 1 | Williston\n",
      "Processing Record 235 of Set 1 | Fort Nelson\n",
      "Processing Record 236 of Set 1 | Chulym\n",
      "City not found. Skipping....\n",
      "Processing Record 237 of Set 1 | Torbay\n",
      "Processing Record 238 of Set 1 | Angul\n",
      "Processing Record 239 of Set 1 | Lompoc\n",
      "Processing Record 240 of Set 1 | Dunedin\n",
      "Processing Record 241 of Set 1 | Tabou\n",
      "Processing Record 242 of Set 1 | Toamasina\n",
      "Processing Record 243 of Set 1 | Calhoun\n",
      "Processing Record 244 of Set 1 | Porto Belo\n",
      "Processing Record 245 of Set 1 | Batagay-Alyta\n",
      "Processing Record 246 of Set 1 | Roura\n",
      "Processing Record 247 of Set 1 | Salalah\n",
      "Processing Record 248 of Set 1 | Kloulklubed\n",
      "City not found. Skipping....\n",
      "Processing Record 249 of Set 1 | Sulangan\n",
      "Processing Record 250 of Set 1 | Cap Malheureux\n",
      "Processing Record 251 of Set 1 | Paka\n",
      "Processing Record 252 of Set 1 | Cherskiy\n",
      "Processing Record 253 of Set 1 | Saint-Joseph\n",
      "Processing Record 254 of Set 1 | Valparaiso\n",
      "Processing Record 255 of Set 1 | Berbera\n",
      "Processing Record 256 of Set 1 | Kathu\n",
      "Processing Record 257 of Set 1 | Blairmore\n",
      "Processing Record 258 of Set 1 | Rafai\n",
      "Processing Record 259 of Set 1 | Zhigansk\n",
      "Processing Record 260 of Set 1 | Victoria\n",
      "Processing Record 261 of Set 1 | Saskylakh\n",
      "Processing Record 262 of Set 1 | Ahipara\n",
      "Processing Record 263 of Set 1 | Acarau\n",
      "Processing Record 264 of Set 1 | Colac\n",
      "Processing Record 265 of Set 1 | Nome\n",
      "City not found. Skipping....\n",
      "Processing Record 266 of Set 1 | Ketchikan\n",
      "Processing Record 267 of Set 1 | Katangli\n",
      "Processing Record 268 of Set 1 | San Luis\n",
      "Processing Record 269 of Set 1 | Calabozo\n",
      "Processing Record 270 of Set 1 | Taoudenni\n",
      "Processing Record 271 of Set 1 | Mbeya\n",
      "Processing Record 272 of Set 1 | Meulaboh\n",
      "Processing Record 273 of Set 1 | Bubaque\n",
      "Processing Record 274 of Set 1 | Kawalu\n",
      "Processing Record 275 of Set 1 | Hare Bay\n",
      "Processing Record 276 of Set 1 | Key West\n",
      "City not found. Skipping....\n",
      "City not found. Skipping....\n",
      "Processing Record 277 of Set 1 | Jasper\n",
      "Processing Record 278 of Set 1 | Dali\n",
      "Processing Record 279 of Set 1 | Hilton Head\n",
      "Processing Record 280 of Set 1 | Talakan\n",
      "Processing Record 281 of Set 1 | Mayo\n",
      "Processing Record 282 of Set 1 | Bambous Virieux\n",
      "City not found. Skipping....\n",
      "Processing Record 283 of Set 1 | Rio Grande\n",
      "Processing Record 284 of Set 1 | Sampit\n",
      "Processing Record 285 of Set 1 | Mikhaylovka\n",
      "Processing Record 286 of Set 1 | Douentza\n",
      "Processing Record 287 of Set 1 | Beloha\n",
      "Processing Record 288 of Set 1 | Launceston\n",
      "Processing Record 289 of Set 1 | Kimbe\n",
      "Processing Record 290 of Set 1 | San Juan\n",
      "Processing Record 291 of Set 1 | Kargasok\n",
      "City not found. Skipping....\n",
      "Processing Record 292 of Set 1 | Kangundo\n",
      "Processing Record 293 of Set 1 | Fortuna\n",
      "Processing Record 294 of Set 1 | Arti\n",
      "Processing Record 295 of Set 1 | Rocha\n",
      "Processing Record 296 of Set 1 | Wuwei\n",
      "City not found. Skipping....\n",
      "Processing Record 297 of Set 1 | Kruisfontein\n",
      "Processing Record 298 of Set 1 | Palauig\n",
      "Processing Record 299 of Set 1 | Vangaindrano\n",
      "Processing Record 300 of Set 1 | Oktyabrskoye\n",
      "Processing Record 301 of Set 1 | Hibbing\n",
      "City not found. Skipping....\n",
      "City not found. Skipping....\n",
      "Processing Record 302 of Set 1 | Kifri\n",
      "Processing Record 303 of Set 1 | Laguna\n",
      "Processing Record 304 of Set 1 | Okakarara\n",
      "Processing Record 305 of Set 1 | Gazalkent\n",
      "Processing Record 306 of Set 1 | Suna\n",
      "Processing Record 307 of Set 1 | Paris\n",
      "City not found. Skipping....\n",
      "Processing Record 308 of Set 1 | Harbour Breton\n",
      "Processing Record 309 of Set 1 | Praia\n",
      "Processing Record 310 of Set 1 | Sabang\n",
      "Processing Record 311 of Set 1 | Esim\n",
      "Processing Record 312 of Set 1 | Manaure\n",
      "Processing Record 313 of Set 1 | Kupang\n",
      "Processing Record 314 of Set 1 | Nemuro\n",
      "Processing Record 315 of Set 1 | Biak\n",
      "Processing Record 316 of Set 1 | Chumikan\n",
      "City not found. Skipping....\n",
      "Processing Record 317 of Set 1 | Fairbanks\n",
      "Processing Record 318 of Set 1 | Valle Hermoso\n",
      "Processing Record 319 of Set 1 | Ekhabi\n",
      "Processing Record 320 of Set 1 | Bereket\n",
      "Processing Record 321 of Set 1 | Svetlaya\n",
      "Processing Record 322 of Set 1 | Yazd\n",
      "Processing Record 323 of Set 1 | San Patricio\n",
      "Processing Record 324 of Set 1 | Lukovo\n",
      "Processing Record 325 of Set 1 | Sao Filipe\n",
      "Processing Record 326 of Set 1 | Soe\n",
      "Processing Record 327 of Set 1 | Rancho Palos Verdes\n",
      "Processing Record 328 of Set 1 | College\n",
      "Processing Record 329 of Set 1 | Dixon\n",
      "City not found. Skipping....\n",
      "Processing Record 330 of Set 1 | Bilma\n",
      "Processing Record 331 of Set 1 | Kiunga\n",
      "Processing Record 332 of Set 1 | Vila Franca do Campo\n",
      "Processing Record 333 of Set 1 | Byron Bay\n",
      "Processing Record 334 of Set 1 | Cheney\n",
      "Processing Record 335 of Set 1 | Maceio\n",
      "Processing Record 336 of Set 1 | Staryy Nadym\n",
      "Processing Record 337 of Set 1 | Karatau\n",
      "Processing Record 338 of Set 1 | Calama\n",
      "Processing Record 339 of Set 1 | Saint-Philippe\n",
      "Processing Record 340 of Set 1 | Ixtapa\n",
      "Processing Record 341 of Set 1 | Half Moon Bay\n",
      "Processing Record 342 of Set 1 | Manta\n",
      "Processing Record 343 of Set 1 | San Felipe\n",
      "Processing Record 344 of Set 1 | Mopti\n",
      "Processing Record 345 of Set 1 | Charters Towers\n",
      "Processing Record 346 of Set 1 | Takoradze\n",
      "Processing Record 347 of Set 1 | Deputatsky\n",
      "Processing Record 348 of Set 1 | Makakilo City\n",
      "Processing Record 349 of Set 1 | Tambopata\n",
      "Processing Record 350 of Set 1 | Racoviteni\n",
      "City not found. Skipping....\n",
      "Processing Record 351 of Set 1 | Saldanha\n",
      "Processing Record 352 of Set 1 | Yulara\n",
      "Processing Record 353 of Set 1 | Iqaluit\n",
      "Processing Record 354 of Set 1 | Santa Cruz de Barahona\n",
      "Processing Record 355 of Set 1 | Sao Joao da Barra\n",
      "Processing Record 356 of Set 1 | Dwarka\n",
      "Processing Record 357 of Set 1 | Pimentel\n",
      "Processing Record 358 of Set 1 | Hofn\n",
      "Processing Record 359 of Set 1 | Amga\n",
      "Processing Record 360 of Set 1 | Mahajanga\n",
      "Processing Record 361 of Set 1 | Ostrovnoy\n",
      "Processing Record 362 of Set 1 | Salo\n"
     ]
    },
    {
     "name": "stdout",
     "output_type": "stream",
     "text": [
      "Processing Record 363 of Set 1 | Charyshskoye\n",
      "City not found. Skipping....\n",
      "Processing Record 364 of Set 1 | Dzilam Gonzalez\n",
      "Processing Record 365 of Set 1 | Griffith\n",
      "Processing Record 366 of Set 1 | Ducheng\n",
      "Processing Record 367 of Set 1 | Santa Maria\n",
      "Processing Record 368 of Set 1 | Cururupu\n",
      "Processing Record 369 of Set 1 | Garden City\n",
      "Processing Record 370 of Set 1 | Satellite Beach\n",
      "Processing Record 371 of Set 1 | Menongue\n",
      "Processing Record 372 of Set 1 | Mizque\n",
      "Processing Record 373 of Set 1 | Huarmey\n",
      "Processing Record 374 of Set 1 | Honiara\n",
      "Processing Record 375 of Set 1 | Katima Mulilo\n",
      "Processing Record 376 of Set 1 | Neryungri\n",
      "Processing Record 377 of Set 1 | Ravar\n",
      "Processing Record 378 of Set 1 | Mackay\n",
      "Processing Record 379 of Set 1 | Tandil\n",
      "City not found. Skipping....\n",
      "Processing Record 380 of Set 1 | Smithers\n",
      "Processing Record 381 of Set 1 | Port Macquarie\n",
      "Processing Record 382 of Set 1 | Bundaberg\n",
      "Processing Record 383 of Set 1 | Itarema\n",
      "Processing Record 384 of Set 1 | Juneau\n",
      "Processing Record 385 of Set 1 | Yashan\n",
      "Processing Record 386 of Set 1 | Parana\n",
      "Processing Record 387 of Set 1 | Baie-Comeau\n",
      "Processing Record 388 of Set 1 | Ngunguru\n",
      "Processing Record 389 of Set 1 | Nishihara\n",
      "Processing Record 390 of Set 1 | Kavieng\n",
      "Processing Record 391 of Set 1 | Vanavara\n",
      "Processing Record 392 of Set 1 | La Asuncion\n",
      "Processing Record 393 of Set 1 | Talnakh\n",
      "Processing Record 394 of Set 1 | Thanh Hoa\n",
      "Processing Record 395 of Set 1 | Indramayu\n",
      "Processing Record 396 of Set 1 | Vilhena\n",
      "Processing Record 397 of Set 1 | Sumbe\n",
      "Processing Record 398 of Set 1 | Muravlenko\n",
      "Processing Record 399 of Set 1 | Abu Kamal\n",
      "Processing Record 400 of Set 1 | Namatanai\n",
      "Processing Record 401 of Set 1 | Guiratinga\n",
      "Processing Record 402 of Set 1 | Champerico\n",
      "Processing Record 403 of Set 1 | Poum\n",
      "Processing Record 404 of Set 1 | Bonthe\n",
      "Processing Record 405 of Set 1 | Vengerovo\n",
      "Processing Record 406 of Set 1 | Bandarbeyla\n",
      "Processing Record 407 of Set 1 | Berdigestyakh\n",
      "Processing Record 408 of Set 1 | Iquitos\n",
      "Processing Record 409 of Set 1 | Mogadishu\n",
      "Processing Record 410 of Set 1 | Kenai\n",
      "Processing Record 411 of Set 1 | Wiarton\n",
      "Processing Record 412 of Set 1 | Maturin\n",
      "Processing Record 413 of Set 1 | Richards Bay\n",
      "Processing Record 414 of Set 1 | Yining\n",
      "Processing Record 415 of Set 1 | Wattegama\n",
      "Processing Record 416 of Set 1 | Necochea\n",
      "Processing Record 417 of Set 1 | Haileybury\n",
      "Processing Record 418 of Set 1 | Kemi\n",
      "Processing Record 419 of Set 1 | Baracoa\n",
      "Processing Record 420 of Set 1 | Sangar\n",
      "Processing Record 421 of Set 1 | Otofuke\n",
      "Processing Record 422 of Set 1 | Bomi\n",
      "City not found. Skipping....\n",
      "Processing Record 423 of Set 1 | Estelle\n",
      "City not found. Skipping....\n",
      "Processing Record 424 of Set 1 | Sarkand\n",
      "Processing Record 425 of Set 1 | Warri\n",
      "Processing Record 426 of Set 1 | Nassau\n",
      "Processing Record 427 of Set 1 | Merowe\n",
      "Processing Record 428 of Set 1 | Plettenberg Bay\n",
      "Processing Record 429 of Set 1 | Olafsvik\n",
      "Processing Record 430 of Set 1 | Vardo\n",
      "City not found. Skipping....\n",
      "City not found. Skipping....\n",
      "Processing Record 431 of Set 1 | Jinji\n",
      "Processing Record 432 of Set 1 | Cartagena\n",
      "Processing Record 433 of Set 1 | Taksimo\n",
      "Processing Record 434 of Set 1 | Springdale\n",
      "Processing Record 435 of Set 1 | Emba\n",
      "Processing Record 436 of Set 1 | Point Pedro\n",
      "Processing Record 437 of Set 1 | Bilibino\n",
      "Processing Record 438 of Set 1 | Hambantota\n",
      "Processing Record 439 of Set 1 | Innisfail\n",
      "Processing Record 440 of Set 1 | Nasirabad\n",
      "Processing Record 441 of Set 1 | Monrovia\n",
      "Processing Record 442 of Set 1 | Russell\n",
      "Processing Record 443 of Set 1 | Singkawang\n",
      "Processing Record 444 of Set 1 | Koroni\n",
      "Processing Record 445 of Set 1 | Ipixuna\n",
      "Processing Record 446 of Set 1 | Honningsvag\n",
      "Processing Record 447 of Set 1 | Rio Gallegos\n",
      "Processing Record 448 of Set 1 | Beira\n",
      "Processing Record 449 of Set 1 | Port Blair\n",
      "Processing Record 450 of Set 1 | Coahuayana Viejo\n",
      "Processing Record 451 of Set 1 | George Town\n",
      "City not found. Skipping....\n",
      "Processing Record 452 of Set 1 | Arlit\n",
      "Processing Record 453 of Set 1 | Asosa\n",
      "Processing Record 454 of Set 1 | Antofagasta\n",
      "Processing Record 455 of Set 1 | Kalaleh\n",
      "Processing Record 456 of Set 1 | Kismayo\n",
      "City not found. Skipping....\n",
      "Processing Record 457 of Set 1 | Whitehorse\n",
      "Processing Record 458 of Set 1 | Cumberland\n",
      "Processing Record 459 of Set 1 | Saint-Donat-de-Montcalm\n",
      "Processing Record 460 of Set 1 | Mount Pleasant\n",
      "Processing Record 461 of Set 1 | Taywarah\n",
      "Processing Record 462 of Set 1 | Banswada\n",
      "Processing Record 463 of Set 1 | Nagua\n",
      "City not found. Skipping....\n",
      "Processing Record 464 of Set 1 | Qaqortoq\n",
      "Processing Record 465 of Set 1 | Clyde River\n",
      "Processing Record 466 of Set 1 | Mehamn\n",
      "Processing Record 467 of Set 1 | Leningradskaya\n",
      "Processing Record 468 of Set 1 | San Quintin\n",
      "Processing Record 469 of Set 1 | Fengrun\n",
      "Processing Record 470 of Set 1 | Martos\n",
      "Processing Record 471 of Set 1 | Yershov\n",
      "Processing Record 472 of Set 1 | Mukhen\n",
      "Processing Record 473 of Set 1 | Gorele\n",
      "City not found. Skipping....\n",
      "Processing Record 474 of Set 1 | Mehran\n",
      "Processing Record 475 of Set 1 | Lithakia\n",
      "Processing Record 476 of Set 1 | Muzhi\n",
      "Processing Record 477 of Set 1 | Turukhansk\n",
      "Processing Record 478 of Set 1 | Sucua\n",
      "Processing Record 479 of Set 1 | Obo\n",
      "Processing Record 480 of Set 1 | Hudson Bay\n",
      "Processing Record 481 of Set 1 | Pevek\n",
      "Processing Record 482 of Set 1 | Port Hardy\n",
      "Processing Record 483 of Set 1 | Muros\n",
      "Processing Record 484 of Set 1 | Spirit River\n",
      "Processing Record 485 of Set 1 | Olinda\n",
      "Processing Record 486 of Set 1 | Kangaatsiaq\n",
      "Processing Record 487 of Set 1 | Jinchang\n",
      "Processing Record 488 of Set 1 | Yanam\n",
      "Processing Record 489 of Set 1 | Padang\n",
      "Processing Record 490 of Set 1 | Mapiri\n",
      "Processing Record 491 of Set 1 | Palmer\n",
      "Processing Record 492 of Set 1 | Lavaca\n",
      "Processing Record 493 of Set 1 | Uchaly\n",
      "Processing Record 494 of Set 1 | Ossora\n",
      "Processing Record 495 of Set 1 | Melo\n",
      "Processing Record 496 of Set 1 | Los Andes\n",
      "Processing Record 497 of Set 1 | Coldwater\n",
      "Processing Record 498 of Set 1 | Prince Rupert\n",
      "Processing Record 499 of Set 1 | Hualmay\n",
      "Processing Record 500 of Set 1 | Taitung City\n",
      "Processing Record 501 of Set 1 | Kumul\n",
      "Processing Record 502 of Set 1 | Aswan\n",
      "Processing Record 503 of Set 1 | Banyo\n",
      "City not found. Skipping....\n",
      "Processing Record 504 of Set 1 | Labuhan\n",
      "Processing Record 505 of Set 1 | Provideniya\n",
      "Processing Record 506 of Set 1 | Salym\n",
      "Processing Record 507 of Set 1 | Andros Town\n",
      "Processing Record 508 of Set 1 | Wilmington Island\n",
      "City not found. Skipping....\n",
      "Processing Record 509 of Set 1 | Hermagor\n",
      "City not found. Skipping....\n",
      "Processing Record 510 of Set 1 | Leiva\n",
      "Processing Record 511 of Set 1 | Buala\n",
      "Processing Record 512 of Set 1 | Kudahuvadhoo\n",
      "Processing Record 513 of Set 1 | Kokstad\n",
      "Processing Record 514 of Set 1 | Tefe\n",
      "Processing Record 515 of Set 1 | Tera\n",
      "Processing Record 516 of Set 1 | Azare\n",
      "Processing Record 517 of Set 1 | Waingapu\n",
      "Processing Record 518 of Set 1 | Verkhnyaya Toyma\n",
      "Processing Record 519 of Set 1 | Camacha\n",
      "Processing Record 520 of Set 1 | Luwuk\n",
      "City not found. Skipping....\n",
      "Processing Record 521 of Set 1 | Deep River\n",
      "Processing Record 522 of Set 1 | Sibolga\n",
      "Processing Record 523 of Set 1 | Filadelfia\n",
      "Processing Record 524 of Set 1 | Srednekolymsk\n",
      "Processing Record 525 of Set 1 | Velyka Oleksandrivka\n",
      "Processing Record 526 of Set 1 | Lensk\n",
      "Processing Record 527 of Set 1 | Swan Hill\n",
      "Processing Record 528 of Set 1 | Tsiroanomandidy\n",
      "Processing Record 529 of Set 1 | Veraval\n",
      "City not found. Skipping....\n",
      "City not found. Skipping....\n",
      "Processing Record 530 of Set 1 | General Roca\n",
      "Processing Record 531 of Set 1 | Sidi Ali\n",
      "Processing Record 532 of Set 1 | Ranfurly\n",
      "Processing Record 533 of Set 1 | Murino\n",
      "Processing Record 534 of Set 1 | Mareeba\n",
      "Processing Record 535 of Set 1 | Tobol\n",
      "Processing Record 536 of Set 1 | The Valley\n",
      "Processing Record 537 of Set 1 | Ayagoz\n",
      "Processing Record 538 of Set 1 | Saint-Junien\n",
      "Processing Record 539 of Set 1 | Sungurlu\n",
      "Processing Record 540 of Set 1 | Tres Arroyos\n",
      "Processing Record 541 of Set 1 | Husavik\n",
      "Processing Record 542 of Set 1 | Ola\n",
      "City not found. Skipping....\n",
      "Processing Record 543 of Set 1 | Portland\n",
      "Processing Record 544 of Set 1 | Nago\n",
      "Processing Record 545 of Set 1 | Minchianabad\n"
     ]
    },
    {
     "name": "stdout",
     "output_type": "stream",
     "text": [
      "Processing Record 546 of Set 1 | Djibouti\n",
      "------------------------\n",
      " Data Retrieval Complete \n",
      "--------------------------\n"
     ]
    }
   ],
   "source": [
    " print(\"Begining Data Retrieval \\n-----------------------\")\n",
    "    \n",
    "for index, row in weather_df.iterrows():\n",
    "    \n",
    "    query_url = url + row[\"City\"] + ',' + row[\"Country\"] + \"&appid=\" + weather_api_key \n",
    "    \n",
    "    response = requests.get(query_url)\n",
    "    response_json = response.json()\n",
    "    \n",
    "    try:\n",
    "        print(f'Processing Record {count} of Set {count_set} | {response_json[\"name\"]}')\n",
    "        \n",
    "        weather_df.loc[index, \"Cloudiness\"] = response_json[\"clouds\"][\"all\"]\n",
    "        weather_df.loc[index, \"Date\"] = response_json[\"dt\"]\n",
    "        weather_df.loc[index, \"Humidity\"] = response_json[\"main\"][\"humidity\"]\n",
    "        weather_df.loc[index, \"Lat\"] = response_json[\"coord\"][\"lat\"]\n",
    "        weather_df.loc[index, \"Lng\"] = response_json[\"coord\"][\"lon\"]\n",
    "        weather_df.loc[index, \"Max Temp\"] = response_json[\"main\"][\"temp_max\"]\n",
    "        weather_df.loc[index, \"Wind Speed\"] = response_json[\"wind\"][\"speed\"]\n",
    "        \n",
    "        count += 1\n",
    "              \n",
    "    except (KeyError,):\n",
    "          print(\"City not found. Skipping....\")\n",
    "              \n",
    "    if count == 51:\n",
    "        count += 1\n",
    "        count_set = 1\n",
    "        time.sleep(60)\n",
    "    \n",
    "print(\"------------------------\\n Data Retrieval Complete \\n--------------------------\")\n"
   ]
  },
  {
   "cell_type": "markdown",
   "metadata": {},
   "source": [
    "### Convert Raw Data to DataFrame\n",
    "* Export the city data into a .csv.\n",
    "* Display the DataFrame"
   ]
  },
  {
   "cell_type": "code",
   "execution_count": 7,
   "metadata": {},
   "outputs": [],
   "source": [
    "# output to csv\n",
    "weather_df[\"Max Temp\"] = weather_df[\"Max Temp\"].replace('',np.nan)\n",
    "weather_df.dropna(axis=0, how=\"any\", inplace=True)\n",
    "\n",
    "weather_df.to_csv(\"output_data/weather_data.csv\")"
   ]
  },
  {
   "cell_type": "code",
   "execution_count": 8,
   "metadata": {},
   "outputs": [
    {
     "data": {
      "text/plain": [
       "City          545\n",
       "Cloudiness    545\n",
       "Country       545\n",
       "Date          545\n",
       "Humidity      545\n",
       "Lat           545\n",
       "Lng           545\n",
       "Max Temp      545\n",
       "Wind Speed    545\n",
       "dtype: int64"
      ]
     },
     "execution_count": 8,
     "metadata": {},
     "output_type": "execute_result"
    }
   ],
   "source": [
    "weather_df.count()"
   ]
  },
  {
   "cell_type": "code",
   "execution_count": 9,
   "metadata": {},
   "outputs": [
    {
     "data": {
      "text/html": [
       "<div>\n",
       "<style scoped>\n",
       "    .dataframe tbody tr th:only-of-type {\n",
       "        vertical-align: middle;\n",
       "    }\n",
       "\n",
       "    .dataframe tbody tr th {\n",
       "        vertical-align: top;\n",
       "    }\n",
       "\n",
       "    .dataframe thead th {\n",
       "        text-align: right;\n",
       "    }\n",
       "</style>\n",
       "<table border=\"1\" class=\"dataframe\">\n",
       "  <thead>\n",
       "    <tr style=\"text-align: right;\">\n",
       "      <th></th>\n",
       "      <th>City</th>\n",
       "      <th>Cloudiness</th>\n",
       "      <th>Country</th>\n",
       "      <th>Date</th>\n",
       "      <th>Humidity</th>\n",
       "      <th>Lat</th>\n",
       "      <th>Lng</th>\n",
       "      <th>Max Temp</th>\n",
       "      <th>Wind Speed</th>\n",
       "    </tr>\n",
       "  </thead>\n",
       "  <tbody>\n",
       "    <tr>\n",
       "      <td>0</td>\n",
       "      <td>ribeira grande</td>\n",
       "      <td>78</td>\n",
       "      <td>PT</td>\n",
       "      <td>1580271745</td>\n",
       "      <td>94</td>\n",
       "      <td>38.52</td>\n",
       "      <td>-28.7</td>\n",
       "      <td>60.12</td>\n",
       "      <td>19.71</td>\n",
       "    </tr>\n",
       "    <tr>\n",
       "      <td>1</td>\n",
       "      <td>dikson</td>\n",
       "      <td>100</td>\n",
       "      <td>RU</td>\n",
       "      <td>1580271746</td>\n",
       "      <td>95</td>\n",
       "      <td>73.51</td>\n",
       "      <td>80.55</td>\n",
       "      <td>-18.06</td>\n",
       "      <td>14.38</td>\n",
       "    </tr>\n",
       "    <tr>\n",
       "      <td>2</td>\n",
       "      <td>bengkulu</td>\n",
       "      <td>100</td>\n",
       "      <td>ID</td>\n",
       "      <td>1580271514</td>\n",
       "      <td>94</td>\n",
       "      <td>-3.8</td>\n",
       "      <td>102.27</td>\n",
       "      <td>72.45</td>\n",
       "      <td>13.62</td>\n",
       "    </tr>\n",
       "    <tr>\n",
       "      <td>4</td>\n",
       "      <td>port alfred</td>\n",
       "      <td>60</td>\n",
       "      <td>ZA</td>\n",
       "      <td>1580271516</td>\n",
       "      <td>83</td>\n",
       "      <td>-33.59</td>\n",
       "      <td>26.89</td>\n",
       "      <td>68.00</td>\n",
       "      <td>4</td>\n",
       "    </tr>\n",
       "    <tr>\n",
       "      <td>5</td>\n",
       "      <td>cortez</td>\n",
       "      <td>1</td>\n",
       "      <td>US</td>\n",
       "      <td>1580271746</td>\n",
       "      <td>79</td>\n",
       "      <td>37.35</td>\n",
       "      <td>-108.59</td>\n",
       "      <td>26.60</td>\n",
       "      <td>5.82</td>\n",
       "    </tr>\n",
       "  </tbody>\n",
       "</table>\n",
       "</div>"
      ],
      "text/plain": [
       "             City Cloudiness Country        Date Humidity    Lat     Lng  \\\n",
       "0  ribeira grande         78      PT  1580271745       94  38.52   -28.7   \n",
       "1          dikson        100      RU  1580271746       95  73.51   80.55   \n",
       "2        bengkulu        100      ID  1580271514       94   -3.8  102.27   \n",
       "4     port alfred         60      ZA  1580271516       83 -33.59   26.89   \n",
       "5          cortez          1      US  1580271746       79  37.35 -108.59   \n",
       "\n",
       "   Max Temp Wind Speed  \n",
       "0     60.12      19.71  \n",
       "1    -18.06      14.38  \n",
       "2     72.45      13.62  \n",
       "4     68.00          4  \n",
       "5     26.60       5.82  "
      ]
     },
     "execution_count": 9,
     "metadata": {},
     "output_type": "execute_result"
    }
   ],
   "source": [
    "weather_df.head()"
   ]
  },
  {
   "cell_type": "markdown",
   "metadata": {},
   "source": [
    "### Plotting the Data\n",
    "* Use proper labeling of the plots using plot titles (including date of analysis) and axes labels.\n",
    "* Save the plotted figures as .pngs."
   ]
  },
  {
   "cell_type": "markdown",
   "metadata": {},
   "source": [
    "#### Latitude vs. Temperature Plot"
   ]
  },
  {
   "cell_type": "code",
   "execution_count": 10,
   "metadata": {
    "scrolled": true
   },
   "outputs": [
    {
     "data": {
      "image/png": "[encoded data removed]",
      "text/plain": [
       "<Figure size 432x288 with 1 Axes>"
      ]
     },
     "metadata": {
      "needs_background": "light"
     },
     "output_type": "display_data"
    }
   ],
   "source": [
    "x_values = weather_df['Lat']\n",
    "y_values = weather_df['Max Temp']\n",
    "plt.scatter(x_values, y_values, marker='o', facecolors='blue', edgecolors=\"red\")\n",
    "plt.title(\"City Latitude vs. Max Temperature\")\n",
    "plt.ylabel(\"Max Temperature (F)\")\n",
    "plt.xlabel(\"Latitude\")\n",
    "plt.grid(True)\n",
    "plt.savefig(\"output_data/lat vs temp plot.png\")\n",
    "plt.show()"
   ]
  },
  {
   "cell_type": "markdown",
   "metadata": {},
   "source": [
    "## Lat Vs Temp\n",
    "\n",
    "The plot above is trying to establish a relationship between a city's latitude and the temperature of the area."
   ]
  },
  {
   "cell_type": "markdown",
   "metadata": {},
   "source": [
    "#### Latitude vs. Humidity Plot"
   ]
  },
  {
   "cell_type": "code",
   "execution_count": 11,
   "metadata": {},
   "outputs": [
    {
     "data": {
      "image/png": "[encoded data removed]",
      "text/plain": [
       "<Figure size 432x288 with 1 Axes>"
      ]
     },
     "metadata": {
      "needs_background": "light"
     },
     "output_type": "display_data"
    }
   ],
   "source": [
    "plt.scatter(weather_df['Lat'], weather_df['Humidity'], marker='o',facecolors='blue', edgecolors=\"red\")\n",
    "plt.title(\"City Latitude vs. Humidity\")\n",
    "plt.ylabel(\"Humidity (%)\")\n",
    "plt.xlabel(\"Latitude\")\n",
    "plt.grid(True)\n",
    "plt.savefig(\"output_data/lat vs humidity plot.png\")\n",
    "plt.show()"
   ]
  },
  {
   "cell_type": "markdown",
   "metadata": {},
   "source": [
    "## Lat vs Humidity\n",
    "This plot tries to establish a relationship between latitude and humidity of a city."
   ]
  },
  {
   "cell_type": "markdown",
   "metadata": {},
   "source": [
    "#### Latitude vs. Cloudiness Plot"
   ]
  },
  {
   "cell_type": "code",
   "execution_count": 12,
   "metadata": {},
   "outputs": [
    {
     "data": {
      "image/png": "[encoded data removed]",
      "text/plain": [
       "<Figure size 432x288 with 1 Axes>"
      ]
     },
     "metadata": {
      "needs_background": "light"
     },
     "output_type": "display_data"
    }
   ],
   "source": [
    "plt.scatter(weather_df['Lat'], weather_df['Cloudiness'], marker='o',facecolors='blue', edgecolors=\"red\")\n",
    "\n",
    "plt.title(\"City Latitude vs. Cloudiness\")\n",
    "plt.ylabel(\"Cloudiness (%)\")\n",
    "plt.xlabel(\"Latitude\")\n",
    "plt.grid(True)\n",
    "plt.savefig(\"output_data/lat vs cloudiness plot.png\")\n",
    "plt.show()"
   ]
  },
  {
   "cell_type": "markdown",
   "metadata": {},
   "source": [
    "## Latitude vs cloudiness\n",
    "Trying to establish a relationship between Latitude and cloudiness of a city."
   ]
  },
  {
   "cell_type": "markdown",
   "metadata": {},
   "source": [
    "#### Latitude vs. Wind Speed Plot"
   ]
  },
  {
   "cell_type": "code",
   "execution_count": 13,
   "metadata": {},
   "outputs": [
    {
     "data": {
      "image/png": "[encoded data removed]",
      "text/plain": [
       "<Figure size 432x288 with 1 Axes>"
      ]
     },
     "metadata": {
      "needs_background": "light"
     },
     "output_type": "display_data"
    }
   ],
   "source": [
    "plt.scatter(weather_df['Lat'], weather_df['Wind Speed'], marker='o',facecolors='blue', edgecolors=\"red\")\n",
    "\n",
    "plt.title(\"City Latitude vs. Wind Speed\")\n",
    "plt.ylabel(\"Wind Speed (mph)\")\n",
    "plt.xlabel(\"Latitude\")\n",
    "plt.grid(True)\n",
    "plt.savefig(\"output_data/lat vs wind speed plot.png\")\n",
    "plt.show()"
   ]
  },
  {
   "cell_type": "markdown",
   "metadata": {},
   "source": [
    "## Lat vs Wind speed\n",
    "How is windspeed affected by latitude of a city?"
   ]
  },
  {
   "cell_type": "markdown",
   "metadata": {},
   "source": [
    "## Linear Regression"
   ]
  },
  {
   "cell_type": "code",
   "execution_count": 15,
   "metadata": {},
   "outputs": [
    {
     "data": {
      "text/html": [
       "<div>\n",
       "<style scoped>\n",
       "    .dataframe tbody tr th:only-of-type {\n",
       "        vertical-align: middle;\n",
       "    }\n",
       "\n",
       "    .dataframe tbody tr th {\n",
       "        vertical-align: top;\n",
       "    }\n",
       "\n",
       "    .dataframe thead th {\n",
       "        text-align: right;\n",
       "    }\n",
       "</style>\n",
       "<table border=\"1\" class=\"dataframe\">\n",
       "  <thead>\n",
       "    <tr style=\"text-align: right;\">\n",
       "      <th></th>\n",
       "      <th>City</th>\n",
       "      <th>Cloudiness</th>\n",
       "      <th>Country</th>\n",
       "      <th>Date</th>\n",
       "      <th>Humidity</th>\n",
       "      <th>Lat</th>\n",
       "      <th>Lng</th>\n",
       "      <th>Max Temp</th>\n",
       "      <th>Wind Speed</th>\n",
       "      <th>Hemisphere</th>\n",
       "    </tr>\n",
       "  </thead>\n",
       "  <tbody>\n",
       "    <tr>\n",
       "      <td>0</td>\n",
       "      <td>ribeira grande</td>\n",
       "      <td>78</td>\n",
       "      <td>PT</td>\n",
       "      <td>1580271745</td>\n",
       "      <td>94</td>\n",
       "      <td>38.52</td>\n",
       "      <td>-28.7</td>\n",
       "      <td>60.12</td>\n",
       "      <td>19.71</td>\n",
       "      <td>Nothern Hemisphere</td>\n",
       "    </tr>\n",
       "    <tr>\n",
       "      <td>1</td>\n",
       "      <td>dikson</td>\n",
       "      <td>100</td>\n",
       "      <td>RU</td>\n",
       "      <td>1580271746</td>\n",
       "      <td>95</td>\n",
       "      <td>73.51</td>\n",
       "      <td>80.55</td>\n",
       "      <td>-18.06</td>\n",
       "      <td>14.38</td>\n",
       "      <td>Nothern Hemisphere</td>\n",
       "    </tr>\n",
       "    <tr>\n",
       "      <td>2</td>\n",
       "      <td>bengkulu</td>\n",
       "      <td>100</td>\n",
       "      <td>ID</td>\n",
       "      <td>1580271514</td>\n",
       "      <td>94</td>\n",
       "      <td>-3.8</td>\n",
       "      <td>102.27</td>\n",
       "      <td>72.45</td>\n",
       "      <td>13.62</td>\n",
       "      <td>Southern Hemisphere</td>\n",
       "    </tr>\n",
       "    <tr>\n",
       "      <td>4</td>\n",
       "      <td>port alfred</td>\n",
       "      <td>60</td>\n",
       "      <td>ZA</td>\n",
       "      <td>1580271516</td>\n",
       "      <td>83</td>\n",
       "      <td>-33.59</td>\n",
       "      <td>26.89</td>\n",
       "      <td>68.00</td>\n",
       "      <td>4</td>\n",
       "      <td>Southern Hemisphere</td>\n",
       "    </tr>\n",
       "    <tr>\n",
       "      <td>5</td>\n",
       "      <td>cortez</td>\n",
       "      <td>1</td>\n",
       "      <td>US</td>\n",
       "      <td>1580271746</td>\n",
       "      <td>79</td>\n",
       "      <td>37.35</td>\n",
       "      <td>-108.59</td>\n",
       "      <td>26.60</td>\n",
       "      <td>5.82</td>\n",
       "      <td>Nothern Hemisphere</td>\n",
       "    </tr>\n",
       "  </tbody>\n",
       "</table>\n",
       "</div>"
      ],
      "text/plain": [
       "             City Cloudiness Country        Date Humidity    Lat     Lng  \\\n",
       "0  ribeira grande         78      PT  1580271745       94  38.52   -28.7   \n",
       "1          dikson        100      RU  1580271746       95  73.51   80.55   \n",
       "2        bengkulu        100      ID  1580271514       94   -3.8  102.27   \n",
       "4     port alfred         60      ZA  1580271516       83 -33.59   26.89   \n",
       "5          cortez          1      US  1580271746       79  37.35 -108.59   \n",
       "\n",
       "   Max Temp Wind Speed           Hemisphere  \n",
       "0     60.12      19.71   Nothern Hemisphere  \n",
       "1    -18.06      14.38   Nothern Hemisphere  \n",
       "2     72.45      13.62  Southern Hemisphere  \n",
       "4     68.00          4  Southern Hemisphere  \n",
       "5     26.60       5.82   Nothern Hemisphere  "
      ]
     },
     "execution_count": 15,
     "metadata": {},
     "output_type": "execute_result"
    }
   ],
   "source": [
    "# Create Northern and Southern Hemisphere DataFrames\n",
    "weather_df['Hemisphere'] = np.where(weather_df['Lat'] >= 0,'Nothern Hemisphere', 'Southern Hemisphere')\n",
    "weather_df.head()"
   ]
  },
  {
   "cell_type": "code",
   "execution_count": 16,
   "metadata": {},
   "outputs": [
    {
     "data": {
      "text/html": [
       "<div>\n",
       "<style scoped>\n",
       "    .dataframe tbody tr th:only-of-type {\n",
       "        vertical-align: middle;\n",
       "    }\n",
       "\n",
       "    .dataframe tbody tr th {\n",
       "        vertical-align: top;\n",
       "    }\n",
       "\n",
       "    .dataframe thead th {\n",
       "        text-align: right;\n",
       "    }\n",
       "</style>\n",
       "<table border=\"1\" class=\"dataframe\">\n",
       "  <thead>\n",
       "    <tr style=\"text-align: right;\">\n",
       "      <th></th>\n",
       "      <th>City</th>\n",
       "      <th>Cloudiness</th>\n",
       "      <th>Country</th>\n",
       "      <th>Date</th>\n",
       "      <th>Humidity</th>\n",
       "      <th>Lat</th>\n",
       "      <th>Lng</th>\n",
       "      <th>Max Temp</th>\n",
       "      <th>Wind Speed</th>\n",
       "      <th>Hemisphere</th>\n",
       "    </tr>\n",
       "  </thead>\n",
       "  <tbody>\n",
       "    <tr>\n",
       "      <td>0</td>\n",
       "      <td>ribeira grande</td>\n",
       "      <td>78</td>\n",
       "      <td>PT</td>\n",
       "      <td>1580271745</td>\n",
       "      <td>94</td>\n",
       "      <td>38.52</td>\n",
       "      <td>-28.7</td>\n",
       "      <td>60.12</td>\n",
       "      <td>19.71</td>\n",
       "      <td>Nothern Hemisphere</td>\n",
       "    </tr>\n",
       "    <tr>\n",
       "      <td>1</td>\n",
       "      <td>dikson</td>\n",
       "      <td>100</td>\n",
       "      <td>RU</td>\n",
       "      <td>1580271746</td>\n",
       "      <td>95</td>\n",
       "      <td>73.51</td>\n",
       "      <td>80.55</td>\n",
       "      <td>-18.06</td>\n",
       "      <td>14.38</td>\n",
       "      <td>Nothern Hemisphere</td>\n",
       "    </tr>\n",
       "    <tr>\n",
       "      <td>5</td>\n",
       "      <td>cortez</td>\n",
       "      <td>1</td>\n",
       "      <td>US</td>\n",
       "      <td>1580271746</td>\n",
       "      <td>79</td>\n",
       "      <td>37.35</td>\n",
       "      <td>-108.59</td>\n",
       "      <td>26.60</td>\n",
       "      <td>5.82</td>\n",
       "      <td>Nothern Hemisphere</td>\n",
       "    </tr>\n",
       "    <tr>\n",
       "      <td>9</td>\n",
       "      <td>bethel</td>\n",
       "      <td>90</td>\n",
       "      <td>US</td>\n",
       "      <td>1580271747</td>\n",
       "      <td>76</td>\n",
       "      <td>41.37</td>\n",
       "      <td>-73.41</td>\n",
       "      <td>37.00</td>\n",
       "      <td>4.7</td>\n",
       "      <td>Nothern Hemisphere</td>\n",
       "    </tr>\n",
       "    <tr>\n",
       "      <td>11</td>\n",
       "      <td>sabha</td>\n",
       "      <td>0</td>\n",
       "      <td>LY</td>\n",
       "      <td>1580271747</td>\n",
       "      <td>43</td>\n",
       "      <td>27.04</td>\n",
       "      <td>14.43</td>\n",
       "      <td>56.41</td>\n",
       "      <td>10.6</td>\n",
       "      <td>Nothern Hemisphere</td>\n",
       "    </tr>\n",
       "  </tbody>\n",
       "</table>\n",
       "</div>"
      ],
      "text/plain": [
       "              City Cloudiness Country        Date Humidity    Lat     Lng  \\\n",
       "0   ribeira grande         78      PT  1580271745       94  38.52   -28.7   \n",
       "1           dikson        100      RU  1580271746       95  73.51   80.55   \n",
       "5           cortez          1      US  1580271746       79  37.35 -108.59   \n",
       "9           bethel         90      US  1580271747       76  41.37  -73.41   \n",
       "11           sabha          0      LY  1580271747       43  27.04   14.43   \n",
       "\n",
       "    Max Temp Wind Speed          Hemisphere  \n",
       "0      60.12      19.71  Nothern Hemisphere  \n",
       "1     -18.06      14.38  Nothern Hemisphere  \n",
       "5      26.60       5.82  Nothern Hemisphere  \n",
       "9      37.00        4.7  Nothern Hemisphere  \n",
       "11     56.41       10.6  Nothern Hemisphere  "
      ]
     },
     "execution_count": 16,
     "metadata": {},
     "output_type": "execute_result"
    }
   ],
   "source": [
    "nothern_df = weather_df.loc[weather_df['Hemisphere'] == 'Nothern Hemisphere']\n",
    "nothern_df.head()"
   ]
  },
  {
   "cell_type": "code",
   "execution_count": 17,
   "metadata": {},
   "outputs": [
    {
     "data": {
      "text/html": [
       "<div>\n",
       "<style scoped>\n",
       "    .dataframe tbody tr th:only-of-type {\n",
       "        vertical-align: middle;\n",
       "    }\n",
       "\n",
       "    .dataframe tbody tr th {\n",
       "        vertical-align: top;\n",
       "    }\n",
       "\n",
       "    .dataframe thead th {\n",
       "        text-align: right;\n",
       "    }\n",
       "</style>\n",
       "<table border=\"1\" class=\"dataframe\">\n",
       "  <thead>\n",
       "    <tr style=\"text-align: right;\">\n",
       "      <th></th>\n",
       "      <th>City</th>\n",
       "      <th>Cloudiness</th>\n",
       "      <th>Country</th>\n",
       "      <th>Date</th>\n",
       "      <th>Humidity</th>\n",
       "      <th>Lat</th>\n",
       "      <th>Lng</th>\n",
       "      <th>Max Temp</th>\n",
       "      <th>Wind Speed</th>\n",
       "      <th>Hemisphere</th>\n",
       "    </tr>\n",
       "  </thead>\n",
       "  <tbody>\n",
       "    <tr>\n",
       "      <td>2</td>\n",
       "      <td>bengkulu</td>\n",
       "      <td>100</td>\n",
       "      <td>ID</td>\n",
       "      <td>1580271514</td>\n",
       "      <td>94</td>\n",
       "      <td>-3.8</td>\n",
       "      <td>102.27</td>\n",
       "      <td>72.45</td>\n",
       "      <td>13.62</td>\n",
       "      <td>Southern Hemisphere</td>\n",
       "    </tr>\n",
       "    <tr>\n",
       "      <td>4</td>\n",
       "      <td>port alfred</td>\n",
       "      <td>60</td>\n",
       "      <td>ZA</td>\n",
       "      <td>1580271516</td>\n",
       "      <td>83</td>\n",
       "      <td>-33.59</td>\n",
       "      <td>26.89</td>\n",
       "      <td>68.00</td>\n",
       "      <td>4</td>\n",
       "      <td>Southern Hemisphere</td>\n",
       "    </tr>\n",
       "    <tr>\n",
       "      <td>6</td>\n",
       "      <td>punta arenas</td>\n",
       "      <td>40</td>\n",
       "      <td>CL</td>\n",
       "      <td>1580271489</td>\n",
       "      <td>81</td>\n",
       "      <td>-53.15</td>\n",
       "      <td>-70.92</td>\n",
       "      <td>44.60</td>\n",
       "      <td>23.04</td>\n",
       "      <td>Southern Hemisphere</td>\n",
       "    </tr>\n",
       "    <tr>\n",
       "      <td>7</td>\n",
       "      <td>busselton</td>\n",
       "      <td>32</td>\n",
       "      <td>AU</td>\n",
       "      <td>1580271485</td>\n",
       "      <td>29</td>\n",
       "      <td>-33.65</td>\n",
       "      <td>115.33</td>\n",
       "      <td>82.99</td>\n",
       "      <td>7.54</td>\n",
       "      <td>Southern Hemisphere</td>\n",
       "    </tr>\n",
       "    <tr>\n",
       "      <td>8</td>\n",
       "      <td>hermanus</td>\n",
       "      <td>89</td>\n",
       "      <td>ZA</td>\n",
       "      <td>1580271747</td>\n",
       "      <td>95</td>\n",
       "      <td>-34.42</td>\n",
       "      <td>19.23</td>\n",
       "      <td>64.00</td>\n",
       "      <td>5.01</td>\n",
       "      <td>Southern Hemisphere</td>\n",
       "    </tr>\n",
       "  </tbody>\n",
       "</table>\n",
       "</div>"
      ],
      "text/plain": [
       "           City Cloudiness Country        Date Humidity    Lat     Lng  \\\n",
       "2      bengkulu        100      ID  1580271514       94   -3.8  102.27   \n",
       "4   port alfred         60      ZA  1580271516       83 -33.59   26.89   \n",
       "6  punta arenas         40      CL  1580271489       81 -53.15  -70.92   \n",
       "7     busselton         32      AU  1580271485       29 -33.65  115.33   \n",
       "8      hermanus         89      ZA  1580271747       95 -34.42   19.23   \n",
       "\n",
       "   Max Temp Wind Speed           Hemisphere  \n",
       "2     72.45      13.62  Southern Hemisphere  \n",
       "4     68.00          4  Southern Hemisphere  \n",
       "6     44.60      23.04  Southern Hemisphere  \n",
       "7     82.99       7.54  Southern Hemisphere  \n",
       "8     64.00       5.01  Southern Hemisphere  "
      ]
     },
     "execution_count": 17,
     "metadata": {},
     "output_type": "execute_result"
    }
   ],
   "source": [
    "southern_df = weather_df.loc[weather_df['Hemisphere'] == 'Southern Hemisphere']\n",
    "southern_df.head()"
   ]
  },
  {
   "cell_type": "markdown",
   "metadata": {},
   "source": [
    "####  Northern Hemisphere - Max Temp vs. Latitude Linear Regression"
   ]
  },
  {
   "cell_type": "code",
   "execution_count": 18,
   "metadata": {
    "scrolled": true
   },
   "outputs": [
    {
     "name": "stdout",
     "output_type": "stream",
     "text": [
      "The r-squared is: -0.9004508503583407\n"
     ]
    },
    {
     "data": {
      "image/png": "[encoded data removed]",
      "text/plain": [
       "<Figure size 432x288 with 1 Axes>"
      ]
     },
     "metadata": {
      "needs_background": "light"
     },
     "output_type": "display_data"
    }
   ],
   "source": [
    "x_values = nothern_df['Lat'].astype(int)\n",
    "y_values = nothern_df['Max Temp'].astype(int)\n",
    "(slope, intercept, rvalue, pvalue, stderr) = linregress(x_values, y_values)\n",
    "regress_values = x_values * slope + intercept\n",
    "line_eq = \"y = \" + str(round(slope,2)) + \"x + \" + str(round(intercept,2))\n",
    "plt.scatter(x_values,y_values)\n",
    "plt.plot(x_values,regress_values,\"r-\")\n",
    "plt.annotate(line_eq,(6,10),fontsize=15,color=\"red\")\n",
    "plt.xlabel('Latitude')\n",
    "plt.ylabel('Max Temp')\n",
    "print(f\"The r-squared is: {rvalue}\")\n",
    "plt.savefig('output_data/Linear Regression/Nothern Hem_Max Temp vs Lat.png')\n",
    "plt.show()"
   ]
  },
  {
   "cell_type": "markdown",
   "metadata": {},
   "source": [
    "####  Southern Hemisphere - Max Temp vs. Latitude Linear Regression"
   ]
  },
  {
   "cell_type": "code",
   "execution_count": 19,
   "metadata": {},
   "outputs": [
    {
     "name": "stdout",
     "output_type": "stream",
     "text": [
      "The r-squared is: 0.4262418343260367\n"
     ]
    },
    {
     "data": {
      "image/png": "[encoded data removed]",
      "text/plain": [
       "<Figure size 432x288 with 1 Axes>"
      ]
     },
     "metadata": {
      "needs_background": "light"
     },
     "output_type": "display_data"
    }
   ],
   "source": [
    "x_values = southern_df['Lat'].astype(int)\n",
    "y_values = southern_df['Max Temp'].astype(int)\n",
    "(slope, intercept, rvalue, pvalue, stderr) = linregress(x_values, y_values)\n",
    "regress_values = x_values * slope + intercept\n",
    "line_eq = \"y = \" + str(round(slope,2)) + \"x + \" + str(round(intercept,2))\n",
    "plt.scatter(x_values,y_values)\n",
    "plt.plot(x_values,regress_values,\"r-\")\n",
    "plt.annotate(line_eq,(-30,60),fontsize=15,color=\"red\")\n",
    "plt.xlabel('Latitude')\n",
    "plt.ylabel('Max Temp')\n",
    "print(f\"The r-squared is: {rvalue}\")\n",
    "plt.savefig('output_data/Linear Regression/Southern Hem_Max Temp vs Lat.png')\n",
    "plt.show()"
   ]
  },
  {
   "cell_type": "markdown",
   "metadata": {},
   "source": [
    "####  Northern Hemisphere - Humidity (%) vs. Latitude Linear Regression"
   ]
  },
  {
   "cell_type": "code",
   "execution_count": 20,
   "metadata": {},
   "outputs": [
    {
     "name": "stdout",
     "output_type": "stream",
     "text": [
      "The r-squared is: 0.38072348147409435\n"
     ]
    },
    {
     "data": {
      "image/png": "[encoded data removed]",
      "text/plain": [
       "<Figure size 432x288 with 1 Axes>"
      ]
     },
     "metadata": {
      "needs_background": "light"
     },
     "output_type": "display_data"
    }
   ],
   "source": [
    "x_values = nothern_df['Lat'].astype(int)\n",
    "y_values = nothern_df['Humidity'].astype(int)\n",
    "(slope, intercept, rvalue, pvalue, stderr) = linregress(x_values, y_values)\n",
    "regress_values = x_values * slope + intercept\n",
    "line_eq = \"y = \" + str(round(slope,2)) + \"x + \" + str(round(intercept,2))\n",
    "plt.scatter(x_values,y_values)\n",
    "plt.plot(x_values,regress_values,\"r-\")\n",
    "plt.annotate(line_eq,(30,50),fontsize=15,color=\"red\")\n",
    "plt.xlabel('Latitude')\n",
    "plt.ylabel('Humidity')\n",
    "print(f\"The r-squared is: {rvalue}\")\n",
    "plt.savefig('output_data/Linear Regression/Nothern Hem_Humidity(%) vs Lat.png')\n",
    "plt.show()"
   ]
  },
  {
   "cell_type": "markdown",
   "metadata": {},
   "source": [
    "####  Southern Hemisphere - Humidity (%) vs. Latitude Linear Regression"
   ]
  },
  {
   "cell_type": "code",
   "execution_count": 21,
   "metadata": {},
   "outputs": [
    {
     "name": "stdout",
     "output_type": "stream",
     "text": [
      "The r-squared is: 0.16758684225352438\n"
     ]
    },
    {
     "data": {
      "image/png": "[encoded data removed]",
      "text/plain": [
       "<Figure size 432x288 with 1 Axes>"
      ]
     },
     "metadata": {
      "needs_background": "light"
     },
     "output_type": "display_data"
    }
   ],
   "source": [
    "x_values = southern_df['Lat'].astype(int)\n",
    "y_values = southern_df['Humidity'].astype(int)\n",
    "(slope, intercept, rvalue, pvalue, stderr) = linregress(x_values, y_values)\n",
    "regress_values = x_values * slope + intercept\n",
    "line_eq = \"y = \" + str(round(slope,2)) + \"x + \" + str(round(intercept,2))\n",
    "plt.scatter(x_values,y_values)\n",
    "plt.plot(x_values,regress_values,\"r-\")\n",
    "plt.annotate(line_eq,(-35,90),fontsize=15,color=\"red\")\n",
    "plt.xlabel('Latitude')\n",
    "plt.ylabel('Humidity')\n",
    "print(f\"The r-squared is: {rvalue}\")\n",
    "plt.savefig('output_data/Linear Regression/Southern Hem_Humidity(%) vs Lat.png')\n",
    "plt.show()"
   ]
  },
  {
   "cell_type": "markdown",
   "metadata": {},
   "source": [
    "####  Northern Hemisphere - Cloudiness (%) vs. Latitude Linear Regression"
   ]
  },
  {
   "cell_type": "code",
   "execution_count": 22,
   "metadata": {},
   "outputs": [
    {
     "name": "stdout",
     "output_type": "stream",
     "text": [
      "The r-squared is: 0.3016034196840858\n"
     ]
    },
    {
     "data": {
      "image/png": "[encoded data removed]",
      "text/plain": [
       "<Figure size 432x288 with 1 Axes>"
      ]
     },
     "metadata": {
      "needs_background": "light"
     },
     "output_type": "display_data"
    }
   ],
   "source": [
    "x_values = nothern_df['Lat'].astype(int)\n",
    "y_values = nothern_df['Cloudiness'].astype(int)\n",
    "(slope, intercept, rvalue, pvalue, stderr) = linregress(x_values, y_values)\n",
    "regress_values = x_values * slope + intercept\n",
    "line_eq = \"y = \" + str(round(slope,2)) + \"x + \" + str(round(intercept,2))\n",
    "plt.scatter(x_values,y_values)\n",
    "plt.plot(x_values,regress_values,\"r-\")\n",
    "plt.annotate(line_eq,(40,62),fontsize=15,color=\"red\")\n",
    "plt.xlabel('Latitude')\n",
    "plt.ylabel('Cloudiness')\n",
    "print(f\"The r-squared is: {rvalue}\")\n",
    "plt.savefig('output_data/Linear Regression/Nothern Hem_Cloudiness(%) vs Lat.png')\n",
    "plt.show()"
   ]
  },
  {
   "cell_type": "markdown",
   "metadata": {},
   "source": [
    "####  Southern Hemisphere - Cloudiness (%) vs. Latitude Linear Regression"
   ]
  },
  {
   "cell_type": "code",
   "execution_count": 23,
   "metadata": {},
   "outputs": [
    {
     "name": "stdout",
     "output_type": "stream",
     "text": [
      "The r-squared is: 0.1885173799593914\n"
     ]
    },
    {
     "data": {
      "image/png": "[encoded data removed]",
      "text/plain": [
       "<Figure size 432x288 with 1 Axes>"
      ]
     },
     "metadata": {
      "needs_background": "light"
     },
     "output_type": "display_data"
    }
   ],
   "source": [
    "x_values = southern_df['Lat'].astype(int)\n",
    "y_values = southern_df['Cloudiness'].astype(int)\n",
    "(slope, intercept, rvalue, pvalue, stderr) = linregress(x_values, y_values)\n",
    "regress_values = x_values * slope + intercept\n",
    "line_eq = \"y = \" + str(round(slope,2)) + \"x + \" + str(round(intercept,2))\n",
    "plt.scatter(x_values,y_values)\n",
    "plt.plot(x_values,regress_values,\"r-\")\n",
    "plt.annotate(line_eq,(-30,39),fontsize=15,color=\"red\")\n",
    "plt.xlabel('Latitude')\n",
    "plt.ylabel('Cloudiness')\n",
    "print(f\"The r-squared is: {rvalue}\")\n",
    "plt.savefig('output_data/Linear Regression/Southern Hem_Cloudiness (%) vs Lat.png')\n",
    "plt.show()"
   ]
  },
  {
   "cell_type": "markdown",
   "metadata": {},
   "source": [
    "####  Northern Hemisphere - Wind Speed (mph) vs. Latitude Linear Regression"
   ]
  },
  {
   "cell_type": "code",
   "execution_count": 24,
   "metadata": {},
   "outputs": [
    {
     "name": "stdout",
     "output_type": "stream",
     "text": [
      "The r-squared is: 0.06724113033267362\n"
     ]
    },
    {
     "data": {
      "image/png": "[encoded data removed]",
      "text/plain": [
       "<Figure size 432x288 with 1 Axes>"
      ]
     },
     "metadata": {
      "needs_background": "light"
     },
     "output_type": "display_data"
    }
   ],
   "source": [
    "x_values = nothern_df['Lat'].astype(int)\n",
    "y_values = nothern_df['Wind Speed'].astype(int)\n",
    "(slope, intercept, rvalue, pvalue, stderr) = linregress(x_values, y_values)\n",
    "regress_values = x_values * slope + intercept\n",
    "line_eq = \"y = \" + str(round(slope,2)) + \"x + \" + str(round(intercept,2))\n",
    "plt.scatter(x_values,y_values)\n",
    "plt.plot(x_values,regress_values,\"r-\")\n",
    "plt.annotate(line_eq,(20,6),fontsize=15,color=\"red\")\n",
    "plt.xlabel('Latitude')\n",
    "plt.ylabel('Wind Speed')\n",
    "print(f\"The r-squared is: {rvalue}\")\n",
    "plt.savefig('output_data/Linear Regression/Nothern Hem_Wind Speed (mph) vs Lat.png')\n",
    "plt.show()"
   ]
  },
  {
   "cell_type": "markdown",
   "metadata": {},
   "source": [
    "####  Southern Hemisphere - Wind Speed (mph) vs. Latitude Linear Regression"
   ]
  },
  {
   "cell_type": "code",
   "execution_count": 25,
   "metadata": {},
   "outputs": [
    {
     "name": "stdout",
     "output_type": "stream",
     "text": [
      "The r-squared is: -0.29047146383554734\n"
     ]
    },
    {
     "data": {
      "image/png": "[encoded data removed]",
      "text/plain": [
       "<Figure size 432x288 with 1 Axes>"
      ]
     },
     "metadata": {
      "needs_background": "light"
     },
     "output_type": "display_data"
    }
   ],
   "source": [
    "x_values = southern_df['Lat'].astype(int)\n",
    "y_values = southern_df['Wind Speed'].astype(int)\n",
    "(slope, intercept, rvalue, pvalue, stderr) = linregress(x_values, y_values)\n",
    "regress_values = x_values * slope + intercept\n",
    "line_eq = \"y = \" + str(round(slope,2)) + \"x + \" + str(round(intercept,2))\n",
    "plt.scatter(x_values,y_values)\n",
    "plt.plot(x_values,regress_values,\"r-\")\n",
    "plt.annotate(line_eq,(-30,7),fontsize=15,color=\"red\")\n",
    "plt.xlabel('Latitude')\n",
    "plt.ylabel('Wind Speed')\n",
    "print(f\"The r-squared is: {rvalue}\")\n",
    "plt.savefig('output_data/Linear Regression/Southern Hem_Wind Speed (mph) vs Lat.png')\n",
    "plt.show()"
   ]
  },
  {
   "cell_type": "code",
   "execution_count": null,
   "metadata": {},
   "outputs": [],
   "source": []
  },
  {
   "cell_type": "code",
   "execution_count": null,
   "metadata": {},
   "outputs": [],
   "source": []
  }
 ],
 "metadata": {
  "anaconda-cloud": {},
  "kernel_info": {
   "name": "python3"
  },
  "kernelspec": {
   "display_name": "Python 3",
   "language": "python",
   "name": "python3"
  },
  "language_info": {
   "codemirror_mode": {
    "name": "ipython",
    "version": 3
   },
   "file_extension": ".py",
   "mimetype": "text/x-python",
   "name": "python",
   "nbconvert_exporter": "python",
   "pygments_lexer": "ipython3",
   "version": "3.7.4"
  },
  "latex_envs": {
   "LaTeX_envs_menu_present": true,
   "autoclose": false,
   "autocomplete": true,
   "bibliofile": "biblio.bib",
   "cite_by": "apalike",
   "current_citInitial": 1,
   "eqLabelWithNumbers": true,
   "eqNumInitial": 1,
   "hotkeys": {
    "equation": "Ctrl-E",
    "itemize": "Ctrl-I"
   },
   "labels_anchors": false,
   "latex_user_defs": false,
   "report_style_numbering": false,
   "user_envs_cfg": false
  },
  "nteract": {
   "version": "0.12.3"
  }
 },
 "nbformat": 4,
 "nbformat_minor": 2
}

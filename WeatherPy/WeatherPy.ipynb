{
 "cells": [
  {
   "cell_type": "markdown",
   "metadata": {},
   "source": [
    "# WeatherPy\n",
    "----\n",
    "\n",
    "#### Note\n",
    "* Instructions have been included for each segment. You do not have to follow them exactly, but they are included to help you think through the steps."
   ]
  },
  {
   "cell_type": "code",
   "execution_count": 1,
   "metadata": {},
   "outputs": [
    {
     "name": "stdout",
     "output_type": "stream",
     "text": [
      "Requirement already satisfied: citipy in c:\\users\\alvin\\anaconda3\\lib\\site-packages (0.0.5)\n",
      "Requirement already satisfied: kdtree>=0.12 in c:\\users\\alvin\\anaconda3\\lib\\site-packages (from citipy) (0.16)\n",
      "Note: you may need to restart the kernel to use updated packages.\n"
     ]
    }
   ],
   "source": [
    "pip install citipy"
   ]
  },
  {
   "cell_type": "code",
   "execution_count": 4,
   "metadata": {
    "scrolled": true
   },
   "outputs": [],
   "source": [
    "# Dependencies and Setup\n",
    "import matplotlib.pyplot as plt\n",
    "import pandas as pd\n",
    "import numpy as np\n",
    "import requests\n",
    "import time\n",
    "from scipy.stats import linregress\n",
    "\n",
    "# Import API key\n",
    "from api_keys import weather_api_key\n",
    "\n",
    "# Incorporated citipy to determine city based on latitude and longitude\n",
    "from citipy import citipy\n",
    "\n",
    "# Output File (CSV)\n",
    "output_data_file = \"output_data/cities.csv\"\n",
    "\n",
    "# Range of latitudes and longitudes\n",
    "lat_range = (-90, 90)\n",
    "lng_range = (-180, 180)"
   ]
  },
  {
   "cell_type": "markdown",
   "metadata": {},
   "source": [
    "## Generate Cities List"
   ]
  },
  {
   "cell_type": "code",
   "execution_count": 5,
   "metadata": {},
   "outputs": [
    {
     "data": {
      "text/plain": [
       "41"
      ]
     },
     "execution_count": 5,
     "metadata": {},
     "output_type": "execute_result"
    }
   ],
   "source": [
    "# List for holding lat_lngs and cities\n",
    "lat_lngs = []\n",
    "cities = []\n",
    "countries = []\n",
    "\n",
    "# Create a set of random lat and lng combinations\n",
    "lats = np.random.uniform(low=-90.000, high=90.000, size=50)\n",
    "lngs = np.random.uniform(low=-180.000, high=180.000, size=50)\n",
    "lat_lngs = zip(lats, lngs)\n",
    "\n",
    "# Identify nearest city for each lat, lng combination\n",
    "for lat_lng in lat_lngs:\n",
    "    city = citipy.nearest_city(lat_lng[0], lat_lng[1]).city_name\n",
    "    country = citipy.nearest_city(lat_lng[0], lat_lng[1]).country_code\n",
    "    # If the city is unique, then add it to a our cities list\n",
    "    if city not in cities:\n",
    "        cities.append(city)\n",
    "        countries.append(country.upper())\n",
    "\n",
    "# Print the city count to confirm sufficient count\n",
    "len(cities)"
   ]
  },
  {
   "cell_type": "code",
   "execution_count": 6,
   "metadata": {},
   "outputs": [
    {
     "data": {
      "text/plain": [
       "['hermanus',\n",
       " 'kapaa',\n",
       " 'vaini',\n",
       " 'umm kaddadah',\n",
       " 'rikitea',\n",
       " 'avarua',\n",
       " 'neuquen',\n",
       " 'rungata',\n",
       " 'ushuaia',\n",
       " 'yellowknife',\n",
       " 'ribeira grande',\n",
       " 'hobart',\n",
       " 'cockburn town',\n",
       " 'albany',\n",
       " 'pakwach',\n",
       " 'sur',\n",
       " 'itarema',\n",
       " 'ken caryl',\n",
       " 'busselton',\n",
       " 'punta arenas',\n",
       " 'roma',\n",
       " 'sisimiut',\n",
       " 'gornopravdinsk',\n",
       " 'bay roberts',\n",
       " 'campina verde',\n",
       " 'chernyshevskiy',\n",
       " 'meiganga',\n",
       " 'karema',\n",
       " 'ust-nera',\n",
       " 'severo-kurilsk',\n",
       " 'mujiayingzi',\n",
       " 'hvide sande',\n",
       " 'pecos',\n",
       " 'fort-shevchenko',\n",
       " 'grand river south east',\n",
       " 'jamestown',\n",
       " 'tsihombe',\n",
       " 'tarauaca',\n",
       " 'new norfolk',\n",
       " 'hilo',\n",
       " 'tumannyy']"
      ]
     },
     "execution_count": 6,
     "metadata": {},
     "output_type": "execute_result"
    }
   ],
   "source": [
    "cities"
   ]
  },
  {
   "cell_type": "code",
   "execution_count": 7,
   "metadata": {},
   "outputs": [
    {
     "data": {
      "text/html": [
       "<div>\n",
       "<style scoped>\n",
       "    .dataframe tbody tr th:only-of-type {\n",
       "        vertical-align: middle;\n",
       "    }\n",
       "\n",
       "    .dataframe tbody tr th {\n",
       "        vertical-align: top;\n",
       "    }\n",
       "\n",
       "    .dataframe thead th {\n",
       "        text-align: right;\n",
       "    }\n",
       "</style>\n",
       "<table border=\"1\" class=\"dataframe\">\n",
       "  <thead>\n",
       "    <tr style=\"text-align: right;\">\n",
       "      <th></th>\n",
       "      <th>City</th>\n",
       "      <th>Cloudiness</th>\n",
       "      <th>Country</th>\n",
       "      <th>Date</th>\n",
       "      <th>Humidity</th>\n",
       "      <th>Lat</th>\n",
       "      <th>Lng</th>\n",
       "      <th>Max Temp</th>\n",
       "      <th>Wind Speed</th>\n",
       "    </tr>\n",
       "  </thead>\n",
       "  <tbody>\n",
       "    <tr>\n",
       "      <td>0</td>\n",
       "      <td>hermanus</td>\n",
       "      <td></td>\n",
       "      <td>ZA</td>\n",
       "      <td></td>\n",
       "      <td></td>\n",
       "      <td></td>\n",
       "      <td></td>\n",
       "      <td></td>\n",
       "      <td></td>\n",
       "    </tr>\n",
       "    <tr>\n",
       "      <td>1</td>\n",
       "      <td>kapaa</td>\n",
       "      <td></td>\n",
       "      <td>US</td>\n",
       "      <td></td>\n",
       "      <td></td>\n",
       "      <td></td>\n",
       "      <td></td>\n",
       "      <td></td>\n",
       "      <td></td>\n",
       "    </tr>\n",
       "    <tr>\n",
       "      <td>2</td>\n",
       "      <td>vaini</td>\n",
       "      <td></td>\n",
       "      <td>TO</td>\n",
       "      <td></td>\n",
       "      <td></td>\n",
       "      <td></td>\n",
       "      <td></td>\n",
       "      <td></td>\n",
       "      <td></td>\n",
       "    </tr>\n",
       "    <tr>\n",
       "      <td>3</td>\n",
       "      <td>umm kaddadah</td>\n",
       "      <td></td>\n",
       "      <td>SD</td>\n",
       "      <td></td>\n",
       "      <td></td>\n",
       "      <td></td>\n",
       "      <td></td>\n",
       "      <td></td>\n",
       "      <td></td>\n",
       "    </tr>\n",
       "    <tr>\n",
       "      <td>4</td>\n",
       "      <td>rikitea</td>\n",
       "      <td></td>\n",
       "      <td>PF</td>\n",
       "      <td></td>\n",
       "      <td></td>\n",
       "      <td></td>\n",
       "      <td></td>\n",
       "      <td></td>\n",
       "      <td></td>\n",
       "    </tr>\n",
       "    <tr>\n",
       "      <td>5</td>\n",
       "      <td>avarua</td>\n",
       "      <td></td>\n",
       "      <td>CK</td>\n",
       "      <td></td>\n",
       "      <td></td>\n",
       "      <td></td>\n",
       "      <td></td>\n",
       "      <td></td>\n",
       "      <td></td>\n",
       "    </tr>\n",
       "    <tr>\n",
       "      <td>6</td>\n",
       "      <td>neuquen</td>\n",
       "      <td></td>\n",
       "      <td>AR</td>\n",
       "      <td></td>\n",
       "      <td></td>\n",
       "      <td></td>\n",
       "      <td></td>\n",
       "      <td></td>\n",
       "      <td></td>\n",
       "    </tr>\n",
       "    <tr>\n",
       "      <td>7</td>\n",
       "      <td>rungata</td>\n",
       "      <td></td>\n",
       "      <td>KI</td>\n",
       "      <td></td>\n",
       "      <td></td>\n",
       "      <td></td>\n",
       "      <td></td>\n",
       "      <td></td>\n",
       "      <td></td>\n",
       "    </tr>\n",
       "    <tr>\n",
       "      <td>8</td>\n",
       "      <td>ushuaia</td>\n",
       "      <td></td>\n",
       "      <td>AR</td>\n",
       "      <td></td>\n",
       "      <td></td>\n",
       "      <td></td>\n",
       "      <td></td>\n",
       "      <td></td>\n",
       "      <td></td>\n",
       "    </tr>\n",
       "    <tr>\n",
       "      <td>9</td>\n",
       "      <td>yellowknife</td>\n",
       "      <td></td>\n",
       "      <td>CA</td>\n",
       "      <td></td>\n",
       "      <td></td>\n",
       "      <td></td>\n",
       "      <td></td>\n",
       "      <td></td>\n",
       "      <td></td>\n",
       "    </tr>\n",
       "  </tbody>\n",
       "</table>\n",
       "</div>"
      ],
      "text/plain": [
       "           City Cloudiness Country Date Humidity Lat Lng Max Temp Wind Speed\n",
       "0      hermanus                 ZA                                          \n",
       "1         kapaa                 US                                          \n",
       "2         vaini                 TO                                          \n",
       "3  umm kaddadah                 SD                                          \n",
       "4       rikitea                 PF                                          \n",
       "5        avarua                 CK                                          \n",
       "6       neuquen                 AR                                          \n",
       "7       rungata                 KI                                          \n",
       "8       ushuaia                 AR                                          \n",
       "9   yellowknife                 CA                                          "
      ]
     },
     "execution_count": 7,
     "metadata": {},
     "output_type": "execute_result"
    }
   ],
   "source": [
    "weather_df = pd.DataFrame({\"City\":cities, \"Cloudiness\":'', \"Country\":countries, \"Date\":'', \"Humidity\":'',\n",
    "                           \"Lat\":'', \"Lng\":'', \"Max Temp\":'', \"Wind Speed\":''})\n",
    "weather_df.head(10)"
   ]
  },
  {
   "cell_type": "code",
   "execution_count": 8,
   "metadata": {},
   "outputs": [],
   "source": [
    "url = 'http://api.openweathermap.org/data/2.5/weather?units=imperial&q='\n",
    "count = 1\n",
    "count_set = 1"
   ]
  },
  {
   "cell_type": "markdown",
   "metadata": {},
   "source": [
    "### Perform API Calls\n",
    "* Perform a weather check on each city using a series of successive API calls.\n",
    "* Include a print log of each city as it'sbeing processed (with the city number and city name).\n"
   ]
  },
  {
   "cell_type": "code",
   "execution_count": 41,
   "metadata": {},
   "outputs": [
    {
     "name": "stdout",
     "output_type": "stream",
     "text": [
      "Begining Data Retrieval \n",
      "-----------------------\n",
      "Processing Record 37 of Set 1 | Hermanus\n",
      "Processing Record 38 of Set 1 | Kapaa\n",
      "Processing Record 39 of Set 1 | Vaini\n",
      "Processing Record 40 of Set 1 | Umm Kaddadah\n",
      "Processing Record 41 of Set 1 | Rikitea\n",
      "Processing Record 42 of Set 1 | Avarua\n",
      "Processing Record 43 of Set 1 | Neuquen\n",
      "Processing Record 44 of Set 1 | Ushuaia\n",
      "Processing Record 45 of Set 1 | Yellowknife\n",
      "Processing Record 46 of Set 1 | Ribeira Grande\n",
      "Processing Record 47 of Set 1 | Hobart\n",
      "Processing Record 48 of Set 1 | Cockburn Town\n",
      "Processing Record 49 of Set 1 | Albany\n",
      "Processing Record 50 of Set 1 | Sur\n",
      "Processing Record 51 of Set 1 | Itarema\n",
      "Processing Record 52 of Set 1 | Ken Caryl\n",
      "Processing Record 53 of Set 1 | Busselton\n",
      "Processing Record 54 of Set 1 | Punta Arenas\n",
      "Processing Record 55 of Set 1 | Roma\n",
      "Processing Record 56 of Set 1 | Sisimiut\n",
      "Processing Record 57 of Set 1 | Gornopravdinsk\n",
      "Processing Record 58 of Set 1 | Bay Roberts\n",
      "Processing Record 59 of Set 1 | Campina Verde\n",
      "Processing Record 60 of Set 1 | Chernyshevskiy\n",
      "Processing Record 61 of Set 1 | Meiganga\n",
      "Processing Record 62 of Set 1 | Karema\n",
      "Processing Record 63 of Set 1 | Ust-Nera\n",
      "Processing Record 64 of Set 1 | Severo-Kuril'sk\n",
      "Processing Record 65 of Set 1 | Mujiayingzi\n",
      "Processing Record 66 of Set 1 | Hvide Sande\n",
      "Processing Record 67 of Set 1 | Pecos\n",
      "Processing Record 68 of Set 1 | Fort-Shevchenko\n",
      "Processing Record 69 of Set 1 | Jamestown\n",
      "Processing Record 70 of Set 1 | Tarauaca\n",
      "Processing Record 71 of Set 1 | New Norfolk\n",
      "Processing Record 72 of Set 1 | Hilo\n",
      "------------------------\n",
      " Data Retrieval Complete \n",
      "--------------------------\n"
     ]
    }
   ],
   "source": [
    " print(\"Begining Data Retrieval \\n-----------------------\")\n",
    "    \n",
    "for index, row in weather_df.iterrows():\n",
    "    \n",
    "    query_url = url + row[\"City\"] + ',' + row[\"Country\"] + \"&appid=\" + weather_api_key \n",
    "    \n",
    "    response = requests.get(query_url)\n",
    "    response_json = response.json()\n",
    "    \n",
    "    try:\n",
    "        print(f'Processing Record {count} of Set {count_set} | {response_json[\"name\"]}')\n",
    "        \n",
    "        weather_df.loc[index, \"Cloudiness\"] = response_json[\"clouds\"][\"all\"]\n",
    "        weather_df.loc[index, \"Date\"] = response_json[\"dt\"]\n",
    "        weather_df.loc[index, \"Humidity\"] = response_json[\"main\"][\"humidity\"]\n",
    "        weather_df.loc[index, \"Lat\"] = response_json[\"coord\"][\"lat\"]\n",
    "        weather_df.loc[index, \"Lng\"] = response_json[\"coord\"][\"lon\"]\n",
    "        weather_df.loc[index, \"Max Temp\"] = response_json[\"main\"][\"temp_max\"]\n",
    "        weather_df.loc[index, \"Wind Speed\"] = response_json[\"wind\"][\"speed\"]\n",
    "        \n",
    "        count += 1\n",
    "              \n",
    "    except (KeyError,):\n",
    "          print(\"City not found. Skipping....\")\n",
    "              \n",
    "    if count == 20:\n",
    "        count_set = 1\n",
    "        count += 1\n",
    "        time.sleep(60)\n",
    "    \n",
    "print(\"------------------------\\n Data Retrieval Complete \\n--------------------------\")\n"
   ]
  },
  {
   "cell_type": "markdown",
   "metadata": {},
   "source": [
    "### Convert Raw Data to DataFrame\n",
    "* Export the city data into a .csv.\n",
    "* Display the DataFrame"
   ]
  },
  {
   "cell_type": "code",
   "execution_count": 13,
   "metadata": {},
   "outputs": [],
   "source": [
    "# output to csv\n",
    "weather_df[\"Max Temp\"] = weather_df[\"Max Temp\"].replace('',np.nan)\n",
    "weather_df.dropna(axis=0, how=\"any\", inplace=True)\n",
    "\n",
    "weather_df.to_csv(\"output_data/weather_data.csv\")"
   ]
  },
  {
   "cell_type": "code",
   "execution_count": 14,
   "metadata": {},
   "outputs": [
    {
     "data": {
      "text/plain": [
       "City          36\n",
       "Cloudiness    36\n",
       "Country       36\n",
       "Date          36\n",
       "Humidity      36\n",
       "Lat           36\n",
       "Lng           36\n",
       "Max Temp      36\n",
       "Wind Speed    36\n",
       "dtype: int64"
      ]
     },
     "execution_count": 14,
     "metadata": {},
     "output_type": "execute_result"
    }
   ],
   "source": [
    "weather_df.count()"
   ]
  },
  {
   "cell_type": "code",
   "execution_count": 15,
   "metadata": {},
   "outputs": [
    {
     "data": {
      "text/html": [
       "<div>\n",
       "<style scoped>\n",
       "    .dataframe tbody tr th:only-of-type {\n",
       "        vertical-align: middle;\n",
       "    }\n",
       "\n",
       "    .dataframe tbody tr th {\n",
       "        vertical-align: top;\n",
       "    }\n",
       "\n",
       "    .dataframe thead th {\n",
       "        text-align: right;\n",
       "    }\n",
       "</style>\n",
       "<table border=\"1\" class=\"dataframe\">\n",
       "  <thead>\n",
       "    <tr style=\"text-align: right;\">\n",
       "      <th></th>\n",
       "      <th>City</th>\n",
       "      <th>Cloudiness</th>\n",
       "      <th>Country</th>\n",
       "      <th>Date</th>\n",
       "      <th>Humidity</th>\n",
       "      <th>Lat</th>\n",
       "      <th>Lng</th>\n",
       "      <th>Max Temp</th>\n",
       "      <th>Wind Speed</th>\n",
       "    </tr>\n",
       "  </thead>\n",
       "  <tbody>\n",
       "    <tr>\n",
       "      <td>0</td>\n",
       "      <td>hermanus</td>\n",
       "      <td>100</td>\n",
       "      <td>ZA</td>\n",
       "      <td>1580258943</td>\n",
       "      <td>97</td>\n",
       "      <td>-34.42</td>\n",
       "      <td>19.23</td>\n",
       "      <td>64.99</td>\n",
       "      <td>1.01</td>\n",
       "    </tr>\n",
       "    <tr>\n",
       "      <td>1</td>\n",
       "      <td>kapaa</td>\n",
       "      <td>1</td>\n",
       "      <td>US</td>\n",
       "      <td>1580258844</td>\n",
       "      <td>61</td>\n",
       "      <td>22.08</td>\n",
       "      <td>-159.32</td>\n",
       "      <td>80.60</td>\n",
       "      <td>6.93</td>\n",
       "    </tr>\n",
       "    <tr>\n",
       "      <td>2</td>\n",
       "      <td>vaini</td>\n",
       "      <td>75</td>\n",
       "      <td>TO</td>\n",
       "      <td>1580258943</td>\n",
       "      <td>79</td>\n",
       "      <td>-21.2</td>\n",
       "      <td>-175.2</td>\n",
       "      <td>84.20</td>\n",
       "      <td>5.82</td>\n",
       "    </tr>\n",
       "    <tr>\n",
       "      <td>3</td>\n",
       "      <td>umm kaddadah</td>\n",
       "      <td>0</td>\n",
       "      <td>SD</td>\n",
       "      <td>1580258943</td>\n",
       "      <td>19</td>\n",
       "      <td>13.6</td>\n",
       "      <td>26.69</td>\n",
       "      <td>57.13</td>\n",
       "      <td>10.67</td>\n",
       "    </tr>\n",
       "    <tr>\n",
       "      <td>4</td>\n",
       "      <td>rikitea</td>\n",
       "      <td>100</td>\n",
       "      <td>PF</td>\n",
       "      <td>1580258793</td>\n",
       "      <td>80</td>\n",
       "      <td>-23.12</td>\n",
       "      <td>-134.97</td>\n",
       "      <td>79.59</td>\n",
       "      <td>10.31</td>\n",
       "    </tr>\n",
       "    <tr>\n",
       "      <td>5</td>\n",
       "      <td>avarua</td>\n",
       "      <td>13</td>\n",
       "      <td>CK</td>\n",
       "      <td>1580258694</td>\n",
       "      <td>94</td>\n",
       "      <td>-21.21</td>\n",
       "      <td>-159.78</td>\n",
       "      <td>78.80</td>\n",
       "      <td>8.05</td>\n",
       "    </tr>\n",
       "    <tr>\n",
       "      <td>6</td>\n",
       "      <td>neuquen</td>\n",
       "      <td>50</td>\n",
       "      <td>AR</td>\n",
       "      <td>1580258943</td>\n",
       "      <td>20</td>\n",
       "      <td>-38.95</td>\n",
       "      <td>-68.06</td>\n",
       "      <td>77.00</td>\n",
       "      <td>13.87</td>\n",
       "    </tr>\n",
       "    <tr>\n",
       "      <td>8</td>\n",
       "      <td>ushuaia</td>\n",
       "      <td>75</td>\n",
       "      <td>AR</td>\n",
       "      <td>1580258840</td>\n",
       "      <td>81</td>\n",
       "      <td>-54.8</td>\n",
       "      <td>-68.3</td>\n",
       "      <td>42.80</td>\n",
       "      <td>32.21</td>\n",
       "    </tr>\n",
       "    <tr>\n",
       "      <td>9</td>\n",
       "      <td>yellowknife</td>\n",
       "      <td>90</td>\n",
       "      <td>CA</td>\n",
       "      <td>1580258721</td>\n",
       "      <td>77</td>\n",
       "      <td>62.46</td>\n",
       "      <td>-114.35</td>\n",
       "      <td>0.00</td>\n",
       "      <td>6.93</td>\n",
       "    </tr>\n",
       "    <tr>\n",
       "      <td>10</td>\n",
       "      <td>ribeira grande</td>\n",
       "      <td>75</td>\n",
       "      <td>PT</td>\n",
       "      <td>1580258944</td>\n",
       "      <td>93</td>\n",
       "      <td>38.52</td>\n",
       "      <td>-28.7</td>\n",
       "      <td>62.60</td>\n",
       "      <td>11.41</td>\n",
       "    </tr>\n",
       "    <tr>\n",
       "      <td>11</td>\n",
       "      <td>hobart</td>\n",
       "      <td>75</td>\n",
       "      <td>AU</td>\n",
       "      <td>1580258736</td>\n",
       "      <td>43</td>\n",
       "      <td>-42.88</td>\n",
       "      <td>147.33</td>\n",
       "      <td>73.40</td>\n",
       "      <td>16.11</td>\n",
       "    </tr>\n",
       "    <tr>\n",
       "      <td>12</td>\n",
       "      <td>cockburn town</td>\n",
       "      <td>0</td>\n",
       "      <td>TC</td>\n",
       "      <td>1580258944</td>\n",
       "      <td>74</td>\n",
       "      <td>21.46</td>\n",
       "      <td>-71.14</td>\n",
       "      <td>77.79</td>\n",
       "      <td>10.25</td>\n",
       "    </tr>\n",
       "    <tr>\n",
       "      <td>13</td>\n",
       "      <td>albany</td>\n",
       "      <td>57</td>\n",
       "      <td>AU</td>\n",
       "      <td>1580258944</td>\n",
       "      <td>60</td>\n",
       "      <td>-35.02</td>\n",
       "      <td>117.89</td>\n",
       "      <td>71.60</td>\n",
       "      <td>9.17</td>\n",
       "    </tr>\n",
       "    <tr>\n",
       "      <td>15</td>\n",
       "      <td>sur</td>\n",
       "      <td>0</td>\n",
       "      <td>OM</td>\n",
       "      <td>1580258945</td>\n",
       "      <td>50</td>\n",
       "      <td>22.57</td>\n",
       "      <td>59.53</td>\n",
       "      <td>62.87</td>\n",
       "      <td>9.8</td>\n",
       "    </tr>\n",
       "    <tr>\n",
       "      <td>16</td>\n",
       "      <td>itarema</td>\n",
       "      <td>100</td>\n",
       "      <td>BR</td>\n",
       "      <td>1580258945</td>\n",
       "      <td>82</td>\n",
       "      <td>-2.92</td>\n",
       "      <td>-39.92</td>\n",
       "      <td>76.93</td>\n",
       "      <td>4.32</td>\n",
       "    </tr>\n",
       "    <tr>\n",
       "      <td>17</td>\n",
       "      <td>ken caryl</td>\n",
       "      <td>1</td>\n",
       "      <td>US</td>\n",
       "      <td>1580258945</td>\n",
       "      <td>40</td>\n",
       "      <td>39.58</td>\n",
       "      <td>-105.12</td>\n",
       "      <td>45.00</td>\n",
       "      <td>5.82</td>\n",
       "    </tr>\n",
       "    <tr>\n",
       "      <td>18</td>\n",
       "      <td>busselton</td>\n",
       "      <td>98</td>\n",
       "      <td>AU</td>\n",
       "      <td>1580258946</td>\n",
       "      <td>64</td>\n",
       "      <td>-33.65</td>\n",
       "      <td>115.33</td>\n",
       "      <td>70.00</td>\n",
       "      <td>1.01</td>\n",
       "    </tr>\n",
       "    <tr>\n",
       "      <td>19</td>\n",
       "      <td>punta arenas</td>\n",
       "      <td>40</td>\n",
       "      <td>CL</td>\n",
       "      <td>1580258926</td>\n",
       "      <td>65</td>\n",
       "      <td>-53.15</td>\n",
       "      <td>-70.92</td>\n",
       "      <td>46.40</td>\n",
       "      <td>25.28</td>\n",
       "    </tr>\n",
       "    <tr>\n",
       "      <td>20</td>\n",
       "      <td>roma</td>\n",
       "      <td>0</td>\n",
       "      <td>AU</td>\n",
       "      <td>1580258946</td>\n",
       "      <td>48</td>\n",
       "      <td>-26.58</td>\n",
       "      <td>148.78</td>\n",
       "      <td>85.71</td>\n",
       "      <td>8.63</td>\n",
       "    </tr>\n",
       "    <tr>\n",
       "      <td>21</td>\n",
       "      <td>sisimiut</td>\n",
       "      <td>99</td>\n",
       "      <td>GL</td>\n",
       "      <td>1580258946</td>\n",
       "      <td>98</td>\n",
       "      <td>66.94</td>\n",
       "      <td>-53.67</td>\n",
       "      <td>-5.24</td>\n",
       "      <td>2.62</td>\n",
       "    </tr>\n",
       "    <tr>\n",
       "      <td>22</td>\n",
       "      <td>gornopravdinsk</td>\n",
       "      <td>93</td>\n",
       "      <td>RU</td>\n",
       "      <td>1580258946</td>\n",
       "      <td>98</td>\n",
       "      <td>60.05</td>\n",
       "      <td>69.9</td>\n",
       "      <td>-17.90</td>\n",
       "      <td>5.77</td>\n",
       "    </tr>\n",
       "    <tr>\n",
       "      <td>23</td>\n",
       "      <td>bay roberts</td>\n",
       "      <td>90</td>\n",
       "      <td>CA</td>\n",
       "      <td>1580258947</td>\n",
       "      <td>100</td>\n",
       "      <td>47.6</td>\n",
       "      <td>-53.26</td>\n",
       "      <td>30.00</td>\n",
       "      <td>5.82</td>\n",
       "    </tr>\n",
       "    <tr>\n",
       "      <td>24</td>\n",
       "      <td>campina verde</td>\n",
       "      <td>1</td>\n",
       "      <td>BR</td>\n",
       "      <td>1580258947</td>\n",
       "      <td>91</td>\n",
       "      <td>-19.54</td>\n",
       "      <td>-49.49</td>\n",
       "      <td>72.28</td>\n",
       "      <td>7.2</td>\n",
       "    </tr>\n",
       "    <tr>\n",
       "      <td>25</td>\n",
       "      <td>chernyshevskiy</td>\n",
       "      <td>100</td>\n",
       "      <td>RU</td>\n",
       "      <td>1580258947</td>\n",
       "      <td>93</td>\n",
       "      <td>63.01</td>\n",
       "      <td>112.47</td>\n",
       "      <td>6.33</td>\n",
       "      <td>4.41</td>\n",
       "    </tr>\n",
       "    <tr>\n",
       "      <td>26</td>\n",
       "      <td>meiganga</td>\n",
       "      <td>1</td>\n",
       "      <td>CM</td>\n",
       "      <td>1580258947</td>\n",
       "      <td>24</td>\n",
       "      <td>6.52</td>\n",
       "      <td>14.3</td>\n",
       "      <td>60.69</td>\n",
       "      <td>2.75</td>\n",
       "    </tr>\n",
       "    <tr>\n",
       "      <td>27</td>\n",
       "      <td>karema</td>\n",
       "      <td>100</td>\n",
       "      <td>TZ</td>\n",
       "      <td>1580258947</td>\n",
       "      <td>91</td>\n",
       "      <td>-6.82</td>\n",
       "      <td>30.44</td>\n",
       "      <td>68.09</td>\n",
       "      <td>8.57</td>\n",
       "    </tr>\n",
       "    <tr>\n",
       "      <td>28</td>\n",
       "      <td>ust-nera</td>\n",
       "      <td>48</td>\n",
       "      <td>RU</td>\n",
       "      <td>1580258947</td>\n",
       "      <td>100</td>\n",
       "      <td>64.57</td>\n",
       "      <td>143.2</td>\n",
       "      <td>-45.18</td>\n",
       "      <td>2.71</td>\n",
       "    </tr>\n",
       "    <tr>\n",
       "      <td>29</td>\n",
       "      <td>severo-kurilsk</td>\n",
       "      <td>93</td>\n",
       "      <td>RU</td>\n",
       "      <td>1580258947</td>\n",
       "      <td>86</td>\n",
       "      <td>50.68</td>\n",
       "      <td>156.12</td>\n",
       "      <td>25.05</td>\n",
       "      <td>3.38</td>\n",
       "    </tr>\n",
       "    <tr>\n",
       "      <td>30</td>\n",
       "      <td>mujiayingzi</td>\n",
       "      <td>100</td>\n",
       "      <td>CN</td>\n",
       "      <td>1580258948</td>\n",
       "      <td>77</td>\n",
       "      <td>42.12</td>\n",
       "      <td>118.78</td>\n",
       "      <td>16.23</td>\n",
       "      <td>7.56</td>\n",
       "    </tr>\n",
       "    <tr>\n",
       "      <td>31</td>\n",
       "      <td>hvide sande</td>\n",
       "      <td>96</td>\n",
       "      <td>DK</td>\n",
       "      <td>1580258948</td>\n",
       "      <td>80</td>\n",
       "      <td>56</td>\n",
       "      <td>8.13</td>\n",
       "      <td>41.00</td>\n",
       "      <td>13.87</td>\n",
       "    </tr>\n",
       "    <tr>\n",
       "      <td>32</td>\n",
       "      <td>pecos</td>\n",
       "      <td>1</td>\n",
       "      <td>US</td>\n",
       "      <td>1580258948</td>\n",
       "      <td>28</td>\n",
       "      <td>31.42</td>\n",
       "      <td>-103.49</td>\n",
       "      <td>57.20</td>\n",
       "      <td>6.93</td>\n",
       "    </tr>\n",
       "    <tr>\n",
       "      <td>33</td>\n",
       "      <td>fort-shevchenko</td>\n",
       "      <td>33</td>\n",
       "      <td>KZ</td>\n",
       "      <td>1580258948</td>\n",
       "      <td>88</td>\n",
       "      <td>44.51</td>\n",
       "      <td>50.26</td>\n",
       "      <td>37.62</td>\n",
       "      <td>12.66</td>\n",
       "    </tr>\n",
       "    <tr>\n",
       "      <td>35</td>\n",
       "      <td>jamestown</td>\n",
       "      <td>57</td>\n",
       "      <td>SH</td>\n",
       "      <td>1580258948</td>\n",
       "      <td>79</td>\n",
       "      <td>-15.94</td>\n",
       "      <td>-5.72</td>\n",
       "      <td>74.73</td>\n",
       "      <td>11.95</td>\n",
       "    </tr>\n",
       "    <tr>\n",
       "      <td>37</td>\n",
       "      <td>tarauaca</td>\n",
       "      <td>100</td>\n",
       "      <td>BR</td>\n",
       "      <td>1580258948</td>\n",
       "      <td>73</td>\n",
       "      <td>-8.16</td>\n",
       "      <td>-70.77</td>\n",
       "      <td>79.29</td>\n",
       "      <td>4.21</td>\n",
       "    </tr>\n",
       "    <tr>\n",
       "      <td>38</td>\n",
       "      <td>new norfolk</td>\n",
       "      <td>75</td>\n",
       "      <td>AU</td>\n",
       "      <td>1580258852</td>\n",
       "      <td>43</td>\n",
       "      <td>-42.78</td>\n",
       "      <td>147.06</td>\n",
       "      <td>73.40</td>\n",
       "      <td>16.11</td>\n",
       "    </tr>\n",
       "    <tr>\n",
       "      <td>39</td>\n",
       "      <td>hilo</td>\n",
       "      <td>90</td>\n",
       "      <td>US</td>\n",
       "      <td>1580258902</td>\n",
       "      <td>54</td>\n",
       "      <td>19.73</td>\n",
       "      <td>-155.09</td>\n",
       "      <td>80.60</td>\n",
       "      <td>6.93</td>\n",
       "    </tr>\n",
       "  </tbody>\n",
       "</table>\n",
       "</div>"
      ],
      "text/plain": [
       "               City Cloudiness Country        Date Humidity    Lat     Lng  \\\n",
       "0          hermanus        100      ZA  1580258943       97 -34.42   19.23   \n",
       "1             kapaa          1      US  1580258844       61  22.08 -159.32   \n",
       "2             vaini         75      TO  1580258943       79  -21.2  -175.2   \n",
       "3      umm kaddadah          0      SD  1580258943       19   13.6   26.69   \n",
       "4           rikitea        100      PF  1580258793       80 -23.12 -134.97   \n",
       "5            avarua         13      CK  1580258694       94 -21.21 -159.78   \n",
       "6           neuquen         50      AR  1580258943       20 -38.95  -68.06   \n",
       "8           ushuaia         75      AR  1580258840       81  -54.8   -68.3   \n",
       "9       yellowknife         90      CA  1580258721       77  62.46 -114.35   \n",
       "10   ribeira grande         75      PT  1580258944       93  38.52   -28.7   \n",
       "11           hobart         75      AU  1580258736       43 -42.88  147.33   \n",
       "12    cockburn town          0      TC  1580258944       74  21.46  -71.14   \n",
       "13           albany         57      AU  1580258944       60 -35.02  117.89   \n",
       "15              sur          0      OM  1580258945       50  22.57   59.53   \n",
       "16          itarema        100      BR  1580258945       82  -2.92  -39.92   \n",
       "17        ken caryl          1      US  1580258945       40  39.58 -105.12   \n",
       "18        busselton         98      AU  1580258946       64 -33.65  115.33   \n",
       "19     punta arenas         40      CL  1580258926       65 -53.15  -70.92   \n",
       "20             roma          0      AU  1580258946       48 -26.58  148.78   \n",
       "21         sisimiut         99      GL  1580258946       98  66.94  -53.67   \n",
       "22   gornopravdinsk         93      RU  1580258946       98  60.05    69.9   \n",
       "23      bay roberts         90      CA  1580258947      100   47.6  -53.26   \n",
       "24    campina verde          1      BR  1580258947       91 -19.54  -49.49   \n",
       "25   chernyshevskiy        100      RU  1580258947       93  63.01  112.47   \n",
       "26         meiganga          1      CM  1580258947       24   6.52    14.3   \n",
       "27           karema        100      TZ  1580258947       91  -6.82   30.44   \n",
       "28         ust-nera         48      RU  1580258947      100  64.57   143.2   \n",
       "29   severo-kurilsk         93      RU  1580258947       86  50.68  156.12   \n",
       "30      mujiayingzi        100      CN  1580258948       77  42.12  118.78   \n",
       "31      hvide sande         96      DK  1580258948       80     56    8.13   \n",
       "32            pecos          1      US  1580258948       28  31.42 -103.49   \n",
       "33  fort-shevchenko         33      KZ  1580258948       88  44.51   50.26   \n",
       "35        jamestown         57      SH  1580258948       79 -15.94   -5.72   \n",
       "37         tarauaca        100      BR  1580258948       73  -8.16  -70.77   \n",
       "38      new norfolk         75      AU  1580258852       43 -42.78  147.06   \n",
       "39             hilo         90      US  1580258902       54  19.73 -155.09   \n",
       "\n",
       "    Max Temp Wind Speed  \n",
       "0      64.99       1.01  \n",
       "1      80.60       6.93  \n",
       "2      84.20       5.82  \n",
       "3      57.13      10.67  \n",
       "4      79.59      10.31  \n",
       "5      78.80       8.05  \n",
       "6      77.00      13.87  \n",
       "8      42.80      32.21  \n",
       "9       0.00       6.93  \n",
       "10     62.60      11.41  \n",
       "11     73.40      16.11  \n",
       "12     77.79      10.25  \n",
       "13     71.60       9.17  \n",
       "15     62.87        9.8  \n",
       "16     76.93       4.32  \n",
       "17     45.00       5.82  \n",
       "18     70.00       1.01  \n",
       "19     46.40      25.28  \n",
       "20     85.71       8.63  \n",
       "21     -5.24       2.62  \n",
       "22    -17.90       5.77  \n",
       "23     30.00       5.82  \n",
       "24     72.28        7.2  \n",
       "25      6.33       4.41  \n",
       "26     60.69       2.75  \n",
       "27     68.09       8.57  \n",
       "28    -45.18       2.71  \n",
       "29     25.05       3.38  \n",
       "30     16.23       7.56  \n",
       "31     41.00      13.87  \n",
       "32     57.20       6.93  \n",
       "33     37.62      12.66  \n",
       "35     74.73      11.95  \n",
       "37     79.29       4.21  \n",
       "38     73.40      16.11  \n",
       "39     80.60       6.93  "
      ]
     },
     "execution_count": 15,
     "metadata": {},
     "output_type": "execute_result"
    }
   ],
   "source": [
    "weather_df"
   ]
  },
  {
   "cell_type": "markdown",
   "metadata": {},
   "source": [
    "### Plotting the Data\n",
    "* Use proper labeling of the plots using plot titles (including date of analysis) and axes labels.\n",
    "* Save the plotted figures as .pngs."
   ]
  },
  {
   "cell_type": "markdown",
   "metadata": {},
   "source": [
    "#### Latitude vs. Temperature Plot"
   ]
  },
  {
   "cell_type": "code",
   "execution_count": 16,
   "metadata": {
    "scrolled": true
   },
   "outputs": [
    {
     "data": {
      "image/png": "[encoded data removed]",
      "text/plain": [
       "<Figure size 432x288 with 1 Axes>"
      ]
     },
     "metadata": {
      "needs_background": "light"
     },
     "output_type": "display_data"
    }
   ],
   "source": [
    "x_values = weather_df['Lat']\n",
    "y_values = weather_df['Max Temp']\n",
    "plt.scatter(x_values, y_values, marker='o', facecolors='blue', edgecolors=\"red\")\n",
    "plt.title(\"City Latitude vs. Max Temperature\")\n",
    "plt.ylabel(\"Max Temperature (F)\")\n",
    "plt.xlabel(\"Latitude\")\n",
    "plt.grid(True)\n",
    "plt.savefig(\"output_data/lat vs temp plot.png\")\n",
    "plt.show()"
   ]
  },
  {
   "cell_type": "markdown",
   "metadata": {},
   "source": [
    "#### Latitude vs. Humidity Plot"
   ]
  },
  {
   "cell_type": "code",
   "execution_count": 17,
   "metadata": {},
   "outputs": [
    {
     "data": {
      "image/png": "[encoded data removed]",
      "text/plain": [
       "<Figure size 432x288 with 1 Axes>"
      ]
     },
     "metadata": {
      "needs_background": "light"
     },
     "output_type": "display_data"
    }
   ],
   "source": [
    "plt.scatter(weather_df['Lat'], weather_df['Humidity'], marker='o',facecolors='blue', edgecolors=\"red\")\n",
    "plt.title(\"City Latitude vs. Humidity\")\n",
    "plt.ylabel(\"Humidity (%)\")\n",
    "plt.xlabel(\"Latitude\")\n",
    "plt.grid(True)\n",
    "plt.savefig(\"output_data/lat vs humidity plot.png\")\n",
    "plt.show()"
   ]
  },
  {
   "cell_type": "markdown",
   "metadata": {},
   "source": [
    "#### Latitude vs. Cloudiness Plot"
   ]
  },
  {
   "cell_type": "code",
   "execution_count": 18,
   "metadata": {},
   "outputs": [
    {
     "data": {
      "image/png": "[encoded data removed]",
      "text/plain": [
       "<Figure size 432x288 with 1 Axes>"
      ]
     },
     "metadata": {
      "needs_background": "light"
     },
     "output_type": "display_data"
    }
   ],
   "source": [
    "plt.scatter(weather_df['Lat'], weather_df['Cloudiness'], marker='o',facecolors='blue', edgecolors=\"red\")\n",
    "\n",
    "plt.title(\"City Latitude vs. Cloudiness\")\n",
    "plt.ylabel(\"Cloudiness (%)\")\n",
    "plt.xlabel(\"Latitude\")\n",
    "plt.grid(True)\n",
    "plt.savefig(\"output_data/lat vs cloudiness plot.png\")\n",
    "plt.show()"
   ]
  },
  {
   "cell_type": "markdown",
   "metadata": {},
   "source": [
    "#### Latitude vs. Wind Speed Plot"
   ]
  },
  {
   "cell_type": "code",
   "execution_count": 19,
   "metadata": {},
   "outputs": [
    {
     "data": {
      "image/png": "[encoded data removed]",
      "text/plain": [
       "<Figure size 432x288 with 1 Axes>"
      ]
     },
     "metadata": {
      "needs_background": "light"
     },
     "output_type": "display_data"
    }
   ],
   "source": [
    "plt.scatter(weather_df['Lat'], weather_df['Wind Speed'], marker='o',facecolors='blue', edgecolors=\"red\")\n",
    "\n",
    "plt.title(\"City Latitude vs. Wind Speed\")\n",
    "plt.ylabel(\"Wind Speed (mph)\")\n",
    "plt.xlabel(\"Latitude\")\n",
    "plt.grid(True)\n",
    "plt.savefig(\"output_data/lat vs wind speed plot.png\")\n",
    "plt.show()"
   ]
  },
  {
   "cell_type": "markdown",
   "metadata": {},
   "source": [
    "## Linear Regression"
   ]
  },
  {
   "cell_type": "code",
   "execution_count": 20,
   "metadata": {},
   "outputs": [],
   "source": [
    "# OPTIONAL: Create a function to create Linear Regression plots"
   ]
  },
  {
   "cell_type": "code",
   "execution_count": 22,
   "metadata": {},
   "outputs": [
    {
     "data": {
      "text/html": [
       "<div>\n",
       "<style scoped>\n",
       "    .dataframe tbody tr th:only-of-type {\n",
       "        vertical-align: middle;\n",
       "    }\n",
       "\n",
       "    .dataframe tbody tr th {\n",
       "        vertical-align: top;\n",
       "    }\n",
       "\n",
       "    .dataframe thead th {\n",
       "        text-align: right;\n",
       "    }\n",
       "</style>\n",
       "<table border=\"1\" class=\"dataframe\">\n",
       "  <thead>\n",
       "    <tr style=\"text-align: right;\">\n",
       "      <th></th>\n",
       "      <th>City</th>\n",
       "      <th>Cloudiness</th>\n",
       "      <th>Country</th>\n",
       "      <th>Date</th>\n",
       "      <th>Humidity</th>\n",
       "      <th>Lat</th>\n",
       "      <th>Lng</th>\n",
       "      <th>Max Temp</th>\n",
       "      <th>Wind Speed</th>\n",
       "      <th>Hemisphere</th>\n",
       "    </tr>\n",
       "  </thead>\n",
       "  <tbody>\n",
       "    <tr>\n",
       "      <td>0</td>\n",
       "      <td>hermanus</td>\n",
       "      <td>100</td>\n",
       "      <td>ZA</td>\n",
       "      <td>1580258943</td>\n",
       "      <td>97</td>\n",
       "      <td>-34.42</td>\n",
       "      <td>19.23</td>\n",
       "      <td>64.99</td>\n",
       "      <td>1.01</td>\n",
       "      <td>Southern Hemisphere</td>\n",
       "    </tr>\n",
       "    <tr>\n",
       "      <td>1</td>\n",
       "      <td>kapaa</td>\n",
       "      <td>1</td>\n",
       "      <td>US</td>\n",
       "      <td>1580258844</td>\n",
       "      <td>61</td>\n",
       "      <td>22.08</td>\n",
       "      <td>-159.32</td>\n",
       "      <td>80.60</td>\n",
       "      <td>6.93</td>\n",
       "      <td>Nothern Hemisphere</td>\n",
       "    </tr>\n",
       "    <tr>\n",
       "      <td>2</td>\n",
       "      <td>vaini</td>\n",
       "      <td>75</td>\n",
       "      <td>TO</td>\n",
       "      <td>1580258943</td>\n",
       "      <td>79</td>\n",
       "      <td>-21.2</td>\n",
       "      <td>-175.2</td>\n",
       "      <td>84.20</td>\n",
       "      <td>5.82</td>\n",
       "      <td>Southern Hemisphere</td>\n",
       "    </tr>\n",
       "    <tr>\n",
       "      <td>3</td>\n",
       "      <td>umm kaddadah</td>\n",
       "      <td>0</td>\n",
       "      <td>SD</td>\n",
       "      <td>1580258943</td>\n",
       "      <td>19</td>\n",
       "      <td>13.6</td>\n",
       "      <td>26.69</td>\n",
       "      <td>57.13</td>\n",
       "      <td>10.67</td>\n",
       "      <td>Nothern Hemisphere</td>\n",
       "    </tr>\n",
       "    <tr>\n",
       "      <td>4</td>\n",
       "      <td>rikitea</td>\n",
       "      <td>100</td>\n",
       "      <td>PF</td>\n",
       "      <td>1580258793</td>\n",
       "      <td>80</td>\n",
       "      <td>-23.12</td>\n",
       "      <td>-134.97</td>\n",
       "      <td>79.59</td>\n",
       "      <td>10.31</td>\n",
       "      <td>Southern Hemisphere</td>\n",
       "    </tr>\n",
       "  </tbody>\n",
       "</table>\n",
       "</div>"
      ],
      "text/plain": [
       "           City Cloudiness Country        Date Humidity    Lat     Lng  \\\n",
       "0      hermanus        100      ZA  1580258943       97 -34.42   19.23   \n",
       "1         kapaa          1      US  1580258844       61  22.08 -159.32   \n",
       "2         vaini         75      TO  1580258943       79  -21.2  -175.2   \n",
       "3  umm kaddadah          0      SD  1580258943       19   13.6   26.69   \n",
       "4       rikitea        100      PF  1580258793       80 -23.12 -134.97   \n",
       "\n",
       "   Max Temp Wind Speed           Hemisphere  \n",
       "0     64.99       1.01  Southern Hemisphere  \n",
       "1     80.60       6.93   Nothern Hemisphere  \n",
       "2     84.20       5.82  Southern Hemisphere  \n",
       "3     57.13      10.67   Nothern Hemisphere  \n",
       "4     79.59      10.31  Southern Hemisphere  "
      ]
     },
     "execution_count": 22,
     "metadata": {},
     "output_type": "execute_result"
    }
   ],
   "source": [
    "# Create Northern and Southern Hemisphere DataFrames\n",
    "weather_df['Hemisphere'] = np.where(weather_df['Lat'] >= 0,'Nothern Hemisphere', 'Southern Hemisphere')\n",
    "weather_df.head()"
   ]
  },
  {
   "cell_type": "code",
   "execution_count": 24,
   "metadata": {},
   "outputs": [
    {
     "data": {
      "text/html": [
       "<div>\n",
       "<style scoped>\n",
       "    .dataframe tbody tr th:only-of-type {\n",
       "        vertical-align: middle;\n",
       "    }\n",
       "\n",
       "    .dataframe tbody tr th {\n",
       "        vertical-align: top;\n",
       "    }\n",
       "\n",
       "    .dataframe thead th {\n",
       "        text-align: right;\n",
       "    }\n",
       "</style>\n",
       "<table border=\"1\" class=\"dataframe\">\n",
       "  <thead>\n",
       "    <tr style=\"text-align: right;\">\n",
       "      <th></th>\n",
       "      <th>City</th>\n",
       "      <th>Cloudiness</th>\n",
       "      <th>Country</th>\n",
       "      <th>Date</th>\n",
       "      <th>Humidity</th>\n",
       "      <th>Lat</th>\n",
       "      <th>Lng</th>\n",
       "      <th>Max Temp</th>\n",
       "      <th>Wind Speed</th>\n",
       "      <th>Hemisphere</th>\n",
       "    </tr>\n",
       "  </thead>\n",
       "  <tbody>\n",
       "    <tr>\n",
       "      <td>1</td>\n",
       "      <td>kapaa</td>\n",
       "      <td>1</td>\n",
       "      <td>US</td>\n",
       "      <td>1580258844</td>\n",
       "      <td>61</td>\n",
       "      <td>22.08</td>\n",
       "      <td>-159.32</td>\n",
       "      <td>80.60</td>\n",
       "      <td>6.93</td>\n",
       "      <td>Nothern Hemisphere</td>\n",
       "    </tr>\n",
       "    <tr>\n",
       "      <td>3</td>\n",
       "      <td>umm kaddadah</td>\n",
       "      <td>0</td>\n",
       "      <td>SD</td>\n",
       "      <td>1580258943</td>\n",
       "      <td>19</td>\n",
       "      <td>13.6</td>\n",
       "      <td>26.69</td>\n",
       "      <td>57.13</td>\n",
       "      <td>10.67</td>\n",
       "      <td>Nothern Hemisphere</td>\n",
       "    </tr>\n",
       "    <tr>\n",
       "      <td>9</td>\n",
       "      <td>yellowknife</td>\n",
       "      <td>90</td>\n",
       "      <td>CA</td>\n",
       "      <td>1580258721</td>\n",
       "      <td>77</td>\n",
       "      <td>62.46</td>\n",
       "      <td>-114.35</td>\n",
       "      <td>0.00</td>\n",
       "      <td>6.93</td>\n",
       "      <td>Nothern Hemisphere</td>\n",
       "    </tr>\n",
       "    <tr>\n",
       "      <td>10</td>\n",
       "      <td>ribeira grande</td>\n",
       "      <td>75</td>\n",
       "      <td>PT</td>\n",
       "      <td>1580258944</td>\n",
       "      <td>93</td>\n",
       "      <td>38.52</td>\n",
       "      <td>-28.7</td>\n",
       "      <td>62.60</td>\n",
       "      <td>11.41</td>\n",
       "      <td>Nothern Hemisphere</td>\n",
       "    </tr>\n",
       "    <tr>\n",
       "      <td>12</td>\n",
       "      <td>cockburn town</td>\n",
       "      <td>0</td>\n",
       "      <td>TC</td>\n",
       "      <td>1580258944</td>\n",
       "      <td>74</td>\n",
       "      <td>21.46</td>\n",
       "      <td>-71.14</td>\n",
       "      <td>77.79</td>\n",
       "      <td>10.25</td>\n",
       "      <td>Nothern Hemisphere</td>\n",
       "    </tr>\n",
       "  </tbody>\n",
       "</table>\n",
       "</div>"
      ],
      "text/plain": [
       "              City Cloudiness Country        Date Humidity    Lat     Lng  \\\n",
       "1            kapaa          1      US  1580258844       61  22.08 -159.32   \n",
       "3     umm kaddadah          0      SD  1580258943       19   13.6   26.69   \n",
       "9      yellowknife         90      CA  1580258721       77  62.46 -114.35   \n",
       "10  ribeira grande         75      PT  1580258944       93  38.52   -28.7   \n",
       "12   cockburn town          0      TC  1580258944       74  21.46  -71.14   \n",
       "\n",
       "    Max Temp Wind Speed          Hemisphere  \n",
       "1      80.60       6.93  Nothern Hemisphere  \n",
       "3      57.13      10.67  Nothern Hemisphere  \n",
       "9       0.00       6.93  Nothern Hemisphere  \n",
       "10     62.60      11.41  Nothern Hemisphere  \n",
       "12     77.79      10.25  Nothern Hemisphere  "
      ]
     },
     "execution_count": 24,
     "metadata": {},
     "output_type": "execute_result"
    }
   ],
   "source": [
    "nothern_df = weather_df.loc[weather_df['Hemisphere'] == 'Nothern Hemisphere']\n",
    "nothern_df.head()"
   ]
  },
  {
   "cell_type": "code",
   "execution_count": 25,
   "metadata": {},
   "outputs": [
    {
     "data": {
      "text/html": [
       "<div>\n",
       "<style scoped>\n",
       "    .dataframe tbody tr th:only-of-type {\n",
       "        vertical-align: middle;\n",
       "    }\n",
       "\n",
       "    .dataframe tbody tr th {\n",
       "        vertical-align: top;\n",
       "    }\n",
       "\n",
       "    .dataframe thead th {\n",
       "        text-align: right;\n",
       "    }\n",
       "</style>\n",
       "<table border=\"1\" class=\"dataframe\">\n",
       "  <thead>\n",
       "    <tr style=\"text-align: right;\">\n",
       "      <th></th>\n",
       "      <th>City</th>\n",
       "      <th>Cloudiness</th>\n",
       "      <th>Country</th>\n",
       "      <th>Date</th>\n",
       "      <th>Humidity</th>\n",
       "      <th>Lat</th>\n",
       "      <th>Lng</th>\n",
       "      <th>Max Temp</th>\n",
       "      <th>Wind Speed</th>\n",
       "      <th>Hemisphere</th>\n",
       "    </tr>\n",
       "  </thead>\n",
       "  <tbody>\n",
       "    <tr>\n",
       "      <td>0</td>\n",
       "      <td>hermanus</td>\n",
       "      <td>100</td>\n",
       "      <td>ZA</td>\n",
       "      <td>1580258943</td>\n",
       "      <td>97</td>\n",
       "      <td>-34.42</td>\n",
       "      <td>19.23</td>\n",
       "      <td>64.99</td>\n",
       "      <td>1.01</td>\n",
       "      <td>Southern Hemisphere</td>\n",
       "    </tr>\n",
       "    <tr>\n",
       "      <td>2</td>\n",
       "      <td>vaini</td>\n",
       "      <td>75</td>\n",
       "      <td>TO</td>\n",
       "      <td>1580258943</td>\n",
       "      <td>79</td>\n",
       "      <td>-21.2</td>\n",
       "      <td>-175.2</td>\n",
       "      <td>84.20</td>\n",
       "      <td>5.82</td>\n",
       "      <td>Southern Hemisphere</td>\n",
       "    </tr>\n",
       "    <tr>\n",
       "      <td>4</td>\n",
       "      <td>rikitea</td>\n",
       "      <td>100</td>\n",
       "      <td>PF</td>\n",
       "      <td>1580258793</td>\n",
       "      <td>80</td>\n",
       "      <td>-23.12</td>\n",
       "      <td>-134.97</td>\n",
       "      <td>79.59</td>\n",
       "      <td>10.31</td>\n",
       "      <td>Southern Hemisphere</td>\n",
       "    </tr>\n",
       "    <tr>\n",
       "      <td>5</td>\n",
       "      <td>avarua</td>\n",
       "      <td>13</td>\n",
       "      <td>CK</td>\n",
       "      <td>1580258694</td>\n",
       "      <td>94</td>\n",
       "      <td>-21.21</td>\n",
       "      <td>-159.78</td>\n",
       "      <td>78.80</td>\n",
       "      <td>8.05</td>\n",
       "      <td>Southern Hemisphere</td>\n",
       "    </tr>\n",
       "    <tr>\n",
       "      <td>6</td>\n",
       "      <td>neuquen</td>\n",
       "      <td>50</td>\n",
       "      <td>AR</td>\n",
       "      <td>1580258943</td>\n",
       "      <td>20</td>\n",
       "      <td>-38.95</td>\n",
       "      <td>-68.06</td>\n",
       "      <td>77.00</td>\n",
       "      <td>13.87</td>\n",
       "      <td>Southern Hemisphere</td>\n",
       "    </tr>\n",
       "  </tbody>\n",
       "</table>\n",
       "</div>"
      ],
      "text/plain": [
       "       City Cloudiness Country        Date Humidity    Lat     Lng  Max Temp  \\\n",
       "0  hermanus        100      ZA  1580258943       97 -34.42   19.23     64.99   \n",
       "2     vaini         75      TO  1580258943       79  -21.2  -175.2     84.20   \n",
       "4   rikitea        100      PF  1580258793       80 -23.12 -134.97     79.59   \n",
       "5    avarua         13      CK  1580258694       94 -21.21 -159.78     78.80   \n",
       "6   neuquen         50      AR  1580258943       20 -38.95  -68.06     77.00   \n",
       "\n",
       "  Wind Speed           Hemisphere  \n",
       "0       1.01  Southern Hemisphere  \n",
       "2       5.82  Southern Hemisphere  \n",
       "4      10.31  Southern Hemisphere  \n",
       "5       8.05  Southern Hemisphere  \n",
       "6      13.87  Southern Hemisphere  "
      ]
     },
     "execution_count": 25,
     "metadata": {},
     "output_type": "execute_result"
    }
   ],
   "source": [
    "southern_df = weather_df.loc[weather_df['Hemisphere'] == 'Southern Hemisphere']\n",
    "southern_df.head()"
   ]
  },
  {
   "cell_type": "markdown",
   "metadata": {},
   "source": [
    "####  Northern Hemisphere - Max Temp vs. Latitude Linear Regression"
   ]
  },
  {
   "cell_type": "code",
   "execution_count": 42,
   "metadata": {
    "scrolled": true
   },
   "outputs": [
    {
     "name": "stdout",
     "output_type": "stream",
     "text": [
      "The r-squared is: -0.8516320641764735\n"
     ]
    },
    {
     "data": {
      "image/png": "[encoded data removed]",
      "text/plain": [
       "<Figure size 432x288 with 1 Axes>"
      ]
     },
     "metadata": {
      "needs_background": "light"
     },
     "output_type": "display_data"
    }
   ],
   "source": [
    "x_values = nothern_df['Lat'].astype(int)\n",
    "y_values = nothern_df['Max Temp'].astype(int)\n",
    "(slope, intercept, rvalue, pvalue, stderr) = linregress(x_values, y_values)\n",
    "regress_values = x_values * slope + intercept\n",
    "line_eq = \"y = \" + str(round(slope,2)) + \"x + \" + str(round(intercept,2))\n",
    "plt.scatter(x_values,y_values)\n",
    "plt.plot(x_values,regress_values,\"r-\")\n",
    "plt.annotate(line_eq,(6,10),fontsize=15,color=\"red\")\n",
    "plt.xlabel('Latitude')\n",
    "plt.ylabel('Max Temp')\n",
    "print(f\"The r-squared is: {rvalue}\")\n",
    "plt.savefig('output_data/Linear Regression/Nothern Hem_Max Temp vs Lat.png')\n",
    "plt.show()"
   ]
  },
  {
   "cell_type": "markdown",
   "metadata": {},
   "source": [
    "####  Southern Hemisphere - Max Temp vs. Latitude Linear Regression"
   ]
  },
  {
   "cell_type": "code",
   "execution_count": 29,
   "metadata": {},
   "outputs": [
    {
     "name": "stdout",
     "output_type": "stream",
     "text": [
      "The r-squared is: 0.6234370867146987\n"
     ]
    },
    {
     "data": {
      "image/png": "[encoded data removed]",
      "text/plain": [
       "<Figure size 432x288 with 1 Axes>"
      ]
     },
     "metadata": {
      "needs_background": "light"
     },
     "output_type": "display_data"
    }
   ],
   "source": [
    "x_values = southern_df['Lat'].astype(int)\n",
    "y_values = southern_df['Max Temp'].astype(int)\n",
    "(slope, intercept, rvalue, pvalue, stderr) = linregress(x_values, y_values)\n",
    "regress_values = x_values * slope + intercept\n",
    "line_eq = \"y = \" + str(round(slope,2)) + \"x + \" + str(round(intercept,2))\n",
    "plt.scatter(x_values,y_values)\n",
    "plt.plot(x_values,regress_values,\"r-\")\n",
    "plt.annotate(line_eq,(-30,60),fontsize=15,color=\"red\")\n",
    "plt.xlabel('Latitude')\n",
    "plt.ylabel('Max Temp')\n",
    "print(f\"The r-squared is: {rvalue}\")\n",
    "plt.savefig('output_data/Linear Regression/Southern Hem_Max Temp vs Lat.png')\n",
    "plt.show()"
   ]
  },
  {
   "cell_type": "markdown",
   "metadata": {},
   "source": [
    "####  Northern Hemisphere - Humidity (%) vs. Latitude Linear Regression"
   ]
  },
  {
   "cell_type": "code",
   "execution_count": 31,
   "metadata": {},
   "outputs": [
    {
     "name": "stdout",
     "output_type": "stream",
     "text": [
      "The r-squared is: 0.7931726053331929\n"
     ]
    },
    {
     "data": {
      "image/png": "[encoded data removed]",
      "text/plain": [
       "<Figure size 432x288 with 1 Axes>"
      ]
     },
     "metadata": {
      "needs_background": "light"
     },
     "output_type": "display_data"
    }
   ],
   "source": [
    "x_values = nothern_df['Lat'].astype(int)\n",
    "y_values = nothern_df['Humidity'].astype(int)\n",
    "(slope, intercept, rvalue, pvalue, stderr) = linregress(x_values, y_values)\n",
    "regress_values = x_values * slope + intercept\n",
    "line_eq = \"y = \" + str(round(slope,2)) + \"x + \" + str(round(intercept,2))\n",
    "plt.scatter(x_values,y_values)\n",
    "plt.plot(x_values,regress_values,\"r-\")\n",
    "plt.annotate(line_eq,(30,50),fontsize=15,color=\"red\")\n",
    "plt.xlabel('Latitude')\n",
    "plt.ylabel('Humidity')\n",
    "print(f\"The r-squared is: {rvalue}\")\n",
    "plt.savefig('output_data/Linear Regression/Nothern Hem_Humidity(%) vs Lat.png')\n",
    "plt.show()"
   ]
  },
  {
   "cell_type": "markdown",
   "metadata": {},
   "source": [
    "####  Southern Hemisphere - Humidity (%) vs. Latitude Linear Regression"
   ]
  },
  {
   "cell_type": "code",
   "execution_count": 33,
   "metadata": {},
   "outputs": [
    {
     "name": "stdout",
     "output_type": "stream",
     "text": [
      "The r-squared is: 0.4544344028538583\n"
     ]
    },
    {
     "data": {
      "image/png": "[encoded data removed]",
      "text/plain": [
       "<Figure size 432x288 with 1 Axes>"
      ]
     },
     "metadata": {
      "needs_background": "light"
     },
     "output_type": "display_data"
    }
   ],
   "source": [
    "x_values = southern_df['Lat'].astype(int)\n",
    "y_values = southern_df['Humidity'].astype(int)\n",
    "(slope, intercept, rvalue, pvalue, stderr) = linregress(x_values, y_values)\n",
    "regress_values = x_values * slope + intercept\n",
    "line_eq = \"y = \" + str(round(slope,2)) + \"x + \" + str(round(intercept,2))\n",
    "plt.scatter(x_values,y_values)\n",
    "plt.plot(x_values,regress_values,\"r-\")\n",
    "plt.annotate(line_eq,(-35,90),fontsize=15,color=\"red\")\n",
    "plt.xlabel('Latitude')\n",
    "plt.ylabel('Humidity')\n",
    "print(f\"The r-squared is: {rvalue}\")\n",
    "plt.savefig('output_data/Linear Regression/Southern Hem_Humidity(%) vs Lat.png')\n",
    "plt.show()"
   ]
  },
  {
   "cell_type": "markdown",
   "metadata": {},
   "source": [
    "####  Northern Hemisphere - Cloudiness (%) vs. Latitude Linear Regression"
   ]
  },
  {
   "cell_type": "code",
   "execution_count": 35,
   "metadata": {},
   "outputs": [
    {
     "name": "stdout",
     "output_type": "stream",
     "text": [
      "The r-squared is: 0.7152998397290882\n"
     ]
    },
    {
     "data": {
      "image/png": "[encoded data removed]",
      "text/plain": [
       "<Figure size 432x288 with 1 Axes>"
      ]
     },
     "metadata": {
      "needs_background": "light"
     },
     "output_type": "display_data"
    }
   ],
   "source": [
    "x_values = nothern_df['Lat'].astype(int)\n",
    "y_values = nothern_df['Cloudiness'].astype(int)\n",
    "(slope, intercept, rvalue, pvalue, stderr) = linregress(x_values, y_values)\n",
    "regress_values = x_values * slope + intercept\n",
    "line_eq = \"y = \" + str(round(slope,2)) + \"x + \" + str(round(intercept,2))\n",
    "plt.scatter(x_values,y_values)\n",
    "plt.plot(x_values,regress_values,\"r-\")\n",
    "plt.annotate(line_eq,(40,62),fontsize=15,color=\"red\")\n",
    "plt.xlabel('Latitude')\n",
    "plt.ylabel('Cloudiness')\n",
    "print(f\"The r-squared is: {rvalue}\")\n",
    "plt.savefig('output_data/Linear Regression/Nothern Hem_Cloudiness(%) vs Lat.png')\n",
    "plt.show()"
   ]
  },
  {
   "cell_type": "markdown",
   "metadata": {},
   "source": [
    "####  Southern Hemisphere - Cloudiness (%) vs. Latitude Linear Regression"
   ]
  },
  {
   "cell_type": "code",
   "execution_count": 36,
   "metadata": {},
   "outputs": [
    {
     "name": "stdout",
     "output_type": "stream",
     "text": [
      "The r-squared is: 0.15725178288929842\n"
     ]
    },
    {
     "data": {
      "image/png": "[encoded data removed]",
      "text/plain": [
       "<Figure size 432x288 with 1 Axes>"
      ]
     },
     "metadata": {
      "needs_background": "light"
     },
     "output_type": "display_data"
    }
   ],
   "source": [
    "x_values = southern_df['Lat'].astype(int)\n",
    "y_values = southern_df['Cloudiness'].astype(int)\n",
    "(slope, intercept, rvalue, pvalue, stderr) = linregress(x_values, y_values)\n",
    "regress_values = x_values * slope + intercept\n",
    "line_eq = \"y = \" + str(round(slope,2)) + \"x + \" + str(round(intercept,2))\n",
    "plt.scatter(x_values,y_values)\n",
    "plt.plot(x_values,regress_values,\"r-\")\n",
    "plt.annotate(line_eq,(-30,39),fontsize=15,color=\"red\")\n",
    "plt.xlabel('Latitude')\n",
    "plt.ylabel('Cloudiness')\n",
    "print(f\"The r-squared is: {rvalue}\")\n",
    "plt.savefig('output_data/Linear Regression/Southern Hem_Cloudiness (%) vs Lat.png')\n",
    "plt.show()"
   ]
  },
  {
   "cell_type": "markdown",
   "metadata": {},
   "source": [
    "####  Northern Hemisphere - Wind Speed (mph) vs. Latitude Linear Regression"
   ]
  },
  {
   "cell_type": "code",
   "execution_count": 39,
   "metadata": {},
   "outputs": [
    {
     "name": "stdout",
     "output_type": "stream",
     "text": [
      "The r-squared is: -0.23789216651740483\n"
     ]
    },
    {
     "data": {
      "image/png": "[encoded data removed]",
      "text/plain": [
       "<Figure size 432x288 with 1 Axes>"
      ]
     },
     "metadata": {
      "needs_background": "light"
     },
     "output_type": "display_data"
    }
   ],
   "source": [
    "x_values = nothern_df['Lat'].astype(int)\n",
    "y_values = nothern_df['Wind Speed'].astype(int)\n",
    "(slope, intercept, rvalue, pvalue, stderr) = linregress(x_values, y_values)\n",
    "regress_values = x_values * slope + intercept\n",
    "line_eq = \"y = \" + str(round(slope,2)) + \"x + \" + str(round(intercept,2))\n",
    "plt.scatter(x_values,y_values)\n",
    "plt.plot(x_values,regress_values,\"r-\")\n",
    "plt.annotate(line_eq,(20,6),fontsize=15,color=\"red\")\n",
    "plt.xlabel('Latitude')\n",
    "plt.ylabel('Wind Speed')\n",
    "print(f\"The r-squared is: {rvalue}\")\n",
    "plt.savefig('output_data/Linear Regression/Nothern Hem_Wind Speed (mph) vs Lat.png')\n",
    "plt.show()"
   ]
  },
  {
   "cell_type": "markdown",
   "metadata": {},
   "source": [
    "####  Southern Hemisphere - Wind Speed (mph) vs. Latitude Linear Regression"
   ]
  },
  {
   "cell_type": "code",
   "execution_count": 40,
   "metadata": {},
   "outputs": [
    {
     "name": "stdout",
     "output_type": "stream",
     "text": [
      "The r-squared is: -0.7050932896425692\n"
     ]
    },
    {
     "data": {
      "image/png": "[encoded data removed]",
      "text/plain": [
       "<Figure size 432x288 with 1 Axes>"
      ]
     },
     "metadata": {
      "needs_background": "light"
     },
     "output_type": "display_data"
    }
   ],
   "source": [
    "x_values = southern_df['Lat'].astype(int)\n",
    "y_values = southern_df['Wind Speed'].astype(int)\n",
    "(slope, intercept, rvalue, pvalue, stderr) = linregress(x_values, y_values)\n",
    "regress_values = x_values * slope + intercept\n",
    "line_eq = \"y = \" + str(round(slope,2)) + \"x + \" + str(round(intercept,2))\n",
    "plt.scatter(x_values,y_values)\n",
    "plt.plot(x_values,regress_values,\"r-\")\n",
    "plt.annotate(line_eq,(-30,7),fontsize=15,color=\"red\")\n",
    "plt.xlabel('Latitude')\n",
    "plt.ylabel('Wind Speed')\n",
    "print(f\"The r-squared is: {rvalue}\")\n",
    "plt.savefig('output_data/Linear Regression/Southern Hem_Wind Speed (mph) vs Lat.png')\n",
    "plt.show()"
   ]
  },
  {
   "cell_type": "code",
   "execution_count": null,
   "metadata": {},
   "outputs": [],
   "source": []
  },
  {
   "cell_type": "code",
   "execution_count": null,
   "metadata": {},
   "outputs": [],
   "source": []
  }
 ],
 "metadata": {
  "anaconda-cloud": {},
  "kernel_info": {
   "name": "python3"
  },
  "kernelspec": {
   "display_name": "Python 3",
   "language": "python",
   "name": "python3"
  },
  "language_info": {
   "codemirror_mode": {
    "name": "ipython",
    "version": 3
   },
   "file_extension": ".py",
   "mimetype": "text/x-python",
   "name": "python",
   "nbconvert_exporter": "python",
   "pygments_lexer": "ipython3",
   "version": "3.7.4"
  },
  "latex_envs": {
   "LaTeX_envs_menu_present": true,
   "autoclose": false,
   "autocomplete": true,
   "bibliofile": "biblio.bib",
   "cite_by": "apalike",
   "current_citInitial": 1,
   "eqLabelWithNumbers": true,
   "eqNumInitial": 1,
   "hotkeys": {
    "equation": "Ctrl-E",
    "itemize": "Ctrl-I"
   },
   "labels_anchors": false,
   "latex_user_defs": false,
   "report_style_numbering": false,
   "user_envs_cfg": false
  },
  "nteract": {
   "version": "0.12.3"
  }
 },
 "nbformat": 4,
 "nbformat_minor": 2
}

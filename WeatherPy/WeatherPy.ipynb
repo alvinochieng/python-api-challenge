{
 "cells": [
  {
   "cell_type": "markdown",
   "metadata": {},
   "source": [
    "# WeatherPy\n",
    "----\n",
    "\n",
    "#### Note\n",
    "* Instructions have been included for each segment. You do not have to follow them exactly, but they are included to help you think through the steps."
   ]
  },
  {
   "cell_type": "code",
   "execution_count": 6,
   "metadata": {
    "scrolled": true
   },
   "outputs": [],
   "source": [
    "# Dependencies and Setup\n",
    "import matplotlib.pyplot as plt\n",
    "import pandas as pd\n",
    "import numpy as np\n",
    "import requests\n",
    "import time\n",
    "import datetime\n",
    "from scipy.stats import linregress\n",
    "\n",
    "# Import API key\n",
    "from api_keys import weather_api_key\n",
    "\n",
    "# Incorporated citipy to determine city based on latitude and longitude\n",
    "from citipy import citipy\n",
    "\n",
    "# Output File (CSV)\n",
    "output_data_file = \"output_data/cities.csv\"\n",
    "\n",
    "# Range of latitudes and longitudes\n",
    "lat_range = (-90, 90)\n",
    "lng_range = (-180, 180)"
   ]
  },
  {
   "cell_type": "markdown",
   "metadata": {},
   "source": [
    "## Generate Cities List"
   ]
  },
  {
   "cell_type": "code",
   "execution_count": 7,
   "metadata": {},
   "outputs": [
    {
     "data": {
      "text/plain": [
       "577"
      ]
     },
     "execution_count": 7,
     "metadata": {},
     "output_type": "execute_result"
    }
   ],
   "source": [
    "# List for holding lat_lngs and cities\n",
    "lat_lngs = []\n",
    "cities = []\n",
    "countries = []\n",
    "\n",
    "# Create a set of random lat and lng combinations\n",
    "lats = np.random.uniform(low=-90.000, high=90.000, size=1500)\n",
    "lngs = np.random.uniform(low=-180.000, high=180.000, size=1500)\n",
    "lat_lngs = zip(lats, lngs)\n",
    "\n",
    "# Identify nearest city for each lat, lng combination\n",
    "for lat_lng in lat_lngs:\n",
    "    city = citipy.nearest_city(lat_lng[0], lat_lng[1]).city_name\n",
    "    country = citipy.nearest_city(lat_lng[0], lat_lng[1]).country_code\n",
    "    # If the city is unique, then add it to a our cities list\n",
    "    if city not in cities:\n",
    "        cities.append(city)\n",
    "        countries.append(country.upper())\n",
    "\n",
    "# Print the city count to confirm sufficient count\n",
    "len(cities)"
   ]
  },
  {
   "cell_type": "code",
   "execution_count": 8,
   "metadata": {},
   "outputs": [
    {
     "data": {
      "text/html": [
       "<div>\n",
       "<style scoped>\n",
       "    .dataframe tbody tr th:only-of-type {\n",
       "        vertical-align: middle;\n",
       "    }\n",
       "\n",
       "    .dataframe tbody tr th {\n",
       "        vertical-align: top;\n",
       "    }\n",
       "\n",
       "    .dataframe thead th {\n",
       "        text-align: right;\n",
       "    }\n",
       "</style>\n",
       "<table border=\"1\" class=\"dataframe\">\n",
       "  <thead>\n",
       "    <tr style=\"text-align: right;\">\n",
       "      <th></th>\n",
       "      <th>City</th>\n",
       "      <th>Cloudiness</th>\n",
       "      <th>Country</th>\n",
       "      <th>Date</th>\n",
       "      <th>Humidity</th>\n",
       "      <th>Lat</th>\n",
       "      <th>Lng</th>\n",
       "      <th>Max Temp</th>\n",
       "      <th>Wind Speed</th>\n",
       "    </tr>\n",
       "  </thead>\n",
       "  <tbody>\n",
       "    <tr>\n",
       "      <td>0</td>\n",
       "      <td>dakar</td>\n",
       "      <td></td>\n",
       "      <td>SN</td>\n",
       "      <td></td>\n",
       "      <td></td>\n",
       "      <td></td>\n",
       "      <td></td>\n",
       "      <td></td>\n",
       "      <td></td>\n",
       "    </tr>\n",
       "    <tr>\n",
       "      <td>1</td>\n",
       "      <td>hithadhoo</td>\n",
       "      <td></td>\n",
       "      <td>MV</td>\n",
       "      <td></td>\n",
       "      <td></td>\n",
       "      <td></td>\n",
       "      <td></td>\n",
       "      <td></td>\n",
       "      <td></td>\n",
       "    </tr>\n",
       "    <tr>\n",
       "      <td>2</td>\n",
       "      <td>port alfred</td>\n",
       "      <td></td>\n",
       "      <td>ZA</td>\n",
       "      <td></td>\n",
       "      <td></td>\n",
       "      <td></td>\n",
       "      <td></td>\n",
       "      <td></td>\n",
       "      <td></td>\n",
       "    </tr>\n",
       "    <tr>\n",
       "      <td>3</td>\n",
       "      <td>tamuin</td>\n",
       "      <td></td>\n",
       "      <td>MX</td>\n",
       "      <td></td>\n",
       "      <td></td>\n",
       "      <td></td>\n",
       "      <td></td>\n",
       "      <td></td>\n",
       "      <td></td>\n",
       "    </tr>\n",
       "    <tr>\n",
       "      <td>4</td>\n",
       "      <td>illoqqortoormiut</td>\n",
       "      <td></td>\n",
       "      <td>GL</td>\n",
       "      <td></td>\n",
       "      <td></td>\n",
       "      <td></td>\n",
       "      <td></td>\n",
       "      <td></td>\n",
       "      <td></td>\n",
       "    </tr>\n",
       "    <tr>\n",
       "      <td>5</td>\n",
       "      <td>carnarvon</td>\n",
       "      <td></td>\n",
       "      <td>AU</td>\n",
       "      <td></td>\n",
       "      <td></td>\n",
       "      <td></td>\n",
       "      <td></td>\n",
       "      <td></td>\n",
       "      <td></td>\n",
       "    </tr>\n",
       "    <tr>\n",
       "      <td>6</td>\n",
       "      <td>shimoda</td>\n",
       "      <td></td>\n",
       "      <td>JP</td>\n",
       "      <td></td>\n",
       "      <td></td>\n",
       "      <td></td>\n",
       "      <td></td>\n",
       "      <td></td>\n",
       "      <td></td>\n",
       "    </tr>\n",
       "    <tr>\n",
       "      <td>7</td>\n",
       "      <td>leningradskiy</td>\n",
       "      <td></td>\n",
       "      <td>RU</td>\n",
       "      <td></td>\n",
       "      <td></td>\n",
       "      <td></td>\n",
       "      <td></td>\n",
       "      <td></td>\n",
       "      <td></td>\n",
       "    </tr>\n",
       "    <tr>\n",
       "      <td>8</td>\n",
       "      <td>nogent-le-rotrou</td>\n",
       "      <td></td>\n",
       "      <td>FR</td>\n",
       "      <td></td>\n",
       "      <td></td>\n",
       "      <td></td>\n",
       "      <td></td>\n",
       "      <td></td>\n",
       "      <td></td>\n",
       "    </tr>\n",
       "    <tr>\n",
       "      <td>9</td>\n",
       "      <td>albany</td>\n",
       "      <td></td>\n",
       "      <td>AU</td>\n",
       "      <td></td>\n",
       "      <td></td>\n",
       "      <td></td>\n",
       "      <td></td>\n",
       "      <td></td>\n",
       "      <td></td>\n",
       "    </tr>\n",
       "  </tbody>\n",
       "</table>\n",
       "</div>"
      ],
      "text/plain": [
       "               City Cloudiness Country Date Humidity Lat Lng Max Temp  \\\n",
       "0             dakar                 SN                                  \n",
       "1         hithadhoo                 MV                                  \n",
       "2       port alfred                 ZA                                  \n",
       "3            tamuin                 MX                                  \n",
       "4  illoqqortoormiut                 GL                                  \n",
       "5         carnarvon                 AU                                  \n",
       "6           shimoda                 JP                                  \n",
       "7     leningradskiy                 RU                                  \n",
       "8  nogent-le-rotrou                 FR                                  \n",
       "9            albany                 AU                                  \n",
       "\n",
       "  Wind Speed  \n",
       "0             \n",
       "1             \n",
       "2             \n",
       "3             \n",
       "4             \n",
       "5             \n",
       "6             \n",
       "7             \n",
       "8             \n",
       "9             "
      ]
     },
     "execution_count": 8,
     "metadata": {},
     "output_type": "execute_result"
    }
   ],
   "source": [
    "weather_df = pd.DataFrame({\"City\":cities, \"Cloudiness\":'', \"Country\":countries, \"Date\":'', \"Humidity\":'',\n",
    "                           \"Lat\":'', \"Lng\":'', \"Max Temp\":'', \"Wind Speed\":''})\n",
    "weather_df.head(10)"
   ]
  },
  {
   "cell_type": "code",
   "execution_count": 9,
   "metadata": {},
   "outputs": [],
   "source": [
    "url = 'http://api.openweathermap.org/data/2.5/weather?units=imperial&q='\n",
    "count = 1\n",
    "count_set = 1"
   ]
  },
  {
   "cell_type": "markdown",
   "metadata": {},
   "source": [
    "### Perform API Calls\n",
    "* Perform a weather check on each city using a series of successive API calls.\n",
    "* Include a print log of each city as it'sbeing processed (with the city number and city name).\n"
   ]
  },
  {
   "cell_type": "code",
   "execution_count": 10,
   "metadata": {},
   "outputs": [
    {
     "name": "stdout",
     "output_type": "stream",
     "text": [
      "Begining Data Retrieval \n",
      "-----------------------\n",
      "Processing Record 1 of Set 1 | Dakar\n",
      "Processing Record 2 of Set 1 | Hithadhoo\n",
      "Processing Record 3 of Set 1 | Port Alfred\n",
      "Processing Record 4 of Set 1 | Tamuin\n",
      "City not found. Skipping....\n",
      "Processing Record 5 of Set 1 | Carnarvon\n",
      "Processing Record 6 of Set 1 | Shimoda\n",
      "Processing Record 7 of Set 1 | Leningradskiy\n",
      "Processing Record 8 of Set 1 | Arrondissement de Nogent-le-Rotrou\n",
      "Processing Record 9 of Set 1 | Albany\n",
      "Processing Record 10 of Set 1 | Mount Isa\n",
      "Processing Record 11 of Set 1 | Arraial do Cabo\n",
      "Processing Record 12 of Set 1 | Georgetown\n",
      "Processing Record 13 of Set 1 | Pisco\n",
      "Processing Record 14 of Set 1 | Tshikapa\n",
      "Processing Record 15 of Set 1 | Cambrils\n",
      "City not found. Skipping....\n",
      "Processing Record 16 of Set 1 | Ushuaia\n",
      "Processing Record 17 of Set 1 | Butaritari\n",
      "Processing Record 18 of Set 1 | Olafsvik\n",
      "Processing Record 19 of Set 1 | Atuona\n",
      "Processing Record 20 of Set 1 | Fortuna\n",
      "Processing Record 21 of Set 1 | Kaitangata\n",
      "Processing Record 22 of Set 1 | San Quintin\n",
      "Processing Record 23 of Set 1 | Jamestown\n",
      "Processing Record 24 of Set 1 | Aasiaat\n",
      "City not found. Skipping....\n",
      "Processing Record 25 of Set 1 | Tiksi\n",
      "Processing Record 26 of Set 1 | Hofn\n",
      "Processing Record 27 of Set 1 | Yarada\n",
      "Processing Record 28 of Set 1 | Vaini\n",
      "Processing Record 29 of Set 1 | Saint-Philippe\n",
      "Processing Record 30 of Set 1 | Punta Arenas\n",
      "Processing Record 31 of Set 1 | Rivadavia\n",
      "Processing Record 32 of Set 1 | Krasnyy Chikoy\n",
      "Processing Record 33 of Set 1 | Rikitea\n",
      "Processing Record 34 of Set 1 | Thompson\n",
      "Processing Record 35 of Set 1 | Bredasdorp\n",
      "Processing Record 36 of Set 1 | Hermanus\n",
      "Processing Record 37 of Set 1 | Zamora\n",
      "Processing Record 38 of Set 1 | Salvador\n",
      "Processing Record 39 of Set 1 | Narsaq\n",
      "Processing Record 40 of Set 1 | Barrow\n",
      "Processing Record 41 of Set 1 | Ahipara\n",
      "Processing Record 42 of Set 1 | Cherskiy\n",
      "Processing Record 43 of Set 1 | Khatanga\n",
      "Processing Record 44 of Set 1 | Faanui\n",
      "Processing Record 45 of Set 1 | Kavieng\n",
      "City not found. Skipping....\n",
      "Processing Record 46 of Set 1 | Antsohihy\n",
      "Processing Record 47 of Set 1 | Upernavik\n",
      "City not found. Skipping....\n",
      "Processing Record 48 of Set 1 | Ponta do Sol\n",
      "Processing Record 49 of Set 1 | Belawan\n",
      "Processing Record 50 of Set 1 | Kapaa\n",
      "Processing Record 1 of Set 2 | Puerto Ayora\n",
      "Processing Record 2 of Set 2 | Nikolskoye\n",
      "Processing Record 3 of Set 2 | Kruisfontein\n",
      "Processing Record 4 of Set 2 | Dingle\n",
      "Processing Record 5 of Set 2 | Lavrentiya\n",
      "Processing Record 6 of Set 2 | Yellowknife\n",
      "Processing Record 7 of Set 2 | Bethel\n",
      "Processing Record 8 of Set 2 | Sioux Lookout\n",
      "Processing Record 9 of Set 2 | Idlib\n",
      "Processing Record 10 of Set 2 | Gouyave\n",
      "Processing Record 11 of Set 2 | Gao\n",
      "Processing Record 12 of Set 2 | Namie\n",
      "Processing Record 13 of Set 2 | Bako\n",
      "Processing Record 14 of Set 2 | Ribeira Grande\n",
      "Processing Record 15 of Set 2 | Chute-aux-Outardes\n",
      "Processing Record 16 of Set 2 | Korla\n",
      "Processing Record 17 of Set 2 | Chifeng\n",
      "Processing Record 18 of Set 2 | Pinega\n",
      "Processing Record 19 of Set 2 | Busselton\n",
      "Processing Record 20 of Set 2 | Saldanha\n",
      "Processing Record 21 of Set 2 | Amahai\n",
      "Processing Record 22 of Set 2 | Avarua\n",
      "Processing Record 23 of Set 2 | Katsuura\n",
      "Processing Record 24 of Set 2 | San Benito\n",
      "Processing Record 25 of Set 2 | Mehamn\n",
      "Processing Record 26 of Set 2 | Mar del Plata\n",
      "Processing Record 27 of Set 2 | Qaanaaq\n",
      "Processing Record 28 of Set 2 | Slave Lake\n",
      "Processing Record 29 of Set 2 | Iqaluit\n",
      "Processing Record 30 of Set 2 | Port Elizabeth\n",
      "Processing Record 31 of Set 2 | Chiredzi\n",
      "Processing Record 32 of Set 2 | Kysyl-Syr\n",
      "Processing Record 33 of Set 2 | Luderitz\n",
      "City not found. Skipping....\n",
      "Processing Record 34 of Set 2 | Klyuchi\n",
      "City not found. Skipping....\n",
      "Processing Record 35 of Set 2 | Hobart\n",
      "Processing Record 36 of Set 2 | Makakilo City\n",
      "Processing Record 37 of Set 2 | Albanel\n",
      "City not found. Skipping....\n",
      "Processing Record 38 of Set 2 | Longyearbyen\n",
      "Processing Record 39 of Set 2 | Praya\n",
      "City not found. Skipping....\n",
      "Processing Record 40 of Set 2 | Verkhnyaya Inta\n",
      "Processing Record 41 of Set 2 | Vicuna\n",
      "Processing Record 42 of Set 2 | Hilo\n",
      "City not found. Skipping....\n",
      "Processing Record 43 of Set 2 | Bambous Virieux\n",
      "City not found. Skipping....\n",
      "Processing Record 44 of Set 2 | New Norfolk\n",
      "Processing Record 45 of Set 2 | Samarinda\n",
      "City not found. Skipping....\n",
      "Processing Record 46 of Set 2 | College\n",
      "Processing Record 47 of Set 2 | Huarmey\n",
      "Processing Record 48 of Set 2 | Husavik\n",
      "Processing Record 49 of Set 2 | Kuybysheve\n",
      "Processing Record 50 of Set 2 | Camacha\n",
      "Processing Record 1 of Set 3 | Litovko\n",
      "Processing Record 2 of Set 3 | Port Blair\n",
      "Processing Record 3 of Set 3 | Turbat\n",
      "Processing Record 4 of Set 3 | La Ronge\n",
      "Processing Record 5 of Set 3 | Caceres\n",
      "Processing Record 6 of Set 3 | Kaeo\n",
      "Processing Record 7 of Set 3 | Castro\n",
      "City not found. Skipping....\n",
      "Processing Record 8 of Set 3 | Baykit\n",
      "Processing Record 9 of Set 3 | Marsh Harbour\n",
      "Processing Record 10 of Set 3 | Monrovia\n",
      "Processing Record 11 of Set 3 | Kutum\n",
      "Processing Record 12 of Set 3 | Ancud\n",
      "Processing Record 13 of Set 3 | Tuktoyaktuk\n",
      "Processing Record 14 of Set 3 | Saint-Leu\n",
      "Processing Record 15 of Set 3 | Bonthe\n",
      "Processing Record 16 of Set 3 | Kahului\n",
      "Processing Record 17 of Set 3 | Saskylakh\n",
      "Processing Record 18 of Set 3 | Chingirlau\n",
      "Processing Record 19 of Set 3 | Kalanguy\n",
      "Processing Record 20 of Set 3 | Banjar\n",
      "Processing Record 21 of Set 3 | Dubbo\n",
      "Processing Record 22 of Set 3 | Mayo\n",
      "Processing Record 23 of Set 3 | Chara\n",
      "City not found. Skipping....\n",
      "Processing Record 24 of Set 3 | Klaksvik\n",
      "Processing Record 25 of Set 3 | Weligama\n",
      "City not found. Skipping....\n",
      "Processing Record 26 of Set 3 | Geraldton\n",
      "Processing Record 27 of Set 3 | Katobu\n",
      "Processing Record 28 of Set 3 | Petropavlovsk-Kamchatsky\n",
      "Processing Record 29 of Set 3 | Karratha\n",
      "Processing Record 30 of Set 3 | Kattivakkam\n",
      "Processing Record 31 of Set 3 | Parabel\n",
      "Processing Record 32 of Set 3 | Torbay\n",
      "Processing Record 33 of Set 3 | Barra de Tecoanapa\n",
      "City not found. Skipping....\n",
      "Processing Record 34 of Set 3 | Kenai\n",
      "Processing Record 35 of Set 3 | Talnakh\n",
      "City not found. Skipping....\n",
      "Processing Record 36 of Set 3 | Santa Cruz\n",
      "Processing Record 37 of Set 3 | Mahibadhoo\n",
      "Processing Record 38 of Set 3 | Ossora\n",
      "Processing Record 39 of Set 3 | Sao Joao da Barra\n",
      "Processing Record 40 of Set 3 | East London\n",
      "Processing Record 41 of Set 3 | Vyyezdnoye\n",
      "City not found. Skipping....\n",
      "City not found. Skipping....\n",
      "Processing Record 42 of Set 3 | Shihezi\n",
      "Processing Record 43 of Set 3 | Rome\n",
      "City not found. Skipping....\n",
      "City not found. Skipping....\n",
      "Processing Record 44 of Set 3 | Dunedin\n",
      "Processing Record 45 of Set 3 | Xining\n",
      "Processing Record 46 of Set 3 | Kodiak\n",
      "Processing Record 47 of Set 3 | Shelburne\n",
      "Processing Record 48 of Set 3 | Esperance\n",
      "City not found. Skipping....\n",
      "Processing Record 49 of Set 3 | Mahebourg\n",
      "Processing Record 50 of Set 3 | Makhachkala\n",
      "Processing Record 1 of Set 4 | Adrar\n",
      "Processing Record 2 of Set 4 | Manzanillo\n",
      "Processing Record 3 of Set 4 | Krasnystaw\n",
      "Processing Record 4 of Set 4 | Naze\n",
      "Processing Record 5 of Set 4 | Hualmay\n",
      "Processing Record 6 of Set 4 | Aksarka\n",
      "Processing Record 7 of Set 4 | Toora-Khem\n",
      "Processing Record 8 of Set 4 | Lorengau\n",
      "Processing Record 9 of Set 4 | Tasiilaq\n",
      "Processing Record 10 of Set 4 | Bambanglipuro\n",
      "Processing Record 11 of Set 4 | Cairns\n",
      "Processing Record 12 of Set 4 | Nar'yan-Mar\n",
      "Processing Record 13 of Set 4 | Rio Claro\n",
      "Processing Record 14 of Set 4 | Kieta\n",
      "City not found. Skipping....\n",
      "Processing Record 15 of Set 4 | Nuuk\n",
      "Processing Record 16 of Set 4 | Cape Town\n",
      "Processing Record 17 of Set 4 | Iracoubo\n",
      "Processing Record 18 of Set 4 | Priiskovyy\n",
      "Processing Record 19 of Set 4 | Souillac\n",
      "Processing Record 20 of Set 4 | Cam Ranh\n",
      "Processing Record 21 of Set 4 | Lubango\n",
      "Processing Record 22 of Set 4 | San Vicente\n",
      "Processing Record 23 of Set 4 | Chui\n",
      "Processing Record 24 of Set 4 | Ixtapa\n",
      "Processing Record 25 of Set 4 | Hamilton\n",
      "Processing Record 26 of Set 4 | Taikang\n",
      "Processing Record 27 of Set 4 | Lana\n",
      "City not found. Skipping....\n",
      "Processing Record 28 of Set 4 | Urucui\n",
      "Processing Record 29 of Set 4 | Poum\n",
      "Processing Record 30 of Set 4 | Mvuma\n",
      "Processing Record 31 of Set 4 | Heishan\n",
      "Processing Record 32 of Set 4 | Derbent\n",
      "Processing Record 33 of Set 4 | Eureka\n"
     ]
    },
    {
     "name": "stdout",
     "output_type": "stream",
     "text": [
      "Processing Record 34 of Set 4 | Puerto Quijarro\n",
      "Processing Record 35 of Set 4 | Mogadishu\n",
      "Processing Record 36 of Set 4 | Rio Grande\n",
      "Processing Record 37 of Set 4 | Comodoro Rivadavia\n",
      "Processing Record 38 of Set 4 | Cayenne\n",
      "City not found. Skipping....\n",
      "Processing Record 39 of Set 4 | Ola\n",
      "Processing Record 40 of Set 4 | Beringovskiy\n",
      "Processing Record 41 of Set 4 | Seymchan\n",
      "Processing Record 42 of Set 4 | Lebu\n",
      "Processing Record 43 of Set 4 | Salalah\n",
      "Processing Record 44 of Set 4 | Ilebo\n",
      "Processing Record 45 of Set 4 | Ilulissat\n",
      "Processing Record 46 of Set 4 | Bluff\n",
      "Processing Record 47 of Set 4 | Obo\n",
      "Processing Record 48 of Set 4 | Lima\n",
      "Processing Record 49 of Set 4 | Rocha\n",
      "Processing Record 50 of Set 4 | Broome\n",
      "Processing Record 1 of Set 5 | Sitka\n",
      "Processing Record 2 of Set 5 | Constitucion\n",
      "Processing Record 3 of Set 5 | Bahua\n",
      "Processing Record 4 of Set 5 | Fort Nelson\n",
      "Processing Record 5 of Set 5 | Blagodarnyy\n",
      "Processing Record 6 of Set 5 | Cidreira\n",
      "Processing Record 7 of Set 5 | Saint George\n",
      "Processing Record 8 of Set 5 | Grand Gaube\n",
      "Processing Record 9 of Set 5 | Evensk\n",
      "Processing Record 10 of Set 5 | Broken Hill\n",
      "Processing Record 11 of Set 5 | Sorland\n",
      "Processing Record 12 of Set 5 | Victoria\n",
      "Processing Record 13 of Set 5 | Matay\n",
      "Processing Record 14 of Set 5 | Clyde River\n",
      "Processing Record 15 of Set 5 | Carutapera\n",
      "Processing Record 16 of Set 5 | Ranong\n",
      "City not found. Skipping....\n",
      "Processing Record 17 of Set 5 | Oshnaviyeh\n",
      "Processing Record 18 of Set 5 | La Asuncion\n",
      "Processing Record 19 of Set 5 | Kalispell\n",
      "Processing Record 20 of Set 5 | Bubaque\n",
      "Processing Record 21 of Set 5 | Sao Filipe\n",
      "City not found. Skipping....\n",
      "Processing Record 22 of Set 5 | Acapulco de Juarez\n",
      "Processing Record 23 of Set 5 | Pasni\n",
      "Processing Record 24 of Set 5 | Nantucket\n",
      "Processing Record 25 of Set 5 | Ilinskiy\n",
      "City not found. Skipping....\n",
      "Processing Record 26 of Set 5 | Chipinge\n",
      "Processing Record 27 of Set 5 | Vila do Maio\n",
      "City not found. Skipping....\n",
      "Processing Record 28 of Set 5 | Tuatapere\n",
      "Processing Record 29 of Set 5 | Sur\n",
      "Processing Record 30 of Set 5 | Gerash\n",
      "Processing Record 31 of Set 5 | Caravelas\n",
      "Processing Record 32 of Set 5 | Mossamedes\n",
      "City not found. Skipping....\n",
      "Processing Record 33 of Set 5 | Dicabisagan\n",
      "Processing Record 34 of Set 5 | Berlevag\n",
      "Processing Record 35 of Set 5 | Sistranda\n",
      "Processing Record 36 of Set 5 | San Rafael\n",
      "Processing Record 37 of Set 5 | Baglung\n",
      "Processing Record 38 of Set 5 | Porto Murtinho\n",
      "Processing Record 39 of Set 5 | Batagay\n",
      "Processing Record 40 of Set 5 | Cayhagan\n",
      "Processing Record 41 of Set 5 | Batemans Bay\n",
      "Processing Record 42 of Set 5 | Coria\n",
      "Processing Record 43 of Set 5 | Muisne\n",
      "City not found. Skipping....\n",
      "Processing Record 44 of Set 5 | Orlik\n",
      "Processing Record 45 of Set 5 | Tynda\n",
      "Processing Record 46 of Set 5 | Provideniya\n",
      "Processing Record 47 of Set 5 | Lagoa\n",
      "Processing Record 48 of Set 5 | Buala\n",
      "Processing Record 49 of Set 5 | Champerico\n",
      "Processing Record 50 of Set 5 | Mount Gambier\n",
      "Processing Record 1 of Set 6 | Macia\n",
      "Processing Record 2 of Set 6 | Assiut\n",
      "Processing Record 3 of Set 6 | Oxapampa\n",
      "Processing Record 4 of Set 6 | Plettenberg Bay\n",
      "Processing Record 5 of Set 6 | Dikson\n",
      "Processing Record 6 of Set 6 | Port Lincoln\n",
      "Processing Record 7 of Set 6 | Balkanabat\n",
      "City not found. Skipping....\n",
      "Processing Record 8 of Set 6 | Sosnovka\n",
      "Processing Record 9 of Set 6 | Turukhansk\n",
      "Processing Record 10 of Set 6 | Farmington\n",
      "Processing Record 11 of Set 6 | Sola\n",
      "City not found. Skipping....\n",
      "Processing Record 12 of Set 6 | Oddur\n",
      "Processing Record 13 of Set 6 | Abnub\n",
      "Processing Record 14 of Set 6 | Chorozinho\n",
      "Processing Record 15 of Set 6 | Shimanovsk\n",
      "Processing Record 16 of Set 6 | Chokurdakh\n",
      "Processing Record 17 of Set 6 | Pevek\n",
      "Processing Record 18 of Set 6 | Lafiagi\n",
      "Processing Record 19 of Set 6 | Severo-Kuril'sk\n",
      "Processing Record 20 of Set 6 | Guasdualito\n",
      "Processing Record 21 of Set 6 | Batticaloa\n",
      "Processing Record 22 of Set 6 | Wilmington\n",
      "Processing Record 23 of Set 6 | Sulangan\n",
      "Processing Record 24 of Set 6 | Malakwal\n",
      "Processing Record 25 of Set 6 | Bauchi\n",
      "City not found. Skipping....\n",
      "Processing Record 26 of Set 6 | Opuwo\n",
      "Processing Record 27 of Set 6 | Fare\n",
      "Processing Record 28 of Set 6 | Svetlaya\n",
      "Processing Record 29 of Set 6 | Vostok\n",
      "Processing Record 30 of Set 6 | San Antonio\n",
      "Processing Record 31 of Set 6 | Ciudad Lazaro Cardenas\n",
      "City not found. Skipping....\n",
      "Processing Record 32 of Set 6 | Quatre Cocos\n",
      "Processing Record 33 of Set 6 | Tianpeng\n",
      "Processing Record 34 of Set 6 | Hoctun\n",
      "Processing Record 35 of Set 6 | Nobeoka\n",
      "Processing Record 36 of Set 6 | Chegdomyn\n",
      "Processing Record 37 of Set 6 | Kushmurun\n",
      "Processing Record 38 of Set 6 | Parkes\n",
      "Processing Record 39 of Set 6 | Vila Franca do Campo\n",
      "Processing Record 40 of Set 6 | Kurmanayevka\n",
      "Processing Record 41 of Set 6 | Zavodouspenskoye\n",
      "Processing Record 42 of Set 6 | Adre\n",
      "Processing Record 43 of Set 6 | Acajutla\n",
      "City not found. Skipping....\n",
      "City not found. Skipping....\n",
      "Processing Record 44 of Set 6 | Anking\n",
      "Processing Record 45 of Set 6 | Gimli\n",
      "Processing Record 46 of Set 6 | Talara\n",
      "Processing Record 47 of Set 6 | Edd\n",
      "Processing Record 48 of Set 6 | Flin Flon\n",
      "Processing Record 49 of Set 6 | Aykhal\n",
      "Processing Record 50 of Set 6 | Terra Rica\n",
      "City not found. Skipping....\n",
      "City not found. Skipping....\n",
      "Processing Record 1 of Set 7 | Hambantota\n",
      "Processing Record 2 of Set 7 | Manggar\n",
      "Processing Record 3 of Set 7 | Benguela\n",
      "Processing Record 4 of Set 7 | Tessalit\n",
      "Processing Record 5 of Set 7 | Grand-Lahou\n",
      "Processing Record 6 of Set 7 | Lao Cai\n",
      "Processing Record 7 of Set 7 | Morondava\n",
      "Processing Record 8 of Set 7 | San Matias\n",
      "Processing Record 9 of Set 7 | Monze\n",
      "Processing Record 10 of Set 7 | Fairbanks\n",
      "Processing Record 11 of Set 7 | Longkou\n",
      "Processing Record 12 of Set 7 | Westport\n",
      "Processing Record 13 of Set 7 | Ambalavao\n",
      "Processing Record 14 of Set 7 | Ketchikan\n",
      "City not found. Skipping....\n",
      "Processing Record 15 of Set 7 | Rio Gallegos\n",
      "Processing Record 16 of Set 7 | Ouesso\n",
      "Processing Record 17 of Set 7 | Basco\n",
      "City not found. Skipping....\n",
      "Processing Record 18 of Set 7 | Sept-Iles\n",
      "Processing Record 19 of Set 7 | Kungurtug\n",
      "Processing Record 20 of Set 7 | Fort Saint James\n",
      "Processing Record 21 of Set 7 | Waingapu\n",
      "Processing Record 22 of Set 7 | Waddan\n",
      "Processing Record 23 of Set 7 | Bengkulu\n",
      "Processing Record 24 of Set 7 | Yurla\n",
      "Processing Record 25 of Set 7 | Norden\n",
      "Processing Record 26 of Set 7 | Jertih\n",
      "Processing Record 27 of Set 7 | Srednekolymsk\n",
      "Processing Record 28 of Set 7 | Arrondissement de Cholet\n",
      "Processing Record 29 of Set 7 | Neuquen\n",
      "Processing Record 30 of Set 7 | Kanuma\n",
      "City not found. Skipping....\n",
      "City not found. Skipping....\n",
      "Processing Record 31 of Set 7 | Sao Joaquim\n",
      "Processing Record 32 of Set 7 | Qaqortoq\n",
      "Processing Record 33 of Set 7 | Blagoyevo\n",
      "Processing Record 34 of Set 7 | Shakhtinsk\n",
      "Processing Record 35 of Set 7 | Ariquemes\n",
      "City not found. Skipping....\n",
      "City not found. Skipping....\n",
      "Processing Record 36 of Set 7 | Pyapon\n",
      "Processing Record 37 of Set 7 | Yara\n",
      "Processing Record 38 of Set 7 | Binzhou\n",
      "Processing Record 39 of Set 7 | Rantepao\n",
      "City not found. Skipping....\n",
      "Processing Record 40 of Set 7 | Jardim\n",
      "Processing Record 41 of Set 7 | Totma\n",
      "Processing Record 42 of Set 7 | Atar\n",
      "Processing Record 43 of Set 7 | Isangel\n",
      "Processing Record 44 of Set 7 | Mareeba\n",
      "Processing Record 45 of Set 7 | Gombong\n",
      "Processing Record 46 of Set 7 | Seoul\n",
      "Processing Record 47 of Set 7 | Katherine\n",
      "Processing Record 48 of Set 7 | Barreirinha\n",
      "Processing Record 49 of Set 7 | Mitsamiouli\n",
      "Processing Record 50 of Set 7 | San Pedro de Jujuy\n",
      "Processing Record 1 of Set 8 | Alofi\n",
      "Processing Record 2 of Set 8 | Novodugino\n",
      "Processing Record 3 of Set 8 | Wahiawa\n",
      "Processing Record 4 of Set 8 | Long Branch\n",
      "Processing Record 5 of Set 8 | Vardo\n",
      "Processing Record 6 of Set 8 | Buchanan\n",
      "Processing Record 7 of Set 8 | Stabat\n",
      "Processing Record 8 of Set 8 | Abaete\n",
      "Processing Record 9 of Set 8 | Tilichiki\n",
      "Processing Record 10 of Set 8 | Coruripe\n",
      "City not found. Skipping....\n",
      "Processing Record 11 of Set 8 | Willowmore\n",
      "Processing Record 12 of Set 8 | Swellendam\n",
      "Processing Record 13 of Set 8 | Marrakesh\n",
      "Processing Record 14 of Set 8 | Moree\n",
      "Processing Record 15 of Set 8 | Nagato\n",
      "City not found. Skipping....\n"
     ]
    },
    {
     "name": "stdout",
     "output_type": "stream",
     "text": [
      "Processing Record 16 of Set 8 | Clarence Town\n",
      "Processing Record 17 of Set 8 | Chulym\n",
      "Processing Record 18 of Set 8 | Pinotepa Nacional\n",
      "Processing Record 19 of Set 8 | Linxia\n",
      "Processing Record 20 of Set 8 | Sinnamary\n",
      "Processing Record 21 of Set 8 | Kavaratti\n",
      "Processing Record 22 of Set 8 | Havre-Saint-Pierre\n",
      "Processing Record 23 of Set 8 | Quelimane\n",
      "Processing Record 24 of Set 8 | Moerai\n",
      "Processing Record 25 of Set 8 | Malavalli\n",
      "Processing Record 26 of Set 8 | Honiara\n",
      "Processing Record 27 of Set 8 | Paamiut\n",
      "Processing Record 28 of Set 8 | Alvorada\n",
      "Processing Record 29 of Set 8 | Saint-Pierre\n",
      "Processing Record 30 of Set 8 | Meulaboh\n",
      "Processing Record 31 of Set 8 | Tobol\n",
      "Processing Record 32 of Set 8 | Vanimo\n",
      "City not found. Skipping....\n",
      "Processing Record 33 of Set 8 | Dillon\n",
      "Processing Record 34 of Set 8 | Oranjemund\n",
      "Processing Record 35 of Set 8 | Rajshahi\n",
      "Processing Record 36 of Set 8 | Banyuwangi\n",
      "Processing Record 37 of Set 8 | Mantua\n",
      "Processing Record 38 of Set 8 | Oriximina\n",
      "Processing Record 39 of Set 8 | Ostrovnoy\n",
      "Processing Record 40 of Set 8 | Yerbogachen\n",
      "Processing Record 41 of Set 8 | Temizhbekskaya\n",
      "Processing Record 42 of Set 8 | Vodnyy\n",
      "Processing Record 43 of Set 8 | Thurso\n",
      "Processing Record 44 of Set 8 | Ulladulla\n",
      "Processing Record 45 of Set 8 | Lixouri\n",
      "Processing Record 46 of Set 8 | Somerset\n",
      "Processing Record 47 of Set 8 | Canto do Buriti\n",
      "City not found. Skipping....\n",
      "Processing Record 48 of Set 8 | Vila Velha\n",
      "Processing Record 49 of Set 8 | Bathsheba\n",
      "City not found. Skipping....\n",
      "Processing Record 50 of Set 8 | Hasaki\n",
      "Processing Record 1 of Set 9 | Wencheng\n",
      "Processing Record 2 of Set 9 | Shahrud\n",
      "City not found. Skipping....\n",
      "Processing Record 3 of Set 9 | Praia\n",
      "Processing Record 4 of Set 9 | Bilma\n",
      "Processing Record 5 of Set 9 | Beira\n",
      "Processing Record 6 of Set 9 | Beaufort\n",
      "Processing Record 7 of Set 9 | Saint-Augustin\n",
      "Processing Record 8 of Set 9 | Port Hardy\n",
      "Processing Record 9 of Set 9 | Abu Kamal\n",
      "Processing Record 10 of Set 9 | Garissa\n",
      "Processing Record 11 of Set 9 | Abha\n",
      "Processing Record 12 of Set 9 | Teguise\n",
      "Processing Record 13 of Set 9 | Surab\n",
      "City not found. Skipping....\n",
      "Processing Record 14 of Set 9 | Warrenton\n",
      "City not found. Skipping....\n",
      "Processing Record 15 of Set 9 | Campo Grande\n",
      "Processing Record 16 of Set 9 | Abonnema\n",
      "Processing Record 17 of Set 9 | Songling\n",
      "Processing Record 18 of Set 9 | Pacifica\n",
      "City not found. Skipping....\n",
      "Processing Record 19 of Set 9 | Ugoofaaru\n",
      "Processing Record 20 of Set 9 | Sakhipur\n",
      "City not found. Skipping....\n",
      "Processing Record 21 of Set 9 | Homa Bay\n",
      "Processing Record 22 of Set 9 | Boa Vista\n",
      "Processing Record 23 of Set 9 | Lindi\n",
      "Processing Record 24 of Set 9 | Le Havre\n",
      "Processing Record 25 of Set 9 | Tomatlan\n",
      "Processing Record 26 of Set 9 | Itaituba\n",
      "Processing Record 27 of Set 9 | Fredericton\n",
      "Processing Record 28 of Set 9 | Kropotkin\n",
      "Processing Record 29 of Set 9 | Inhambane\n",
      "Processing Record 30 of Set 9 | Nome\n",
      "Processing Record 31 of Set 9 | Farrukhnagar\n",
      "Processing Record 32 of Set 9 | Anadyr\n",
      "City not found. Skipping....\n",
      "Processing Record 33 of Set 9 | Grootfontein\n",
      "Processing Record 34 of Set 9 | Moskovskiy\n",
      "Processing Record 35 of Set 9 | Jurilovca\n",
      "Processing Record 36 of Set 9 | Paslek\n",
      "Processing Record 37 of Set 9 | Soe\n",
      "Processing Record 38 of Set 9 | Los Llanos de Aridane\n",
      "Processing Record 39 of Set 9 | Inongo\n",
      "Processing Record 40 of Set 9 | Uray\n",
      "Processing Record 41 of Set 9 | Bagdarin\n",
      "Processing Record 42 of Set 9 | Manjacaze\n",
      "Processing Record 43 of Set 9 | Ruteng\n",
      "Processing Record 44 of Set 9 | Tome\n",
      "Processing Record 45 of Set 9 | Ullal\n",
      "Processing Record 46 of Set 9 | Outjo\n",
      "Processing Record 47 of Set 9 | Kibaha\n",
      "Processing Record 48 of Set 9 | Departamento de Maldonado\n",
      "Processing Record 49 of Set 9 | Junnar\n",
      "Processing Record 50 of Set 9 | Palu\n",
      "Processing Record 1 of Set 10 | Trang\n",
      "Processing Record 2 of Set 10 | Yefremov\n",
      "Processing Record 3 of Set 10 | Norman Wells\n",
      "Processing Record 4 of Set 10 | El Jicaro\n",
      "Processing Record 5 of Set 10 | Pyay\n",
      "Processing Record 6 of Set 10 | Le Port\n",
      "Processing Record 7 of Set 10 | Sretensk\n",
      "Processing Record 8 of Set 10 | Najran\n",
      "Processing Record 9 of Set 10 | Saint Pete Beach\n",
      "Processing Record 10 of Set 10 | Nalut\n",
      "Processing Record 11 of Set 10 | Padang\n",
      "Processing Record 12 of Set 10 | Yulara\n",
      "Processing Record 13 of Set 10 | Urmia\n",
      "Processing Record 14 of Set 10 | Oktyabrskoye\n",
      "Processing Record 15 of Set 10 | Ghaziabad\n",
      "Processing Record 16 of Set 10 | Zhigansk\n",
      "Processing Record 17 of Set 10 | Sovetskaya Gavan'\n",
      "Processing Record 18 of Set 10 | Iwanai\n",
      "Processing Record 19 of Set 10 | Burnie\n",
      "Processing Record 20 of Set 10 | Ferme-Neuve\n",
      "Processing Record 21 of Set 10 | Manado\n",
      "Processing Record 22 of Set 10 | Zheleznodorozhnyy\n",
      "Processing Record 23 of Set 10 | Ballina\n",
      "Processing Record 24 of Set 10 | Araouane\n",
      "Processing Record 25 of Set 10 | Marco\n",
      "Processing Record 26 of Set 10 | Hirado\n",
      "Processing Record 27 of Set 10 | Davenda\n",
      "City not found. Skipping....\n",
      "Processing Record 28 of Set 10 | Tekeli\n",
      "Processing Record 29 of Set 10 | Shahreza\n",
      "Processing Record 30 of Set 10 | Mlimba\n",
      "Processing Record 31 of Set 10 | Bintulu\n",
      "Processing Record 32 of Set 10 | Goure\n",
      "Processing Record 33 of Set 10 | Cabo San Lucas\n",
      "Processing Record 34 of Set 10 | Yeppoon\n",
      "Processing Record 35 of Set 10 | Tazmalt\n",
      "Processing Record 36 of Set 10 | Stromness\n",
      "Processing Record 37 of Set 10 | Walvis Bay\n",
      "Processing Record 38 of Set 10 | Soederhamn\n",
      "Processing Record 39 of Set 10 | Testour\n",
      "Processing Record 40 of Set 10 | Anaconda\n",
      "Processing Record 41 of Set 10 | Iberia\n",
      "Processing Record 42 of Set 10 | Puerto Leguizamo\n",
      "Processing Record 43 of Set 10 | Azare\n",
      "Processing Record 44 of Set 10 | Wenatchee\n",
      "Processing Record 45 of Set 10 | Orangeburg\n",
      "Processing Record 46 of Set 10 | Lagos\n",
      "Processing Record 47 of Set 10 | Waipawa\n",
      "Processing Record 48 of Set 10 | Gunjur\n",
      "City not found. Skipping....\n",
      "Processing Record 49 of Set 10 | Sayyan\n",
      "Processing Record 50 of Set 10 | Tautira\n",
      "Processing Record 1 of Set 11 | Khovd\n",
      "Processing Record 2 of Set 11 | Qasigiannguit\n",
      "Processing Record 3 of Set 11 | Saint-Francois\n",
      "Processing Record 4 of Set 11 | Portland\n",
      "Processing Record 5 of Set 11 | Namatanai\n",
      "Processing Record 6 of Set 11 | San Patricio\n",
      "Processing Record 7 of Set 11 | Vallenar\n",
      "Processing Record 8 of Set 11 | Lewistown\n",
      "Processing Record 9 of Set 11 | Tahe\n",
      "Processing Record 10 of Set 11 | Takapau\n",
      "Processing Record 11 of Set 11 | Billings\n",
      "Processing Record 12 of Set 11 | Margate\n",
      "Processing Record 13 of Set 11 | Rey Bouba\n",
      "Processing Record 14 of Set 11 | Lompoc\n",
      "City not found. Skipping....\n",
      "Processing Record 15 of Set 11 | Tias\n",
      "Processing Record 16 of Set 11 | Campoverde\n",
      "Processing Record 17 of Set 11 | Locri\n",
      "------------------------\n",
      " Data Retrieval Complete \n",
      "--------------------------\n"
     ]
    }
   ],
   "source": [
    " print(\"Begining Data Retrieval \\n-----------------------\")\n",
    "    \n",
    "for index, row in weather_df.iterrows():\n",
    "    \n",
    "    query_url = url + row[\"City\"] + ',' + row[\"Country\"] + \"&appid=\" + weather_api_key \n",
    "    \n",
    "    response = requests.get(query_url)\n",
    "    response_json = response.json()\n",
    "    \n",
    "    try:\n",
    "        print(f'Processing Record {count} of Set {count_set} | {response_json[\"name\"]}')\n",
    "        \n",
    "        weather_df.loc[index, \"Cloudiness\"] = response_json[\"clouds\"][\"all\"]\n",
    "        weather_df.loc[index, \"Date\"] = response_json[\"dt\"]\n",
    "        weather_df.loc[index, \"Humidity\"] = response_json[\"main\"][\"humidity\"]\n",
    "        weather_df.loc[index, \"Lat\"] = response_json[\"coord\"][\"lat\"]\n",
    "        weather_df.loc[index, \"Lng\"] = response_json[\"coord\"][\"lon\"]\n",
    "        weather_df.loc[index, \"Max Temp\"] = response_json[\"main\"][\"temp_max\"]\n",
    "        weather_df.loc[index, \"Wind Speed\"] = response_json[\"wind\"][\"speed\"]\n",
    "        \n",
    "        count += 1\n",
    "              \n",
    "    except (KeyError,):\n",
    "          print(\"City not found. Skipping....\")\n",
    "              \n",
    "    if count == 51:\n",
    "        count = 1\n",
    "        count_set += 1\n",
    "        time.sleep(60)\n",
    "    \n",
    "print(\"------------------------\\n Data Retrieval Complete \\n--------------------------\")\n"
   ]
  },
  {
   "cell_type": "markdown",
   "metadata": {},
   "source": [
    "### Convert Raw Data to DataFrame\n",
    "* Export the city data into a .csv.\n",
    "* Display the DataFrame"
   ]
  },
  {
   "cell_type": "code",
   "execution_count": 11,
   "metadata": {},
   "outputs": [],
   "source": [
    "# output to csv\n",
    "weather_df[\"Max Temp\"] = weather_df[\"Max Temp\"].replace('',np.nan)\n",
    "weather_df.dropna(axis=0, how=\"any\", inplace=True)\n",
    "\n",
    "weather_df.to_csv(\"output_data/weather_data.csv\")"
   ]
  },
  {
   "cell_type": "code",
   "execution_count": 12,
   "metadata": {},
   "outputs": [
    {
     "data": {
      "text/plain": [
       "City          517\n",
       "Cloudiness    517\n",
       "Country       517\n",
       "Date          517\n",
       "Humidity      517\n",
       "Lat           517\n",
       "Lng           517\n",
       "Max Temp      517\n",
       "Wind Speed    517\n",
       "dtype: int64"
      ]
     },
     "execution_count": 12,
     "metadata": {},
     "output_type": "execute_result"
    }
   ],
   "source": [
    "weather_df.count()"
   ]
  },
  {
   "cell_type": "code",
   "execution_count": 13,
   "metadata": {},
   "outputs": [
    {
     "data": {
      "text/html": [
       "<div>\n",
       "<style scoped>\n",
       "    .dataframe tbody tr th:only-of-type {\n",
       "        vertical-align: middle;\n",
       "    }\n",
       "\n",
       "    .dataframe tbody tr th {\n",
       "        vertical-align: top;\n",
       "    }\n",
       "\n",
       "    .dataframe thead th {\n",
       "        text-align: right;\n",
       "    }\n",
       "</style>\n",
       "<table border=\"1\" class=\"dataframe\">\n",
       "  <thead>\n",
       "    <tr style=\"text-align: right;\">\n",
       "      <th></th>\n",
       "      <th>City</th>\n",
       "      <th>Cloudiness</th>\n",
       "      <th>Country</th>\n",
       "      <th>Date</th>\n",
       "      <th>Humidity</th>\n",
       "      <th>Lat</th>\n",
       "      <th>Lng</th>\n",
       "      <th>Max Temp</th>\n",
       "      <th>Wind Speed</th>\n",
       "    </tr>\n",
       "  </thead>\n",
       "  <tbody>\n",
       "    <tr>\n",
       "      <td>0</td>\n",
       "      <td>dakar</td>\n",
       "      <td>0</td>\n",
       "      <td>SN</td>\n",
       "      <td>1580508714</td>\n",
       "      <td>31</td>\n",
       "      <td>14.69</td>\n",
       "      <td>-17.44</td>\n",
       "      <td>78.80</td>\n",
       "      <td>14.99</td>\n",
       "    </tr>\n",
       "    <tr>\n",
       "      <td>1</td>\n",
       "      <td>hithadhoo</td>\n",
       "      <td>59</td>\n",
       "      <td>MV</td>\n",
       "      <td>1580508841</td>\n",
       "      <td>72</td>\n",
       "      <td>-0.6</td>\n",
       "      <td>73.08</td>\n",
       "      <td>81.63</td>\n",
       "      <td>10.92</td>\n",
       "    </tr>\n",
       "    <tr>\n",
       "      <td>2</td>\n",
       "      <td>port alfred</td>\n",
       "      <td>95</td>\n",
       "      <td>ZA</td>\n",
       "      <td>1580508841</td>\n",
       "      <td>90</td>\n",
       "      <td>-33.59</td>\n",
       "      <td>26.89</td>\n",
       "      <td>72.00</td>\n",
       "      <td>7</td>\n",
       "    </tr>\n",
       "    <tr>\n",
       "      <td>3</td>\n",
       "      <td>tamuin</td>\n",
       "      <td>92</td>\n",
       "      <td>MX</td>\n",
       "      <td>1580508841</td>\n",
       "      <td>67</td>\n",
       "      <td>21.98</td>\n",
       "      <td>-98.75</td>\n",
       "      <td>70.93</td>\n",
       "      <td>3.4</td>\n",
       "    </tr>\n",
       "    <tr>\n",
       "      <td>5</td>\n",
       "      <td>carnarvon</td>\n",
       "      <td>0</td>\n",
       "      <td>AU</td>\n",
       "      <td>1580508841</td>\n",
       "      <td>72</td>\n",
       "      <td>-24.87</td>\n",
       "      <td>113.63</td>\n",
       "      <td>66.20</td>\n",
       "      <td>13.87</td>\n",
       "    </tr>\n",
       "  </tbody>\n",
       "</table>\n",
       "</div>"
      ],
      "text/plain": [
       "          City Cloudiness Country        Date Humidity    Lat     Lng  \\\n",
       "0        dakar          0      SN  1580508714       31  14.69  -17.44   \n",
       "1    hithadhoo         59      MV  1580508841       72   -0.6   73.08   \n",
       "2  port alfred         95      ZA  1580508841       90 -33.59   26.89   \n",
       "3       tamuin         92      MX  1580508841       67  21.98  -98.75   \n",
       "5    carnarvon          0      AU  1580508841       72 -24.87  113.63   \n",
       "\n",
       "   Max Temp Wind Speed  \n",
       "0     78.80      14.99  \n",
       "1     81.63      10.92  \n",
       "2     72.00          7  \n",
       "3     70.93        3.4  \n",
       "5     66.20      13.87  "
      ]
     },
     "execution_count": 13,
     "metadata": {},
     "output_type": "execute_result"
    }
   ],
   "source": [
    "weather_df.head()"
   ]
  },
  {
   "cell_type": "code",
   "execution_count": 17,
   "metadata": {},
   "outputs": [
    {
     "name": "stdout",
     "output_type": "stream",
     "text": [
      "01/31/20\n"
     ]
    }
   ],
   "source": [
    "research_date = datetime.datetime.now()\n",
    "print(research_date.strftime(\"%x\"))"
   ]
  },
  {
   "cell_type": "markdown",
   "metadata": {},
   "source": [
    "### Plotting the Data\n",
    "* Use proper labeling of the plots using plot titles (including date of analysis) and axes labels.\n",
    "* Save the plotted figures as .pngs."
   ]
  },
  {
   "cell_type": "markdown",
   "metadata": {},
   "source": [
    "#### Latitude vs. Temperature Plot"
   ]
  },
  {
   "cell_type": "code",
   "execution_count": 50,
   "metadata": {
    "scrolled": true
   },
   "outputs": [
    {
     "data": {
      "image/png": "[encoded data removed]",
      "text/plain": [
       "<Figure size 432x288 with 1 Axes>"
      ]
     },
     "metadata": {
      "needs_background": "light"
     },
     "output_type": "display_data"
    }
   ],
   "source": [
    "x_values = weather_df['Lat']\n",
    "y_values = weather_df['Max Temp']\n",
    "plt.scatter(x_values, y_values, marker='o', facecolors='blue', edgecolors=\"red\")\n",
    "plt.title(\"City Latitude vs. Max Temperature\" + '(' + f\"{research_date.strftime('%x')}\" + ')')\n",
    "plt.ylabel(\"Max Temperature (F)\")\n",
    "plt.xlabel(\"Latitude\")\n",
    "plt.grid(True)\n",
    "plt.savefig(\"output_data/lat vs temp plot.png\")\n",
    "plt.show()"
   ]
  },
  {
   "cell_type": "markdown",
   "metadata": {},
   "source": [
    "## Lat Vs Temp\n",
    "\n",
    "The plot above is trying to establish a relationship between a city's latitude and the temperature of the area."
   ]
  },
  {
   "cell_type": "markdown",
   "metadata": {},
   "source": [
    "#### Latitude vs. Humidity Plot"
   ]
  },
  {
   "cell_type": "code",
   "execution_count": 49,
   "metadata": {},
   "outputs": [
    {
     "data": {
      "image/png": "[encoded data removed]",
      "text/plain": [
       "<Figure size 432x288 with 1 Axes>"
      ]
     },
     "metadata": {
      "needs_background": "light"
     },
     "output_type": "display_data"
    }
   ],
   "source": [
    "plt.scatter(weather_df['Lat'], weather_df['Humidity'], marker='o',facecolors='blue', edgecolors=\"red\")\n",
    "plt.title(\"City Latitude vs. Humidity\"+ '(' + f\"{research_date.strftime('%x')}\" + ')')\n",
    "plt.ylabel(\"Humidity (%)\")\n",
    "plt.xlabel(\"Latitude\")\n",
    "plt.grid(True)\n",
    "plt.savefig(\"output_data/lat vs humidity plot.png\")\n",
    "plt.show()"
   ]
  },
  {
   "cell_type": "markdown",
   "metadata": {},
   "source": [
    "## Lat vs Humidity\n",
    "This plot tries to establish a relationship between latitude and humidity of a city."
   ]
  },
  {
   "cell_type": "markdown",
   "metadata": {},
   "source": [
    "#### Latitude vs. Cloudiness Plot"
   ]
  },
  {
   "cell_type": "code",
   "execution_count": 48,
   "metadata": {},
   "outputs": [
    {
     "data": {
      "image/png": "[encoded data removed]",
      "text/plain": [
       "<Figure size 432x288 with 1 Axes>"
      ]
     },
     "metadata": {
      "needs_background": "light"
     },
     "output_type": "display_data"
    }
   ],
   "source": [
    "plt.scatter(weather_df['Lat'], weather_df['Cloudiness'], marker='o',facecolors='blue', edgecolors=\"red\")\n",
    "\n",
    "plt.title(\"City Latitude vs. Cloudiness\"+ '(' + f\"{research_date.strftime('%x')}\" + ')')\n",
    "plt.ylabel(\"Cloudiness (%)\")\n",
    "plt.xlabel(\"Latitude\")\n",
    "plt.grid(True)\n",
    "plt.savefig(\"output_data/lat vs cloudiness plot.png\")\n",
    "plt.show()"
   ]
  },
  {
   "cell_type": "markdown",
   "metadata": {},
   "source": [
    "## Latitude vs cloudiness\n",
    "Trying to establish a relationship between Latitude and cloudiness of a city."
   ]
  },
  {
   "cell_type": "markdown",
   "metadata": {},
   "source": [
    "#### Latitude vs. Wind Speed Plot"
   ]
  },
  {
   "cell_type": "code",
   "execution_count": 47,
   "metadata": {},
   "outputs": [
    {
     "data": {
      "image/png": "[encoded data removed]",
      "text/plain": [
       "<Figure size 432x288 with 1 Axes>"
      ]
     },
     "metadata": {
      "needs_background": "light"
     },
     "output_type": "display_data"
    }
   ],
   "source": [
    "plt.scatter(weather_df['Lat'], weather_df['Wind Speed'], marker='o',facecolors='blue', edgecolors=\"red\")\n",
    "\n",
    "plt.title(\"City Latitude vs. Wind Speed\"+ '(' + f\"{research_date.strftime('%x')}\" + ')')\n",
    "plt.ylabel(\"Wind Speed (mph)\")\n",
    "plt.xlabel(\"Latitude\")\n",
    "plt.grid(True)\n",
    "plt.savefig(\"output_data/lat vs wind speed plot.png\")\n",
    "plt.show()"
   ]
  },
  {
   "cell_type": "markdown",
   "metadata": {},
   "source": [
    "## Lat vs Wind speed\n",
    "How is wind speed affected by latitude of a city?"
   ]
  },
  {
   "cell_type": "markdown",
   "metadata": {},
   "source": [
    "## Linear Regression"
   ]
  },
  {
   "cell_type": "code",
   "execution_count": 41,
   "metadata": {},
   "outputs": [
    {
     "data": {
      "text/html": [
       "<div>\n",
       "<style scoped>\n",
       "    .dataframe tbody tr th:only-of-type {\n",
       "        vertical-align: middle;\n",
       "    }\n",
       "\n",
       "    .dataframe tbody tr th {\n",
       "        vertical-align: top;\n",
       "    }\n",
       "\n",
       "    .dataframe thead th {\n",
       "        text-align: right;\n",
       "    }\n",
       "</style>\n",
       "<table border=\"1\" class=\"dataframe\">\n",
       "  <thead>\n",
       "    <tr style=\"text-align: right;\">\n",
       "      <th></th>\n",
       "      <th>City</th>\n",
       "      <th>Cloudiness</th>\n",
       "      <th>Country</th>\n",
       "      <th>Date</th>\n",
       "      <th>Humidity</th>\n",
       "      <th>Lat</th>\n",
       "      <th>Lng</th>\n",
       "      <th>Max Temp</th>\n",
       "      <th>Wind Speed</th>\n",
       "      <th>Hemisphere</th>\n",
       "    </tr>\n",
       "  </thead>\n",
       "  <tbody>\n",
       "    <tr>\n",
       "      <td>0</td>\n",
       "      <td>dakar</td>\n",
       "      <td>0</td>\n",
       "      <td>SN</td>\n",
       "      <td>1580508714</td>\n",
       "      <td>31</td>\n",
       "      <td>14.69</td>\n",
       "      <td>-17.44</td>\n",
       "      <td>78.80</td>\n",
       "      <td>14.99</td>\n",
       "      <td>Nothern Hemisphere</td>\n",
       "    </tr>\n",
       "    <tr>\n",
       "      <td>1</td>\n",
       "      <td>hithadhoo</td>\n",
       "      <td>59</td>\n",
       "      <td>MV</td>\n",
       "      <td>1580508841</td>\n",
       "      <td>72</td>\n",
       "      <td>-0.6</td>\n",
       "      <td>73.08</td>\n",
       "      <td>81.63</td>\n",
       "      <td>10.92</td>\n",
       "      <td>Southern Hemisphere</td>\n",
       "    </tr>\n",
       "    <tr>\n",
       "      <td>2</td>\n",
       "      <td>port alfred</td>\n",
       "      <td>95</td>\n",
       "      <td>ZA</td>\n",
       "      <td>1580508841</td>\n",
       "      <td>90</td>\n",
       "      <td>-33.59</td>\n",
       "      <td>26.89</td>\n",
       "      <td>72.00</td>\n",
       "      <td>7</td>\n",
       "      <td>Southern Hemisphere</td>\n",
       "    </tr>\n",
       "    <tr>\n",
       "      <td>3</td>\n",
       "      <td>tamuin</td>\n",
       "      <td>92</td>\n",
       "      <td>MX</td>\n",
       "      <td>1580508841</td>\n",
       "      <td>67</td>\n",
       "      <td>21.98</td>\n",
       "      <td>-98.75</td>\n",
       "      <td>70.93</td>\n",
       "      <td>3.4</td>\n",
       "      <td>Nothern Hemisphere</td>\n",
       "    </tr>\n",
       "    <tr>\n",
       "      <td>5</td>\n",
       "      <td>carnarvon</td>\n",
       "      <td>0</td>\n",
       "      <td>AU</td>\n",
       "      <td>1580508841</td>\n",
       "      <td>72</td>\n",
       "      <td>-24.87</td>\n",
       "      <td>113.63</td>\n",
       "      <td>66.20</td>\n",
       "      <td>13.87</td>\n",
       "      <td>Southern Hemisphere</td>\n",
       "    </tr>\n",
       "  </tbody>\n",
       "</table>\n",
       "</div>"
      ],
      "text/plain": [
       "          City Cloudiness Country        Date Humidity    Lat     Lng  \\\n",
       "0        dakar          0      SN  1580508714       31  14.69  -17.44   \n",
       "1    hithadhoo         59      MV  1580508841       72   -0.6   73.08   \n",
       "2  port alfred         95      ZA  1580508841       90 -33.59   26.89   \n",
       "3       tamuin         92      MX  1580508841       67  21.98  -98.75   \n",
       "5    carnarvon          0      AU  1580508841       72 -24.87  113.63   \n",
       "\n",
       "   Max Temp Wind Speed           Hemisphere  \n",
       "0     78.80      14.99   Nothern Hemisphere  \n",
       "1     81.63      10.92  Southern Hemisphere  \n",
       "2     72.00          7  Southern Hemisphere  \n",
       "3     70.93        3.4   Nothern Hemisphere  \n",
       "5     66.20      13.87  Southern Hemisphere  "
      ]
     },
     "execution_count": 41,
     "metadata": {},
     "output_type": "execute_result"
    }
   ],
   "source": [
    "# Create Northern and Southern Hemisphere DataFrames\n",
    "weather_df['Hemisphere'] = np.where(weather_df['Lat'] >= 0,'Nothern Hemisphere', 'Southern Hemisphere')\n",
    "weather_df.head()"
   ]
  },
  {
   "cell_type": "code",
   "execution_count": 42,
   "metadata": {},
   "outputs": [
    {
     "data": {
      "text/html": [
       "<div>\n",
       "<style scoped>\n",
       "    .dataframe tbody tr th:only-of-type {\n",
       "        vertical-align: middle;\n",
       "    }\n",
       "\n",
       "    .dataframe tbody tr th {\n",
       "        vertical-align: top;\n",
       "    }\n",
       "\n",
       "    .dataframe thead th {\n",
       "        text-align: right;\n",
       "    }\n",
       "</style>\n",
       "<table border=\"1\" class=\"dataframe\">\n",
       "  <thead>\n",
       "    <tr style=\"text-align: right;\">\n",
       "      <th></th>\n",
       "      <th>City</th>\n",
       "      <th>Cloudiness</th>\n",
       "      <th>Country</th>\n",
       "      <th>Date</th>\n",
       "      <th>Humidity</th>\n",
       "      <th>Lat</th>\n",
       "      <th>Lng</th>\n",
       "      <th>Max Temp</th>\n",
       "      <th>Wind Speed</th>\n",
       "      <th>Hemisphere</th>\n",
       "    </tr>\n",
       "  </thead>\n",
       "  <tbody>\n",
       "    <tr>\n",
       "      <td>0</td>\n",
       "      <td>dakar</td>\n",
       "      <td>0</td>\n",
       "      <td>SN</td>\n",
       "      <td>1580508714</td>\n",
       "      <td>31</td>\n",
       "      <td>14.69</td>\n",
       "      <td>-17.44</td>\n",
       "      <td>78.80</td>\n",
       "      <td>14.99</td>\n",
       "      <td>Nothern Hemisphere</td>\n",
       "    </tr>\n",
       "    <tr>\n",
       "      <td>3</td>\n",
       "      <td>tamuin</td>\n",
       "      <td>92</td>\n",
       "      <td>MX</td>\n",
       "      <td>1580508841</td>\n",
       "      <td>67</td>\n",
       "      <td>21.98</td>\n",
       "      <td>-98.75</td>\n",
       "      <td>70.93</td>\n",
       "      <td>3.4</td>\n",
       "      <td>Nothern Hemisphere</td>\n",
       "    </tr>\n",
       "    <tr>\n",
       "      <td>6</td>\n",
       "      <td>shimoda</td>\n",
       "      <td>100</td>\n",
       "      <td>JP</td>\n",
       "      <td>1580508841</td>\n",
       "      <td>52</td>\n",
       "      <td>34.67</td>\n",
       "      <td>138.95</td>\n",
       "      <td>37.00</td>\n",
       "      <td>14.63</td>\n",
       "      <td>Nothern Hemisphere</td>\n",
       "    </tr>\n",
       "    <tr>\n",
       "      <td>7</td>\n",
       "      <td>leningradskiy</td>\n",
       "      <td>96</td>\n",
       "      <td>RU</td>\n",
       "      <td>1580508842</td>\n",
       "      <td>97</td>\n",
       "      <td>69.38</td>\n",
       "      <td>178.42</td>\n",
       "      <td>-20.20</td>\n",
       "      <td>5.77</td>\n",
       "      <td>Nothern Hemisphere</td>\n",
       "    </tr>\n",
       "    <tr>\n",
       "      <td>8</td>\n",
       "      <td>nogent-le-rotrou</td>\n",
       "      <td>100</td>\n",
       "      <td>FR</td>\n",
       "      <td>1580508842</td>\n",
       "      <td>93</td>\n",
       "      <td>48.33</td>\n",
       "      <td>1</td>\n",
       "      <td>54.00</td>\n",
       "      <td>13.87</td>\n",
       "      <td>Nothern Hemisphere</td>\n",
       "    </tr>\n",
       "  </tbody>\n",
       "</table>\n",
       "</div>"
      ],
      "text/plain": [
       "               City Cloudiness Country        Date Humidity    Lat     Lng  \\\n",
       "0             dakar          0      SN  1580508714       31  14.69  -17.44   \n",
       "3            tamuin         92      MX  1580508841       67  21.98  -98.75   \n",
       "6           shimoda        100      JP  1580508841       52  34.67  138.95   \n",
       "7     leningradskiy         96      RU  1580508842       97  69.38  178.42   \n",
       "8  nogent-le-rotrou        100      FR  1580508842       93  48.33       1   \n",
       "\n",
       "   Max Temp Wind Speed          Hemisphere  \n",
       "0     78.80      14.99  Nothern Hemisphere  \n",
       "3     70.93        3.4  Nothern Hemisphere  \n",
       "6     37.00      14.63  Nothern Hemisphere  \n",
       "7    -20.20       5.77  Nothern Hemisphere  \n",
       "8     54.00      13.87  Nothern Hemisphere  "
      ]
     },
     "execution_count": 42,
     "metadata": {},
     "output_type": "execute_result"
    }
   ],
   "source": [
    "nothern_df = weather_df.loc[weather_df['Hemisphere'] == 'Nothern Hemisphere']\n",
    "nothern_df.head()"
   ]
  },
  {
   "cell_type": "code",
   "execution_count": 43,
   "metadata": {},
   "outputs": [
    {
     "data": {
      "text/html": [
       "<div>\n",
       "<style scoped>\n",
       "    .dataframe tbody tr th:only-of-type {\n",
       "        vertical-align: middle;\n",
       "    }\n",
       "\n",
       "    .dataframe tbody tr th {\n",
       "        vertical-align: top;\n",
       "    }\n",
       "\n",
       "    .dataframe thead th {\n",
       "        text-align: right;\n",
       "    }\n",
       "</style>\n",
       "<table border=\"1\" class=\"dataframe\">\n",
       "  <thead>\n",
       "    <tr style=\"text-align: right;\">\n",
       "      <th></th>\n",
       "      <th>City</th>\n",
       "      <th>Cloudiness</th>\n",
       "      <th>Country</th>\n",
       "      <th>Date</th>\n",
       "      <th>Humidity</th>\n",
       "      <th>Lat</th>\n",
       "      <th>Lng</th>\n",
       "      <th>Max Temp</th>\n",
       "      <th>Wind Speed</th>\n",
       "      <th>Hemisphere</th>\n",
       "    </tr>\n",
       "  </thead>\n",
       "  <tbody>\n",
       "    <tr>\n",
       "      <td>1</td>\n",
       "      <td>hithadhoo</td>\n",
       "      <td>59</td>\n",
       "      <td>MV</td>\n",
       "      <td>1580508841</td>\n",
       "      <td>72</td>\n",
       "      <td>-0.6</td>\n",
       "      <td>73.08</td>\n",
       "      <td>81.63</td>\n",
       "      <td>10.92</td>\n",
       "      <td>Southern Hemisphere</td>\n",
       "    </tr>\n",
       "    <tr>\n",
       "      <td>2</td>\n",
       "      <td>port alfred</td>\n",
       "      <td>95</td>\n",
       "      <td>ZA</td>\n",
       "      <td>1580508841</td>\n",
       "      <td>90</td>\n",
       "      <td>-33.59</td>\n",
       "      <td>26.89</td>\n",
       "      <td>72.00</td>\n",
       "      <td>7</td>\n",
       "      <td>Southern Hemisphere</td>\n",
       "    </tr>\n",
       "    <tr>\n",
       "      <td>5</td>\n",
       "      <td>carnarvon</td>\n",
       "      <td>0</td>\n",
       "      <td>AU</td>\n",
       "      <td>1580508841</td>\n",
       "      <td>72</td>\n",
       "      <td>-24.87</td>\n",
       "      <td>113.63</td>\n",
       "      <td>66.20</td>\n",
       "      <td>13.87</td>\n",
       "      <td>Southern Hemisphere</td>\n",
       "    </tr>\n",
       "    <tr>\n",
       "      <td>9</td>\n",
       "      <td>albany</td>\n",
       "      <td>90</td>\n",
       "      <td>AU</td>\n",
       "      <td>1580508793</td>\n",
       "      <td>87</td>\n",
       "      <td>-35.02</td>\n",
       "      <td>117.89</td>\n",
       "      <td>55.40</td>\n",
       "      <td>6.93</td>\n",
       "      <td>Southern Hemisphere</td>\n",
       "    </tr>\n",
       "    <tr>\n",
       "      <td>10</td>\n",
       "      <td>mount isa</td>\n",
       "      <td>75</td>\n",
       "      <td>AU</td>\n",
       "      <td>1580508842</td>\n",
       "      <td>94</td>\n",
       "      <td>-20.73</td>\n",
       "      <td>139.5</td>\n",
       "      <td>78.80</td>\n",
       "      <td>10.29</td>\n",
       "      <td>Southern Hemisphere</td>\n",
       "    </tr>\n",
       "  </tbody>\n",
       "</table>\n",
       "</div>"
      ],
      "text/plain": [
       "           City Cloudiness Country        Date Humidity    Lat     Lng  \\\n",
       "1     hithadhoo         59      MV  1580508841       72   -0.6   73.08   \n",
       "2   port alfred         95      ZA  1580508841       90 -33.59   26.89   \n",
       "5     carnarvon          0      AU  1580508841       72 -24.87  113.63   \n",
       "9        albany         90      AU  1580508793       87 -35.02  117.89   \n",
       "10    mount isa         75      AU  1580508842       94 -20.73   139.5   \n",
       "\n",
       "    Max Temp Wind Speed           Hemisphere  \n",
       "1      81.63      10.92  Southern Hemisphere  \n",
       "2      72.00          7  Southern Hemisphere  \n",
       "5      66.20      13.87  Southern Hemisphere  \n",
       "9      55.40       6.93  Southern Hemisphere  \n",
       "10     78.80      10.29  Southern Hemisphere  "
      ]
     },
     "execution_count": 43,
     "metadata": {},
     "output_type": "execute_result"
    }
   ],
   "source": [
    "southern_df = weather_df.loc[weather_df['Hemisphere'] == 'Southern Hemisphere']\n",
    "southern_df.head()"
   ]
  },
  {
   "cell_type": "markdown",
   "metadata": {},
   "source": [
    "####  Northern Hemisphere - Max Temp vs. Latitude Linear Regression"
   ]
  },
  {
   "cell_type": "code",
   "execution_count": 44,
   "metadata": {
    "scrolled": true
   },
   "outputs": [
    {
     "name": "stdout",
     "output_type": "stream",
     "text": [
      "The r-squared is: -0.8736684700099794\n"
     ]
    },
    {
     "data": {
      "image/png": "[encoded data removed]",
      "text/plain": [
       "<Figure size 432x288 with 1 Axes>"
      ]
     },
     "metadata": {
      "needs_background": "light"
     },
     "output_type": "display_data"
    }
   ],
   "source": [
    "x_values = nothern_df['Lat'].astype(int)\n",
    "y_values = nothern_df['Max Temp'].astype(int)\n",
    "(slope, intercept, rvalue, pvalue, stderr) = linregress(x_values, y_values)\n",
    "regress_values = x_values * slope + intercept\n",
    "line_eq = \"y = \" + str(round(slope,2)) + \"x + \" + str(round(intercept,2))\n",
    "plt.scatter(x_values,y_values)\n",
    "plt.plot(x_values,regress_values,\"r-\")\n",
    "plt.annotate(line_eq,(6,10),fontsize=15,color=\"red\")\n",
    "plt.xlabel('Latitude')\n",
    "plt.ylabel('Max Temp')\n",
    "print(f\"The r-squared is: {rvalue}\")\n",
    "plt.savefig('output_data/Linear Regression/Nothern Hem_Max Temp vs Lat.png')\n",
    "plt.show()"
   ]
  },
  {
   "cell_type": "markdown",
   "metadata": {},
   "source": [
    "## Nothern Hem Max Temp Vs Lat\n",
    "No relationship can be established between temperature and latitude of the cities in the nothern hemisphere."
   ]
  },
  {
   "cell_type": "markdown",
   "metadata": {},
   "source": [
    "####  Southern Hemisphere - Max Temp vs. Latitude Linear Regression"
   ]
  },
  {
   "cell_type": "code",
   "execution_count": 51,
   "metadata": {},
   "outputs": [
    {
     "name": "stdout",
     "output_type": "stream",
     "text": [
      "The r-squared is: 0.39469037063743173\n"
     ]
    },
    {
     "data": {
      "image/png": "[encoded data removed]",
      "text/plain": [
       "<Figure size 432x288 with 1 Axes>"
      ]
     },
     "metadata": {
      "needs_background": "light"
     },
     "output_type": "display_data"
    }
   ],
   "source": [
    "x_values = southern_df['Lat'].astype(int)\n",
    "y_values = southern_df['Max Temp'].astype(int)\n",
    "(slope, intercept, rvalue, pvalue, stderr) = linregress(x_values, y_values)\n",
    "regress_values = x_values * slope + intercept\n",
    "line_eq = \"y = \" + str(round(slope,2)) + \"x + \" + str(round(intercept,2))\n",
    "plt.scatter(x_values,y_values)\n",
    "plt.plot(x_values,regress_values,\"r-\")\n",
    "plt.annotate(line_eq,(-30,60),fontsize=15,color=\"red\")\n",
    "plt.xlabel('Latitude')\n",
    "plt.ylabel('Max Temp')\n",
    "print(f\"The r-squared is: {rvalue}\")\n",
    "plt.savefig('output_data/Linear Regression/Southern Hem_Max Temp vs Lat.png')\n",
    "plt.show()"
   ]
  },
  {
   "cell_type": "markdown",
   "metadata": {},
   "source": [
    "## Sothern Hem Temp vs Lat\n",
    "There is a very weak relationship established between the max temp and latitude in the southern hemisphere.\n",
    "However we cannot fully rely on this data."
   ]
  },
  {
   "cell_type": "markdown",
   "metadata": {},
   "source": [
    "####  Northern Hemisphere - Humidity (%) vs. Latitude Linear Regression"
   ]
  },
  {
   "cell_type": "code",
   "execution_count": 52,
   "metadata": {},
   "outputs": [
    {
     "name": "stdout",
     "output_type": "stream",
     "text": [
      "The r-squared is: 0.41378567387185655\n"
     ]
    },
    {
     "data": {
      "image/png": "[encoded data removed]",
      "text/plain": [
       "<Figure size 432x288 with 1 Axes>"
      ]
     },
     "metadata": {
      "needs_background": "light"
     },
     "output_type": "display_data"
    }
   ],
   "source": [
    "x_values = nothern_df['Lat'].astype(int)\n",
    "y_values = nothern_df['Humidity'].astype(int)\n",
    "(slope, intercept, rvalue, pvalue, stderr) = linregress(x_values, y_values)\n",
    "regress_values = x_values * slope + intercept\n",
    "line_eq = \"y = \" + str(round(slope,2)) + \"x + \" + str(round(intercept,2))\n",
    "plt.scatter(x_values,y_values)\n",
    "plt.plot(x_values,regress_values,\"r-\")\n",
    "plt.annotate(line_eq,(30,50),fontsize=15,color=\"red\")\n",
    "plt.xlabel('Latitude')\n",
    "plt.ylabel('Humidity')\n",
    "print(f\"The r-squared is: {rvalue}\")\n",
    "plt.savefig('output_data/Linear Regression/Nothern Hem_Humidity(%) vs Lat.png')\n",
    "plt.show()"
   ]
  },
  {
   "cell_type": "markdown",
   "metadata": {},
   "source": [
    "## Nothern Hemisphere Humidity vs Lat\n",
    "The relationship established between the nothern hemisphere's humidity vs latitude is too weak to be relied on."
   ]
  },
  {
   "cell_type": "markdown",
   "metadata": {},
   "source": [
    "####  Southern Hemisphere - Humidity (%) vs. Latitude Linear Regression"
   ]
  },
  {
   "cell_type": "code",
   "execution_count": 53,
   "metadata": {},
   "outputs": [
    {
     "name": "stdout",
     "output_type": "stream",
     "text": [
      "The r-squared is: 0.3261368290068217\n"
     ]
    },
    {
     "data": {
      "image/png": "[encoded data removed]",
      "text/plain": [
       "<Figure size 432x288 with 1 Axes>"
      ]
     },
     "metadata": {
      "needs_background": "light"
     },
     "output_type": "display_data"
    }
   ],
   "source": [
    "x_values = southern_df['Lat'].astype(int)\n",
    "y_values = southern_df['Humidity'].astype(int)\n",
    "(slope, intercept, rvalue, pvalue, stderr) = linregress(x_values, y_values)\n",
    "regress_values = x_values * slope + intercept\n",
    "line_eq = \"y = \" + str(round(slope,2)) + \"x + \" + str(round(intercept,2))\n",
    "plt.scatter(x_values,y_values)\n",
    "plt.plot(x_values,regress_values,\"r-\")\n",
    "plt.annotate(line_eq,(-35,90),fontsize=15,color=\"red\")\n",
    "plt.xlabel('Latitude')\n",
    "plt.ylabel('Humidity')\n",
    "print(f\"The r-squared is: {rvalue}\")\n",
    "plt.savefig('output_data/Linear Regression/Southern Hem_Humidity(%) vs Lat.png')\n",
    "plt.show()"
   ]
  },
  {
   "cell_type": "markdown",
   "metadata": {},
   "source": [
    "## Southern Hemisphere Humidity vs Lat\n",
    "No relationship can be established."
   ]
  },
  {
   "cell_type": "markdown",
   "metadata": {},
   "source": [
    "####  Northern Hemisphere - Cloudiness (%) vs. Latitude Linear Regression"
   ]
  },
  {
   "cell_type": "code",
   "execution_count": 54,
   "metadata": {},
   "outputs": [
    {
     "name": "stdout",
     "output_type": "stream",
     "text": [
      "The r-squared is: 0.30206126771876096\n"
     ]
    },
    {
     "data": {
      "image/png": "[encoded data removed]",
      "text/plain": [
       "<Figure size 432x288 with 1 Axes>"
      ]
     },
     "metadata": {
      "needs_background": "light"
     },
     "output_type": "display_data"
    }
   ],
   "source": [
    "x_values = nothern_df['Lat'].astype(int)\n",
    "y_values = nothern_df['Cloudiness'].astype(int)\n",
    "(slope, intercept, rvalue, pvalue, stderr) = linregress(x_values, y_values)\n",
    "regress_values = x_values * slope + intercept\n",
    "line_eq = \"y = \" + str(round(slope,2)) + \"x + \" + str(round(intercept,2))\n",
    "plt.scatter(x_values,y_values)\n",
    "plt.plot(x_values,regress_values,\"r-\")\n",
    "plt.annotate(line_eq,(40,62),fontsize=15,color=\"red\")\n",
    "plt.xlabel('Latitude')\n",
    "plt.ylabel('Cloudiness')\n",
    "print(f\"The r-squared is: {rvalue}\")\n",
    "plt.savefig('output_data/Linear Regression/Nothern Hem_Cloudiness(%) vs Lat.png')\n",
    "plt.show()"
   ]
  },
  {
   "cell_type": "markdown",
   "metadata": {},
   "source": [
    "## Nothern hemisphere cloudiness vs lat\n",
    "A weak relationship can be established between cloudiness in the nothern hemisphere and the latitude although this is not totally reliable."
   ]
  },
  {
   "cell_type": "markdown",
   "metadata": {},
   "source": [
    "####  Southern Hemisphere - Cloudiness (%) vs. Latitude Linear Regression"
   ]
  },
  {
   "cell_type": "code",
   "execution_count": 55,
   "metadata": {},
   "outputs": [
    {
     "name": "stdout",
     "output_type": "stream",
     "text": [
      "The r-squared is: 0.16508927397149126\n"
     ]
    },
    {
     "data": {
      "image/png": "[encoded data removed]",
      "text/plain": [
       "<Figure size 432x288 with 1 Axes>"
      ]
     },
     "metadata": {
      "needs_background": "light"
     },
     "output_type": "display_data"
    }
   ],
   "source": [
    "x_values = southern_df['Lat'].astype(int)\n",
    "y_values = southern_df['Cloudiness'].astype(int)\n",
    "(slope, intercept, rvalue, pvalue, stderr) = linregress(x_values, y_values)\n",
    "regress_values = x_values * slope + intercept\n",
    "line_eq = \"y = \" + str(round(slope,2)) + \"x + \" + str(round(intercept,2))\n",
    "plt.scatter(x_values,y_values)\n",
    "plt.plot(x_values,regress_values,\"r-\")\n",
    "plt.annotate(line_eq,(-30,39),fontsize=15,color=\"red\")\n",
    "plt.xlabel('Latitude')\n",
    "plt.ylabel('Cloudiness')\n",
    "print(f\"The r-squared is: {rvalue}\")\n",
    "plt.savefig('output_data/Linear Regression/Southern Hem_Cloudiness (%) vs Lat.png')\n",
    "plt.show()"
   ]
  },
  {
   "cell_type": "markdown",
   "metadata": {},
   "source": [
    "## Southern Hemisphere cloudiness vs lat\n",
    "no relationship established between the cloudiness and the latitude in the southern hemisphere."
   ]
  },
  {
   "cell_type": "markdown",
   "metadata": {},
   "source": [
    "####  Northern Hemisphere - Wind Speed (mph) vs. Latitude Linear Regression"
   ]
  },
  {
   "cell_type": "code",
   "execution_count": 56,
   "metadata": {},
   "outputs": [
    {
     "name": "stdout",
     "output_type": "stream",
     "text": [
      "The r-squared is: -0.0495617062872531\n"
     ]
    },
    {
     "data": {
      "image/png": "[encoded data removed]",
      "text/plain": [
       "<Figure size 432x288 with 1 Axes>"
      ]
     },
     "metadata": {
      "needs_background": "light"
     },
     "output_type": "display_data"
    }
   ],
   "source": [
    "x_values = nothern_df['Lat'].astype(int)\n",
    "y_values = nothern_df['Wind Speed'].astype(int)\n",
    "(slope, intercept, rvalue, pvalue, stderr) = linregress(x_values, y_values)\n",
    "regress_values = x_values * slope + intercept\n",
    "line_eq = \"y = \" + str(round(slope,2)) + \"x + \" + str(round(intercept,2))\n",
    "plt.scatter(x_values,y_values)\n",
    "plt.plot(x_values,regress_values,\"r-\")\n",
    "plt.annotate(line_eq,(20,6),fontsize=15,color=\"red\")\n",
    "plt.xlabel('Latitude')\n",
    "plt.ylabel('Wind Speed')\n",
    "print(f\"The r-squared is: {rvalue}\")\n",
    "plt.savefig('output_data/Linear Regression/Nothern Hem_Wind Speed (mph) vs Lat.png')\n",
    "plt.show()"
   ]
  },
  {
   "cell_type": "markdown",
   "metadata": {},
   "source": [
    "## Nothern Hemisphere wind speed vs latitude\n",
    "no relationship established between the wind speed and the latitude in the nothern hemisphere."
   ]
  },
  {
   "cell_type": "markdown",
   "metadata": {},
   "source": [
    "####  Southern Hemisphere - Wind Speed (mph) vs. Latitude Linear Regression"
   ]
  },
  {
   "cell_type": "code",
   "execution_count": 57,
   "metadata": {},
   "outputs": [
    {
     "name": "stdout",
     "output_type": "stream",
     "text": [
      "The r-squared is: -0.23230885646607075\n"
     ]
    },
    {
     "data": {
      "image/png": "[encoded data removed]",
      "text/plain": [
       "<Figure size 432x288 with 1 Axes>"
      ]
     },
     "metadata": {
      "needs_background": "light"
     },
     "output_type": "display_data"
    }
   ],
   "source": [
    "x_values = southern_df['Lat'].astype(int)\n",
    "y_values = southern_df['Wind Speed'].astype(int)\n",
    "(slope, intercept, rvalue, pvalue, stderr) = linregress(x_values, y_values)\n",
    "regress_values = x_values * slope + intercept\n",
    "line_eq = \"y = \" + str(round(slope,2)) + \"x + \" + str(round(intercept,2))\n",
    "plt.scatter(x_values,y_values)\n",
    "plt.plot(x_values,regress_values,\"r-\")\n",
    "plt.annotate(line_eq,(-30,7),fontsize=15,color=\"red\")\n",
    "plt.xlabel('Latitude')\n",
    "plt.ylabel('Wind Speed')\n",
    "print(f\"The r-squared is: {rvalue}\")\n",
    "plt.savefig('output_data/Linear Regression/Southern Hem_Wind Speed (mph) vs Lat.png')\n",
    "plt.show()"
   ]
  },
  {
   "cell_type": "markdown",
   "metadata": {},
   "source": [
    "## Southern hemisphere wind speed vs lat\n",
    "Absolutely no relationship established between the wind speed and the latitude in the southern hemisphere."
   ]
  },
  {
   "cell_type": "markdown",
   "metadata": {},
   "source": [
    "# Analysis\n",
    "\n",
    "No relationship can be established between latitude and the wind speed analyzed in this project. The relationships are too weak to give a clear indication of a trend.\n",
    "\n",
    "Looking at the humidity and latitude of the nothern hemisphere, we can see a relationship almost being formed but it is too weak.\n",
    "\n",
    "The humidity in the southern hemisphere shows it becoming more humid as you go up the latitude."
   ]
  }
 ],
 "metadata": {
  "anaconda-cloud": {},
  "kernel_info": {
   "name": "python3"
  },
  "kernelspec": {
   "display_name": "Python 3",
   "language": "python",
   "name": "python3"
  },
  "language_info": {
   "codemirror_mode": {
    "name": "ipython",
    "version": 3
   },
   "file_extension": ".py",
   "mimetype": "text/x-python",
   "name": "python",
   "nbconvert_exporter": "python",
   "pygments_lexer": "ipython3",
   "version": "3.7.4"
  },
  "latex_envs": {
   "LaTeX_envs_menu_present": true,
   "autoclose": false,
   "autocomplete": true,
   "bibliofile": "biblio.bib",
   "cite_by": "apalike",
   "current_citInitial": 1,
   "eqLabelWithNumbers": true,
   "eqNumInitial": 1,
   "hotkeys": {
    "equation": "Ctrl-E",
    "itemize": "Ctrl-I"
   },
   "labels_anchors": false,
   "latex_user_defs": false,
   "report_style_numbering": false,
   "user_envs_cfg": false
  },
  "nteract": {
   "version": "0.12.3"
  }
 },
 "nbformat": 4,
 "nbformat_minor": 2
}
